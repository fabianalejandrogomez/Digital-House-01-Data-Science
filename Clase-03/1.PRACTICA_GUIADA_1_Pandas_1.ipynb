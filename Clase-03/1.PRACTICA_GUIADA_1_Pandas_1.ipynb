{
  "cells": [
    {
      "metadata": {
        "colab_type": "text",
        "id": "2H6I0bzCqYY6"
      },
      "cell_type": "markdown",
      "source": "# PRACTICA GUIADA 1: Agregando y agrupando datos"
    },
    {
      "metadata": {
        "colab_type": "text",
        "id": "sa_H8UGHqYY7"
      },
      "cell_type": "markdown",
      "source": "* La sumarización es parte fundamental del análisis: computar medidas como ``sum()``, ``mean()``, ``median()``, ``min()`` y ``max()`` son tareas básicas para comenzar a explorar un dataset.\n\n* En esta sección veremos algunas opciones para realizar agregaciones de datos en Pandas.\n"
    },
    {
      "metadata": {
        "colab": {
          "autoexec": {
            "startup": false,
            "wait_interval": 0
          }
        },
        "colab_type": "code",
        "id": "OcYo7wZWqYY9",
        "trusted": true
      },
      "cell_type": "code",
      "source": "import numpy as np\nimport pandas as pd",
      "execution_count": 1,
      "outputs": []
    },
    {
      "metadata": {
        "colab_type": "text",
        "id": "jTnPQBAiqYZC"
      },
      "cell_type": "markdown",
      "source": "## Analizando la encuesta en centros de atención turística\n\nEl GCBA realiza encuestas a los turistas que se acercan a los centros de atención. Se pregunta el motivo de la consulta, los días que dura el viaje, el país de origen, entre otras cosas.\n\nEl dataset es de acceso público en el portal de datos abiertos del GCBA.\n"
    },
    {
      "metadata": {
        "trusted": true
      },
      "cell_type": "code",
      "source": "!ls notebooks.azure.com/fabianalejandrogomez/projects/digital-house-data-science/html/Clase-03/resultado-de-encuestas-2016.csv",
      "execution_count": 2,
      "outputs": [
        {
          "output_type": "stream",
          "text": "ls: cannot access 'notebooks.azure.com/fabianalejandrogomez/projects/digital-house-data-science/html/Clase-03/resultado-de-encuestas-2016.csv': No such file or directory\r\n",
          "name": "stdout"
        }
      ]
    },
    {
      "metadata": {
        "trusted": true
      },
      "cell_type": "code",
      "source": "pd.read_csv('https://notebooks.azure.com/fabianalejandrogomez/projects/digital-house-data-science/html/Clase-03/resultado-de-encuestas-2016.csv')",
      "execution_count": 3,
      "outputs": [
        {
          "output_type": "error",
          "ename": "HTTPError",
          "evalue": "HTTP Error 404: Not Found",
          "traceback": [
            "\u001b[0;31m---------------------------------------------------------------------------\u001b[0m",
            "\u001b[0;31mHTTPError\u001b[0m                                 Traceback (most recent call last)",
            "\u001b[0;32m<ipython-input-3-7fa420e9c952>\u001b[0m in \u001b[0;36m<module>\u001b[0;34m()\u001b[0m\n\u001b[0;32m----> 1\u001b[0;31m \u001b[0mpd\u001b[0m\u001b[0;34m.\u001b[0m\u001b[0mread_csv\u001b[0m\u001b[0;34m(\u001b[0m\u001b[0;34m'https://notebooks.azure.com/fabianalejandrogomez/projects/digital-house-data-science/html/Clase-03/resultado-de-encuestas-2016.csv'\u001b[0m\u001b[0;34m)\u001b[0m\u001b[0;34m\u001b[0m\u001b[0m\n\u001b[0m",
            "\u001b[0;32m~/anaconda3_420/lib/python3.5/site-packages/pandas/io/parsers.py\u001b[0m in \u001b[0;36mparser_f\u001b[0;34m(filepath_or_buffer, sep, delimiter, header, names, index_col, usecols, squeeze, prefix, mangle_dupe_cols, dtype, engine, converters, true_values, false_values, skipinitialspace, skiprows, nrows, na_values, keep_default_na, na_filter, verbose, skip_blank_lines, parse_dates, infer_datetime_format, keep_date_col, date_parser, dayfirst, iterator, chunksize, compression, thousands, decimal, lineterminator, quotechar, quoting, escapechar, comment, encoding, dialect, tupleize_cols, error_bad_lines, warn_bad_lines, skipfooter, skip_footer, doublequote, delim_whitespace, as_recarray, compact_ints, use_unsigned, low_memory, buffer_lines, memory_map, float_precision)\u001b[0m\n\u001b[1;32m    644\u001b[0m                     skip_blank_lines=skip_blank_lines)\n\u001b[1;32m    645\u001b[0m \u001b[0;34m\u001b[0m\u001b[0m\n\u001b[0;32m--> 646\u001b[0;31m         \u001b[0;32mreturn\u001b[0m \u001b[0m_read\u001b[0m\u001b[0;34m(\u001b[0m\u001b[0mfilepath_or_buffer\u001b[0m\u001b[0;34m,\u001b[0m \u001b[0mkwds\u001b[0m\u001b[0;34m)\u001b[0m\u001b[0;34m\u001b[0m\u001b[0m\n\u001b[0m\u001b[1;32m    647\u001b[0m \u001b[0;34m\u001b[0m\u001b[0m\n\u001b[1;32m    648\u001b[0m     \u001b[0mparser_f\u001b[0m\u001b[0;34m.\u001b[0m\u001b[0m__name__\u001b[0m \u001b[0;34m=\u001b[0m \u001b[0mname\u001b[0m\u001b[0;34m\u001b[0m\u001b[0m\n",
            "\u001b[0;32m~/anaconda3_420/lib/python3.5/site-packages/pandas/io/parsers.py\u001b[0m in \u001b[0;36m_read\u001b[0;34m(filepath_or_buffer, kwds)\u001b[0m\n\u001b[1;32m    373\u001b[0m     filepath_or_buffer, _, compression = get_filepath_or_buffer(\n\u001b[1;32m    374\u001b[0m         \u001b[0mfilepath_or_buffer\u001b[0m\u001b[0;34m,\u001b[0m \u001b[0mencoding\u001b[0m\u001b[0;34m,\u001b[0m\u001b[0;34m\u001b[0m\u001b[0m\n\u001b[0;32m--> 375\u001b[0;31m         compression=kwds.get('compression', None))\n\u001b[0m\u001b[1;32m    376\u001b[0m     kwds['compression'] = (inferred_compression if compression == 'infer'\n\u001b[1;32m    377\u001b[0m                            else compression)\n",
            "\u001b[0;32m~/anaconda3_420/lib/python3.5/site-packages/pandas/io/common.py\u001b[0m in \u001b[0;36mget_filepath_or_buffer\u001b[0;34m(filepath_or_buffer, encoding, compression)\u001b[0m\n\u001b[1;32m    236\u001b[0m \u001b[0;34m\u001b[0m\u001b[0m\n\u001b[1;32m    237\u001b[0m     \u001b[0;32mif\u001b[0m \u001b[0m_is_url\u001b[0m\u001b[0;34m(\u001b[0m\u001b[0mfilepath_or_buffer\u001b[0m\u001b[0;34m)\u001b[0m\u001b[0;34m:\u001b[0m\u001b[0;34m\u001b[0m\u001b[0m\n\u001b[0;32m--> 238\u001b[0;31m         \u001b[0mreq\u001b[0m \u001b[0;34m=\u001b[0m \u001b[0m_urlopen\u001b[0m\u001b[0;34m(\u001b[0m\u001b[0mstr\u001b[0m\u001b[0;34m(\u001b[0m\u001b[0mfilepath_or_buffer\u001b[0m\u001b[0;34m)\u001b[0m\u001b[0;34m)\u001b[0m\u001b[0;34m\u001b[0m\u001b[0m\n\u001b[0m\u001b[1;32m    239\u001b[0m         \u001b[0;32mif\u001b[0m \u001b[0mcompression\u001b[0m \u001b[0;34m==\u001b[0m \u001b[0;34m'infer'\u001b[0m\u001b[0;34m:\u001b[0m\u001b[0;34m\u001b[0m\u001b[0m\n\u001b[1;32m    240\u001b[0m             \u001b[0mcontent_encoding\u001b[0m \u001b[0;34m=\u001b[0m \u001b[0mreq\u001b[0m\u001b[0;34m.\u001b[0m\u001b[0mheaders\u001b[0m\u001b[0;34m.\u001b[0m\u001b[0mget\u001b[0m\u001b[0;34m(\u001b[0m\u001b[0;34m'Content-Encoding'\u001b[0m\u001b[0;34m,\u001b[0m \u001b[0;32mNone\u001b[0m\u001b[0;34m)\u001b[0m\u001b[0;34m\u001b[0m\u001b[0m\n",
            "\u001b[0;32m~/anaconda3_420/lib/python3.5/urllib/request.py\u001b[0m in \u001b[0;36murlopen\u001b[0;34m(url, data, timeout, cafile, capath, cadefault, context)\u001b[0m\n\u001b[1;32m    161\u001b[0m     \u001b[0;32melse\u001b[0m\u001b[0;34m:\u001b[0m\u001b[0;34m\u001b[0m\u001b[0m\n\u001b[1;32m    162\u001b[0m         \u001b[0mopener\u001b[0m \u001b[0;34m=\u001b[0m \u001b[0m_opener\u001b[0m\u001b[0;34m\u001b[0m\u001b[0m\n\u001b[0;32m--> 163\u001b[0;31m     \u001b[0;32mreturn\u001b[0m \u001b[0mopener\u001b[0m\u001b[0;34m.\u001b[0m\u001b[0mopen\u001b[0m\u001b[0;34m(\u001b[0m\u001b[0murl\u001b[0m\u001b[0;34m,\u001b[0m \u001b[0mdata\u001b[0m\u001b[0;34m,\u001b[0m \u001b[0mtimeout\u001b[0m\u001b[0;34m)\u001b[0m\u001b[0;34m\u001b[0m\u001b[0m\n\u001b[0m\u001b[1;32m    164\u001b[0m \u001b[0;34m\u001b[0m\u001b[0m\n\u001b[1;32m    165\u001b[0m \u001b[0;32mdef\u001b[0m \u001b[0minstall_opener\u001b[0m\u001b[0;34m(\u001b[0m\u001b[0mopener\u001b[0m\u001b[0;34m)\u001b[0m\u001b[0;34m:\u001b[0m\u001b[0;34m\u001b[0m\u001b[0m\n",
            "\u001b[0;32m~/anaconda3_420/lib/python3.5/urllib/request.py\u001b[0m in \u001b[0;36mopen\u001b[0;34m(self, fullurl, data, timeout)\u001b[0m\n\u001b[1;32m    470\u001b[0m         \u001b[0;32mfor\u001b[0m \u001b[0mprocessor\u001b[0m \u001b[0;32min\u001b[0m \u001b[0mself\u001b[0m\u001b[0;34m.\u001b[0m\u001b[0mprocess_response\u001b[0m\u001b[0;34m.\u001b[0m\u001b[0mget\u001b[0m\u001b[0;34m(\u001b[0m\u001b[0mprotocol\u001b[0m\u001b[0;34m,\u001b[0m \u001b[0;34m[\u001b[0m\u001b[0;34m]\u001b[0m\u001b[0;34m)\u001b[0m\u001b[0;34m:\u001b[0m\u001b[0;34m\u001b[0m\u001b[0m\n\u001b[1;32m    471\u001b[0m             \u001b[0mmeth\u001b[0m \u001b[0;34m=\u001b[0m \u001b[0mgetattr\u001b[0m\u001b[0;34m(\u001b[0m\u001b[0mprocessor\u001b[0m\u001b[0;34m,\u001b[0m \u001b[0mmeth_name\u001b[0m\u001b[0;34m)\u001b[0m\u001b[0;34m\u001b[0m\u001b[0m\n\u001b[0;32m--> 472\u001b[0;31m             \u001b[0mresponse\u001b[0m \u001b[0;34m=\u001b[0m \u001b[0mmeth\u001b[0m\u001b[0;34m(\u001b[0m\u001b[0mreq\u001b[0m\u001b[0;34m,\u001b[0m \u001b[0mresponse\u001b[0m\u001b[0;34m)\u001b[0m\u001b[0;34m\u001b[0m\u001b[0m\n\u001b[0m\u001b[1;32m    473\u001b[0m \u001b[0;34m\u001b[0m\u001b[0m\n\u001b[1;32m    474\u001b[0m         \u001b[0;32mreturn\u001b[0m \u001b[0mresponse\u001b[0m\u001b[0;34m\u001b[0m\u001b[0m\n",
            "\u001b[0;32m~/anaconda3_420/lib/python3.5/urllib/request.py\u001b[0m in \u001b[0;36mhttp_response\u001b[0;34m(self, request, response)\u001b[0m\n\u001b[1;32m    580\u001b[0m         \u001b[0;32mif\u001b[0m \u001b[0;32mnot\u001b[0m \u001b[0;34m(\u001b[0m\u001b[0;36m200\u001b[0m \u001b[0;34m<=\u001b[0m \u001b[0mcode\u001b[0m \u001b[0;34m<\u001b[0m \u001b[0;36m300\u001b[0m\u001b[0;34m)\u001b[0m\u001b[0;34m:\u001b[0m\u001b[0;34m\u001b[0m\u001b[0m\n\u001b[1;32m    581\u001b[0m             response = self.parent.error(\n\u001b[0;32m--> 582\u001b[0;31m                 'http', request, response, code, msg, hdrs)\n\u001b[0m\u001b[1;32m    583\u001b[0m \u001b[0;34m\u001b[0m\u001b[0m\n\u001b[1;32m    584\u001b[0m         \u001b[0;32mreturn\u001b[0m \u001b[0mresponse\u001b[0m\u001b[0;34m\u001b[0m\u001b[0m\n",
            "\u001b[0;32m~/anaconda3_420/lib/python3.5/urllib/request.py\u001b[0m in \u001b[0;36merror\u001b[0;34m(self, proto, *args)\u001b[0m\n\u001b[1;32m    508\u001b[0m         \u001b[0;32mif\u001b[0m \u001b[0mhttp_err\u001b[0m\u001b[0;34m:\u001b[0m\u001b[0;34m\u001b[0m\u001b[0m\n\u001b[1;32m    509\u001b[0m             \u001b[0margs\u001b[0m \u001b[0;34m=\u001b[0m \u001b[0;34m(\u001b[0m\u001b[0mdict\u001b[0m\u001b[0;34m,\u001b[0m \u001b[0;34m'default'\u001b[0m\u001b[0;34m,\u001b[0m \u001b[0;34m'http_error_default'\u001b[0m\u001b[0;34m)\u001b[0m \u001b[0;34m+\u001b[0m \u001b[0morig_args\u001b[0m\u001b[0;34m\u001b[0m\u001b[0m\n\u001b[0;32m--> 510\u001b[0;31m             \u001b[0;32mreturn\u001b[0m \u001b[0mself\u001b[0m\u001b[0;34m.\u001b[0m\u001b[0m_call_chain\u001b[0m\u001b[0;34m(\u001b[0m\u001b[0;34m*\u001b[0m\u001b[0margs\u001b[0m\u001b[0;34m)\u001b[0m\u001b[0;34m\u001b[0m\u001b[0m\n\u001b[0m\u001b[1;32m    511\u001b[0m \u001b[0;34m\u001b[0m\u001b[0m\n\u001b[1;32m    512\u001b[0m \u001b[0;31m# XXX probably also want an abstract factory that knows when it makes\u001b[0m\u001b[0;34m\u001b[0m\u001b[0;34m\u001b[0m\u001b[0m\n",
            "\u001b[0;32m~/anaconda3_420/lib/python3.5/urllib/request.py\u001b[0m in \u001b[0;36m_call_chain\u001b[0;34m(self, chain, kind, meth_name, *args)\u001b[0m\n\u001b[1;32m    442\u001b[0m         \u001b[0;32mfor\u001b[0m \u001b[0mhandler\u001b[0m \u001b[0;32min\u001b[0m \u001b[0mhandlers\u001b[0m\u001b[0;34m:\u001b[0m\u001b[0;34m\u001b[0m\u001b[0m\n\u001b[1;32m    443\u001b[0m             \u001b[0mfunc\u001b[0m \u001b[0;34m=\u001b[0m \u001b[0mgetattr\u001b[0m\u001b[0;34m(\u001b[0m\u001b[0mhandler\u001b[0m\u001b[0;34m,\u001b[0m \u001b[0mmeth_name\u001b[0m\u001b[0;34m)\u001b[0m\u001b[0;34m\u001b[0m\u001b[0m\n\u001b[0;32m--> 444\u001b[0;31m             \u001b[0mresult\u001b[0m \u001b[0;34m=\u001b[0m \u001b[0mfunc\u001b[0m\u001b[0;34m(\u001b[0m\u001b[0;34m*\u001b[0m\u001b[0margs\u001b[0m\u001b[0;34m)\u001b[0m\u001b[0;34m\u001b[0m\u001b[0m\n\u001b[0m\u001b[1;32m    445\u001b[0m             \u001b[0;32mif\u001b[0m \u001b[0mresult\u001b[0m \u001b[0;32mis\u001b[0m \u001b[0;32mnot\u001b[0m \u001b[0;32mNone\u001b[0m\u001b[0;34m:\u001b[0m\u001b[0;34m\u001b[0m\u001b[0m\n\u001b[1;32m    446\u001b[0m                 \u001b[0;32mreturn\u001b[0m \u001b[0mresult\u001b[0m\u001b[0;34m\u001b[0m\u001b[0m\n",
            "\u001b[0;32m~/anaconda3_420/lib/python3.5/urllib/request.py\u001b[0m in \u001b[0;36mhttp_error_default\u001b[0;34m(self, req, fp, code, msg, hdrs)\u001b[0m\n\u001b[1;32m    588\u001b[0m \u001b[0;32mclass\u001b[0m \u001b[0mHTTPDefaultErrorHandler\u001b[0m\u001b[0;34m(\u001b[0m\u001b[0mBaseHandler\u001b[0m\u001b[0;34m)\u001b[0m\u001b[0;34m:\u001b[0m\u001b[0;34m\u001b[0m\u001b[0m\n\u001b[1;32m    589\u001b[0m     \u001b[0;32mdef\u001b[0m \u001b[0mhttp_error_default\u001b[0m\u001b[0;34m(\u001b[0m\u001b[0mself\u001b[0m\u001b[0;34m,\u001b[0m \u001b[0mreq\u001b[0m\u001b[0;34m,\u001b[0m \u001b[0mfp\u001b[0m\u001b[0;34m,\u001b[0m \u001b[0mcode\u001b[0m\u001b[0;34m,\u001b[0m \u001b[0mmsg\u001b[0m\u001b[0;34m,\u001b[0m \u001b[0mhdrs\u001b[0m\u001b[0;34m)\u001b[0m\u001b[0;34m:\u001b[0m\u001b[0;34m\u001b[0m\u001b[0m\n\u001b[0;32m--> 590\u001b[0;31m         \u001b[0;32mraise\u001b[0m \u001b[0mHTTPError\u001b[0m\u001b[0;34m(\u001b[0m\u001b[0mreq\u001b[0m\u001b[0;34m.\u001b[0m\u001b[0mfull_url\u001b[0m\u001b[0;34m,\u001b[0m \u001b[0mcode\u001b[0m\u001b[0;34m,\u001b[0m \u001b[0mmsg\u001b[0m\u001b[0;34m,\u001b[0m \u001b[0mhdrs\u001b[0m\u001b[0;34m,\u001b[0m \u001b[0mfp\u001b[0m\u001b[0;34m)\u001b[0m\u001b[0;34m\u001b[0m\u001b[0m\n\u001b[0m\u001b[1;32m    591\u001b[0m \u001b[0;34m\u001b[0m\u001b[0m\n\u001b[1;32m    592\u001b[0m \u001b[0;32mclass\u001b[0m \u001b[0mHTTPRedirectHandler\u001b[0m\u001b[0;34m(\u001b[0m\u001b[0mBaseHandler\u001b[0m\u001b[0;34m)\u001b[0m\u001b[0;34m:\u001b[0m\u001b[0;34m\u001b[0m\u001b[0m\n",
            "\u001b[0;31mHTTPError\u001b[0m: HTTP Error 404: Not Found"
          ]
        }
      ]
    },
    {
      "metadata": {
        "colab": {
          "autoexec": {
            "startup": false,
            "wait_interval": 0
          }
        },
        "colab_type": "code",
        "id": "H9jdk-zhqYZE",
        "outputId": "890bf45a-eceb-4082-c95c-21234533fdc1",
        "trusted": true
      },
      "cell_type": "code",
      "source": "turistas = pd.read_csv('resultado-de-encuestas-2016.csv', sep = \";\")\nturistas.shape",
      "execution_count": null,
      "outputs": []
    },
    {
      "metadata": {
        "colab": {
          "autoexec": {
            "startup": false,
            "wait_interval": 0
          }
        },
        "colab_type": "code",
        "id": "0er3z6E-qYZP",
        "outputId": "cdb16509-c176-4733-c4ae-f8dec1e89353",
        "trusted": true
      },
      "cell_type": "code",
      "source": "turistas.head()",
      "execution_count": null,
      "outputs": []
    },
    {
      "metadata": {
        "colab_type": "text",
        "id": "nW1QkkGaqYZX"
      },
      "cell_type": "markdown",
      "source": "Veamos todas las columnas"
    },
    {
      "metadata": {
        "colab": {
          "autoexec": {
            "startup": false,
            "wait_interval": 0
          }
        },
        "colab_type": "code",
        "id": "fcQm6WotqYZZ",
        "outputId": "ef1dd4a8-aa8c-4a7c-ba13-74bd73b21386",
        "trusted": true
      },
      "cell_type": "code",
      "source": "turistas.columns",
      "execution_count": null,
      "outputs": []
    },
    {
      "metadata": {},
      "cell_type": "markdown",
      "source": "Veamos si el dataset tiene datos faltantes."
    },
    {
      "metadata": {
        "trusted": true
      },
      "cell_type": "code",
      "source": "turistas.isnull().sum()",
      "execution_count": null,
      "outputs": []
    },
    {
      "metadata": {},
      "cell_type": "markdown",
      "source": "Parecería ser que no hay datos faltantes."
    },
    {
      "metadata": {
        "colab_type": "text",
        "id": "-i8j2ftlqYZf"
      },
      "cell_type": "markdown",
      "source": "## Agregaciones simples en Pandas"
    },
    {
      "metadata": {
        "colab_type": "text",
        "id": "EKVRvY4DqYZh"
      },
      "cell_type": "markdown",
      "source": "* Al igual que en un array de una dimensión para una ``Series`` la agregación devuelve un valor único. Veamos cuántos días en total y en promedio dura el viaje de las personas que se acercaron a estos centros de atención."
    },
    {
      "metadata": {
        "colab": {
          "autoexec": {
            "startup": false,
            "wait_interval": 0
          }
        },
        "colab_type": "code",
        "id": "a6sDt7asqYZi",
        "outputId": "a29809be-fc0f-4ede-862c-81bc23b217c1",
        "trusted": true
      },
      "cell_type": "code",
      "source": "turistas[\"PERNOCTACIONES\"].sample(25)",
      "execution_count": null,
      "outputs": []
    },
    {
      "metadata": {
        "colab_type": "text",
        "id": "-g_JBTHuqYZp"
      },
      "cell_type": "markdown",
      "source": "Veamos que la columna incluye valores no numéricos. Primero tenemos que removerlos y luego podemos hacer los cálculos."
    },
    {
      "metadata": {
        "colab": {
          "autoexec": {
            "startup": false,
            "wait_interval": 0
          }
        },
        "colab_type": "code",
        "id": "IV7-ANXYqYZr",
        "trusted": true
      },
      "cell_type": "code",
      "source": "# el método str.extract permite extraer un grupo pasando una REGEX. Para probar REGEX se puede entrar en https://regex101.com/ o https://regexr.com/ \n\nturistas['PERNOCTACIONES'] = turistas['PERNOCTACIONES']\\\n                             .str.extract('(\\d+)', expand=False).astype('float')",
      "execution_count": null,
      "outputs": []
    },
    {
      "metadata": {
        "trusted": true
      },
      "cell_type": "code",
      "source": "turistas[\"PERNOCTACIONES\"].sample(25)",
      "execution_count": null,
      "outputs": []
    },
    {
      "metadata": {
        "trusted": true
      },
      "cell_type": "code",
      "source": "turistas[\"PERNOCTACIONES\"].fillna(turistas[\"PERNOCTACIONES\"].mean(), inplace=True)",
      "execution_count": null,
      "outputs": []
    },
    {
      "metadata": {
        "trusted": true
      },
      "cell_type": "code",
      "source": "print('Suma de Pernoctaciones: {:.2f}'.format(turistas[\"PERNOCTACIONES\"].sum()))",
      "execution_count": null,
      "outputs": []
    },
    {
      "metadata": {
        "colab": {
          "autoexec": {
            "startup": false,
            "wait_interval": 0
          }
        },
        "colab_type": "code",
        "id": "r-IxizZjqYZ6",
        "outputId": "243c85ce-2c16-48e1-f1ff-ac0d74aecfc5",
        "trusted": true
      },
      "cell_type": "code",
      "source": "print('Media de Pernoctaciones: {:.2f}'.format(turistas[\"PERNOCTACIONES\"].mean()))",
      "execution_count": null,
      "outputs": []
    },
    {
      "metadata": {
        "colab_type": "text",
        "id": "aD0PFYjVqYaD"
      },
      "cell_type": "markdown",
      "source": "* Para un ``DataFrame``, los `aggregate` retornan por default resultados al interior de cada columna:"
    },
    {
      "metadata": {
        "colab_type": "text",
        "id": "XxCnz8CiqYaE"
      },
      "cell_type": "markdown",
      "source": "* Especificando el argumento ``axis`` es posible agregar los resultados para cada fila.\n\n**Nota:** Al igual que en el caso de NumPy, en `axis` se define la dimensión sobre la que se colapsan los datos. Si quiero resultados por fila, entonces, `axis='columns'` y en otro caso `axis='rows'`"
    },
    {
      "metadata": {
        "colab_type": "text",
        "id": "961MwrhyqYaG"
      },
      "cell_type": "markdown",
      "source": "En el archivo ya viene calculada la cantidad de motivos por los que se acercan los turistas. Calculemos nosotros ese dato y comparémoslo con el original, ya que es común que hayan errores en la información."
    },
    {
      "metadata": {
        "colab": {
          "autoexec": {
            "startup": false,
            "wait_interval": 0
          }
        },
        "colab_type": "code",
        "id": "yOM470qfqYaJ",
        "outputId": "0d4fcb66-28cb-42e0-b4bd-e2828dc2b640",
        "trusted": true
      },
      "cell_type": "code",
      "source": "# Los motivos van desde la columna ACCESIBILIDAD hasta USO_DE_INSTALACIONES\n# Calculo la suma por fila\nn_motivos_calculado = turistas.loc[:,\"ACCESIBILIDAD\":\"USO_DE_INSTALACIONES\"]\\\n                      .sum(axis = 'columns')\n# Me quedo con el valor original\nn_motivos_original = turistas['CANT_DE_MOTIVOS']\n\n# Vemos que hay errores en el campo original:\nprint('¿Cantidad total calculada y original son iguales? {}'\\\n       .format(n_motivos_calculado.equals(n_motivos_original)))",
      "execution_count": null,
      "outputs": []
    },
    {
      "metadata": {
        "trusted": true
      },
      "cell_type": "code",
      "source": "# ¿Cuántos están mal? 52\n(n_motivos_calculado != n_motivos_original).sum()",
      "execution_count": null,
      "outputs": []
    },
    {
      "metadata": {
        "colab_type": "text",
        "id": "uN1pRFs9qYaS"
      },
      "cell_type": "markdown",
      "source": "* Las ``Series`` y ``DataFrame`` de Pandas incluyen muchas funciones de agregación.\n\n* Hay, además, un método ``describe()`` que computa algunas medidas agregadas por defecto para cada columna y devuelve un `DataFrame` como resultado.\n"
    },
    {
      "metadata": {
        "colab": {
          "autoexec": {
            "startup": false,
            "wait_interval": 0
          }
        },
        "colab_type": "code",
        "id": "LJkTwlHzqYaT",
        "outputId": "2fde56bc-1d69-42c3-fad6-c1ed347ded02",
        "trusted": true
      },
      "cell_type": "code",
      "source": "turistas[['PASAJEROS', 'PERNOCTACIONES']].describe()",
      "execution_count": null,
      "outputs": []
    },
    {
      "metadata": {
        "colab_type": "text",
        "id": "pfN_7lHgqYae"
      },
      "cell_type": "markdown",
      "source": "Podemos observar que hay valores raros, ya que en pasajeros vemos 150... ¿es un error o nos falta conocer \"el negocio\"? Tal vez alguien consulto por un grupo de viajeros..."
    },
    {
      "metadata": {
        "colab_type": "text",
        "id": "BrevZ_JSqYan"
      },
      "cell_type": "markdown",
      "source": "* ¿Qué pueden decir de estos datos?"
    },
    {
      "metadata": {
        "trusted": true
      },
      "cell_type": "code",
      "source": "# Alternativas para el método .describe()\n\nturistas.describe(percentiles=[0.1,0.25,0.35,0.5,0.8], include='float')",
      "execution_count": null,
      "outputs": []
    },
    {
      "metadata": {
        "colab_type": "text",
        "id": "cbrqnbuLqYao"
      },
      "cell_type": "markdown",
      "source": "Resumen de algunas funciones de agregación en Pandas:\n\n| Aggregation              | Description                     |\n|--------------------------|---------------------------------|\n| ``count()``              | Total number of items           |\n| ``mean()``, ``median()`` | Mean and median                 |\n| ``min()``, ``max()``     | Minimum and maximum             |\n| ``std()``, ``var()``     | Standard deviation and variance |\n| ``mad()``                | Mean absolute deviation         |\n| ``prod()``               | Product of all items            |\n| ``sum()``                | Sum of all items                |\n\nTodos son métodos de los objetos ``DataFrame`` y ``Series``."
    },
    {
      "metadata": {
        "colab_type": "text",
        "id": "h8jhW0i6qYap"
      },
      "cell_type": "markdown",
      "source": "* Muchas veces esto no es suficiente y es necesario usar otras operaciones de sumarización.\n* La operación ``groupby`` permite computar medidas agregadas de forma eficente en subsets de los datos."
    },
    {
      "metadata": {
        "colab_type": "text",
        "id": "uA7sV4nJqYar"
      },
      "cell_type": "markdown",
      "source": "## GroupBy: Split, Apply, Combine\n\n* Muchas veces es importante poder realizar operaciones de agregación de forma condicional a algún subconjunto de datos (por ejemplo, para los casos que cumplen alguna condición). Esto es implementado por el operador `groupby`\n* El nombre `groupby` proviene del lenguaje SQL.\n* Es útil pensarlo en los términos de Hadley Wickham: *split, apply, combine* (dividir-aplicar-combinar)"
    },
    {
      "metadata": {
        "colab_type": "text",
        "id": "huub_r2gqYas"
      },
      "cell_type": "markdown",
      "source": "### Split, apply, combine"
    },
    {
      "metadata": {},
      "cell_type": "markdown",
      "source": "![title](img/split-apply-combine.png)"
    },
    {
      "metadata": {
        "colab_type": "text",
        "id": "rMTpKyOwqYav"
      },
      "cell_type": "markdown",
      "source": "- El paso *split*  implica dividir y reagrupar un ``DataFrame`` en base a una determinada key.\n- El paso *apply* supone computar alguna función (generalmente, alguna agregación, transformación o filtro) sobre los grupos constituidos en el paso anterior.\n- El paso *combine* hace un \"merge\" de los resultados de dichas operaciones en un nuevo array.\n\n* Si bien cada uno de los pasos pueden hacerse \"manualmente\", el ``GroupBy`` generalmente puede hacerlo en un solo paso.\n* La ventaja del ``GroupBy`` es que permite abstraer los tres pasos anteriores: el usuario no necesita pensar en \"cómo\" hacer el cómputo, sino más bien pensar la operación como un todo."
    },
    {
      "metadata": {
        "colab_type": "text",
        "id": "82D7m-A5qYax"
      },
      "cell_type": "markdown",
      "source": "* La operación split-apply-combine más básica con el método ``groupby()`` es pasar el nombre de una determinada clave de columna:"
    },
    {
      "metadata": {
        "colab_type": "text",
        "id": "qegJUO3SqYay"
      },
      "cell_type": "markdown",
      "source": "### El objeto GroupBy\n\n* El objeto ``GroupBy`` es un abstracción muy flexible.\n* Puede ser tratado como una colección de `DataFrame` y hace algunas cosas complicadas por detrás...\n* Quizá las operaciones más importantes de un objeto ``GroupBy`` sean las *aggregate*, *filter*, *transform*, y *apply*"
    },
    {
      "metadata": {
        "colab": {
          "autoexec": {
            "startup": false,
            "wait_interval": 0
          }
        },
        "colab_type": "code",
        "id": "o4wHzwmYqYaz",
        "outputId": "a8c0d57f-6b65-4146-dbc3-ea61e7915c3e",
        "trusted": true
      },
      "cell_type": "code",
      "source": "turistas.groupby('PAIS_EXT')",
      "execution_count": null,
      "outputs": []
    },
    {
      "metadata": {
        "trusted": true
      },
      "cell_type": "code",
      "source": "turistas.groupby('PAIS_EXT').groups",
      "execution_count": null,
      "outputs": []
    },
    {
      "metadata": {
        "colab_type": "text",
        "id": "KF_UwR6lqYa5"
      },
      "cell_type": "markdown",
      "source": "* Notar que no se retorna un ``DataFrame`` sino un objeto ``DataFrameGroupBy``.\n* Se puede pensar en el `DataFrameGroupBy` como una vista especial de un `DataFrame` que construye los grupos pero que no realiza ningún cómputo hasta que la etapa de agregación es aplicada.\n* Esta **\"lazy evaluation\"** hace que las operaciones de agregación puedan ser computadas de forma muy eficiente.\n* Para producir un resultado podemos aplicar una función de agregación a este ``DataFrameGroupBy`` que a realizar la operación (apply) y avanzar en el paso de combine."
    },
    {
      "metadata": {
        "colab": {
          "autoexec": {
            "startup": false,
            "wait_interval": 0
          }
        },
        "colab_type": "code",
        "id": "E80GMce_qYa7",
        "outputId": "52d5aa58-5ea5-458c-add9-38717adbc7bb",
        "trusted": true
      },
      "cell_type": "code",
      "source": "turistas[['PASAJEROS', 'PERNOCTACIONES','PAIS_EXT']]\\\n                                      .groupby('PAIS_EXT').sum().sort_values(\"PASAJEROS\",\\\n                                       ascending = False).head()",
      "execution_count": null,
      "outputs": []
    },
    {
      "metadata": {
        "colab_type": "text",
        "id": "JbRtowuEqYbH"
      },
      "cell_type": "markdown",
      "source": "* Se podría realizar virtualmente cualquier operación común de agregación de Pandas o NumPy y casi cualquier operación válida para un `DataFrame` como veremos a continuación."
    },
    {
      "metadata": {
        "colab_type": "text",
        "id": "g4dhPWQmqYbI"
      },
      "cell_type": "markdown",
      "source": "#### Indexing de columnas\n\n* El objeto ``GroupBy`` soporta el indexado de columnas de la misma forma que un ``DataFrame``, y devuelve un objeto ``GroupBy`` modificado:"
    },
    {
      "metadata": {
        "colab": {
          "autoexec": {
            "startup": false,
            "wait_interval": 0
          }
        },
        "colab_type": "code",
        "id": "AJlUcxeUqYbL",
        "outputId": "11150dcd-8c2d-40f5-e895-10de29bcae52",
        "trusted": true
      },
      "cell_type": "code",
      "source": "turistas.groupby('PAIS_EXT')['ALREDEDORES_BA']",
      "execution_count": null,
      "outputs": []
    },
    {
      "metadata": {
        "colab_type": "text",
        "id": "jbd1HK7iqYbg"
      },
      "cell_type": "markdown",
      "source": "* Seleccionamos una ``Series`` particular del  ``DataFrame`` original referenciándolo con su nombre de columna.\n* Al igual que antes, no se realiza ningún cómputo hasta que llamamos alguna función de agregación sobre el objeto."
    },
    {
      "metadata": {
        "colab": {
          "autoexec": {
            "startup": false,
            "wait_interval": 0
          }
        },
        "colab_type": "code",
        "id": "2JuJmi6EqYbk",
        "outputId": "e4633460-7d91-426b-a90a-c73e6d29f632",
        "trusted": true
      },
      "cell_type": "code",
      "source": "turistas.groupby('PAIS_EXT')['ALREDEDORES_BA'].sum().sort_values(ascending = False).head()",
      "execution_count": null,
      "outputs": []
    },
    {
      "metadata": {
        "colab_type": "text",
        "id": "WZ0mletOqYbs"
      },
      "cell_type": "markdown",
      "source": "* ¿Qué se observa en estos datos?"
    },
    {
      "metadata": {
        "colab_type": "text",
        "id": "kzkeHZsZqYbu"
      },
      "cell_type": "markdown",
      "source": "#### Iteración sobre grupos\n\n* El objeto ``GroupBy`` soporta la iteración directa sobre grupos, devolviendo cada grupo como una ``Series`` o un ``DataFrame``.\n"
    },
    {
      "metadata": {
        "colab": {
          "autoexec": {
            "startup": false,
            "wait_interval": 0
          }
        },
        "colab_type": "code",
        "id": "2aQeqOYTqYbz",
        "outputId": "5ce81b3f-1e70-40bf-8d14-70c60bd29c8b",
        "trusted": true
      },
      "cell_type": "code",
      "source": "for (pais, group) in turistas.groupby('PAIS_EXT'):\n    print(\"{0:20} shape={1} \".format(pais, group.shape))",
      "execution_count": null,
      "outputs": []
    },
    {
      "metadata": {
        "colab_type": "text",
        "id": "YZNonAG0qYcN"
      },
      "cell_type": "markdown",
      "source": "* Si bien podemos hacer este tipo de operaciones de forma manual, veremos enseguida la potencialidad que tienen las funcionalidades ``apply``."
    },
    {
      "metadata": {
        "colab_type": "text",
        "id": "AlEVkcBJqYcP"
      },
      "cell_type": "markdown",
      "source": "#### Dispatch methods\n\n* Cualquier método no implementado de forma explícita por el objeto ``GroupBy`` será ejecutado en cada grupo. Estos métodos se heredan de la clase DataFrame. \n* Por ejemplo, se puede usar el método ``describe()`` de ``DataFrame``s para realizar muchas operaciones de agregación al interior de cada grupo."
    },
    {
      "metadata": {
        "colab": {
          "autoexec": {
            "startup": false,
            "wait_interval": 0
          }
        },
        "colab_type": "code",
        "id": "DVOtadj3qYcR",
        "outputId": "c489db72-93a8-4b99-d6fa-dda3bad5e611",
        "trusted": true
      },
      "cell_type": "code",
      "source": "turistas.groupby('PAIS_EXT')[['PASAJEROS', 'PERNOCTACIONES']].describe()",
      "execution_count": null,
      "outputs": []
    },
    {
      "metadata": {
        "colab_type": "text",
        "id": "zaVS81BxqYcz"
      },
      "cell_type": "markdown",
      "source": "* ¿Qué puede decirse de estos datos? \n* Este es solo un ejemplo de la utilidad de estos métodos. Notar que son aplicados a cada uno de los grupos individuales y que los resultados son combinados en un objeto `GroupBy` y retornados."
    },
    {
      "metadata": {
        "colab_type": "text",
        "id": "v04_LS67qYcz"
      },
      "cell_type": "markdown",
      "source": "### Aggregate, filter, transform, apply\n\n* Hay muchas más opciones de operaciones disponibles.\n* Los objetos ``GroupBy`` tienen algunos métodos muy útiles: ``aggregate()``, ``filter()``, ``transform()`` y ``apply()`` que implementan muchas operaciones en la etapa previa al \"combine\"\n\n* Ilustremos estas operaciones con el siguiente ``DataFrame``:"
    },
    {
      "metadata": {
        "colab_type": "text",
        "id": "iau6bjcUqYc4"
      },
      "cell_type": "markdown",
      "source": "#### Aggregation\n\n* El método ``aggregate()`` permite una gran flexibilidad:\n* Puede tomar un string, una función o una lista y computar todos los agregados en un solo paso."
    },
    {
      "metadata": {
        "colab": {
          "autoexec": {
            "startup": false,
            "wait_interval": 0
          }
        },
        "colab_type": "code",
        "id": "MY6FOk_KqYc7",
        "outputId": "0f62c16f-fa9e-464f-8493-9e69ab9d4303",
        "trusted": true
      },
      "cell_type": "code",
      "source": "turistas.groupby('ARGENTINA')[\"PASAJEROS\"].aggregate([np.min, np.mean, np.median,\\\n                                                      np.max, np.sum])",
      "execution_count": null,
      "outputs": []
    },
    {
      "metadata": {
        "colab_type": "text",
        "id": "0x9TmdsSqYdH"
      },
      "cell_type": "markdown",
      "source": "* Otra forma útil es pasar un diccionario que mapea nombres de columnas con operaciones. De esta forma se puede espeficiar una operación distinta a cada columna."
    },
    {
      "metadata": {
        "trusted": true
      },
      "cell_type": "code",
      "source": "turistas.groupby('ARGENTINA')['PASAJEROS'].aggregate([np.min, \n                 np.median, np.max, np.sum]).rename(columns={'amin': 'grupo_mas_chico',\n                'median': 'grupo_mediano','amax':'grupo_mas_chico','sum':'total'}).head()",
      "execution_count": null,
      "outputs": []
    },
    {
      "metadata": {
        "colab_type": "text",
        "id": "WQvZudxcqYdM"
      },
      "cell_type": "markdown",
      "source": "#### Filtering\n\n* Una operación filtering permite \"descartar\" datos basado en propiedades del grupo.\n* Por ejemplo, podríamos querer mantener todos los grupos en los que la desviación estándar sea mayor que algún valor de corte:"
    },
    {
      "metadata": {
        "colab": {
          "autoexec": {
            "startup": false,
            "wait_interval": 0
          }
        },
        "colab_type": "code",
        "id": "-fgq1acYqYdO",
        "outputId": "bc9704d9-d666-4af3-e3cc-9a0204aeabba",
        "trusted": true
      },
      "cell_type": "code",
      "source": "def filter_func(x, lim):\n    return x[\"PERNOCTACIONES\"].std() > lim",
      "execution_count": null,
      "outputs": []
    },
    {
      "metadata": {
        "trusted": true
      },
      "cell_type": "code",
      "source": "filter_func(turistas, 20)",
      "execution_count": null,
      "outputs": []
    },
    {
      "metadata": {
        "trusted": true
      },
      "cell_type": "code",
      "source": "turistas.groupby('ARGENTINA').filter(filter_func, lim=20)[\"ARGENTINA\"].unique()",
      "execution_count": null,
      "outputs": []
    },
    {
      "metadata": {
        "colab_type": "text",
        "id": "dZAjzMFEqYdS"
      },
      "cell_type": "markdown",
      "source": "* La función de filtro retorna un booleano especificando si el grupo pasa o no el filtro. "
    },
    {
      "metadata": {
        "colab_type": "text",
        "id": "sr-AKbWjqYdS"
      },
      "cell_type": "markdown",
      "source": "#### Transformation\n\n* Mientras que aggregation devuelve una versión reducida de los datos, transformation retorna alguna versión transformada de los datos para, luego, hacer el combine.\n* El output de una transformation es del mismo `shape` que el input."
    },
    {
      "metadata": {
        "colab": {
          "autoexec": {
            "startup": false,
            "wait_interval": 0
          }
        },
        "colab_type": "code",
        "id": "Du_bl13OqYdU",
        "outputId": "6b70a4e6-fea5-4610-c209-d8209eee1706",
        "trusted": true
      },
      "cell_type": "code",
      "source": "def center_mean(x):\n    return(x - x.mean())\n\nprint(turistas[[\"ARGENTINA\",\"PASAJEROS\"]].groupby('ARGENTINA').transform(center_mean))",
      "execution_count": null,
      "outputs": []
    },
    {
      "metadata": {
        "colab_type": "text",
        "id": "_MzMboLCqYdb"
      },
      "cell_type": "markdown",
      "source": "* ¿Qué hace el siguiente bloque de código?"
    },
    {
      "metadata": {
        "colab_type": "text",
        "id": "LeUX3ODSqYdd"
      },
      "cell_type": "markdown",
      "source": "#### El método `apply()`\n\n* El método `apply()` permite aplicar alguna función dada a los resultados del group.\n* La función debería tomar como input ``DataFrame`` y devolver un objeto de Pandas (``DataFrame``, ``Series``) o un escalar. \n* La operación combine se adaptará al tipo de salida devuelta."
    },
    {
      "metadata": {
        "colab": {
          "autoexec": {
            "startup": false,
            "wait_interval": 0
          }
        },
        "colab_type": "code",
        "id": "t4od8dkVqYdg",
        "outputId": "ff7e3504-b955-41ad-cea2-f51490d635a9",
        "trusted": true
      },
      "cell_type": "code",
      "source": "# El resultado es una columna PASAJEROS normalizada por la participación \n#del grupo en el total de pasajeros de la provincia:\n\ndef norm_by_data2(x):\n    # x is a DataFrame of group values\n    x['PASAJEROS'] /= x['PERNOCTACIONES'].sum()\n    return x\n\nturistas[[\"ARGENTINA\",\"PASAJEROS\",\"PERNOCTACIONES\"]].groupby('ARGENTINA')\\\n                                           .apply(norm_by_data2).sample(15)\n",
      "execution_count": null,
      "outputs": []
    },
    {
      "metadata": {
        "colab_type": "text",
        "id": "M9qr8txJqYdx"
      },
      "cell_type": "markdown",
      "source": "* ¿Qué operación produce el bloque de código anterior?"
    },
    {
      "metadata": {
        "colab_type": "text",
        "id": "dX4ty8AxqYdx"
      },
      "cell_type": "markdown",
      "source": "### Especificando la clave del \"split\"\n\n* En el ejemplo anterior se hacía el split del ``DataFrame`` sobre una sola columna.\n* Hay otras opciones..."
    },
    {
      "metadata": {
        "colab_type": "text",
        "id": "Mn-jQeySqYdz"
      },
      "cell_type": "markdown",
      "source": "#### Una lista, array, series, o index que contiene las claves del grouping "
    },
    {
      "metadata": {
        "colab": {
          "autoexec": {
            "startup": false,
            "wait_interval": 0
          }
        },
        "colab_type": "code",
        "id": "lBo1ARETqYdz",
        "outputId": "643c19ac-511d-4325-a77d-61fcf5aad006",
        "trusted": true
      },
      "cell_type": "code",
      "source": "L = [\"CAT\",\"ARGENTINA\"]\nturistas.groupby(L).sum()",
      "execution_count": null,
      "outputs": []
    },
    {
      "metadata": {
        "colab": {
          "autoexec": {
            "startup": false,
            "wait_interval": 0
          }
        },
        "colab_type": "code",
        "id": "fgx-gYUsqYd8",
        "outputId": "26c66bea-e5a3-4829-ab90-69d1e072f04b",
        "trusted": true
      },
      "cell_type": "code",
      "source": "turistas.groupby(\"ARGENTINA\").sum().head()\n",
      "execution_count": null,
      "outputs": []
    },
    {
      "metadata": {
        "colab": {
          "autoexec": {
            "startup": false,
            "wait_interval": 0
          }
        },
        "colab_type": "code",
        "id": "aJZH_wSVqYeE",
        "outputId": "c1001eea-2252-415c-e30d-c701d8844ea7",
        "trusted": true
      },
      "cell_type": "code",
      "source": "# Es totalmente equivaliente a\nturistas.groupby(turistas[\"ARGENTINA\"]).sum().head()\n",
      "execution_count": null,
      "outputs": []
    },
    {
      "metadata": {
        "colab_type": "text",
        "id": "Mf7Q4EfHqYeV"
      },
      "cell_type": "markdown",
      "source": "#### Un dict o serie mapeando index a grupos"
    },
    {
      "metadata": {
        "colab": {
          "autoexec": {
            "startup": false,
            "wait_interval": 0
          }
        },
        "colab_type": "code",
        "id": "hxeIUR1UqYeY",
        "outputId": "531fce2f-a9a0-4b24-c935-6a0b44d1f024",
        "trusted": true
      },
      "cell_type": "code",
      "source": "turistas2 = turistas.set_index('ARGENTINA')\nmapping = {'CHACO': 'C', 'CHUBUT': 'D', 'CATAMARCA': 'E'}\nturistas2.groupby(mapping).sum()",
      "execution_count": null,
      "outputs": []
    },
    {
      "metadata": {
        "colab_type": "text",
        "id": "OSq0FbS5qYev"
      },
      "cell_type": "markdown",
      "source": "### Ejemplo de aplicación\n\n* Imaginemos que nos consultan cuáles son los lugares de CABA más visitados por los turistas argentinos, según su procedencia. Para ello suponemos que el CAT al que van los turistas indica que fueron a visitar ese lugar. \n* Entonces primero filtramos los turistas extranjeros, agrupamos por provincia, llenamos los Na con 0 y dividimos todo por la cantidad total de turistas argentinos. De esta manera, lo representamos como proporción del total"
    },
    {
      "metadata": {
        "colab": {
          "autoexec": {
            "startup": false,
            "wait_interval": 0
          }
        },
        "colab_type": "code",
        "id": "krx3YPP7qYew",
        "outputId": "51b4ed12-819a-4d52-fa54-f6737d6ecaa1",
        "trusted": true
      },
      "cell_type": "code",
      "source": "turistas.loc[turistas.ARGENTINA != \" \",].groupby(['ARGENTINA', \n                      'CAT'])['PASAJEROS'].sum().unstack(fill_value=0)/sum(turistas.loc[turistas.ARGENTINA != \" \",\n                                                                                            \"PASAJEROS\"])*100",
      "execution_count": null,
      "outputs": []
    },
    {
      "metadata": {
        "trusted": true
      },
      "cell_type": "code",
      "source": "",
      "execution_count": null,
      "outputs": []
    }
  ],
  "metadata": {
    "colab": {
      "default_view": {},
      "name": "1.PRACTICA_GUIADA_1_Pandas_2.ipynb",
      "provenance": [],
      "version": "0.3.2",
      "views": {}
    },
    "kernelspec": {
      "name": "python3",
      "display_name": "Python 3",
      "language": "python"
    },
    "language_info": {
      "mimetype": "text/x-python",
      "nbconvert_exporter": "python",
      "name": "python",
      "file_extension": ".py",
      "version": "3.5.4",
      "pygments_lexer": "ipython3",
      "codemirror_mode": {
        "version": 3,
        "name": "ipython"
      }
    }
  },
  "nbformat": 4,
  "nbformat_minor": 1
}