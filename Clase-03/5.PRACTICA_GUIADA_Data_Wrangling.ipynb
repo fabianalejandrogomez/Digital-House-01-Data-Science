{
  "cells": [
    {
      "metadata": {
        "colab_type": "text",
        "id": "l0X86ZWN3uTg"
      },
      "cell_type": "markdown",
      "source": "## PRACTICA GUIADA\n\n### PARTE I: Limpieza y transformación de datos"
    },
    {
      "metadata": {
        "colab_type": "text",
        "id": "dgI3NCCa3uTi"
      },
      "cell_type": "markdown",
      "source": "Esta práctica se propone brindar un catálogo de métodos y funciones en Pandas y Pyhton que podrán ser útiles a la hora de encarar tareas de limpieza de datos. \n\nEn general, podemos identificar seis tipos de tareas u operaciones que aplicamos a los datos en la etapa de limpieza.\n\n1. Estandarización de categorías (homogeneización)\n2. Resolución de problemas de formato\n3. Asignación de formatos adecuados (dtype)\n4. Corrección de valores erróneos\n5. Completar datos faltantes (missing data imputation)\n6. Organización correcta del dataset (tidy data)\n\nLas funciones y métodos presentados abarcan una o varias de estas operaciones."
    },
    {
      "metadata": {
        "colab_type": "text",
        "id": "JPB2kAmY3uTk"
      },
      "cell_type": "markdown",
      "source": "### Remover duplicados"
    },
    {
      "metadata": {
        "colab": {
          "autoexec": {
            "startup": false,
            "wait_interval": 0
          }
        },
        "colab_type": "code",
        "id": "k9HHDo2x3uTm",
        "trusted": true
      },
      "cell_type": "code",
      "source": "import pandas as pd\nimport numpy as np",
      "execution_count": 1,
      "outputs": []
    },
    {
      "metadata": {
        "colab": {
          "autoexec": {
            "startup": false,
            "wait_interval": 0
          }
        },
        "colab_type": "code",
        "id": "MzMloiaz3uTt",
        "outputId": "82fedd6a-2382-474c-f050-53aa52945f52",
        "trusted": true
      },
      "cell_type": "code",
      "source": "data = pd.DataFrame({'k1': ['one'] * 3 + ['two'] * 4,\n                  'k2': [1, 1, 2, 3, 3, 4, 4]})\ndata",
      "execution_count": 2,
      "outputs": [
        {
          "output_type": "execute_result",
          "execution_count": 2,
          "data": {
            "text/plain": "    k1  k2\n0  one   1\n1  one   1\n2  one   2\n3  two   3\n4  two   3\n5  two   4\n6  two   4",
            "text/html": "<div>\n<table border=\"1\" class=\"dataframe\">\n  <thead>\n    <tr style=\"text-align: right;\">\n      <th></th>\n      <th>k1</th>\n      <th>k2</th>\n    </tr>\n  </thead>\n  <tbody>\n    <tr>\n      <th>0</th>\n      <td>one</td>\n      <td>1</td>\n    </tr>\n    <tr>\n      <th>1</th>\n      <td>one</td>\n      <td>1</td>\n    </tr>\n    <tr>\n      <th>2</th>\n      <td>one</td>\n      <td>2</td>\n    </tr>\n    <tr>\n      <th>3</th>\n      <td>two</td>\n      <td>3</td>\n    </tr>\n    <tr>\n      <th>4</th>\n      <td>two</td>\n      <td>3</td>\n    </tr>\n    <tr>\n      <th>5</th>\n      <td>two</td>\n      <td>4</td>\n    </tr>\n    <tr>\n      <th>6</th>\n      <td>two</td>\n      <td>4</td>\n    </tr>\n  </tbody>\n</table>\n</div>"
          },
          "metadata": {}
        }
      ]
    },
    {
      "metadata": {
        "colab_type": "text",
        "id": "gsD0HFNI3uT2"
      },
      "cell_type": "markdown",
      "source": "* `duplicated()` devuelve un booleano identificando los casos duplicados.\n* `drop_duplicates()` devuelve el `DataFrame` sin los casos duplicados"
    },
    {
      "metadata": {
        "colab": {
          "autoexec": {
            "startup": false,
            "wait_interval": 0
          }
        },
        "colab_type": "code",
        "id": "WqkDdeRe3uT4",
        "outputId": "e1943018-84f0-4076-d50f-a190514f8d4f",
        "trusted": true
      },
      "cell_type": "code",
      "source": "data.duplicated()",
      "execution_count": 3,
      "outputs": [
        {
          "output_type": "execute_result",
          "execution_count": 3,
          "data": {
            "text/plain": "0    False\n1     True\n2    False\n3    False\n4     True\n5    False\n6     True\ndtype: bool"
          },
          "metadata": {}
        }
      ]
    },
    {
      "metadata": {
        "trusted": true
      },
      "cell_type": "code",
      "source": "# Podemos definir algunos parámetros:\n\ndata.duplicated(['k1'],keep='last')",
      "execution_count": 4,
      "outputs": [
        {
          "output_type": "execute_result",
          "execution_count": 4,
          "data": {
            "text/plain": "0     True\n1     True\n2    False\n3     True\n4     True\n5     True\n6    False\ndtype: bool"
          },
          "metadata": {}
        }
      ]
    },
    {
      "metadata": {
        "colab": {
          "autoexec": {
            "startup": false,
            "wait_interval": 0
          }
        },
        "colab_type": "code",
        "id": "swngbaux3uT-",
        "outputId": "cf610ace-ef4e-4a04-8070-5b87a2df7768",
        "trusted": true
      },
      "cell_type": "code",
      "source": "data.drop_duplicates()",
      "execution_count": 5,
      "outputs": [
        {
          "output_type": "execute_result",
          "execution_count": 5,
          "data": {
            "text/plain": "    k1  k2\n0  one   1\n2  one   2\n3  two   3\n5  two   4",
            "text/html": "<div>\n<table border=\"1\" class=\"dataframe\">\n  <thead>\n    <tr style=\"text-align: right;\">\n      <th></th>\n      <th>k1</th>\n      <th>k2</th>\n    </tr>\n  </thead>\n  <tbody>\n    <tr>\n      <th>0</th>\n      <td>one</td>\n      <td>1</td>\n    </tr>\n    <tr>\n      <th>2</th>\n      <td>one</td>\n      <td>2</td>\n    </tr>\n    <tr>\n      <th>3</th>\n      <td>two</td>\n      <td>3</td>\n    </tr>\n    <tr>\n      <th>5</th>\n      <td>two</td>\n      <td>4</td>\n    </tr>\n  </tbody>\n</table>\n</div>"
          },
          "metadata": {}
        }
      ]
    },
    {
      "metadata": {
        "colab": {
          "autoexec": {
            "startup": false,
            "wait_interval": 0
          }
        },
        "colab_type": "code",
        "id": "kDG9Muzj3uUE",
        "outputId": "2cf160c4-3392-447d-b5c2-0bed744c0e2f",
        "trusted": true
      },
      "cell_type": "code",
      "source": "data[~data.duplicated()] == data.drop_duplicates()",
      "execution_count": 6,
      "outputs": [
        {
          "output_type": "execute_result",
          "execution_count": 6,
          "data": {
            "text/plain": "     k1    k2\n0  True  True\n2  True  True\n3  True  True\n5  True  True",
            "text/html": "<div>\n<table border=\"1\" class=\"dataframe\">\n  <thead>\n    <tr style=\"text-align: right;\">\n      <th></th>\n      <th>k1</th>\n      <th>k2</th>\n    </tr>\n  </thead>\n  <tbody>\n    <tr>\n      <th>0</th>\n      <td>True</td>\n      <td>True</td>\n    </tr>\n    <tr>\n      <th>2</th>\n      <td>True</td>\n      <td>True</td>\n    </tr>\n    <tr>\n      <th>3</th>\n      <td>True</td>\n      <td>True</td>\n    </tr>\n    <tr>\n      <th>5</th>\n      <td>True</td>\n      <td>True</td>\n    </tr>\n  </tbody>\n</table>\n</div>"
          },
          "metadata": {}
        }
      ]
    },
    {
      "metadata": {
        "colab_type": "text",
        "id": "H-zKQmG93uUL"
      },
      "cell_type": "markdown",
      "source": "* Se puede utilizar `drop_duplicates()` para eliminar duplicados en una sola columna o en un set de columnas."
    },
    {
      "metadata": {
        "colab": {
          "autoexec": {
            "startup": false,
            "wait_interval": 0
          }
        },
        "colab_type": "code",
        "id": "qZ48On3l3uUT",
        "outputId": "cef4626d-0621-4bb3-c6fa-1b2aab43b4d5",
        "trusted": true
      },
      "cell_type": "code",
      "source": "data['k3'] = range(7)\ndata",
      "execution_count": 7,
      "outputs": [
        {
          "output_type": "execute_result",
          "execution_count": 7,
          "data": {
            "text/plain": "    k1  k2  k3\n0  one   1   0\n1  one   1   1\n2  one   2   2\n3  two   3   3\n4  two   3   4\n5  two   4   5\n6  two   4   6",
            "text/html": "<div>\n<table border=\"1\" class=\"dataframe\">\n  <thead>\n    <tr style=\"text-align: right;\">\n      <th></th>\n      <th>k1</th>\n      <th>k2</th>\n      <th>k3</th>\n    </tr>\n  </thead>\n  <tbody>\n    <tr>\n      <th>0</th>\n      <td>one</td>\n      <td>1</td>\n      <td>0</td>\n    </tr>\n    <tr>\n      <th>1</th>\n      <td>one</td>\n      <td>1</td>\n      <td>1</td>\n    </tr>\n    <tr>\n      <th>2</th>\n      <td>one</td>\n      <td>2</td>\n      <td>2</td>\n    </tr>\n    <tr>\n      <th>3</th>\n      <td>two</td>\n      <td>3</td>\n      <td>3</td>\n    </tr>\n    <tr>\n      <th>4</th>\n      <td>two</td>\n      <td>3</td>\n      <td>4</td>\n    </tr>\n    <tr>\n      <th>5</th>\n      <td>two</td>\n      <td>4</td>\n      <td>5</td>\n    </tr>\n    <tr>\n      <th>6</th>\n      <td>two</td>\n      <td>4</td>\n      <td>6</td>\n    </tr>\n  </tbody>\n</table>\n</div>"
          },
          "metadata": {}
        }
      ]
    },
    {
      "metadata": {
        "trusted": true
      },
      "cell_type": "code",
      "source": "data.drop_duplicates(['k1'])",
      "execution_count": 8,
      "outputs": [
        {
          "output_type": "execute_result",
          "execution_count": 8,
          "data": {
            "text/plain": "    k1  k2  k3\n0  one   1   0\n3  two   3   3",
            "text/html": "<div>\n<table border=\"1\" class=\"dataframe\">\n  <thead>\n    <tr style=\"text-align: right;\">\n      <th></th>\n      <th>k1</th>\n      <th>k2</th>\n      <th>k3</th>\n    </tr>\n  </thead>\n  <tbody>\n    <tr>\n      <th>0</th>\n      <td>one</td>\n      <td>1</td>\n      <td>0</td>\n    </tr>\n    <tr>\n      <th>3</th>\n      <td>two</td>\n      <td>3</td>\n      <td>3</td>\n    </tr>\n  </tbody>\n</table>\n</div>"
          },
          "metadata": {}
        }
      ]
    },
    {
      "metadata": {
        "colab": {
          "autoexec": {
            "startup": false,
            "wait_interval": 0
          }
        },
        "colab_type": "code",
        "id": "tOoRIUJi3uUe",
        "outputId": "e3a09076-d2d3-497b-fa50-7e45acdfdc66",
        "trusted": true
      },
      "cell_type": "code",
      "source": "data.drop_duplicates(['k1', 'k2'])",
      "execution_count": 9,
      "outputs": [
        {
          "output_type": "execute_result",
          "execution_count": 9,
          "data": {
            "text/plain": "    k1  k2  k3\n0  one   1   0\n2  one   2   2\n3  two   3   3\n5  two   4   5",
            "text/html": "<div>\n<table border=\"1\" class=\"dataframe\">\n  <thead>\n    <tr style=\"text-align: right;\">\n      <th></th>\n      <th>k1</th>\n      <th>k2</th>\n      <th>k3</th>\n    </tr>\n  </thead>\n  <tbody>\n    <tr>\n      <th>0</th>\n      <td>one</td>\n      <td>1</td>\n      <td>0</td>\n    </tr>\n    <tr>\n      <th>2</th>\n      <td>one</td>\n      <td>2</td>\n      <td>2</td>\n    </tr>\n    <tr>\n      <th>3</th>\n      <td>two</td>\n      <td>3</td>\n      <td>3</td>\n    </tr>\n    <tr>\n      <th>5</th>\n      <td>two</td>\n      <td>4</td>\n      <td>5</td>\n    </tr>\n  </tbody>\n</table>\n</div>"
          },
          "metadata": {}
        }
      ]
    },
    {
      "metadata": {
        "colab_type": "text",
        "id": "ja3M0tQc3uUk"
      },
      "cell_type": "markdown",
      "source": "### Mapear y transformar los datos\nA partir de un diccionario, se puede crear una nueva columna para un Dataframe donde las claves del mismo se vinculen con una de las series y los valores formen parte de la nueva columna."
    },
    {
      "metadata": {
        "trusted": true
      },
      "cell_type": "code",
      "source": "data = pd.DataFrame({'platos': ['panceta', 'bondiola', 'panceta', 'Pastrami',\n                           'pavita', 'Panceta', 'pastrami', 'jamon crudo',\n                           'nova lox'],\n                  'peso': [4, 3, 12, 6, 7.5, 8, 3, 5, 6]})\ndata",
      "execution_count": 10,
      "outputs": [
        {
          "output_type": "execute_result",
          "execution_count": 10,
          "data": {
            "text/plain": "   peso       platos\n0   4.0      panceta\n1   3.0     bondiola\n2  12.0      panceta\n3   6.0     Pastrami\n4   7.5       pavita\n5   8.0      Panceta\n6   3.0     pastrami\n7   5.0  jamon crudo\n8   6.0     nova lox",
            "text/html": "<div>\n<table border=\"1\" class=\"dataframe\">\n  <thead>\n    <tr style=\"text-align: right;\">\n      <th></th>\n      <th>peso</th>\n      <th>platos</th>\n    </tr>\n  </thead>\n  <tbody>\n    <tr>\n      <th>0</th>\n      <td>4.0</td>\n      <td>panceta</td>\n    </tr>\n    <tr>\n      <th>1</th>\n      <td>3.0</td>\n      <td>bondiola</td>\n    </tr>\n    <tr>\n      <th>2</th>\n      <td>12.0</td>\n      <td>panceta</td>\n    </tr>\n    <tr>\n      <th>3</th>\n      <td>6.0</td>\n      <td>Pastrami</td>\n    </tr>\n    <tr>\n      <th>4</th>\n      <td>7.5</td>\n      <td>pavita</td>\n    </tr>\n    <tr>\n      <th>5</th>\n      <td>8.0</td>\n      <td>Panceta</td>\n    </tr>\n    <tr>\n      <th>6</th>\n      <td>3.0</td>\n      <td>pastrami</td>\n    </tr>\n    <tr>\n      <th>7</th>\n      <td>5.0</td>\n      <td>jamon crudo</td>\n    </tr>\n    <tr>\n      <th>8</th>\n      <td>6.0</td>\n      <td>nova lox</td>\n    </tr>\n  </tbody>\n</table>\n</div>"
          },
          "metadata": {}
        }
      ]
    },
    {
      "metadata": {
        "colab": {
          "autoexec": {
            "startup": false,
            "wait_interval": 0
          }
        },
        "colab_type": "code",
        "id": "W_bCzwvx3uUs",
        "outputId": "4f6edf4e-7373-4994-fbdf-380a69a94f79",
        "trusted": true
      },
      "cell_type": "code",
      "source": "data.platos.unique()",
      "execution_count": 11,
      "outputs": [
        {
          "output_type": "execute_result",
          "execution_count": 11,
          "data": {
            "text/plain": "array(['panceta', 'bondiola', 'Pastrami', 'pavita', 'Panceta', 'pastrami',\n       'jamon crudo', 'nova lox'], dtype=object)"
          },
          "metadata": {}
        }
      ]
    },
    {
      "metadata": {
        "colab_type": "text",
        "id": "BRBJpa6R3uVQ"
      },
      "cell_type": "markdown",
      "source": "* La idea es ahora poder asignar a cada `plato` un determinado `animal`. Una opción es hacerlo con los métodos `.map()` o `.apply()`.\n\nRepaso:\n\n    1)  pd.DataFrame.apply: Opera sobre filas o columnas completas\n    2)  pd.DataFrame.applymap: Opera sobre cada uno de los elementos del Dataframe\n    3)  pd.Series.apply: Opera sobre cada uno de los elementos de la Serie. \n    4)  pd.Series.map: Opera sobre cada uno de los elementos de la Serie, muy similar a Series.apply. Una diferencia importante es que map puede recibir una serie o un diccionario, además de una función."
    },
    {
      "metadata": {
        "colab": {
          "autoexec": {
            "startup": false,
            "wait_interval": 0
          }
        },
        "colab_type": "code",
        "id": "7whi1ZRw3uVT",
        "trusted": true
      },
      "cell_type": "code",
      "source": "plato_a_animal = {\n  'panceta': 'cerdo',\n  'bondiola': 'cerdo',\n  'pastrami': 'vaca',\n  'pavita': 'pavo',\n  'jamon crudo': 'cerdo',\n  'nova lox': 'salmon'\n}",
      "execution_count": 12,
      "outputs": []
    },
    {
      "metadata": {
        "colab": {
          "autoexec": {
            "startup": false,
            "wait_interval": 0
          }
        },
        "colab_type": "code",
        "id": "KUhYC9c33uVd",
        "outputId": "ca576af0-d597-4cbc-a28b-8b1a84e44612",
        "trusted": true
      },
      "cell_type": "code",
      "source": "data['platos'] = data['platos'].map(str.lower)\ndata['animal'] = data['platos'].map(plato_a_animal)\ndata",
      "execution_count": 13,
      "outputs": [
        {
          "output_type": "execute_result",
          "execution_count": 13,
          "data": {
            "text/plain": "   peso       platos  animal\n0   4.0      panceta   cerdo\n1   3.0     bondiola   cerdo\n2  12.0      panceta   cerdo\n3   6.0     pastrami    vaca\n4   7.5       pavita    pavo\n5   8.0      panceta   cerdo\n6   3.0     pastrami    vaca\n7   5.0  jamon crudo   cerdo\n8   6.0     nova lox  salmon",
            "text/html": "<div>\n<table border=\"1\" class=\"dataframe\">\n  <thead>\n    <tr style=\"text-align: right;\">\n      <th></th>\n      <th>peso</th>\n      <th>platos</th>\n      <th>animal</th>\n    </tr>\n  </thead>\n  <tbody>\n    <tr>\n      <th>0</th>\n      <td>4.0</td>\n      <td>panceta</td>\n      <td>cerdo</td>\n    </tr>\n    <tr>\n      <th>1</th>\n      <td>3.0</td>\n      <td>bondiola</td>\n      <td>cerdo</td>\n    </tr>\n    <tr>\n      <th>2</th>\n      <td>12.0</td>\n      <td>panceta</td>\n      <td>cerdo</td>\n    </tr>\n    <tr>\n      <th>3</th>\n      <td>6.0</td>\n      <td>pastrami</td>\n      <td>vaca</td>\n    </tr>\n    <tr>\n      <th>4</th>\n      <td>7.5</td>\n      <td>pavita</td>\n      <td>pavo</td>\n    </tr>\n    <tr>\n      <th>5</th>\n      <td>8.0</td>\n      <td>panceta</td>\n      <td>cerdo</td>\n    </tr>\n    <tr>\n      <th>6</th>\n      <td>3.0</td>\n      <td>pastrami</td>\n      <td>vaca</td>\n    </tr>\n    <tr>\n      <th>7</th>\n      <td>5.0</td>\n      <td>jamon crudo</td>\n      <td>cerdo</td>\n    </tr>\n    <tr>\n      <th>8</th>\n      <td>6.0</td>\n      <td>nova lox</td>\n      <td>salmon</td>\n    </tr>\n  </tbody>\n</table>\n</div>"
          },
          "metadata": {}
        }
      ]
    },
    {
      "metadata": {
        "colab_type": "text",
        "id": "qNWRV11T3uVn"
      },
      "cell_type": "markdown",
      "source": "* Podríamos también pasar una función que haga todo en un solo paso:"
    },
    {
      "metadata": {
        "colab": {
          "autoexec": {
            "startup": false,
            "wait_interval": 0
          }
        },
        "colab_type": "code",
        "id": "98YlCB8X3uVq",
        "outputId": "40f222f7-58e0-4bc0-9016-01c09ef8e280",
        "trusted": true
      },
      "cell_type": "code",
      "source": "data['platos'].map(lambda x: plato_a_animal[x.lower()])",
      "execution_count": 14,
      "outputs": [
        {
          "output_type": "execute_result",
          "execution_count": 14,
          "data": {
            "text/plain": "0     cerdo\n1     cerdo\n2     cerdo\n3      vaca\n4      pavo\n5     cerdo\n6      vaca\n7     cerdo\n8    salmon\nName: platos, dtype: object"
          },
          "metadata": {}
        }
      ]
    },
    {
      "metadata": {},
      "cell_type": "markdown",
      "source": "* En este caso, funciona también con Series.apply():"
    },
    {
      "metadata": {
        "trusted": true
      },
      "cell_type": "code",
      "source": "data['platos'].apply(lambda x: plato_a_animal[x.lower()])",
      "execution_count": 15,
      "outputs": [
        {
          "output_type": "execute_result",
          "execution_count": 15,
          "data": {
            "text/plain": "0     cerdo\n1     cerdo\n2     cerdo\n3      vaca\n4      pavo\n5     cerdo\n6      vaca\n7     cerdo\n8    salmon\nName: platos, dtype: object"
          },
          "metadata": {}
        }
      ]
    },
    {
      "metadata": {
        "colab_type": "text",
        "id": "hyhvO3Rk3uVz"
      },
      "cell_type": "markdown",
      "source": "### Reemplazar valores\nEl método data.replace() ofrece varias formas de efectuar reemplazos sobre una serie de Pandas:\n    1- Un valor viejo por un valor nuevo.\n    2- Una lista de valores viejos por un valor nuevo.\n    3- Una lista de valores viejos por una lista de valores nuevos.\n    4- Un diccionario que mapee valores nuevos y viejos."
    },
    {
      "metadata": {
        "colab": {
          "autoexec": {
            "startup": false,
            "wait_interval": 0
          }
        },
        "colab_type": "code",
        "id": "QW1SKvf93uV0",
        "outputId": "a95a9a4c-229f-422b-a520-8ab443b99ad1",
        "trusted": true
      },
      "cell_type": "code",
      "source": "data = pd.Series([1., -999., 2., -999., -1000., 3.])\ndata",
      "execution_count": 16,
      "outputs": [
        {
          "output_type": "execute_result",
          "execution_count": 16,
          "data": {
            "text/plain": "0       1.0\n1    -999.0\n2       2.0\n3    -999.0\n4   -1000.0\n5       3.0\ndtype: float64"
          },
          "metadata": {}
        }
      ]
    },
    {
      "metadata": {
        "colab": {
          "autoexec": {
            "startup": false,
            "wait_interval": 0
          }
        },
        "colab_type": "code",
        "id": "0mZVT1s83uV5",
        "outputId": "94a9ada3-cf4b-4f31-87d9-3e5e34d8b373",
        "trusted": true
      },
      "cell_type": "code",
      "source": "data.replace(-999, np.nan)",
      "execution_count": 17,
      "outputs": [
        {
          "output_type": "execute_result",
          "execution_count": 17,
          "data": {
            "text/plain": "0       1.0\n1       NaN\n2       2.0\n3       NaN\n4   -1000.0\n5       3.0\ndtype: float64"
          },
          "metadata": {}
        }
      ]
    },
    {
      "metadata": {
        "colab": {
          "autoexec": {
            "startup": false,
            "wait_interval": 0
          }
        },
        "colab_type": "code",
        "id": "nMSBHEyw3uV-",
        "outputId": "e98dffbd-423e-4344-ed54-3d097eabceb1",
        "trusted": true
      },
      "cell_type": "code",
      "source": "data.replace([-999, -1000], np.nan)",
      "execution_count": 18,
      "outputs": [
        {
          "output_type": "execute_result",
          "execution_count": 18,
          "data": {
            "text/plain": "0    1.0\n1    NaN\n2    2.0\n3    NaN\n4    NaN\n5    3.0\ndtype: float64"
          },
          "metadata": {}
        }
      ]
    },
    {
      "metadata": {
        "colab_type": "text",
        "id": "dzdXcsZz3uWD"
      },
      "cell_type": "markdown",
      "source": "* Podemos hacer `replace` diferentes usando una lista de listas..."
    },
    {
      "metadata": {
        "colab": {
          "autoexec": {
            "startup": false,
            "wait_interval": 0
          }
        },
        "colab_type": "code",
        "id": "bjT1Nas83uWE",
        "outputId": "4c4cdbae-fe24-43cc-f96d-4bc23921a17f",
        "trusted": true
      },
      "cell_type": "code",
      "source": "data.replace([-999, -1000], [0, np.nan])",
      "execution_count": 19,
      "outputs": [
        {
          "output_type": "execute_result",
          "execution_count": 19,
          "data": {
            "text/plain": "0    1.0\n1    0.0\n2    2.0\n3    0.0\n4    NaN\n5    3.0\ndtype: float64"
          },
          "metadata": {}
        }
      ]
    },
    {
      "metadata": {
        "colab_type": "text",
        "id": "w-sMt6bC3uWJ"
      },
      "cell_type": "markdown",
      "source": "* ... O usando un `dict` "
    },
    {
      "metadata": {
        "colab": {
          "autoexec": {
            "startup": false,
            "wait_interval": 0
          }
        },
        "colab_type": "code",
        "id": "HtAePaLG3uWL",
        "outputId": "a4c57410-9223-444b-f657-b43c63a0496e",
        "trusted": true
      },
      "cell_type": "code",
      "source": "data.replace({-999: np.nan, -1000: 0})",
      "execution_count": 20,
      "outputs": [
        {
          "output_type": "execute_result",
          "execution_count": 20,
          "data": {
            "text/plain": "0    1.0\n1    NaN\n2    2.0\n3    NaN\n4    0.0\n5    3.0\ndtype: float64"
          },
          "metadata": {}
        }
      ]
    },
    {
      "metadata": {
        "trusted": true
      },
      "cell_type": "code",
      "source": "df = pd.DataFrame({'A': [0, 1, 2, 3, 4],\n                    'B': [5, 6, 7, 8, 9],\n                   'C': ['a', 'b', 'c', 'd', 'e']})\n\ndf",
      "execution_count": 21,
      "outputs": [
        {
          "output_type": "execute_result",
          "execution_count": 21,
          "data": {
            "text/plain": "   A  B  C\n0  0  5  a\n1  1  6  b\n2  2  7  c\n3  3  8  d\n4  4  9  e",
            "text/html": "<div>\n<table border=\"1\" class=\"dataframe\">\n  <thead>\n    <tr style=\"text-align: right;\">\n      <th></th>\n      <th>A</th>\n      <th>B</th>\n      <th>C</th>\n    </tr>\n  </thead>\n  <tbody>\n    <tr>\n      <th>0</th>\n      <td>0</td>\n      <td>5</td>\n      <td>a</td>\n    </tr>\n    <tr>\n      <th>1</th>\n      <td>1</td>\n      <td>6</td>\n      <td>b</td>\n    </tr>\n    <tr>\n      <th>2</th>\n      <td>2</td>\n      <td>7</td>\n      <td>c</td>\n    </tr>\n    <tr>\n      <th>3</th>\n      <td>3</td>\n      <td>8</td>\n      <td>d</td>\n    </tr>\n    <tr>\n      <th>4</th>\n      <td>4</td>\n      <td>9</td>\n      <td>e</td>\n    </tr>\n  </tbody>\n</table>\n</div>"
          },
          "metadata": {}
        }
      ]
    },
    {
      "metadata": {
        "trusted": true
      },
      "cell_type": "code",
      "source": "df.replace(0, 5)",
      "execution_count": 22,
      "outputs": [
        {
          "output_type": "execute_result",
          "execution_count": 22,
          "data": {
            "text/plain": "   A  B  C\n0  5  5  a\n1  1  6  b\n2  2  7  c\n3  3  8  d\n4  4  9  e",
            "text/html": "<div>\n<table border=\"1\" class=\"dataframe\">\n  <thead>\n    <tr style=\"text-align: right;\">\n      <th></th>\n      <th>A</th>\n      <th>B</th>\n      <th>C</th>\n    </tr>\n  </thead>\n  <tbody>\n    <tr>\n      <th>0</th>\n      <td>5</td>\n      <td>5</td>\n      <td>a</td>\n    </tr>\n    <tr>\n      <th>1</th>\n      <td>1</td>\n      <td>6</td>\n      <td>b</td>\n    </tr>\n    <tr>\n      <th>2</th>\n      <td>2</td>\n      <td>7</td>\n      <td>c</td>\n    </tr>\n    <tr>\n      <th>3</th>\n      <td>3</td>\n      <td>8</td>\n      <td>d</td>\n    </tr>\n    <tr>\n      <th>4</th>\n      <td>4</td>\n      <td>9</td>\n      <td>e</td>\n    </tr>\n  </tbody>\n</table>\n</div>"
          },
          "metadata": {}
        }
      ]
    },
    {
      "metadata": {
        "trusted": true
      },
      "cell_type": "code",
      "source": "df.replace([0, 1, 2, 3], 4)",
      "execution_count": 23,
      "outputs": [
        {
          "output_type": "execute_result",
          "execution_count": 23,
          "data": {
            "text/plain": "   A  B  C\n0  4  5  a\n1  4  6  b\n2  4  7  c\n3  4  8  d\n4  4  9  e",
            "text/html": "<div>\n<table border=\"1\" class=\"dataframe\">\n  <thead>\n    <tr style=\"text-align: right;\">\n      <th></th>\n      <th>A</th>\n      <th>B</th>\n      <th>C</th>\n    </tr>\n  </thead>\n  <tbody>\n    <tr>\n      <th>0</th>\n      <td>4</td>\n      <td>5</td>\n      <td>a</td>\n    </tr>\n    <tr>\n      <th>1</th>\n      <td>4</td>\n      <td>6</td>\n      <td>b</td>\n    </tr>\n    <tr>\n      <th>2</th>\n      <td>4</td>\n      <td>7</td>\n      <td>c</td>\n    </tr>\n    <tr>\n      <th>3</th>\n      <td>4</td>\n      <td>8</td>\n      <td>d</td>\n    </tr>\n    <tr>\n      <th>4</th>\n      <td>4</td>\n      <td>9</td>\n      <td>e</td>\n    </tr>\n  </tbody>\n</table>\n</div>"
          },
          "metadata": {}
        }
      ]
    },
    {
      "metadata": {
        "trusted": true
      },
      "cell_type": "code",
      "source": "df.replace({'A': 0, 'B': 5}, 100)",
      "execution_count": 24,
      "outputs": [
        {
          "output_type": "execute_result",
          "execution_count": 24,
          "data": {
            "text/plain": "     A    B  C\n0  100  100  a\n1    1    6  b\n2    2    7  c\n3    3    8  d\n4    4    9  e",
            "text/html": "<div>\n<table border=\"1\" class=\"dataframe\">\n  <thead>\n    <tr style=\"text-align: right;\">\n      <th></th>\n      <th>A</th>\n      <th>B</th>\n      <th>C</th>\n    </tr>\n  </thead>\n  <tbody>\n    <tr>\n      <th>0</th>\n      <td>100</td>\n      <td>100</td>\n      <td>a</td>\n    </tr>\n    <tr>\n      <th>1</th>\n      <td>1</td>\n      <td>6</td>\n      <td>b</td>\n    </tr>\n    <tr>\n      <th>2</th>\n      <td>2</td>\n      <td>7</td>\n      <td>c</td>\n    </tr>\n    <tr>\n      <th>3</th>\n      <td>3</td>\n      <td>8</td>\n      <td>d</td>\n    </tr>\n    <tr>\n      <th>4</th>\n      <td>4</td>\n      <td>9</td>\n      <td>e</td>\n    </tr>\n  </tbody>\n</table>\n</div>"
          },
          "metadata": {}
        }
      ]
    },
    {
      "metadata": {},
      "cell_type": "markdown",
      "source": "Se pueden usar expresiones regulares:"
    },
    {
      "metadata": {
        "trusted": true
      },
      "cell_type": "code",
      "source": "df_re = pd.DataFrame({'A': ['bat', 'foo', 'bait'],\n                      'B': ['abc', 'bar', 'xyz']})\n\ndf_re",
      "execution_count": 25,
      "outputs": [
        {
          "output_type": "execute_result",
          "execution_count": 25,
          "data": {
            "text/plain": "      A    B\n0   bat  abc\n1   foo  bar\n2  bait  xyz",
            "text/html": "<div>\n<table border=\"1\" class=\"dataframe\">\n  <thead>\n    <tr style=\"text-align: right;\">\n      <th></th>\n      <th>A</th>\n      <th>B</th>\n    </tr>\n  </thead>\n  <tbody>\n    <tr>\n      <th>0</th>\n      <td>bat</td>\n      <td>abc</td>\n    </tr>\n    <tr>\n      <th>1</th>\n      <td>foo</td>\n      <td>bar</td>\n    </tr>\n    <tr>\n      <th>2</th>\n      <td>bait</td>\n      <td>xyz</td>\n    </tr>\n  </tbody>\n</table>\n</div>"
          },
          "metadata": {}
        }
      ]
    },
    {
      "metadata": {
        "trusted": true
      },
      "cell_type": "code",
      "source": "df_re.replace(to_replace=r'^ba.$', value='new', regex=True)",
      "execution_count": 26,
      "outputs": [
        {
          "output_type": "execute_result",
          "execution_count": 26,
          "data": {
            "text/plain": "      A    B\n0   new  abc\n1   foo  new\n2  bait  xyz",
            "text/html": "<div>\n<table border=\"1\" class=\"dataframe\">\n  <thead>\n    <tr style=\"text-align: right;\">\n      <th></th>\n      <th>A</th>\n      <th>B</th>\n    </tr>\n  </thead>\n  <tbody>\n    <tr>\n      <th>0</th>\n      <td>new</td>\n      <td>abc</td>\n    </tr>\n    <tr>\n      <th>1</th>\n      <td>foo</td>\n      <td>new</td>\n    </tr>\n    <tr>\n      <th>2</th>\n      <td>bait</td>\n      <td>xyz</td>\n    </tr>\n  </tbody>\n</table>\n</div>"
          },
          "metadata": {}
        }
      ]
    },
    {
      "metadata": {
        "trusted": true
      },
      "cell_type": "code",
      "source": "df_re.replace(to_replace=r'^ba.+$', value='new', regex=True)",
      "execution_count": 27,
      "outputs": [
        {
          "output_type": "execute_result",
          "execution_count": 27,
          "data": {
            "text/plain": "     A    B\n0  new  abc\n1  foo  new\n2  new  xyz",
            "text/html": "<div>\n<table border=\"1\" class=\"dataframe\">\n  <thead>\n    <tr style=\"text-align: right;\">\n      <th></th>\n      <th>A</th>\n      <th>B</th>\n    </tr>\n  </thead>\n  <tbody>\n    <tr>\n      <th>0</th>\n      <td>new</td>\n      <td>abc</td>\n    </tr>\n    <tr>\n      <th>1</th>\n      <td>foo</td>\n      <td>new</td>\n    </tr>\n    <tr>\n      <th>2</th>\n      <td>new</td>\n      <td>xyz</td>\n    </tr>\n  </tbody>\n</table>\n</div>"
          },
          "metadata": {}
        }
      ]
    },
    {
      "metadata": {
        "trusted": true
      },
      "cell_type": "code",
      "source": "df_re.replace({'A': r'^ba.$'}, 'new', regex=True)",
      "execution_count": 28,
      "outputs": [
        {
          "output_type": "execute_result",
          "execution_count": 28,
          "data": {
            "text/plain": "      A    B\n0   new  abc\n1   foo  bar\n2  bait  xyz",
            "text/html": "<div>\n<table border=\"1\" class=\"dataframe\">\n  <thead>\n    <tr style=\"text-align: right;\">\n      <th></th>\n      <th>A</th>\n      <th>B</th>\n    </tr>\n  </thead>\n  <tbody>\n    <tr>\n      <th>0</th>\n      <td>new</td>\n      <td>abc</td>\n    </tr>\n    <tr>\n      <th>1</th>\n      <td>foo</td>\n      <td>bar</td>\n    </tr>\n    <tr>\n      <th>2</th>\n      <td>bait</td>\n      <td>xyz</td>\n    </tr>\n  </tbody>\n</table>\n</div>"
          },
          "metadata": {}
        }
      ]
    },
    {
      "metadata": {
        "trusted": true
      },
      "cell_type": "code",
      "source": "df_re.replace(regex={r'^ba.$': 'new', 'foo': 'xyz'})",
      "execution_count": 29,
      "outputs": [
        {
          "output_type": "execute_result",
          "execution_count": 29,
          "data": {
            "text/plain": "      A    B\n0   new  abc\n1   xyz  new\n2  bait  xyz",
            "text/html": "<div>\n<table border=\"1\" class=\"dataframe\">\n  <thead>\n    <tr style=\"text-align: right;\">\n      <th></th>\n      <th>A</th>\n      <th>B</th>\n    </tr>\n  </thead>\n  <tbody>\n    <tr>\n      <th>0</th>\n      <td>new</td>\n      <td>abc</td>\n    </tr>\n    <tr>\n      <th>1</th>\n      <td>xyz</td>\n      <td>new</td>\n    </tr>\n    <tr>\n      <th>2</th>\n      <td>bait</td>\n      <td>xyz</td>\n    </tr>\n  </tbody>\n</table>\n</div>"
          },
          "metadata": {}
        }
      ]
    },
    {
      "metadata": {
        "colab_type": "text",
        "id": "5CyAdmsx3uWR"
      },
      "cell_type": "markdown",
      "source": "### Renombrar índices de los ejes"
    },
    {
      "metadata": {
        "colab": {
          "autoexec": {
            "startup": false,
            "wait_interval": 0
          }
        },
        "colab_type": "code",
        "id": "EJs0S35E3uWR",
        "outputId": "5ab13b25-a9c7-4c11-8abb-2c26f617e9aa",
        "trusted": true
      },
      "cell_type": "code",
      "source": "data = pd.DataFrame(np.arange(12).reshape((3, 4)),\n                 index=['Buenos Aires', 'Cordoba', 'Mendoza'],\n                 columns=['uno', 'dos', 'tres', 'cuatro'])\ndata",
      "execution_count": 30,
      "outputs": [
        {
          "output_type": "execute_result",
          "execution_count": 30,
          "data": {
            "text/plain": "              uno  dos  tres  cuatro\nBuenos Aires    0    1     2       3\nCordoba         4    5     6       7\nMendoza         8    9    10      11",
            "text/html": "<div>\n<table border=\"1\" class=\"dataframe\">\n  <thead>\n    <tr style=\"text-align: right;\">\n      <th></th>\n      <th>uno</th>\n      <th>dos</th>\n      <th>tres</th>\n      <th>cuatro</th>\n    </tr>\n  </thead>\n  <tbody>\n    <tr>\n      <th>Buenos Aires</th>\n      <td>0</td>\n      <td>1</td>\n      <td>2</td>\n      <td>3</td>\n    </tr>\n    <tr>\n      <th>Cordoba</th>\n      <td>4</td>\n      <td>5</td>\n      <td>6</td>\n      <td>7</td>\n    </tr>\n    <tr>\n      <th>Mendoza</th>\n      <td>8</td>\n      <td>9</td>\n      <td>10</td>\n      <td>11</td>\n    </tr>\n  </tbody>\n</table>\n</div>"
          },
          "metadata": {}
        }
      ]
    },
    {
      "metadata": {
        "colab": {
          "autoexec": {
            "startup": false,
            "wait_interval": 0
          }
        },
        "colab_type": "code",
        "id": "XfrPTKRS3uWW",
        "outputId": "da4a822b-ff4d-4f31-8c34-641b2da4d15b",
        "trusted": true
      },
      "cell_type": "code",
      "source": "data.index = data.index.map(str.upper)\ndata",
      "execution_count": 31,
      "outputs": [
        {
          "output_type": "execute_result",
          "execution_count": 31,
          "data": {
            "text/plain": "              uno  dos  tres  cuatro\nBUENOS AIRES    0    1     2       3\nCORDOBA         4    5     6       7\nMENDOZA         8    9    10      11",
            "text/html": "<div>\n<table border=\"1\" class=\"dataframe\">\n  <thead>\n    <tr style=\"text-align: right;\">\n      <th></th>\n      <th>uno</th>\n      <th>dos</th>\n      <th>tres</th>\n      <th>cuatro</th>\n    </tr>\n  </thead>\n  <tbody>\n    <tr>\n      <th>BUENOS AIRES</th>\n      <td>0</td>\n      <td>1</td>\n      <td>2</td>\n      <td>3</td>\n    </tr>\n    <tr>\n      <th>CORDOBA</th>\n      <td>4</td>\n      <td>5</td>\n      <td>6</td>\n      <td>7</td>\n    </tr>\n    <tr>\n      <th>MENDOZA</th>\n      <td>8</td>\n      <td>9</td>\n      <td>10</td>\n      <td>11</td>\n    </tr>\n  </tbody>\n</table>\n</div>"
          },
          "metadata": {}
        }
      ]
    },
    {
      "metadata": {
        "colab": {
          "autoexec": {
            "startup": false,
            "wait_interval": 0
          }
        },
        "colab_type": "code",
        "id": "FG6j5bP63uWe",
        "outputId": "e415c827-ccbf-4e97-da09-0a140d6b2fca",
        "trusted": true
      },
      "cell_type": "code",
      "source": "data.rename(index=str.title, columns=str.upper)\n\n# https://pandas.pydata.org/pandas-docs/stable/generated/pandas.Series.str.title.html",
      "execution_count": 32,
      "outputs": [
        {
          "output_type": "execute_result",
          "execution_count": 32,
          "data": {
            "text/plain": "              UNO  DOS  TRES  CUATRO\nBuenos Aires    0    1     2       3\nCordoba         4    5     6       7\nMendoza         8    9    10      11",
            "text/html": "<div>\n<table border=\"1\" class=\"dataframe\">\n  <thead>\n    <tr style=\"text-align: right;\">\n      <th></th>\n      <th>UNO</th>\n      <th>DOS</th>\n      <th>TRES</th>\n      <th>CUATRO</th>\n    </tr>\n  </thead>\n  <tbody>\n    <tr>\n      <th>Buenos Aires</th>\n      <td>0</td>\n      <td>1</td>\n      <td>2</td>\n      <td>3</td>\n    </tr>\n    <tr>\n      <th>Cordoba</th>\n      <td>4</td>\n      <td>5</td>\n      <td>6</td>\n      <td>7</td>\n    </tr>\n    <tr>\n      <th>Mendoza</th>\n      <td>8</td>\n      <td>9</td>\n      <td>10</td>\n      <td>11</td>\n    </tr>\n  </tbody>\n</table>\n</div>"
          },
          "metadata": {}
        }
      ]
    },
    {
      "metadata": {
        "colab": {
          "autoexec": {
            "startup": false,
            "wait_interval": 0
          }
        },
        "colab_type": "code",
        "id": "7JjBn3SL3uWr",
        "outputId": "b9eef0d4-443f-4233-ef92-c941f274e1bf",
        "trusted": true
      },
      "cell_type": "code",
      "source": "data",
      "execution_count": 33,
      "outputs": [
        {
          "output_type": "execute_result",
          "execution_count": 33,
          "data": {
            "text/plain": "              uno  dos  tres  cuatro\nBUENOS AIRES    0    1     2       3\nCORDOBA         4    5     6       7\nMENDOZA         8    9    10      11",
            "text/html": "<div>\n<table border=\"1\" class=\"dataframe\">\n  <thead>\n    <tr style=\"text-align: right;\">\n      <th></th>\n      <th>uno</th>\n      <th>dos</th>\n      <th>tres</th>\n      <th>cuatro</th>\n    </tr>\n  </thead>\n  <tbody>\n    <tr>\n      <th>BUENOS AIRES</th>\n      <td>0</td>\n      <td>1</td>\n      <td>2</td>\n      <td>3</td>\n    </tr>\n    <tr>\n      <th>CORDOBA</th>\n      <td>4</td>\n      <td>5</td>\n      <td>6</td>\n      <td>7</td>\n    </tr>\n    <tr>\n      <th>MENDOZA</th>\n      <td>8</td>\n      <td>9</td>\n      <td>10</td>\n      <td>11</td>\n    </tr>\n  </tbody>\n</table>\n</div>"
          },
          "metadata": {}
        }
      ]
    },
    {
      "metadata": {
        "colab": {
          "autoexec": {
            "startup": false,
            "wait_interval": 0
          }
        },
        "colab_type": "code",
        "id": "QZgNG2y53uWx",
        "outputId": "82b18c41-902a-477a-df57-47eb2620372c",
        "trusted": true
      },
      "cell_type": "code",
      "source": "data.rename(index={'CORDOBA': 'SANTA FE'},\n            columns={'tres': 'ocho'})",
      "execution_count": 34,
      "outputs": [
        {
          "output_type": "execute_result",
          "execution_count": 34,
          "data": {
            "text/plain": "              uno  dos  ocho  cuatro\nBUENOS AIRES    0    1     2       3\nSANTA FE        4    5     6       7\nMENDOZA         8    9    10      11",
            "text/html": "<div>\n<table border=\"1\" class=\"dataframe\">\n  <thead>\n    <tr style=\"text-align: right;\">\n      <th></th>\n      <th>uno</th>\n      <th>dos</th>\n      <th>ocho</th>\n      <th>cuatro</th>\n    </tr>\n  </thead>\n  <tbody>\n    <tr>\n      <th>BUENOS AIRES</th>\n      <td>0</td>\n      <td>1</td>\n      <td>2</td>\n      <td>3</td>\n    </tr>\n    <tr>\n      <th>SANTA FE</th>\n      <td>4</td>\n      <td>5</td>\n      <td>6</td>\n      <td>7</td>\n    </tr>\n    <tr>\n      <th>MENDOZA</th>\n      <td>8</td>\n      <td>9</td>\n      <td>10</td>\n      <td>11</td>\n    </tr>\n  </tbody>\n</table>\n</div>"
          },
          "metadata": {}
        }
      ]
    },
    {
      "metadata": {
        "colab": {
          "autoexec": {
            "startup": false,
            "wait_interval": 0
          }
        },
        "colab_type": "code",
        "id": "jiFqhrwa3uW1",
        "outputId": "cde6f257-6f43-4991-b2d7-3866cb5550ee",
        "trusted": true
      },
      "cell_type": "code",
      "source": "data",
      "execution_count": 35,
      "outputs": [
        {
          "output_type": "execute_result",
          "execution_count": 35,
          "data": {
            "text/plain": "              uno  dos  tres  cuatro\nBUENOS AIRES    0    1     2       3\nCORDOBA         4    5     6       7\nMENDOZA         8    9    10      11",
            "text/html": "<div>\n<table border=\"1\" class=\"dataframe\">\n  <thead>\n    <tr style=\"text-align: right;\">\n      <th></th>\n      <th>uno</th>\n      <th>dos</th>\n      <th>tres</th>\n      <th>cuatro</th>\n    </tr>\n  </thead>\n  <tbody>\n    <tr>\n      <th>BUENOS AIRES</th>\n      <td>0</td>\n      <td>1</td>\n      <td>2</td>\n      <td>3</td>\n    </tr>\n    <tr>\n      <th>CORDOBA</th>\n      <td>4</td>\n      <td>5</td>\n      <td>6</td>\n      <td>7</td>\n    </tr>\n    <tr>\n      <th>MENDOZA</th>\n      <td>8</td>\n      <td>9</td>\n      <td>10</td>\n      <td>11</td>\n    </tr>\n  </tbody>\n</table>\n</div>"
          },
          "metadata": {}
        }
      ]
    },
    {
      "metadata": {
        "colab": {
          "autoexec": {
            "startup": false,
            "wait_interval": 0
          }
        },
        "colab_type": "code",
        "id": "UPWJo9Is3uW7",
        "outputId": "cbd85a85-1256-4957-bcd2-149a38076390",
        "trusted": true
      },
      "cell_type": "code",
      "source": "data.rename(index={'CORDOBA': 'SANTA FE'}, inplace=True)\ndata",
      "execution_count": 36,
      "outputs": [
        {
          "output_type": "execute_result",
          "execution_count": 36,
          "data": {
            "text/plain": "              uno  dos  tres  cuatro\nBUENOS AIRES    0    1     2       3\nSANTA FE        4    5     6       7\nMENDOZA         8    9    10      11",
            "text/html": "<div>\n<table border=\"1\" class=\"dataframe\">\n  <thead>\n    <tr style=\"text-align: right;\">\n      <th></th>\n      <th>uno</th>\n      <th>dos</th>\n      <th>tres</th>\n      <th>cuatro</th>\n    </tr>\n  </thead>\n  <tbody>\n    <tr>\n      <th>BUENOS AIRES</th>\n      <td>0</td>\n      <td>1</td>\n      <td>2</td>\n      <td>3</td>\n    </tr>\n    <tr>\n      <th>SANTA FE</th>\n      <td>4</td>\n      <td>5</td>\n      <td>6</td>\n      <td>7</td>\n    </tr>\n    <tr>\n      <th>MENDOZA</th>\n      <td>8</td>\n      <td>9</td>\n      <td>10</td>\n      <td>11</td>\n    </tr>\n  </tbody>\n</table>\n</div>"
          },
          "metadata": {}
        }
      ]
    },
    {
      "metadata": {
        "colab_type": "text",
        "id": "mUQ0pdxG3uXB"
      },
      "cell_type": "markdown",
      "source": "### Discretizar y binarizar variables\nEl proceso de transformar una variable numérica en categórica se llama discretización. "
    },
    {
      "metadata": {
        "colab": {
          "autoexec": {
            "startup": false,
            "wait_interval": 0
          }
        },
        "colab_type": "code",
        "id": "0froUzY73uXC",
        "trusted": true
      },
      "cell_type": "code",
      "source": "ages = [26, 22, 25, 27, 21, 23, 37, 31, 61, 45, 41, 32, 25, 60]",
      "execution_count": 37,
      "outputs": []
    },
    {
      "metadata": {
        "colab_type": "text",
        "id": "hmZcIvko3uXG"
      },
      "cell_type": "markdown",
      "source": "* El método `cut` devuelve el intervalo semi-cerrado al que pertenece cada entrada"
    },
    {
      "metadata": {
        "colab": {
          "autoexec": {
            "startup": false,
            "wait_interval": 0
          }
        },
        "colab_type": "code",
        "id": "M85vUtQg3uXI",
        "outputId": "b4a145d6-b863-4315-ea46-5410d6c09faa",
        "trusted": true
      },
      "cell_type": "code",
      "source": "# Defino los valores de corte\nbins = [18, 25, 35, 60, 100]\n\n# Obtengo una lista de intervalos\ncats = pd.cut(ages, bins)\ncats",
      "execution_count": 38,
      "outputs": [
        {
          "output_type": "execute_result",
          "execution_count": 38,
          "data": {
            "text/plain": "[(25, 35], (18, 25], (18, 25], (25, 35], (18, 25], ..., (35, 60], (35, 60], (25, 35], (18, 25], (35, 60]]\nLength: 14\nCategories (4, object): [(18, 25] < (25, 35] < (35, 60] < (60, 100]]"
          },
          "metadata": {}
        }
      ]
    },
    {
      "metadata": {
        "colab": {
          "autoexec": {
            "startup": false,
            "wait_interval": 0
          }
        },
        "colab_type": "code",
        "id": "av8Pv4IH3uXN",
        "outputId": "84750a19-6877-4721-e88c-2a74e0b82191",
        "trusted": true
      },
      "cell_type": "code",
      "source": "type(cats)",
      "execution_count": 39,
      "outputs": [
        {
          "output_type": "execute_result",
          "execution_count": 39,
          "data": {
            "text/plain": "pandas.core.categorical.Categorical"
          },
          "metadata": {}
        }
      ]
    },
    {
      "metadata": {
        "colab_type": "text",
        "id": "qPWRgr0H3uXU"
      },
      "cell_type": "markdown",
      "source": "* El atributo `codes` representa el indice en la lista 'cats'  del intervalo al que pertenece cada entrada"
    },
    {
      "metadata": {
        "colab": {
          "autoexec": {
            "startup": false,
            "wait_interval": 0
          }
        },
        "colab_type": "code",
        "id": "z7h3gy9P3uXU",
        "outputId": "fe9a05fa-712b-4997-e506-ce088e0755d7",
        "trusted": true
      },
      "cell_type": "code",
      "source": "cats.codes",
      "execution_count": 40,
      "outputs": [
        {
          "output_type": "execute_result",
          "execution_count": 40,
          "data": {
            "text/plain": "array([1, 0, 0, 1, 0, 0, 2, 1, 3, 2, 2, 1, 0, 2], dtype=int8)"
          },
          "metadata": {}
        }
      ]
    },
    {
      "metadata": {
        "colab": {
          "autoexec": {
            "startup": false,
            "wait_interval": 0
          }
        },
        "colab_type": "code",
        "id": "RGdrBwHl3uXc",
        "outputId": "fd0656bc-fce3-4f98-cd25-95d843d5c763",
        "trusted": true
      },
      "cell_type": "code",
      "source": "pd.value_counts(cats)",
      "execution_count": 41,
      "outputs": [
        {
          "output_type": "execute_result",
          "execution_count": 41,
          "data": {
            "text/plain": "(18, 25]     5\n(35, 60]     4\n(25, 35]     4\n(60, 100]    1\ndtype: int64"
          },
          "metadata": {}
        }
      ]
    },
    {
      "metadata": {
        "colab": {
          "autoexec": {
            "startup": false,
            "wait_interval": 0
          }
        },
        "colab_type": "code",
        "id": "j6_49iZv3uXi",
        "outputId": "0471aac1-a63f-44ae-9eb0-65856e11f33e",
        "trusted": true
      },
      "cell_type": "code",
      "source": "pd.value_counts(cats.codes)",
      "execution_count": 42,
      "outputs": [
        {
          "output_type": "execute_result",
          "execution_count": 42,
          "data": {
            "text/plain": "0    5\n2    4\n1    4\n3    1\ndtype: int64"
          },
          "metadata": {}
        }
      ]
    },
    {
      "metadata": {
        "colab": {
          "autoexec": {
            "startup": false,
            "wait_interval": 0
          }
        },
        "colab_type": "code",
        "id": "lWokYbF93uXn",
        "outputId": "7f608715-e6ed-4f26-f0b4-d3539a97386a",
        "trusted": true
      },
      "cell_type": "code",
      "source": "# Podemos modificar la inclusión del valor de corte en los intervalos\npd.cut(ages, [18, 26, 36, 61, 100], right=False)",
      "execution_count": 43,
      "outputs": [
        {
          "output_type": "execute_result",
          "execution_count": 43,
          "data": {
            "text/plain": "[[26, 36), [18, 26), [18, 26), [26, 36), [18, 26), ..., [36, 61), [36, 61), [26, 36), [18, 26), [36, 61)]\nLength: 14\nCategories (4, object): [[18, 26) < [26, 36) < [36, 61) < [61, 100)]"
          },
          "metadata": {}
        }
      ]
    },
    {
      "metadata": {
        "colab": {
          "autoexec": {
            "startup": false,
            "wait_interval": 0
          }
        },
        "colab_type": "code",
        "id": "6rkHb4DB3uXr",
        "outputId": "e22a6217-a627-42f9-ce36-f7f524771d4c",
        "trusted": true
      },
      "cell_type": "code",
      "source": "# Podemos asignar etiquetas a las categorías\ngroup_names = ['Joven', 'Joven Adulto', 'Adulto', 'Senior']\ncats.categories = group_names\ncats",
      "execution_count": 44,
      "outputs": [
        {
          "output_type": "execute_result",
          "execution_count": 44,
          "data": {
            "text/plain": "[Joven Adulto, Joven, Joven, Joven Adulto, Joven, ..., Adulto, Adulto, Joven Adulto, Joven, Adulto]\nLength: 14\nCategories (4, object): [Joven < Joven Adulto < Adulto < Senior]"
          },
          "metadata": {}
        }
      ]
    },
    {
      "metadata": {
        "trusted": true
      },
      "cell_type": "code",
      "source": "cats.value_counts()",
      "execution_count": 45,
      "outputs": [
        {
          "output_type": "execute_result",
          "execution_count": 45,
          "data": {
            "text/plain": "Joven           5\nJoven Adulto    4\nAdulto          4\nSenior          1\ndtype: int64"
          },
          "metadata": {}
        }
      ]
    },
    {
      "metadata": {
        "colab_type": "text",
        "id": "PNVUXvSF3uXv"
      },
      "cell_type": "markdown",
      "source": "* También es posible asignar nombres (etiquetas) a los intervalos generados. Puede hacerse a partir del parámetro `labels=`"
    },
    {
      "metadata": {
        "colab": {
          "autoexec": {
            "startup": false,
            "wait_interval": 0
          }
        },
        "colab_type": "code",
        "id": "pc03vmdh3uX4",
        "outputId": "d48f8912-7717-4e26-ed65-688c903955a7",
        "trusted": true
      },
      "cell_type": "code",
      "source": "pd.cut(ages, [18, 25, 35, 60, 100], labels=['Joven', 'Joven Adulto', 'Adulto', 'Senior'])",
      "execution_count": 46,
      "outputs": [
        {
          "output_type": "execute_result",
          "execution_count": 46,
          "data": {
            "text/plain": "[Joven Adulto, Joven, Joven, Joven Adulto, Joven, ..., Adulto, Adulto, Joven Adulto, Joven, Adulto]\nLength: 14\nCategories (4, object): [Joven < Joven Adulto < Adulto < Senior]"
          },
          "metadata": {}
        }
      ]
    },
    {
      "metadata": {
        "colab_type": "text",
        "id": "sQI7NSGt3uYC"
      },
      "cell_type": "markdown",
      "source": "* Qué sucede con el órden de las etiquetas?"
    },
    {
      "metadata": {
        "colab": {
          "autoexec": {
            "startup": false,
            "wait_interval": 0
          }
        },
        "colab_type": "code",
        "id": "mYbUwHzg3uYD",
        "trusted": true
      },
      "cell_type": "code",
      "source": "serie_ages = pd.cut(ages, bins, labels=group_names)\nserie_ages.value_counts()",
      "execution_count": 47,
      "outputs": [
        {
          "output_type": "execute_result",
          "execution_count": 47,
          "data": {
            "text/plain": "Joven           5\nJoven Adulto    4\nAdulto          4\nSenior          1\ndtype: int64"
          },
          "metadata": {}
        }
      ]
    },
    {
      "metadata": {
        "colab_type": "text",
        "id": "JRYTTXNG3uYK"
      },
      "cell_type": "markdown",
      "source": "### Cuantiles en lugar de intervalos preestablecidos"
    },
    {
      "metadata": {
        "colab": {
          "autoexec": {
            "startup": false,
            "wait_interval": 0
          }
        },
        "colab_type": "code",
        "id": "dAQfJbUW3uYL",
        "outputId": "47c897b9-c5bd-4060-ca7d-61de9af0687c",
        "trusted": true
      },
      "cell_type": "code",
      "source": "# Divido en cuantiles, en este caso 10\ndata = np.random.randn(1000)\nqcats = pd.qcut(data, 5) \nqcats",
      "execution_count": 48,
      "outputs": [
        {
          "output_type": "execute_result",
          "execution_count": 48,
          "data": {
            "text/plain": "[(-0.195, 0.303], [-2.539, -0.748], (0.952, 3.236], (-0.195, 0.303], (-0.748, -0.195], ..., (0.952, 3.236], [-2.539, -0.748], (-0.195, 0.303], (0.303, 0.952], (-0.748, -0.195]]\nLength: 1000\nCategories (5, object): [[-2.539, -0.748] < (-0.748, -0.195] < (-0.195, 0.303] < (0.303, 0.952] < (0.952, 3.236]]"
          },
          "metadata": {}
        }
      ]
    },
    {
      "metadata": {
        "colab": {
          "autoexec": {
            "startup": false,
            "wait_interval": 0
          }
        },
        "colab_type": "code",
        "id": "LM8GT7aZ3uYW",
        "outputId": "a45853d3-3a75-48d9-c8da-dec1b6293a95",
        "trusted": true
      },
      "cell_type": "code",
      "source": "qcats.value_counts()",
      "execution_count": 49,
      "outputs": [
        {
          "output_type": "execute_result",
          "execution_count": 49,
          "data": {
            "text/plain": "[-2.539, -0.748]    200\n(-0.748, -0.195]    200\n(-0.195, 0.303]     200\n(0.303, 0.952]      200\n(0.952, 3.236]      200\ndtype: int64"
          },
          "metadata": {}
        }
      ]
    },
    {
      "metadata": {
        "colab_type": "text",
        "id": "OK-6-tAC3uYc"
      },
      "cell_type": "markdown",
      "source": "### Detectar y filtrar outliers\nNo existe un criterio que sea válido en todos los casos para identificar los outliers. El criterio de mayor que el tercer cuartil más 1.5 veces el rango intercuartil o menor que el primer cuartil menos 1.5 veces el rango intercuartil surge de la distribución normal. En esa distribución el 99.7% de la población se encuentra en el rango definido por la media (poblacional) más menos 3 veces el desvío estándar (poblacional)\n"
    },
    {
      "metadata": {
        "colab": {
          "autoexec": {
            "startup": false,
            "wait_interval": 0
          }
        },
        "colab_type": "code",
        "id": "1ks8ygRp3uYd",
        "outputId": "56e9c08a-9b96-4298-cb45-f461747037c0",
        "trusted": true
      },
      "cell_type": "code",
      "source": "np.random.seed(12345)\ndata = pd.DataFrame(np.random.randn(1000, 4))\ndata.sample(5)",
      "execution_count": 50,
      "outputs": [
        {
          "output_type": "execute_result",
          "execution_count": 50,
          "data": {
            "text/plain": "            0         1         2         3\n565  1.502867 -1.400992  1.105131 -1.123506\n193  2.666744  1.451456  0.634629 -0.502827\n333  0.718409 -1.929776  2.527939  0.731370\n767 -0.017749 -1.595617 -1.387784  0.327248\n576 -0.442164  1.284845  0.801260  1.025196",
            "text/html": "<div>\n<table border=\"1\" class=\"dataframe\">\n  <thead>\n    <tr style=\"text-align: right;\">\n      <th></th>\n      <th>0</th>\n      <th>1</th>\n      <th>2</th>\n      <th>3</th>\n    </tr>\n  </thead>\n  <tbody>\n    <tr>\n      <th>565</th>\n      <td>1.502867</td>\n      <td>-1.400992</td>\n      <td>1.105131</td>\n      <td>-1.123506</td>\n    </tr>\n    <tr>\n      <th>193</th>\n      <td>2.666744</td>\n      <td>1.451456</td>\n      <td>0.634629</td>\n      <td>-0.502827</td>\n    </tr>\n    <tr>\n      <th>333</th>\n      <td>0.718409</td>\n      <td>-1.929776</td>\n      <td>2.527939</td>\n      <td>0.731370</td>\n    </tr>\n    <tr>\n      <th>767</th>\n      <td>-0.017749</td>\n      <td>-1.595617</td>\n      <td>-1.387784</td>\n      <td>0.327248</td>\n    </tr>\n    <tr>\n      <th>576</th>\n      <td>-0.442164</td>\n      <td>1.284845</td>\n      <td>0.801260</td>\n      <td>1.025196</td>\n    </tr>\n  </tbody>\n</table>\n</div>"
          },
          "metadata": {}
        }
      ]
    },
    {
      "metadata": {
        "colab": {
          "autoexec": {
            "startup": false,
            "wait_interval": 0
          }
        },
        "colab_type": "code",
        "id": "MI60nqFE3uYl",
        "outputId": "7f8b1cb1-aefc-416a-9cd6-7649641c2b5b",
        "trusted": true
      },
      "cell_type": "code",
      "source": "data.describe()",
      "execution_count": 51,
      "outputs": [
        {
          "output_type": "execute_result",
          "execution_count": 51,
          "data": {
            "text/plain": "                 0            1            2            3\ncount  1000.000000  1000.000000  1000.000000  1000.000000\nmean     -0.067684     0.067924     0.025598    -0.002298\nstd       0.998035     0.992106     1.006835     0.996794\nmin      -3.428254    -3.548824    -3.184377    -3.745356\n25%      -0.774890    -0.591841    -0.641675    -0.644144\n50%      -0.116401     0.101143     0.002073    -0.013611\n75%       0.616366     0.780282     0.680391     0.654328\nmax       3.366626     2.653656     3.260383     3.927528",
            "text/html": "<div>\n<table border=\"1\" class=\"dataframe\">\n  <thead>\n    <tr style=\"text-align: right;\">\n      <th></th>\n      <th>0</th>\n      <th>1</th>\n      <th>2</th>\n      <th>3</th>\n    </tr>\n  </thead>\n  <tbody>\n    <tr>\n      <th>count</th>\n      <td>1000.000000</td>\n      <td>1000.000000</td>\n      <td>1000.000000</td>\n      <td>1000.000000</td>\n    </tr>\n    <tr>\n      <th>mean</th>\n      <td>-0.067684</td>\n      <td>0.067924</td>\n      <td>0.025598</td>\n      <td>-0.002298</td>\n    </tr>\n    <tr>\n      <th>std</th>\n      <td>0.998035</td>\n      <td>0.992106</td>\n      <td>1.006835</td>\n      <td>0.996794</td>\n    </tr>\n    <tr>\n      <th>min</th>\n      <td>-3.428254</td>\n      <td>-3.548824</td>\n      <td>-3.184377</td>\n      <td>-3.745356</td>\n    </tr>\n    <tr>\n      <th>25%</th>\n      <td>-0.774890</td>\n      <td>-0.591841</td>\n      <td>-0.641675</td>\n      <td>-0.644144</td>\n    </tr>\n    <tr>\n      <th>50%</th>\n      <td>-0.116401</td>\n      <td>0.101143</td>\n      <td>0.002073</td>\n      <td>-0.013611</td>\n    </tr>\n    <tr>\n      <th>75%</th>\n      <td>0.616366</td>\n      <td>0.780282</td>\n      <td>0.680391</td>\n      <td>0.654328</td>\n    </tr>\n    <tr>\n      <th>max</th>\n      <td>3.366626</td>\n      <td>2.653656</td>\n      <td>3.260383</td>\n      <td>3.927528</td>\n    </tr>\n  </tbody>\n</table>\n</div>"
          },
          "metadata": {}
        }
      ]
    },
    {
      "metadata": {
        "colab": {
          "autoexec": {
            "startup": false,
            "wait_interval": 0
          }
        },
        "colab_type": "code",
        "id": "4JNWvJbN3uYo",
        "trusted": true
      },
      "cell_type": "code",
      "source": "col = data[3]\ncol[np.abs(col) > 3]\n#en este caso la media poblacional es 0 y el desvío es 1 entonces el criterio mencionado anteriormente \n# marcaría como outliers a los valores mayores que 3 o menores que -3\n#col[np.abs(col) > 3 * np.std(col)]",
      "execution_count": 52,
      "outputs": [
        {
          "output_type": "execute_result",
          "execution_count": 52,
          "data": {
            "text/plain": "97     3.927528\n305   -3.399312\n400   -3.745356\nName: 3, dtype: float64"
          },
          "metadata": {}
        }
      ]
    },
    {
      "metadata": {
        "colab": {
          "autoexec": {
            "startup": false,
            "wait_interval": 0
          }
        },
        "colab_type": "code",
        "id": "NiMl26Yc3uYt",
        "outputId": "833af907-2091-418d-bccb-57f73b3aebca",
        "trusted": true
      },
      "cell_type": "code",
      "source": "# Listamos aquellos que no son outliers\ndata[~(np.abs(data) > 3).any(axis=1)].head()",
      "execution_count": 53,
      "outputs": [
        {
          "output_type": "execute_result",
          "execution_count": 53,
          "data": {
            "text/plain": "          0         1         2         3\n0 -0.204708  0.478943 -0.519439 -0.555730\n1  1.965781  1.393406  0.092908  0.281746\n2  0.769023  1.246435  1.007189 -1.296221\n3  0.274992  0.228913  1.352917  0.886429\n4 -2.001637 -0.371843  1.669025 -0.438570",
            "text/html": "<div>\n<table border=\"1\" class=\"dataframe\">\n  <thead>\n    <tr style=\"text-align: right;\">\n      <th></th>\n      <th>0</th>\n      <th>1</th>\n      <th>2</th>\n      <th>3</th>\n    </tr>\n  </thead>\n  <tbody>\n    <tr>\n      <th>0</th>\n      <td>-0.204708</td>\n      <td>0.478943</td>\n      <td>-0.519439</td>\n      <td>-0.555730</td>\n    </tr>\n    <tr>\n      <th>1</th>\n      <td>1.965781</td>\n      <td>1.393406</td>\n      <td>0.092908</td>\n      <td>0.281746</td>\n    </tr>\n    <tr>\n      <th>2</th>\n      <td>0.769023</td>\n      <td>1.246435</td>\n      <td>1.007189</td>\n      <td>-1.296221</td>\n    </tr>\n    <tr>\n      <th>3</th>\n      <td>0.274992</td>\n      <td>0.228913</td>\n      <td>1.352917</td>\n      <td>0.886429</td>\n    </tr>\n    <tr>\n      <th>4</th>\n      <td>-2.001637</td>\n      <td>-0.371843</td>\n      <td>1.669025</td>\n      <td>-0.438570</td>\n    </tr>\n  </tbody>\n</table>\n</div>"
          },
          "metadata": {}
        }
      ]
    },
    {
      "metadata": {
        "trusted": true
      },
      "cell_type": "code",
      "source": "len(data[~(np.abs(data) > 3).any(axis=1)])",
      "execution_count": 54,
      "outputs": [
        {
          "output_type": "execute_result",
          "execution_count": 54,
          "data": {
            "text/plain": "989"
          },
          "metadata": {}
        }
      ]
    },
    {
      "metadata": {
        "colab": {
          "autoexec": {
            "startup": false,
            "wait_interval": 0
          }
        },
        "colab_type": "code",
        "id": "H_DIVmZ_3uYy",
        "outputId": "1671d2f5-c6cf-4a44-ff08-6c742aa1b43d",
        "trusted": true
      },
      "cell_type": "code",
      "source": "# Listamos las filas que tienen elementos que están en los extremos de la distribución\ndata[(np.abs(data) > 3).any(1)]",
      "execution_count": 55,
      "outputs": [
        {
          "output_type": "execute_result",
          "execution_count": 55,
          "data": {
            "text/plain": "            0         1         2         3\n5   -0.539741  0.476985  3.248944 -1.021228\n97  -0.774363  0.552936  0.106061  3.927528\n102 -0.655054 -0.565230  3.176873  0.959533\n305 -2.315555  0.457246 -0.025907 -3.399312\n324  0.050188  1.951312  3.260383  0.963301\n400  0.146326  0.508391 -0.196713 -3.745356\n499 -0.293333 -0.242459 -3.056990  1.918403\n523 -3.428254 -0.296336 -0.439938 -0.867165\n586  0.275144  1.179227 -3.184377  1.369891\n808 -0.362528 -3.548824  1.553205 -2.186301\n900  3.366626 -2.372214  0.851010  1.332846",
            "text/html": "<div>\n<table border=\"1\" class=\"dataframe\">\n  <thead>\n    <tr style=\"text-align: right;\">\n      <th></th>\n      <th>0</th>\n      <th>1</th>\n      <th>2</th>\n      <th>3</th>\n    </tr>\n  </thead>\n  <tbody>\n    <tr>\n      <th>5</th>\n      <td>-0.539741</td>\n      <td>0.476985</td>\n      <td>3.248944</td>\n      <td>-1.021228</td>\n    </tr>\n    <tr>\n      <th>97</th>\n      <td>-0.774363</td>\n      <td>0.552936</td>\n      <td>0.106061</td>\n      <td>3.927528</td>\n    </tr>\n    <tr>\n      <th>102</th>\n      <td>-0.655054</td>\n      <td>-0.565230</td>\n      <td>3.176873</td>\n      <td>0.959533</td>\n    </tr>\n    <tr>\n      <th>305</th>\n      <td>-2.315555</td>\n      <td>0.457246</td>\n      <td>-0.025907</td>\n      <td>-3.399312</td>\n    </tr>\n    <tr>\n      <th>324</th>\n      <td>0.050188</td>\n      <td>1.951312</td>\n      <td>3.260383</td>\n      <td>0.963301</td>\n    </tr>\n    <tr>\n      <th>400</th>\n      <td>0.146326</td>\n      <td>0.508391</td>\n      <td>-0.196713</td>\n      <td>-3.745356</td>\n    </tr>\n    <tr>\n      <th>499</th>\n      <td>-0.293333</td>\n      <td>-0.242459</td>\n      <td>-3.056990</td>\n      <td>1.918403</td>\n    </tr>\n    <tr>\n      <th>523</th>\n      <td>-3.428254</td>\n      <td>-0.296336</td>\n      <td>-0.439938</td>\n      <td>-0.867165</td>\n    </tr>\n    <tr>\n      <th>586</th>\n      <td>0.275144</td>\n      <td>1.179227</td>\n      <td>-3.184377</td>\n      <td>1.369891</td>\n    </tr>\n    <tr>\n      <th>808</th>\n      <td>-0.362528</td>\n      <td>-3.548824</td>\n      <td>1.553205</td>\n      <td>-2.186301</td>\n    </tr>\n    <tr>\n      <th>900</th>\n      <td>3.366626</td>\n      <td>-2.372214</td>\n      <td>0.851010</td>\n      <td>1.332846</td>\n    </tr>\n  </tbody>\n</table>\n</div>"
          },
          "metadata": {}
        }
      ]
    },
    {
      "metadata": {
        "colab": {
          "autoexec": {
            "startup": false,
            "wait_interval": 0
          }
        },
        "colab_type": "code",
        "id": "jHjWejWS3uY2",
        "outputId": "86e52c22-d145-4155-e176-3bd110fc6e1e",
        "trusted": true
      },
      "cell_type": "code",
      "source": "# Acota el rango de la muestra\n# Convierte los valores extremos a esos puntos de referencia\n \ndata[np.abs(data) > 3] = np.sign(data) * 3\ndata.describe()",
      "execution_count": 56,
      "outputs": [
        {
          "output_type": "execute_result",
          "execution_count": 56,
          "data": {
            "text/plain": "                 0            1            2            3\ncount  1000.000000  1000.000000  1000.000000  1000.000000\nmean     -0.067623     0.068473     0.025153    -0.002081\nstd       0.995485     0.990253     1.003977     0.989736\nmin      -3.000000    -3.000000    -3.000000    -3.000000\n25%      -0.774890    -0.591841    -0.641675    -0.644144\n50%      -0.116401     0.101143     0.002073    -0.013611\n75%       0.616366     0.780282     0.680391     0.654328\nmax       3.000000     2.653656     3.000000     3.000000",
            "text/html": "<div>\n<table border=\"1\" class=\"dataframe\">\n  <thead>\n    <tr style=\"text-align: right;\">\n      <th></th>\n      <th>0</th>\n      <th>1</th>\n      <th>2</th>\n      <th>3</th>\n    </tr>\n  </thead>\n  <tbody>\n    <tr>\n      <th>count</th>\n      <td>1000.000000</td>\n      <td>1000.000000</td>\n      <td>1000.000000</td>\n      <td>1000.000000</td>\n    </tr>\n    <tr>\n      <th>mean</th>\n      <td>-0.067623</td>\n      <td>0.068473</td>\n      <td>0.025153</td>\n      <td>-0.002081</td>\n    </tr>\n    <tr>\n      <th>std</th>\n      <td>0.995485</td>\n      <td>0.990253</td>\n      <td>1.003977</td>\n      <td>0.989736</td>\n    </tr>\n    <tr>\n      <th>min</th>\n      <td>-3.000000</td>\n      <td>-3.000000</td>\n      <td>-3.000000</td>\n      <td>-3.000000</td>\n    </tr>\n    <tr>\n      <th>25%</th>\n      <td>-0.774890</td>\n      <td>-0.591841</td>\n      <td>-0.641675</td>\n      <td>-0.644144</td>\n    </tr>\n    <tr>\n      <th>50%</th>\n      <td>-0.116401</td>\n      <td>0.101143</td>\n      <td>0.002073</td>\n      <td>-0.013611</td>\n    </tr>\n    <tr>\n      <th>75%</th>\n      <td>0.616366</td>\n      <td>0.780282</td>\n      <td>0.680391</td>\n      <td>0.654328</td>\n    </tr>\n    <tr>\n      <th>max</th>\n      <td>3.000000</td>\n      <td>2.653656</td>\n      <td>3.000000</td>\n      <td>3.000000</td>\n    </tr>\n  </tbody>\n</table>\n</div>"
          },
          "metadata": {}
        }
      ]
    },
    {
      "metadata": {
        "colab_type": "text",
        "id": "ZxFCDDlZ3uY6"
      },
      "cell_type": "markdown",
      "source": "### PARTE II: Variables categóricas y Dummies\nPandas cuenta con el método pd.get_dummies() que recibe una Serie o una lista de Series y realiza el one hot encoding.\n\nRecordemos que una variable con k categorías se puede representar con k-1 variables.\n\nPor eso un parámetro clave de pd.get_dummies es drop_first = True que genera k-1 categorías en lugar de k."
    },
    {
      "metadata": {
        "colab": {
          "autoexec": {
            "startup": false,
            "wait_interval": 0
          }
        },
        "colab_type": "code",
        "id": "HVP7l2Ik3uY7",
        "outputId": "e3f5bfa8-cc07-4392-fa38-947f686d8f3a",
        "trusted": true
      },
      "cell_type": "code",
      "source": "df = pd.DataFrame({'cat_producto': ['b', 'b', 'a', 'c', 'a', 'b'],\n                'cod_venta': np.arange(100, 112, 2)})\ndf",
      "execution_count": 57,
      "outputs": [
        {
          "output_type": "execute_result",
          "execution_count": 57,
          "data": {
            "text/plain": "  cat_producto  cod_venta\n0            b        100\n1            b        102\n2            a        104\n3            c        106\n4            a        108\n5            b        110",
            "text/html": "<div>\n<table border=\"1\" class=\"dataframe\">\n  <thead>\n    <tr style=\"text-align: right;\">\n      <th></th>\n      <th>cat_producto</th>\n      <th>cod_venta</th>\n    </tr>\n  </thead>\n  <tbody>\n    <tr>\n      <th>0</th>\n      <td>b</td>\n      <td>100</td>\n    </tr>\n    <tr>\n      <th>1</th>\n      <td>b</td>\n      <td>102</td>\n    </tr>\n    <tr>\n      <th>2</th>\n      <td>a</td>\n      <td>104</td>\n    </tr>\n    <tr>\n      <th>3</th>\n      <td>c</td>\n      <td>106</td>\n    </tr>\n    <tr>\n      <th>4</th>\n      <td>a</td>\n      <td>108</td>\n    </tr>\n    <tr>\n      <th>5</th>\n      <td>b</td>\n      <td>110</td>\n    </tr>\n  </tbody>\n</table>\n</div>"
          },
          "metadata": {}
        }
      ]
    },
    {
      "metadata": {
        "colab": {
          "autoexec": {
            "startup": false,
            "wait_interval": 0
          }
        },
        "colab_type": "code",
        "id": "-koT6S9M3uY_",
        "outputId": "d4e939c9-ecf6-48ca-e016-c5e05f593ab3",
        "trusted": true
      },
      "cell_type": "code",
      "source": "pd.get_dummies(df['cat_producto'])",
      "execution_count": 58,
      "outputs": [
        {
          "output_type": "execute_result",
          "execution_count": 58,
          "data": {
            "text/plain": "   a  b  c\n0  0  1  0\n1  0  1  0\n2  1  0  0\n3  0  0  1\n4  1  0  0\n5  0  1  0",
            "text/html": "<div>\n<table border=\"1\" class=\"dataframe\">\n  <thead>\n    <tr style=\"text-align: right;\">\n      <th></th>\n      <th>a</th>\n      <th>b</th>\n      <th>c</th>\n    </tr>\n  </thead>\n  <tbody>\n    <tr>\n      <th>0</th>\n      <td>0</td>\n      <td>1</td>\n      <td>0</td>\n    </tr>\n    <tr>\n      <th>1</th>\n      <td>0</td>\n      <td>1</td>\n      <td>0</td>\n    </tr>\n    <tr>\n      <th>2</th>\n      <td>1</td>\n      <td>0</td>\n      <td>0</td>\n    </tr>\n    <tr>\n      <th>3</th>\n      <td>0</td>\n      <td>0</td>\n      <td>1</td>\n    </tr>\n    <tr>\n      <th>4</th>\n      <td>1</td>\n      <td>0</td>\n      <td>0</td>\n    </tr>\n    <tr>\n      <th>5</th>\n      <td>0</td>\n      <td>1</td>\n      <td>0</td>\n    </tr>\n  </tbody>\n</table>\n</div>"
          },
          "metadata": {}
        }
      ]
    },
    {
      "metadata": {
        "colab": {
          "autoexec": {
            "startup": false,
            "wait_interval": 0
          }
        },
        "colab_type": "code",
        "id": "EyEWPFY03uZD",
        "outputId": "22142301-6fad-4e64-d4b5-daf421dd5dad",
        "trusted": true
      },
      "cell_type": "code",
      "source": "# Agregamos un prefijo para identificar la categoría\npd.get_dummies(df['cat_producto'], prefix='cat_producto')\n                        ",
      "execution_count": 59,
      "outputs": [
        {
          "output_type": "execute_result",
          "execution_count": 59,
          "data": {
            "text/plain": "   cat_producto_a  cat_producto_b  cat_producto_c\n0               0               1               0\n1               0               1               0\n2               1               0               0\n3               0               0               1\n4               1               0               0\n5               0               1               0",
            "text/html": "<div>\n<table border=\"1\" class=\"dataframe\">\n  <thead>\n    <tr style=\"text-align: right;\">\n      <th></th>\n      <th>cat_producto_a</th>\n      <th>cat_producto_b</th>\n      <th>cat_producto_c</th>\n    </tr>\n  </thead>\n  <tbody>\n    <tr>\n      <th>0</th>\n      <td>0</td>\n      <td>1</td>\n      <td>0</td>\n    </tr>\n    <tr>\n      <th>1</th>\n      <td>0</td>\n      <td>1</td>\n      <td>0</td>\n    </tr>\n    <tr>\n      <th>2</th>\n      <td>1</td>\n      <td>0</td>\n      <td>0</td>\n    </tr>\n    <tr>\n      <th>3</th>\n      <td>0</td>\n      <td>0</td>\n      <td>1</td>\n    </tr>\n    <tr>\n      <th>4</th>\n      <td>1</td>\n      <td>0</td>\n      <td>0</td>\n    </tr>\n    <tr>\n      <th>5</th>\n      <td>0</td>\n      <td>1</td>\n      <td>0</td>\n    </tr>\n  </tbody>\n</table>\n</div>"
          },
          "metadata": {}
        }
      ]
    },
    {
      "metadata": {
        "trusted": true
      },
      "cell_type": "code",
      "source": "dummies = pd.get_dummies(df['cat_producto'], prefix='cat_producto',\n                         drop_first=True)\ndummies",
      "execution_count": 60,
      "outputs": [
        {
          "output_type": "execute_result",
          "execution_count": 60,
          "data": {
            "text/plain": "   cat_producto_b  cat_producto_c\n0               1               0\n1               1               0\n2               0               0\n3               0               1\n4               0               0\n5               1               0",
            "text/html": "<div>\n<table border=\"1\" class=\"dataframe\">\n  <thead>\n    <tr style=\"text-align: right;\">\n      <th></th>\n      <th>cat_producto_b</th>\n      <th>cat_producto_c</th>\n    </tr>\n  </thead>\n  <tbody>\n    <tr>\n      <th>0</th>\n      <td>1</td>\n      <td>0</td>\n    </tr>\n    <tr>\n      <th>1</th>\n      <td>1</td>\n      <td>0</td>\n    </tr>\n    <tr>\n      <th>2</th>\n      <td>0</td>\n      <td>0</td>\n    </tr>\n    <tr>\n      <th>3</th>\n      <td>0</td>\n      <td>1</td>\n    </tr>\n    <tr>\n      <th>4</th>\n      <td>0</td>\n      <td>0</td>\n    </tr>\n    <tr>\n      <th>5</th>\n      <td>1</td>\n      <td>0</td>\n    </tr>\n  </tbody>\n</table>\n</div>"
          },
          "metadata": {}
        }
      ]
    },
    {
      "metadata": {
        "colab": {
          "autoexec": {
            "startup": false,
            "wait_interval": 0
          }
        },
        "colab_type": "code",
        "id": "QRs8bct33uZI",
        "outputId": "8a92b2b2-68a4-45ed-b593-94d48e01bdc8",
        "trusted": true
      },
      "cell_type": "code",
      "source": "# Concatenamos la columna cod_venta\ndf_with_dummy = df[['cod_venta']].join(dummies)\ndf_with_dummy",
      "execution_count": 61,
      "outputs": [
        {
          "output_type": "execute_result",
          "execution_count": 61,
          "data": {
            "text/plain": "   cod_venta  cat_producto_b  cat_producto_c\n0        100               1               0\n1        102               1               0\n2        104               0               0\n3        106               0               1\n4        108               0               0\n5        110               1               0",
            "text/html": "<div>\n<table border=\"1\" class=\"dataframe\">\n  <thead>\n    <tr style=\"text-align: right;\">\n      <th></th>\n      <th>cod_venta</th>\n      <th>cat_producto_b</th>\n      <th>cat_producto_c</th>\n    </tr>\n  </thead>\n  <tbody>\n    <tr>\n      <th>0</th>\n      <td>100</td>\n      <td>1</td>\n      <td>0</td>\n    </tr>\n    <tr>\n      <th>1</th>\n      <td>102</td>\n      <td>1</td>\n      <td>0</td>\n    </tr>\n    <tr>\n      <th>2</th>\n      <td>104</td>\n      <td>0</td>\n      <td>0</td>\n    </tr>\n    <tr>\n      <th>3</th>\n      <td>106</td>\n      <td>0</td>\n      <td>1</td>\n    </tr>\n    <tr>\n      <th>4</th>\n      <td>108</td>\n      <td>0</td>\n      <td>0</td>\n    </tr>\n    <tr>\n      <th>5</th>\n      <td>110</td>\n      <td>1</td>\n      <td>0</td>\n    </tr>\n  </tbody>\n</table>\n</div>"
          },
          "metadata": {}
        }
      ]
    },
    {
      "metadata": {
        "colab_type": "text",
        "id": "JkV3-tXz3uZM"
      },
      "cell_type": "markdown",
      "source": "## Manipulación de strings"
    },
    {
      "metadata": {
        "colab_type": "text",
        "id": "jvJt63eV3uZO"
      },
      "cell_type": "markdown",
      "source": "### String object methods"
    },
    {
      "metadata": {
        "colab_type": "text",
        "id": "FJ65LB7l3uZS"
      },
      "cell_type": "markdown",
      "source": "* `split()` toma un string, lo divide en función de un delimitador (`sep`) y devuelve una lista"
    },
    {
      "metadata": {
        "colab": {
          "autoexec": {
            "startup": false,
            "wait_interval": 0
          }
        },
        "colab_type": "code",
        "id": "RhdoFheQ3uZT",
        "outputId": "83f43365-cdf1-4e71-9d45-567cbe412746",
        "trusted": true
      },
      "cell_type": "code",
      "source": "val = 'a,b,  guido, asjd, kle'\nval.split(',')",
      "execution_count": 62,
      "outputs": [
        {
          "output_type": "execute_result",
          "execution_count": 62,
          "data": {
            "text/plain": "['a', 'b', '  guido', ' asjd', ' kle']"
          },
          "metadata": {}
        }
      ]
    },
    {
      "metadata": {
        "colab_type": "text",
        "id": "Wfaq8Z2Y3uZV"
      },
      "cell_type": "markdown",
      "source": "* `strip()` toma un string y devuelve un string sin los espacios iniciales y finales."
    },
    {
      "metadata": {
        "trusted": true
      },
      "cell_type": "code",
      "source": "# Ejemplos:\n\ntexto = \"   Este es el primer ejemplo....wow!!!   \";\nprint(texto.strip())\n\ntexto1 = \"0000000Este es el segundo ejemplo....wow!!!0000000\";\nprint(texto1.strip( '0' ))",
      "execution_count": 63,
      "outputs": [
        {
          "output_type": "stream",
          "text": "Este es el primer ejemplo....wow!!!\nEste es el segundo ejemplo....wow!!!\n",
          "name": "stdout"
        }
      ]
    },
    {
      "metadata": {
        "colab": {
          "autoexec": {
            "startup": false,
            "wait_interval": 0
          }
        },
        "colab_type": "code",
        "id": "IKHN-08Y3uZW",
        "outputId": "b3b90dbc-e607-456b-cb36-ca95e50cd238",
        "trusted": true
      },
      "cell_type": "code",
      "source": "pieces = [x.strip() for x in val.split(',')]\npieces",
      "execution_count": 64,
      "outputs": [
        {
          "output_type": "execute_result",
          "execution_count": 64,
          "data": {
            "text/plain": "['a', 'b', 'guido', 'asjd', 'kle']"
          },
          "metadata": {}
        }
      ]
    },
    {
      "metadata": {
        "colab_type": "text",
        "id": "0UTTIk_u3uZn"
      },
      "cell_type": "markdown",
      "source": "* `find()` devuelve el índice más bajo dentro de un string en el cual un substring es encontrado. Devuelve -1 si no la encuentra"
    },
    {
      "metadata": {
        "colab": {
          "autoexec": {
            "startup": false,
            "wait_interval": 0
          }
        },
        "colab_type": "code",
        "id": "RXAdPz5Z3uZp",
        "outputId": "42b012c7-1d88-455a-d455-14f5c159b703",
        "trusted": true
      },
      "cell_type": "code",
      "source": "val.find(':')",
      "execution_count": 65,
      "outputs": [
        {
          "output_type": "execute_result",
          "execution_count": 65,
          "data": {
            "text/plain": "-1"
          },
          "metadata": {}
        }
      ]
    },
    {
      "metadata": {
        "trusted": true
      },
      "cell_type": "code",
      "source": "val.find('b')",
      "execution_count": 66,
      "outputs": [
        {
          "output_type": "execute_result",
          "execution_count": 66,
          "data": {
            "text/plain": "2"
          },
          "metadata": {}
        }
      ]
    },
    {
      "metadata": {
        "colab_type": "text",
        "id": "-qhhQlo23uZr"
      },
      "cell_type": "markdown",
      "source": "* `index()` es similar, pero devuelve un `ValueError` cuando no encuentra el substring buscado"
    },
    {
      "metadata": {
        "colab": {
          "autoexec": {
            "startup": false,
            "wait_interval": 0
          }
        },
        "colab_type": "code",
        "id": "kMb3Dd963uZs",
        "outputId": "1c71d705-d320-46af-d06e-93c7de9e63bf",
        "trusted": true
      },
      "cell_type": "code",
      "source": "val.index(',')",
      "execution_count": 67,
      "outputs": [
        {
          "output_type": "execute_result",
          "execution_count": 67,
          "data": {
            "text/plain": "1"
          },
          "metadata": {}
        }
      ]
    },
    {
      "metadata": {
        "trusted": true
      },
      "cell_type": "code",
      "source": "# Genera un error si no encuentra el substring\n\ntry:\n    val.index(':')\nexcept:\n    print(\"Error, substring no encontrado!\")",
      "execution_count": 68,
      "outputs": [
        {
          "output_type": "stream",
          "text": "Error, substring no encontrado!\n",
          "name": "stdout"
        }
      ]
    },
    {
      "metadata": {
        "colab_type": "text",
        "id": "-YmKvAAN3uZ4"
      },
      "cell_type": "markdown",
      "source": "* `count()` cuenta la ocurrencia de un substring determinado en un string mayor."
    },
    {
      "metadata": {
        "colab": {
          "autoexec": {
            "startup": false,
            "wait_interval": 0
          }
        },
        "colab_type": "code",
        "id": "mjT0qp8r3uZ5",
        "outputId": "5f170afa-a325-4364-9a1f-6e937f1adeac",
        "trusted": true
      },
      "cell_type": "code",
      "source": "val.count(',')",
      "execution_count": 69,
      "outputs": [
        {
          "output_type": "execute_result",
          "execution_count": 69,
          "data": {
            "text/plain": "4"
          },
          "metadata": {}
        }
      ]
    },
    {
      "metadata": {
        "colab_type": "text",
        "id": "rCPXToOS3uZ-"
      },
      "cell_type": "markdown",
      "source": "* `replace()` reemplaza un substring por otro."
    },
    {
      "metadata": {
        "colab": {
          "autoexec": {
            "startup": false,
            "wait_interval": 0
          }
        },
        "colab_type": "code",
        "id": "DG6ChQ-w3uZ_",
        "outputId": "46ca0963-ad03-4812-8d7a-3d3a75b79f37",
        "trusted": true
      },
      "cell_type": "code",
      "source": "val.replace(',', ';')",
      "execution_count": 70,
      "outputs": [
        {
          "output_type": "execute_result",
          "execution_count": 70,
          "data": {
            "text/plain": "'a;b;  guido; asjd; kle'"
          },
          "metadata": {}
        }
      ]
    },
    {
      "metadata": {
        "colab_type": "text",
        "id": "rxtF4_OE3uaC"
      },
      "cell_type": "markdown",
      "source": "### Funciones vectorizadas para strings en Pandas"
    },
    {
      "metadata": {
        "colab": {
          "autoexec": {
            "startup": false,
            "wait_interval": 0
          }
        },
        "colab_type": "code",
        "id": "MZ4Po0jc3uaC",
        "trusted": true
      },
      "cell_type": "code",
      "source": "import re\ndata = {'Dave': 'dave@google.com', 'Steve': 'steve@gmail.com',\n        'Rob': 'rob@gmail.com', 'Wes': np.nan}\n\ndata = pd.Series(data)",
      "execution_count": 71,
      "outputs": []
    },
    {
      "metadata": {
        "colab": {
          "autoexec": {
            "startup": false,
            "wait_interval": 0
          }
        },
        "colab_type": "code",
        "id": "bRLhrNNS3uaF",
        "outputId": "925a8a1c-976a-4bbe-ff61-61193e357a99",
        "trusted": true
      },
      "cell_type": "code",
      "source": "data",
      "execution_count": 72,
      "outputs": [
        {
          "output_type": "execute_result",
          "execution_count": 72,
          "data": {
            "text/plain": "Dave     dave@google.com\nRob        rob@gmail.com\nSteve    steve@gmail.com\nWes                  NaN\ndtype: object"
          },
          "metadata": {}
        }
      ]
    },
    {
      "metadata": {
        "colab": {
          "autoexec": {
            "startup": false,
            "wait_interval": 0
          }
        },
        "colab_type": "code",
        "id": "_rx-AHYC3uaJ",
        "outputId": "134df876-7df0-4605-ee34-2c078c8d2a1f",
        "trusted": true
      },
      "cell_type": "code",
      "source": "data.isnull()",
      "execution_count": 73,
      "outputs": [
        {
          "output_type": "execute_result",
          "execution_count": 73,
          "data": {
            "text/plain": "Dave     False\nRob      False\nSteve    False\nWes       True\ndtype: bool"
          },
          "metadata": {}
        }
      ]
    },
    {
      "metadata": {
        "colab": {
          "autoexec": {
            "startup": false,
            "wait_interval": 0
          }
        },
        "colab_type": "code",
        "id": "_nPtooJj3uaO",
        "trusted": true
      },
      "cell_type": "code",
      "source": "pattern = r'\\w+'",
      "execution_count": 74,
      "outputs": []
    },
    {
      "metadata": {
        "colab": {
          "autoexec": {
            "startup": false,
            "wait_interval": 0
          }
        },
        "colab_type": "code",
        "id": "uNlp9Cbp3uaZ",
        "outputId": "d01c5c51-2ba6-4bc7-f927-963b20b74d5d",
        "trusted": true
      },
      "cell_type": "code",
      "source": "data.str.findall(pattern, flags=re.IGNORECASE)[0][-1]",
      "execution_count": 75,
      "outputs": [
        {
          "output_type": "execute_result",
          "execution_count": 75,
          "data": {
            "text/plain": "'com'"
          },
          "metadata": {}
        }
      ]
    },
    {
      "metadata": {
        "colab": {
          "autoexec": {
            "startup": false,
            "wait_interval": 0
          }
        },
        "colab_type": "code",
        "id": "mtb7melN3uag",
        "outputId": "1bdfb2c9-b877-4240-99d0-ec0e3afcb28e",
        "trusted": true
      },
      "cell_type": "code",
      "source": "matches = data.str.match(pattern, flags=re.IGNORECASE)\nmatches",
      "execution_count": 76,
      "outputs": [
        {
          "output_type": "execute_result",
          "execution_count": 76,
          "data": {
            "text/plain": "Dave     True\nRob      True\nSteve    True\nWes       NaN\ndtype: object"
          },
          "metadata": {}
        }
      ]
    },
    {
      "metadata": {
        "colab_type": "text",
        "id": "Q1X_QBVs3uap"
      },
      "cell_type": "markdown",
      "source": "### Ejemplo: Dataset movies"
    },
    {
      "metadata": {
        "colab": {
          "autoexec": {
            "startup": false,
            "wait_interval": 0
          }
        },
        "colab_type": "code",
        "id": "4yaWX38O3uau",
        "outputId": "6cb58151-a8e6-4381-b014-d29d273fc45d",
        "trusted": true
      },
      "cell_type": "code",
      "source": "mnames = ['movie_id', 'title', 'genres']\nmovies = pd.read_csv('movies.csv', header=None,\n                        names=mnames, encoding=\"latin9\", sep=';')\nmovies[:10]",
      "execution_count": 77,
      "outputs": [
        {
          "output_type": "error",
          "ename": "FileNotFoundError",
          "evalue": "File b'movies.csv' does not exist",
          "traceback": [
            "\u001b[0;31m---------------------------------------------------------------------------\u001b[0m",
            "\u001b[0;31mFileNotFoundError\u001b[0m                         Traceback (most recent call last)",
            "\u001b[0;32m<ipython-input-77-b947db6969eb>\u001b[0m in \u001b[0;36m<module>\u001b[0;34m()\u001b[0m\n\u001b[1;32m      1\u001b[0m \u001b[0mmnames\u001b[0m \u001b[0;34m=\u001b[0m \u001b[0;34m[\u001b[0m\u001b[0;34m'movie_id'\u001b[0m\u001b[0;34m,\u001b[0m \u001b[0;34m'title'\u001b[0m\u001b[0;34m,\u001b[0m \u001b[0;34m'genres'\u001b[0m\u001b[0;34m]\u001b[0m\u001b[0;34m\u001b[0m\u001b[0m\n\u001b[1;32m      2\u001b[0m movies = pd.read_csv('movies.csv', header=None,\n\u001b[0;32m----> 3\u001b[0;31m                         names=mnames, encoding=\"latin9\", sep=';')\n\u001b[0m\u001b[1;32m      4\u001b[0m \u001b[0mmovies\u001b[0m\u001b[0;34m[\u001b[0m\u001b[0;34m:\u001b[0m\u001b[0;36m10\u001b[0m\u001b[0;34m]\u001b[0m\u001b[0;34m\u001b[0m\u001b[0m\n",
            "\u001b[0;32m~/anaconda3_420/lib/python3.5/site-packages/pandas/io/parsers.py\u001b[0m in \u001b[0;36mparser_f\u001b[0;34m(filepath_or_buffer, sep, delimiter, header, names, index_col, usecols, squeeze, prefix, mangle_dupe_cols, dtype, engine, converters, true_values, false_values, skipinitialspace, skiprows, nrows, na_values, keep_default_na, na_filter, verbose, skip_blank_lines, parse_dates, infer_datetime_format, keep_date_col, date_parser, dayfirst, iterator, chunksize, compression, thousands, decimal, lineterminator, quotechar, quoting, escapechar, comment, encoding, dialect, tupleize_cols, error_bad_lines, warn_bad_lines, skipfooter, skip_footer, doublequote, delim_whitespace, as_recarray, compact_ints, use_unsigned, low_memory, buffer_lines, memory_map, float_precision)\u001b[0m\n\u001b[1;32m    644\u001b[0m                     skip_blank_lines=skip_blank_lines)\n\u001b[1;32m    645\u001b[0m \u001b[0;34m\u001b[0m\u001b[0m\n\u001b[0;32m--> 646\u001b[0;31m         \u001b[0;32mreturn\u001b[0m \u001b[0m_read\u001b[0m\u001b[0;34m(\u001b[0m\u001b[0mfilepath_or_buffer\u001b[0m\u001b[0;34m,\u001b[0m \u001b[0mkwds\u001b[0m\u001b[0;34m)\u001b[0m\u001b[0;34m\u001b[0m\u001b[0m\n\u001b[0m\u001b[1;32m    647\u001b[0m \u001b[0;34m\u001b[0m\u001b[0m\n\u001b[1;32m    648\u001b[0m     \u001b[0mparser_f\u001b[0m\u001b[0;34m.\u001b[0m\u001b[0m__name__\u001b[0m \u001b[0;34m=\u001b[0m \u001b[0mname\u001b[0m\u001b[0;34m\u001b[0m\u001b[0m\n",
            "\u001b[0;32m~/anaconda3_420/lib/python3.5/site-packages/pandas/io/parsers.py\u001b[0m in \u001b[0;36m_read\u001b[0;34m(filepath_or_buffer, kwds)\u001b[0m\n\u001b[1;32m    387\u001b[0m \u001b[0;34m\u001b[0m\u001b[0m\n\u001b[1;32m    388\u001b[0m     \u001b[0;31m# Create the parser.\u001b[0m\u001b[0;34m\u001b[0m\u001b[0;34m\u001b[0m\u001b[0m\n\u001b[0;32m--> 389\u001b[0;31m     \u001b[0mparser\u001b[0m \u001b[0;34m=\u001b[0m \u001b[0mTextFileReader\u001b[0m\u001b[0;34m(\u001b[0m\u001b[0mfilepath_or_buffer\u001b[0m\u001b[0;34m,\u001b[0m \u001b[0;34m**\u001b[0m\u001b[0mkwds\u001b[0m\u001b[0;34m)\u001b[0m\u001b[0;34m\u001b[0m\u001b[0m\n\u001b[0m\u001b[1;32m    390\u001b[0m \u001b[0;34m\u001b[0m\u001b[0m\n\u001b[1;32m    391\u001b[0m     \u001b[0;32mif\u001b[0m \u001b[0;34m(\u001b[0m\u001b[0mnrows\u001b[0m \u001b[0;32mis\u001b[0m \u001b[0;32mnot\u001b[0m \u001b[0;32mNone\u001b[0m\u001b[0;34m)\u001b[0m \u001b[0;32mand\u001b[0m \u001b[0;34m(\u001b[0m\u001b[0mchunksize\u001b[0m \u001b[0;32mis\u001b[0m \u001b[0;32mnot\u001b[0m \u001b[0;32mNone\u001b[0m\u001b[0;34m)\u001b[0m\u001b[0;34m:\u001b[0m\u001b[0;34m\u001b[0m\u001b[0m\n",
            "\u001b[0;32m~/anaconda3_420/lib/python3.5/site-packages/pandas/io/parsers.py\u001b[0m in \u001b[0;36m__init__\u001b[0;34m(self, f, engine, **kwds)\u001b[0m\n\u001b[1;32m    728\u001b[0m             \u001b[0mself\u001b[0m\u001b[0;34m.\u001b[0m\u001b[0moptions\u001b[0m\u001b[0;34m[\u001b[0m\u001b[0;34m'has_index_names'\u001b[0m\u001b[0;34m]\u001b[0m \u001b[0;34m=\u001b[0m \u001b[0mkwds\u001b[0m\u001b[0;34m[\u001b[0m\u001b[0;34m'has_index_names'\u001b[0m\u001b[0;34m]\u001b[0m\u001b[0;34m\u001b[0m\u001b[0m\n\u001b[1;32m    729\u001b[0m \u001b[0;34m\u001b[0m\u001b[0m\n\u001b[0;32m--> 730\u001b[0;31m         \u001b[0mself\u001b[0m\u001b[0;34m.\u001b[0m\u001b[0m_make_engine\u001b[0m\u001b[0;34m(\u001b[0m\u001b[0mself\u001b[0m\u001b[0;34m.\u001b[0m\u001b[0mengine\u001b[0m\u001b[0;34m)\u001b[0m\u001b[0;34m\u001b[0m\u001b[0m\n\u001b[0m\u001b[1;32m    731\u001b[0m \u001b[0;34m\u001b[0m\u001b[0m\n\u001b[1;32m    732\u001b[0m     \u001b[0;32mdef\u001b[0m \u001b[0mclose\u001b[0m\u001b[0;34m(\u001b[0m\u001b[0mself\u001b[0m\u001b[0;34m)\u001b[0m\u001b[0;34m:\u001b[0m\u001b[0;34m\u001b[0m\u001b[0m\n",
            "\u001b[0;32m~/anaconda3_420/lib/python3.5/site-packages/pandas/io/parsers.py\u001b[0m in \u001b[0;36m_make_engine\u001b[0;34m(self, engine)\u001b[0m\n\u001b[1;32m    921\u001b[0m     \u001b[0;32mdef\u001b[0m \u001b[0m_make_engine\u001b[0m\u001b[0;34m(\u001b[0m\u001b[0mself\u001b[0m\u001b[0;34m,\u001b[0m \u001b[0mengine\u001b[0m\u001b[0;34m=\u001b[0m\u001b[0;34m'c'\u001b[0m\u001b[0;34m)\u001b[0m\u001b[0;34m:\u001b[0m\u001b[0;34m\u001b[0m\u001b[0m\n\u001b[1;32m    922\u001b[0m         \u001b[0;32mif\u001b[0m \u001b[0mengine\u001b[0m \u001b[0;34m==\u001b[0m \u001b[0;34m'c'\u001b[0m\u001b[0;34m:\u001b[0m\u001b[0;34m\u001b[0m\u001b[0m\n\u001b[0;32m--> 923\u001b[0;31m             \u001b[0mself\u001b[0m\u001b[0;34m.\u001b[0m\u001b[0m_engine\u001b[0m \u001b[0;34m=\u001b[0m \u001b[0mCParserWrapper\u001b[0m\u001b[0;34m(\u001b[0m\u001b[0mself\u001b[0m\u001b[0;34m.\u001b[0m\u001b[0mf\u001b[0m\u001b[0;34m,\u001b[0m \u001b[0;34m**\u001b[0m\u001b[0mself\u001b[0m\u001b[0;34m.\u001b[0m\u001b[0moptions\u001b[0m\u001b[0;34m)\u001b[0m\u001b[0;34m\u001b[0m\u001b[0m\n\u001b[0m\u001b[1;32m    924\u001b[0m         \u001b[0;32melse\u001b[0m\u001b[0;34m:\u001b[0m\u001b[0;34m\u001b[0m\u001b[0m\n\u001b[1;32m    925\u001b[0m             \u001b[0;32mif\u001b[0m \u001b[0mengine\u001b[0m \u001b[0;34m==\u001b[0m \u001b[0;34m'python'\u001b[0m\u001b[0;34m:\u001b[0m\u001b[0;34m\u001b[0m\u001b[0m\n",
            "\u001b[0;32m~/anaconda3_420/lib/python3.5/site-packages/pandas/io/parsers.py\u001b[0m in \u001b[0;36m__init__\u001b[0;34m(self, src, **kwds)\u001b[0m\n\u001b[1;32m   1388\u001b[0m         \u001b[0mkwds\u001b[0m\u001b[0;34m[\u001b[0m\u001b[0;34m'allow_leading_cols'\u001b[0m\u001b[0;34m]\u001b[0m \u001b[0;34m=\u001b[0m \u001b[0mself\u001b[0m\u001b[0;34m.\u001b[0m\u001b[0mindex_col\u001b[0m \u001b[0;32mis\u001b[0m \u001b[0;32mnot\u001b[0m \u001b[0;32mFalse\u001b[0m\u001b[0;34m\u001b[0m\u001b[0m\n\u001b[1;32m   1389\u001b[0m \u001b[0;34m\u001b[0m\u001b[0m\n\u001b[0;32m-> 1390\u001b[0;31m         \u001b[0mself\u001b[0m\u001b[0;34m.\u001b[0m\u001b[0m_reader\u001b[0m \u001b[0;34m=\u001b[0m \u001b[0m_parser\u001b[0m\u001b[0;34m.\u001b[0m\u001b[0mTextReader\u001b[0m\u001b[0;34m(\u001b[0m\u001b[0msrc\u001b[0m\u001b[0;34m,\u001b[0m \u001b[0;34m**\u001b[0m\u001b[0mkwds\u001b[0m\u001b[0;34m)\u001b[0m\u001b[0;34m\u001b[0m\u001b[0m\n\u001b[0m\u001b[1;32m   1391\u001b[0m \u001b[0;34m\u001b[0m\u001b[0m\n\u001b[1;32m   1392\u001b[0m         \u001b[0;31m# XXX\u001b[0m\u001b[0;34m\u001b[0m\u001b[0;34m\u001b[0m\u001b[0m\n",
            "\u001b[0;32mpandas/parser.pyx\u001b[0m in \u001b[0;36mpandas.parser.TextReader.__cinit__ (pandas/parser.c:4184)\u001b[0;34m()\u001b[0m\n",
            "\u001b[0;32mpandas/parser.pyx\u001b[0m in \u001b[0;36mpandas.parser.TextReader._setup_parser_source (pandas/parser.c:8449)\u001b[0;34m()\u001b[0m\n",
            "\u001b[0;31mFileNotFoundError\u001b[0m: File b'movies.csv' does not exist"
          ]
        }
      ]
    },
    {
      "metadata": {
        "colab": {
          "autoexec": {
            "startup": false,
            "wait_interval": 0
          }
        },
        "colab_type": "code",
        "id": "MApVK9YX3uaw",
        "outputId": "d067d384-98de-40cd-f47d-949749646fd3",
        "trusted": true
      },
      "cell_type": "code",
      "source": "lista = [sublista.split('|') for sublista in movies.genres]\nlista[:10]",
      "execution_count": null,
      "outputs": []
    },
    {
      "metadata": {
        "colab": {
          "autoexec": {
            "startup": false,
            "wait_interval": 0
          }
        },
        "colab_type": "code",
        "id": "-3a4jB_83ua2",
        "outputId": "66720e7b-a69c-41e5-ee3a-7ec71054dcfe",
        "trusted": true
      },
      "cell_type": "code",
      "source": "# Aplanamos la lista anterior\ngenres = sorted(set([item for s in lista for item in s]))\ngenres",
      "execution_count": null,
      "outputs": []
    },
    {
      "metadata": {
        "colab": {
          "autoexec": {
            "startup": false,
            "wait_interval": 0
          }
        },
        "colab_type": "code",
        "id": "6BsCodEs3ua4",
        "outputId": "fd29e612-9e9a-44c9-d27e-10af12308beb",
        "trusted": true
      },
      "cell_type": "code",
      "source": "# Creamos un DataFrame vacío para asociar los géneros correspondientes a cada película\ndummies = pd.DataFrame(np.zeros((len(movies), len(genres)), dtype=int), columns=genres)\ndummies.head()",
      "execution_count": null,
      "outputs": []
    },
    {
      "metadata": {
        "colab": {
          "autoexec": {
            "startup": false,
            "wait_interval": 0
          }
        },
        "colab_type": "code",
        "id": "BseWc5gB3ua8",
        "trusted": true
      },
      "cell_type": "code",
      "source": "# Codifica las categorías como dummies. Escribe un 1 donde corresponde\nfor i, gen in enumerate(movies.genres):\n    dummies.loc[i, gen.split('|')] = 1",
      "execution_count": null,
      "outputs": []
    },
    {
      "metadata": {
        "colab": {
          "autoexec": {
            "startup": false,
            "wait_interval": 0
          }
        },
        "colab_type": "code",
        "id": "bLxQ64sZ3ua-",
        "outputId": "6811c3f5-a863-4541-e85f-f5cfc7833b11",
        "trusted": true
      },
      "cell_type": "code",
      "source": "dummies.head()",
      "execution_count": null,
      "outputs": []
    },
    {
      "metadata": {
        "colab": {
          "autoexec": {
            "startup": false,
            "wait_interval": 0
          }
        },
        "colab_type": "code",
        "id": "x5D0V63b3ubE",
        "outputId": "640647b5-50e1-4323-edc8-b72e62a85ae7",
        "trusted": true
      },
      "cell_type": "code",
      "source": "movies_final = movies.join(dummies.add_prefix('Genre_'))\nmovies_final.head()",
      "execution_count": null,
      "outputs": []
    },
    {
      "metadata": {
        "trusted": true
      },
      "cell_type": "code",
      "source": "",
      "execution_count": null,
      "outputs": []
    }
  ],
  "metadata": {
    "colab": {
      "collapsed_sections": [],
      "default_view": {},
      "name": "1.PRACTICA_GUIADA_Data_Wrangling.ipynb",
      "provenance": [],
      "version": "0.3.2",
      "views": {}
    },
    "kernelspec": {
      "name": "python3",
      "display_name": "Python 3",
      "language": "python"
    },
    "language_info": {
      "mimetype": "text/x-python",
      "nbconvert_exporter": "python",
      "name": "python",
      "file_extension": ".py",
      "version": "3.5.4",
      "pygments_lexer": "ipython3",
      "codemirror_mode": {
        "version": 3,
        "name": "ipython"
      }
    }
  },
  "nbformat": 4,
  "nbformat_minor": 1
}