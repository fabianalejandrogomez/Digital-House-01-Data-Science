{
 "cells": [
  {
   "cell_type": "markdown",
   "metadata": {
    "colab_type": "text",
    "id": "0eYH0GHc3uc5"
   },
   "source": [
    "## Manejo del tiempo en Pandas"
   ]
  },
  {
   "cell_type": "markdown",
   "metadata": {
    "colab_type": "text",
    "id": "s3-ihUwo3uc6"
   },
   "source": [
    "### Timestamps"
   ]
  },
  {
   "cell_type": "code",
   "execution_count": null,
   "metadata": {
    "colab": {
     "autoexec": {
      "startup": false,
      "wait_interval": 0
     }
    },
    "colab_type": "code",
    "id": "g_IQDnt73uc8"
   },
   "outputs": [],
   "source": [
    "import pandas as pd"
   ]
  },
  {
   "cell_type": "code",
   "execution_count": null,
   "metadata": {
    "colab": {
     "autoexec": {
      "startup": false,
      "wait_interval": 0
     }
    },
    "colab_type": "code",
    "id": "4pS_Dus13udD",
    "outputId": "f3c15517-3e2e-4264-f5ff-2f91d634d8e7"
   },
   "outputs": [],
   "source": [
    "pd.Timestamp('2017-09-01')"
   ]
  },
  {
   "cell_type": "code",
   "execution_count": null,
   "metadata": {},
   "outputs": [],
   "source": [
    "pd.Timestamp(2017,11,29,13,45)"
   ]
  },
  {
   "cell_type": "code",
   "execution_count": null,
   "metadata": {
    "colab": {
     "autoexec": {
      "startup": false,
      "wait_interval": 0
     }
    },
    "colab_type": "code",
    "id": "FGDOJDjR3udL",
    "outputId": "2f58b101-ccc4-427e-ffd2-8f4f54498b74"
   },
   "outputs": [],
   "source": [
    "pd.Timestamp('9/1/2017 10:05AM')"
   ]
  },
  {
   "cell_type": "code",
   "execution_count": null,
   "metadata": {
    "colab": {
     "autoexec": {
      "startup": false,
      "wait_interval": 0
     }
    },
    "colab_type": "code",
    "id": "fUmXEMLh3udR",
    "outputId": "317a8cca-f5fb-472e-de31-6b6e7fb7559b"
   },
   "outputs": [],
   "source": [
    "pd.to_datetime('20170901 100500', format='%Y%m%d %H%M%S')"
   ]
  },
  {
   "cell_type": "markdown",
   "metadata": {
    "colab_type": "text",
    "id": "BUtdNBUj3udc"
   },
   "source": [
    "### Period"
   ]
  },
  {
   "cell_type": "code",
   "execution_count": null,
   "metadata": {
    "colab": {
     "autoexec": {
      "startup": false,
      "wait_interval": 0
     }
    },
    "colab_type": "code",
    "id": "0d9OUmvk3ude",
    "outputId": "7be75f0c-9c40-4f58-c19c-5c1d8f54ac76"
   },
   "outputs": [],
   "source": [
    "pd.Period('1/2016')"
   ]
  },
  {
   "cell_type": "code",
   "execution_count": null,
   "metadata": {
    "colab": {
     "autoexec": {
      "startup": false,
      "wait_interval": 0
     }
    },
    "colab_type": "code",
    "id": "DBwcS6Ov3udm",
    "outputId": "b4e0cd17-dcb5-4892-a8a6-b25deb86e513"
   },
   "outputs": [],
   "source": [
    "pd.Period('3/5/2016')"
   ]
  },
  {
   "cell_type": "markdown",
   "metadata": {
    "colab_type": "text",
    "id": "GOeie9vM3udv"
   },
   "source": [
    "### Datetimeindex"
   ]
  },
  {
   "cell_type": "code",
   "execution_count": null,
   "metadata": {
    "colab": {
     "autoexec": {
      "startup": false,
      "wait_interval": 0
     }
    },
    "colab_type": "code",
    "id": "iMMWcp1n3udv",
    "outputId": "bab4cd9c-4807-4d1e-b73a-c9dd2256cb37"
   },
   "outputs": [],
   "source": [
    "t1 = pd.Series(list('abc'), [pd.Timestamp('2016-09-01'),\\\n",
    "                             pd.Timestamp('2016-09-02'),\\\n",
    "                             pd.Timestamp('2016-09-03')])\n",
    "t1"
   ]
  },
  {
   "cell_type": "code",
   "execution_count": null,
   "metadata": {
    "colab": {
     "autoexec": {
      "startup": false,
      "wait_interval": 0
     }
    },
    "colab_type": "code",
    "id": "vtLWZF3-3ud2",
    "outputId": "f23b3c20-6da7-476f-9e08-730cff6b326f"
   },
   "outputs": [],
   "source": [
    "type(t1.index)"
   ]
  },
  {
   "cell_type": "markdown",
   "metadata": {
    "colab_type": "text",
    "id": "-06Xcfb_3ud8"
   },
   "source": [
    "### Convirtiendo a DateTime"
   ]
  },
  {
   "cell_type": "code",
   "execution_count": null,
   "metadata": {
    "colab": {
     "autoexec": {
      "startup": false,
      "wait_interval": 0
     }
    },
    "colab_type": "code",
    "id": "yyvm8Qn13ud9",
    "outputId": "8bd97ee2-3a68-4858-8bbc-e1c3ccec70a9"
   },
   "outputs": [],
   "source": [
    "import numpy as np\n",
    "d1 = ['2 June 2013', 'Aug 29, 2014', '2015-06-26', '7/12/16']\n",
    "ts3 = pd.DataFrame(np.random.randint(10, 100, (4,2)), index=d1, columns=list('ab'))\n",
    "ts3"
   ]
  },
  {
   "cell_type": "code",
   "execution_count": null,
   "metadata": {
    "colab": {
     "autoexec": {
      "startup": false,
      "wait_interval": 0
     }
    },
    "colab_type": "code",
    "id": "Y7y2cO0b3ueC",
    "outputId": "d764ff4a-24dc-4644-992d-e269070df8a5"
   },
   "outputs": [],
   "source": [
    "type(ts3.index)"
   ]
  },
  {
   "cell_type": "code",
   "execution_count": null,
   "metadata": {
    "colab": {
     "autoexec": {
      "startup": false,
      "wait_interval": 0
     }
    },
    "colab_type": "code",
    "id": "Tv7b0p8j3ueL",
    "outputId": "3e68134e-ef46-4e1a-acb6-e39d3bbc5100"
   },
   "outputs": [],
   "source": [
    "ts3.index = pd.to_datetime(ts3.index)\n",
    "ts3.index, type(ts3.index)"
   ]
  },
  {
   "cell_type": "code",
   "execution_count": null,
   "metadata": {},
   "outputs": [],
   "source": [
    "ts3"
   ]
  },
  {
   "cell_type": "markdown",
   "metadata": {
    "colab_type": "text",
    "id": "h4TTXLSd3ueU"
   },
   "source": [
    "### TimeDeltas"
   ]
  },
  {
   "cell_type": "code",
   "execution_count": null,
   "metadata": {
    "colab": {
     "autoexec": {
      "startup": false,
      "wait_interval": 0
     }
    },
    "colab_type": "code",
    "id": "gCNoH3rR3ueU",
    "outputId": "a0f828a0-61b6-4936-d041-fcb08f8e2ca9"
   },
   "outputs": [],
   "source": [
    "pd.Timestamp('9/3/2016')-pd.Timestamp('9/1/2016')"
   ]
  },
  {
   "cell_type": "code",
   "execution_count": null,
   "metadata": {},
   "outputs": [],
   "source": [
    "pd.Period('5/2017') - pd.Period('3/2016')"
   ]
  },
  {
   "cell_type": "code",
   "execution_count": null,
   "metadata": {
    "colab": {
     "autoexec": {
      "startup": false,
      "wait_interval": 0
     }
    },
    "colab_type": "code",
    "id": "lOnX98GZ3ued",
    "outputId": "aa3fd26a-eadc-4fc2-d042-e75ecf439391"
   },
   "outputs": [],
   "source": [
    "pd.Timestamp('9/2/2016 8:10AM') + pd.Timedelta('12D')"
   ]
  },
  {
   "cell_type": "markdown",
   "metadata": {
    "colab_type": "text",
    "id": "7KK9AMm83uei"
   },
   "source": [
    "### Fechas en DataFrames"
   ]
  },
  {
   "cell_type": "code",
   "execution_count": null,
   "metadata": {
    "colab": {
     "autoexec": {
      "startup": false,
      "wait_interval": 0
     }
    },
    "colab_type": "code",
    "id": "3MnvD70T3uej",
    "outputId": "d52eda1c-7dbc-4ad8-b6be-ee50e83322b7"
   },
   "outputs": [],
   "source": [
    "dates = pd.date_range('2017-04-06', periods=4, freq='D')\n",
    "dates"
   ]
  },
  {
   "cell_type": "code",
   "execution_count": null,
   "metadata": {},
   "outputs": [],
   "source": [
    "dates = pd.date_range('2017-04-06', periods=4, freq='M')\n",
    "dates"
   ]
  },
  {
   "cell_type": "code",
   "execution_count": null,
   "metadata": {},
   "outputs": [],
   "source": [
    "dates = pd.date_range('2017-04-06', periods=4, freq='2W-THU')\n",
    "dates"
   ]
  },
  {
   "cell_type": "code",
   "execution_count": null,
   "metadata": {
    "colab": {
     "autoexec": {
      "startup": false,
      "wait_interval": 0
     }
    },
    "colab_type": "code",
    "id": "MbGveUO03uen",
    "outputId": "cf9fdd4e-565c-4858-9dc0-2a2ba341531b"
   },
   "outputs": [],
   "source": [
    "df = pd.DataFrame({'Count 1': 100 + np.random.randint(-5, 10, 4).cumsum(),\n",
    "                  'Count 2': 120 + np.random.randint(-5, 10, 4)}, index=dates)\n",
    "df"
   ]
  },
  {
   "cell_type": "code",
   "execution_count": null,
   "metadata": {
    "colab": {
     "autoexec": {
      "startup": false,
      "wait_interval": 0
     }
    },
    "colab_type": "code",
    "id": "ETWUsZ6X3uer",
    "outputId": "81e3d2f2-90c1-4cfa-e627-9f710b18333b"
   },
   "outputs": [],
   "source": [
    "df['Count 1'].shift()"
   ]
  },
  {
   "cell_type": "code",
   "execution_count": null,
   "metadata": {
    "colab": {
     "autoexec": {
      "startup": false,
      "wait_interval": 0
     }
    },
    "colab_type": "code",
    "id": "lcrAMgum3uex",
    "outputId": "25655231-62fd-4e83-a786-da854d3f7d66"
   },
   "outputs": [],
   "source": [
    "df.diff()"
   ]
  },
  {
   "cell_type": "code",
   "execution_count": null,
   "metadata": {},
   "outputs": [],
   "source": [
    "df.diff(2)"
   ]
  },
  {
   "cell_type": "code",
   "execution_count": null,
   "metadata": {
    "colab": {
     "autoexec": {
      "startup": false,
      "wait_interval": 0
     }
    },
    "colab_type": "code",
    "id": "3xkGiFDw3ue4",
    "outputId": "5f376d05-cb1d-4f8c-e110-e828e9be3b8d"
   },
   "outputs": [],
   "source": [
    "df.index.weekday_name"
   ]
  },
  {
   "cell_type": "code",
   "execution_count": null,
   "metadata": {
    "colab": {
     "autoexec": {
      "startup": false,
      "wait_interval": 0
     }
    },
    "colab_type": "code",
    "id": "z8G3JKK-3ue8",
    "outputId": "75a5b5b7-baf4-4b6f-f636-20c08ae6dd12"
   },
   "outputs": [],
   "source": [
    "df['2017-04']"
   ]
  },
  {
   "cell_type": "markdown",
   "metadata": {
    "colab_type": "text",
    "id": "0eq3k-4f6Jn6"
   },
   "source": [
    " ##  Trabajo con series de tiempo: calcular variaciones con shift()\n",
    "\n",
    "Cuando se trabaja con series de tiempo, es muy habitual trabajar agregar al dataframe una variable que indique cuánto se modificó determinado valor desde la última medición."
   ]
  },
  {
   "cell_type": "code",
   "execution_count": null,
   "metadata": {
    "colab": {
     "autoexec": {
      "startup": false,
      "wait_interval": 0
     }
    },
    "colab_type": "code",
    "id": "XNWIhXaPAV95"
   },
   "outputs": [],
   "source": [
    "#Creamos el dataframe\n",
    "df= pd.DataFrame()\n",
    "# Agregamos las series de datos\n",
    "df['hora']=['10:30','10:31','10:38','10:40','10:41']\n",
    "df['cantidad']=[20,20,9,12,12]\n",
    "df"
   ]
  },
  {
   "cell_type": "code",
   "execution_count": null,
   "metadata": {},
   "outputs": [],
   "source": [
    "df['hora'] = df['hora'].apply(lambda x: pd.to_datetime(x))"
   ]
  },
  {
   "cell_type": "code",
   "execution_count": null,
   "metadata": {},
   "outputs": [],
   "source": [
    "df['hora'].dtype"
   ]
  },
  {
   "cell_type": "code",
   "execution_count": null,
   "metadata": {},
   "outputs": [],
   "source": [
    "df.diff()"
   ]
  },
  {
   "cell_type": "code",
   "execution_count": null,
   "metadata": {
    "colab": {
     "autoexec": {
      "startup": false,
      "wait_interval": 0
     }
    },
    "colab_type": "code",
    "id": "WFHg3YiCAWxF"
   },
   "outputs": [],
   "source": [
    "df['cantidad_anterior'] = df['cantidad'].shift(1)\n",
    "df"
   ]
  },
  {
   "cell_type": "code",
   "execution_count": null,
   "metadata": {
    "colab": {
     "autoexec": {
      "startup": false,
      "wait_interval": 0
     }
    },
    "colab_type": "code",
    "id": "vfZyGEWqAYye"
   },
   "outputs": [],
   "source": [
    "df['variacion'] = df['cantidad'] - df['cantidad_anterior']"
   ]
  },
  {
   "cell_type": "code",
   "execution_count": null,
   "metadata": {
    "colab": {
     "autoexec": {
      "startup": false,
      "wait_interval": 0
     }
    },
    "colab_type": "code",
    "id": "bONR3m4vAcbe"
   },
   "outputs": [],
   "source": [
    "df"
   ]
  },
  {
   "cell_type": "markdown",
   "metadata": {
    "colab_type": "text",
    "id": "9TM2iwHMAk0j"
   },
   "source": [
    "### Variaciones con agrupamiento\n",
    "\n",
    "Es muy habitual tener que calcular esto mismo pero por cada individuo o categoría que interesa estudiar "
   ]
  },
  {
   "cell_type": "code",
   "execution_count": null,
   "metadata": {
    "colab": {
     "autoexec": {
      "startup": false,
      "wait_interval": 0
     }
    },
    "colab_type": "code",
    "id": "pu3FG80UAm-e"
   },
   "outputs": [],
   "source": [
    "df=pd.DataFrame()\n",
    "df['operador']=['Q8','Q8','Q8','Q7','Q9','Q9']\n",
    "df['hora']=['10:30','10:31','10:32','10:38','10:40','10:41']\n",
    "df['cantidad']=[15,20,10,9,12,12]\n",
    "df"
   ]
  },
  {
   "cell_type": "code",
   "execution_count": null,
   "metadata": {
    "colab": {
     "autoexec": {
      "startup": false,
      "wait_interval": 0
     }
    },
    "colab_type": "code",
    "id": "7DYQZdRmAqxU"
   },
   "outputs": [],
   "source": [
    "df['cantidad_ant_operador'] = df.groupby(['operador'])\\\n",
    "                              ['cantidad'].transform(lambda x:x.shift())"
   ]
  },
  {
   "cell_type": "code",
   "execution_count": null,
   "metadata": {
    "colab": {
     "autoexec": {
      "startup": false,
      "wait_interval": 0
     }
    },
    "colab_type": "code",
    "id": "2959D3A2Atfk"
   },
   "outputs": [],
   "source": [
    "df"
   ]
  },
  {
   "cell_type": "code",
   "execution_count": null,
   "metadata": {
    "colab": {
     "autoexec": {
      "startup": false,
      "wait_interval": 0
     }
    },
    "colab_type": "code",
    "id": "181iUDPxAuiG"
   },
   "outputs": [],
   "source": [
    "df['variacion_operador'] = df['cantidad'] - df['cantidad_ant_operador']\n",
    "df"
   ]
  },
  {
   "cell_type": "code",
   "execution_count": null,
   "metadata": {},
   "outputs": [],
   "source": []
  }
 ],
 "metadata": {
  "colab": {
   "collapsed_sections": [],
   "default_view": {},
   "name": "2.PRACTICA_GUIADA2_Manejo_tiempo.ipynb",
   "provenance": [],
   "version": "0.3.2",
   "views": {}
  },
  "kernelspec": {
   "display_name": "Python 3",
   "language": "python",
   "name": "python3"
  },
  "language_info": {
   "codemirror_mode": {
    "name": "ipython",
    "version": 3
   },
   "file_extension": ".py",
   "mimetype": "text/x-python",
   "name": "python",
   "nbconvert_exporter": "python",
   "pygments_lexer": "ipython3",
   "version": "3.6.8"
  }
 },
 "nbformat": 4,
 "nbformat_minor": 1
}
