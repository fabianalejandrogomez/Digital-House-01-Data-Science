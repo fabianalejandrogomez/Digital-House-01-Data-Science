{
  "cells": [
    {
      "metadata": {
        "colab_type": "text",
        "id": "fiNRBPe-5tTt"
      },
      "cell_type": "markdown",
      "source": "# PRACTICA GUIADA 2: Pivot Tables"
    },
    {
      "metadata": {
        "colab_type": "text",
        "id": "x5mMxALD5tTy"
      },
      "cell_type": "markdown",
      "source": "* Una pivot table es una operación similar a un `GroupBy` que suele ser común en planillas de cálculo y otros programas que operan con datos tabulares.\n* Una pivot table toma una o varias columnas como input y agrupa las entradas en una tabla bidimensional que provee un resumen (generalmente, una agregación de los datos)."
    },
    {
      "metadata": {
        "colab_type": "text",
        "id": "ODWXbP_a5tT1"
      },
      "cell_type": "markdown",
      "source": "## Usando Pivot Tables\n\n* Usaremos el dataset de pasajeros en el Titanic.\n* El mismo contiene información sociodemográfica acerca de los pasajeros del barco (incluyendo, sexo, edad, clase de embarque, etc.)"
    },
    {
      "metadata": {
        "colab": {},
        "colab_type": "code",
        "id": "Cp4xN1Ib5tT4",
        "trusted": true
      },
      "cell_type": "code",
      "source": "import numpy as np\nimport pandas as pd\nimport seaborn as sns\ntitanic = sns.load_dataset('titanic')",
      "execution_count": 1,
      "outputs": [
        {
          "output_type": "stream",
          "text": "/home/nbuser/anaconda3_420/lib/python3.5/site-packages/matplotlib/font_manager.py:281: UserWarning: Matplotlib is building the font cache using fc-list. This may take a moment.\n  'Matplotlib is building the font cache using fc-list. '\n",
          "name": "stderr"
        }
      ]
    },
    {
      "metadata": {
        "colab": {
          "base_uri": "https://localhost:8080/",
          "height": 204
        },
        "colab_type": "code",
        "executionInfo": {
          "elapsed": 1522,
          "status": "ok",
          "timestamp": 1535764858653,
          "user": {
            "displayName": "Paolo Donizetti",
            "photoUrl": "https://lh3.googleusercontent.com/a/default-user=s128",
            "userId": "102274939882416466592"
          },
          "user_tz": 180
        },
        "id": "-NkIz_nM5tT_",
        "outputId": "178b0107-2e6f-4996-a4b8-cf22898d2b82",
        "trusted": true
      },
      "cell_type": "code",
      "source": "titanic.head()",
      "execution_count": 2,
      "outputs": [
        {
          "output_type": "execute_result",
          "execution_count": 2,
          "data": {
            "text/plain": "   survived  pclass     sex   age  sibsp  parch     fare embarked  class  \\\n0         0       3    male  22.0      1      0   7.2500        S  Third   \n1         1       1  female  38.0      1      0  71.2833        C  First   \n2         1       3  female  26.0      0      0   7.9250        S  Third   \n3         1       1  female  35.0      1      0  53.1000        S  First   \n4         0       3    male  35.0      0      0   8.0500        S  Third   \n\n     who adult_male deck  embark_town alive  alone  \n0    man       True  NaN  Southampton    no  False  \n1  woman      False    C    Cherbourg   yes  False  \n2  woman      False  NaN  Southampton   yes   True  \n3  woman      False    C  Southampton   yes  False  \n4    man       True  NaN  Southampton    no   True  ",
            "text/html": "<div>\n<table border=\"1\" class=\"dataframe\">\n  <thead>\n    <tr style=\"text-align: right;\">\n      <th></th>\n      <th>survived</th>\n      <th>pclass</th>\n      <th>sex</th>\n      <th>age</th>\n      <th>sibsp</th>\n      <th>parch</th>\n      <th>fare</th>\n      <th>embarked</th>\n      <th>class</th>\n      <th>who</th>\n      <th>adult_male</th>\n      <th>deck</th>\n      <th>embark_town</th>\n      <th>alive</th>\n      <th>alone</th>\n    </tr>\n  </thead>\n  <tbody>\n    <tr>\n      <th>0</th>\n      <td>0</td>\n      <td>3</td>\n      <td>male</td>\n      <td>22.0</td>\n      <td>1</td>\n      <td>0</td>\n      <td>7.2500</td>\n      <td>S</td>\n      <td>Third</td>\n      <td>man</td>\n      <td>True</td>\n      <td>NaN</td>\n      <td>Southampton</td>\n      <td>no</td>\n      <td>False</td>\n    </tr>\n    <tr>\n      <th>1</th>\n      <td>1</td>\n      <td>1</td>\n      <td>female</td>\n      <td>38.0</td>\n      <td>1</td>\n      <td>0</td>\n      <td>71.2833</td>\n      <td>C</td>\n      <td>First</td>\n      <td>woman</td>\n      <td>False</td>\n      <td>C</td>\n      <td>Cherbourg</td>\n      <td>yes</td>\n      <td>False</td>\n    </tr>\n    <tr>\n      <th>2</th>\n      <td>1</td>\n      <td>3</td>\n      <td>female</td>\n      <td>26.0</td>\n      <td>0</td>\n      <td>0</td>\n      <td>7.9250</td>\n      <td>S</td>\n      <td>Third</td>\n      <td>woman</td>\n      <td>False</td>\n      <td>NaN</td>\n      <td>Southampton</td>\n      <td>yes</td>\n      <td>True</td>\n    </tr>\n    <tr>\n      <th>3</th>\n      <td>1</td>\n      <td>1</td>\n      <td>female</td>\n      <td>35.0</td>\n      <td>1</td>\n      <td>0</td>\n      <td>53.1000</td>\n      <td>S</td>\n      <td>First</td>\n      <td>woman</td>\n      <td>False</td>\n      <td>C</td>\n      <td>Southampton</td>\n      <td>yes</td>\n      <td>False</td>\n    </tr>\n    <tr>\n      <th>4</th>\n      <td>0</td>\n      <td>3</td>\n      <td>male</td>\n      <td>35.0</td>\n      <td>0</td>\n      <td>0</td>\n      <td>8.0500</td>\n      <td>S</td>\n      <td>Third</td>\n      <td>man</td>\n      <td>True</td>\n      <td>NaN</td>\n      <td>Southampton</td>\n      <td>no</td>\n      <td>True</td>\n    </tr>\n  </tbody>\n</table>\n</div>"
          },
          "metadata": {}
        }
      ]
    },
    {
      "metadata": {
        "colab_type": "text",
        "id": "pnii36A05tUE"
      },
      "cell_type": "markdown",
      "source": "## Pivot Tables a mano\n\n* Comencemos agrupando de acuerdo al género, si sobrevieron o no, etc.\n* Esto podríamos hacerlo con un ``GroupBy``; veamos, por ejemplo, la proporción de sobrevivientes según sexo:"
    },
    {
      "metadata": {
        "colab": {
          "base_uri": "https://localhost:8080/",
          "height": 142
        },
        "colab_type": "code",
        "executionInfo": {
          "elapsed": 1266,
          "status": "ok",
          "timestamp": 1535764873232,
          "user": {
            "displayName": "Paolo Donizetti",
            "photoUrl": "https://lh3.googleusercontent.com/a/default-user=s128",
            "userId": "102274939882416466592"
          },
          "user_tz": 180
        },
        "id": "FaSpEJLI5tUG",
        "outputId": "e19bc051-aec8-42a1-ac28-3b17e50cfeee",
        "trusted": true
      },
      "cell_type": "code",
      "source": "titanic.groupby('sex')[['survived']].mean()",
      "execution_count": 3,
      "outputs": [
        {
          "output_type": "execute_result",
          "execution_count": 3,
          "data": {
            "text/plain": "        survived\nsex             \nfemale  0.742038\nmale    0.188908",
            "text/html": "<div>\n<table border=\"1\" class=\"dataframe\">\n  <thead>\n    <tr style=\"text-align: right;\">\n      <th></th>\n      <th>survived</th>\n    </tr>\n    <tr>\n      <th>sex</th>\n      <th></th>\n    </tr>\n  </thead>\n  <tbody>\n    <tr>\n      <th>female</th>\n      <td>0.742038</td>\n    </tr>\n    <tr>\n      <th>male</th>\n      <td>0.188908</td>\n    </tr>\n  </tbody>\n</table>\n</div>"
          },
          "metadata": {}
        }
      ]
    },
    {
      "metadata": {
        "colab_type": "text",
        "id": "6znMfb_85tUL"
      },
      "cell_type": "markdown",
      "source": "* Parece que 3 de cada 4 mujeres sobrevivieron, mientras que esta relación es notablemente menor entre los hombres (1 de cada 5)\n* Veamos qué pasa si analizamos la sobrevivencia por sexo y clase:\n    - hacemos un group por clase y género, seleccionamos los sobrevimientos, aplicamos una agregación (media) y combinamos los grupos resultantes y luego, \"unstackeamos\" el índice jerárquico:"
    },
    {
      "metadata": {
        "colab": {
          "base_uri": "https://localhost:8080/",
          "height": 142
        },
        "colab_type": "code",
        "executionInfo": {
          "elapsed": 982,
          "status": "ok",
          "timestamp": 1535764879379,
          "user": {
            "displayName": "Paolo Donizetti",
            "photoUrl": "https://lh3.googleusercontent.com/a/default-user=s128",
            "userId": "102274939882416466592"
          },
          "user_tz": 180
        },
        "id": "qS21YgVY5tUM",
        "outputId": "c42fd345-402a-4657-d843-a38d193c9292",
        "trusted": true
      },
      "cell_type": "code",
      "source": "titanic.groupby(['sex', 'class'])['survived'].aggregate('mean').unstack()",
      "execution_count": 4,
      "outputs": [
        {
          "output_type": "execute_result",
          "execution_count": 4,
          "data": {
            "text/plain": "class      First    Second     Third\nsex                                 \nfemale  0.968085  0.921053  0.500000\nmale    0.368852  0.157407  0.135447",
            "text/html": "<div>\n<table border=\"1\" class=\"dataframe\">\n  <thead>\n    <tr style=\"text-align: right;\">\n      <th>class</th>\n      <th>First</th>\n      <th>Second</th>\n      <th>Third</th>\n    </tr>\n    <tr>\n      <th>sex</th>\n      <th></th>\n      <th></th>\n      <th></th>\n    </tr>\n  </thead>\n  <tbody>\n    <tr>\n      <th>female</th>\n      <td>0.968085</td>\n      <td>0.921053</td>\n      <td>0.500000</td>\n    </tr>\n    <tr>\n      <th>male</th>\n      <td>0.368852</td>\n      <td>0.157407</td>\n      <td>0.135447</td>\n    </tr>\n  </tbody>\n</table>\n</div>"
          },
          "metadata": {}
        }
      ]
    },
    {
      "metadata": {
        "colab_type": "text",
        "id": "tijorhu25tUS"
      },
      "cell_type": "markdown",
      "source": "* Esto da una idea mejor de cómo el género y la clase afectan las probabilidades de sobreviviencia. El problema es que el código empieza a parece un poco desorndeado y poco sencillo para leer.\n* Este tipo de ``GroupBy`` es muy común en Pandas, por eso se incluyó un método ``pivot_table`` que maneja fácilmente este tipo de agregaciones multidimensionales."
    },
    {
      "metadata": {
        "colab_type": "text",
        "id": "9i9zCzdA5tUT"
      },
      "cell_type": "markdown",
      "source": "## Sintaxis de las Pivot Table\n\n* Veamos un equivalente de la operación previa usando el método ``pivot_table``:"
    },
    {
      "metadata": {
        "colab": {
          "base_uri": "https://localhost:8080/",
          "height": 142
        },
        "colab_type": "code",
        "executionInfo": {
          "elapsed": 1543,
          "status": "ok",
          "timestamp": 1535765082426,
          "user": {
            "displayName": "Paolo Donizetti",
            "photoUrl": "https://lh3.googleusercontent.com/a/default-user=s128",
            "userId": "102274939882416466592"
          },
          "user_tz": 180
        },
        "id": "jR73YDEu5tUV",
        "outputId": "ea44fc3d-fe92-44d6-b4f8-57c115d88ccc",
        "trusted": true
      },
      "cell_type": "code",
      "source": "titanic.pivot_table('survived', index='sex', columns='class')",
      "execution_count": 5,
      "outputs": [
        {
          "output_type": "execute_result",
          "execution_count": 5,
          "data": {
            "text/plain": "class      First    Second     Third\nsex                                 \nfemale  0.968085  0.921053  0.500000\nmale    0.368852  0.157407  0.135447",
            "text/html": "<div>\n<table border=\"1\" class=\"dataframe\">\n  <thead>\n    <tr style=\"text-align: right;\">\n      <th>class</th>\n      <th>First</th>\n      <th>Second</th>\n      <th>Third</th>\n    </tr>\n    <tr>\n      <th>sex</th>\n      <th></th>\n      <th></th>\n      <th></th>\n    </tr>\n  </thead>\n  <tbody>\n    <tr>\n      <th>female</th>\n      <td>0.968085</td>\n      <td>0.921053</td>\n      <td>0.500000</td>\n    </tr>\n    <tr>\n      <th>male</th>\n      <td>0.368852</td>\n      <td>0.157407</td>\n      <td>0.135447</td>\n    </tr>\n  </tbody>\n</table>\n</div>"
          },
          "metadata": {}
        }
      ]
    },
    {
      "metadata": {
        "colab_type": "text",
        "id": "ORij2K3s5tUa"
      },
      "cell_type": "markdown",
      "source": "* Es claramente más legible que ``groupby`` anterior.\n* Como era esperable, había mayores probabildades (tanto entre hombres como mujeres) de sobrevivir si la persona provenía de clase alta.\n* Las mujeres de la primera clase sobrevivieron casi en su totalidad (seguramente, por aquello de \"las mujeres y los niños -con plata- primero\")."
    },
    {
      "metadata": {
        "colab_type": "text",
        "id": "KRa1xDTV5tUd"
      },
      "cell_type": "markdown",
      "source": "### Multi-level pivot tables\n\n* Igual que en ``GroupBy``, la operación de grouping  puede ser especificada con múltiples niveles.\n* Por ejemplo, podríamos estar interesados en usar grupos de edad como tercera dimensión\n* Generamos bins de la variable 'age' usando ``pd.cut``:"
    },
    {
      "metadata": {
        "colab": {
          "base_uri": "https://localhost:8080/",
          "height": 204
        },
        "colab_type": "code",
        "executionInfo": {
          "elapsed": 1597,
          "status": "ok",
          "timestamp": 1535766558979,
          "user": {
            "displayName": "Paolo Donizetti",
            "photoUrl": "https://lh3.googleusercontent.com/a/default-user=s128",
            "userId": "102274939882416466592"
          },
          "user_tz": 180
        },
        "id": "BBEk7XQD5tUe",
        "outputId": "57b6cfae-48db-4799-90fa-c6826eaa7326",
        "trusted": true
      },
      "cell_type": "code",
      "source": "age = pd.cut(titanic['age'], [0, 18, 80])\ntitanic.pivot_table('survived', ['sex', age], 'class')",
      "execution_count": 6,
      "outputs": [
        {
          "output_type": "execute_result",
          "execution_count": 6,
          "data": {
            "text/plain": "class               First    Second     Third\nsex    age                                   \nfemale (0, 18]   0.909091  1.000000  0.511628\n       (18, 80]  0.972973  0.900000  0.423729\nmale   (0, 18]   0.800000  0.600000  0.215686\n       (18, 80]  0.375000  0.071429  0.133663",
            "text/html": "<div>\n<table border=\"1\" class=\"dataframe\">\n  <thead>\n    <tr style=\"text-align: right;\">\n      <th></th>\n      <th>class</th>\n      <th>First</th>\n      <th>Second</th>\n      <th>Third</th>\n    </tr>\n    <tr>\n      <th>sex</th>\n      <th>age</th>\n      <th></th>\n      <th></th>\n      <th></th>\n    </tr>\n  </thead>\n  <tbody>\n    <tr>\n      <th rowspan=\"2\" valign=\"top\">female</th>\n      <th>(0, 18]</th>\n      <td>0.909091</td>\n      <td>1.000000</td>\n      <td>0.511628</td>\n    </tr>\n    <tr>\n      <th>(18, 80]</th>\n      <td>0.972973</td>\n      <td>0.900000</td>\n      <td>0.423729</td>\n    </tr>\n    <tr>\n      <th rowspan=\"2\" valign=\"top\">male</th>\n      <th>(0, 18]</th>\n      <td>0.800000</td>\n      <td>0.600000</td>\n      <td>0.215686</td>\n    </tr>\n    <tr>\n      <th>(18, 80]</th>\n      <td>0.375000</td>\n      <td>0.071429</td>\n      <td>0.133663</td>\n    </tr>\n  </tbody>\n</table>\n</div>"
          },
          "metadata": {}
        }
      ]
    },
    {
      "metadata": {
        "colab_type": "text",
        "id": "GNzkW7ok5tUj"
      },
      "cell_type": "markdown",
      "source": "* Podemos usar la misma estrategia cuando trabajamos con las columnas: agreguemos información acerca de la tarifa (fare) pagada, usando ``pd.qcut`` para computar cuantiles de forma automática:"
    },
    {
      "metadata": {
        "colab": {
          "base_uri": "https://localhost:8080/",
          "height": 235
        },
        "colab_type": "code",
        "executionInfo": {
          "elapsed": 1532,
          "status": "ok",
          "timestamp": 1535766177573,
          "user": {
            "displayName": "Paolo Donizetti",
            "photoUrl": "https://lh3.googleusercontent.com/a/default-user=s128",
            "userId": "102274939882416466592"
          },
          "user_tz": 180
        },
        "id": "MVkzecz95tUo",
        "outputId": "9c15de83-3e46-4927-9b06-1e13006cfcbb",
        "trusted": true
      },
      "cell_type": "code",
      "source": "fare = pd.qcut(titanic['fare'], 2)\ntitanic.pivot_table('survived', ['sex', age], [fare, 'class'])",
      "execution_count": 7,
      "outputs": [
        {
          "output_type": "execute_result",
          "execution_count": 7,
          "data": {
            "text/plain": "fare            [0, 14.454]                     (14.454, 512.329]            \\\nclass                 First    Second     Third             First    Second   \nsex    age                                                                    \nfemale (0, 18]          NaN  1.000000  0.714286          0.909091  1.000000   \n       (18, 80]         NaN  0.880000  0.444444          0.972973  0.914286   \nmale   (0, 18]          NaN  0.000000  0.260870          0.800000  0.818182   \n       (18, 80]         0.0  0.098039  0.125000          0.391304  0.030303   \n\nfare                       \nclass               Third  \nsex    age                 \nfemale (0, 18]   0.318182  \n       (18, 80]  0.391304  \nmale   (0, 18]   0.178571  \n       (18, 80]  0.192308  ",
            "text/html": "<div>\n<table border=\"1\" class=\"dataframe\">\n  <thead>\n    <tr>\n      <th></th>\n      <th>fare</th>\n      <th colspan=\"3\" halign=\"left\">[0, 14.454]</th>\n      <th colspan=\"3\" halign=\"left\">(14.454, 512.329]</th>\n    </tr>\n    <tr>\n      <th></th>\n      <th>class</th>\n      <th>First</th>\n      <th>Second</th>\n      <th>Third</th>\n      <th>First</th>\n      <th>Second</th>\n      <th>Third</th>\n    </tr>\n    <tr>\n      <th>sex</th>\n      <th>age</th>\n      <th></th>\n      <th></th>\n      <th></th>\n      <th></th>\n      <th></th>\n      <th></th>\n    </tr>\n  </thead>\n  <tbody>\n    <tr>\n      <th rowspan=\"2\" valign=\"top\">female</th>\n      <th>(0, 18]</th>\n      <td>NaN</td>\n      <td>1.000000</td>\n      <td>0.714286</td>\n      <td>0.909091</td>\n      <td>1.000000</td>\n      <td>0.318182</td>\n    </tr>\n    <tr>\n      <th>(18, 80]</th>\n      <td>NaN</td>\n      <td>0.880000</td>\n      <td>0.444444</td>\n      <td>0.972973</td>\n      <td>0.914286</td>\n      <td>0.391304</td>\n    </tr>\n    <tr>\n      <th rowspan=\"2\" valign=\"top\">male</th>\n      <th>(0, 18]</th>\n      <td>NaN</td>\n      <td>0.000000</td>\n      <td>0.260870</td>\n      <td>0.800000</td>\n      <td>0.818182</td>\n      <td>0.178571</td>\n    </tr>\n    <tr>\n      <th>(18, 80]</th>\n      <td>0.0</td>\n      <td>0.098039</td>\n      <td>0.125000</td>\n      <td>0.391304</td>\n      <td>0.030303</td>\n      <td>0.192308</td>\n    </tr>\n  </tbody>\n</table>\n</div>"
          },
          "metadata": {}
        }
      ]
    },
    {
      "metadata": {
        "colab_type": "text",
        "id": "JW7KL5Ea5tUw"
      },
      "cell_type": "markdown",
      "source": "### Opcionales adicionales en Pivot Tables\n\n* Otros parámetros del método ``pivot_table`` son los siguientes:\n\n```python\n# call signature as of Pandas 0.18\nDataFrame.pivot_table(data, values=None, index=None, columns=None,\n                      aggfunc='mean', fill_value=None, margins=False,\n                      dropna=True, margins_name='All')\n```\n\n* Vimos ejemplos de los primeros tres argumentos.\n* ``fill_value`` y ``dropna``, se vinculan con la existencia de datos faltantes y son una forma relativamente simple de lidiar con ellos (volveremos sobre estos ejemplos más adelante).\n\n* ``aggfunc`` controla el tipo de agregación que es aplicado (por defecto es una media)\n* Al igual que con ``GroupBy``, la especificación de la operación de agregación tiene muchas opciones relativamente comunes (``'sum'``, ``'mean'``, ``'count'``, ``'min'``, ``'max'``, etc.) o bien alguna función que implementa una agregación (e.g., ``np.sum()``, ``min()``, ``sum()``, etc.).\n* Además, puede expecificarse un diccionario que mapee columnas con operaciones:"
    },
    {
      "metadata": {
        "colab": {
          "base_uri": "https://localhost:8080/",
          "height": 173
        },
        "colab_type": "code",
        "executionInfo": {
          "elapsed": 1532,
          "status": "ok",
          "timestamp": 1535765818422,
          "user": {
            "displayName": "Paolo Donizetti",
            "photoUrl": "https://lh3.googleusercontent.com/a/default-user=s128",
            "userId": "102274939882416466592"
          },
          "user_tz": 180
        },
        "id": "ni5lqfth5tUz",
        "outputId": "52bf88e5-f068-4eff-d7f4-7045e0cb5932",
        "trusted": true
      },
      "cell_type": "code",
      "source": "titanic.pivot_table(index='sex', columns='class',\n                    aggfunc={'survived':sum, 'fare':'mean'})",
      "execution_count": 8,
      "outputs": [
        {
          "output_type": "execute_result",
          "execution_count": 8,
          "data": {
            "text/plain": "              fare                       survived             \nclass        First     Second      Third    First Second Third\nsex                                                           \nfemale  106.125798  21.970121  16.118810       91     70    72\nmale     67.226127  19.741782  12.661633       45     17    47",
            "text/html": "<div>\n<table border=\"1\" class=\"dataframe\">\n  <thead>\n    <tr>\n      <th></th>\n      <th colspan=\"3\" halign=\"left\">fare</th>\n      <th colspan=\"3\" halign=\"left\">survived</th>\n    </tr>\n    <tr>\n      <th>class</th>\n      <th>First</th>\n      <th>Second</th>\n      <th>Third</th>\n      <th>First</th>\n      <th>Second</th>\n      <th>Third</th>\n    </tr>\n    <tr>\n      <th>sex</th>\n      <th></th>\n      <th></th>\n      <th></th>\n      <th></th>\n      <th></th>\n      <th></th>\n    </tr>\n  </thead>\n  <tbody>\n    <tr>\n      <th>female</th>\n      <td>106.125798</td>\n      <td>21.970121</td>\n      <td>16.118810</td>\n      <td>91</td>\n      <td>70</td>\n      <td>72</td>\n    </tr>\n    <tr>\n      <th>male</th>\n      <td>67.226127</td>\n      <td>19.741782</td>\n      <td>12.661633</td>\n      <td>45</td>\n      <td>17</td>\n      <td>47</td>\n    </tr>\n  </tbody>\n</table>\n</div>"
          },
          "metadata": {}
        }
      ]
    },
    {
      "metadata": {
        "colab_type": "text",
        "id": "zfwTj9nI5tU7"
      },
      "cell_type": "markdown",
      "source": "* En este caso, se omitión la especificación de ``values``: al especificar un mapeo para ``aggfunc``, `values` se determina automáticamente."
    },
    {
      "metadata": {
        "colab_type": "text",
        "id": "tRBhcjuO5tU8"
      },
      "cell_type": "markdown",
      "source": "* A veces es útil computar totales a lo largo de cada grupo: podemos hacerlo usando ``margins``:"
    },
    {
      "metadata": {
        "colab": {
          "base_uri": "https://localhost:8080/",
          "height": 173
        },
        "colab_type": "code",
        "executionInfo": {
          "elapsed": 1089,
          "status": "ok",
          "timestamp": 1535766086528,
          "user": {
            "displayName": "Paolo Donizetti",
            "photoUrl": "https://lh3.googleusercontent.com/a/default-user=s128",
            "userId": "102274939882416466592"
          },
          "user_tz": 180
        },
        "id": "ZWbSQ1yz5tU-",
        "outputId": "dbd60f33-9d3a-4f56-ffa2-a64cefeced8f",
        "trusted": true
      },
      "cell_type": "code",
      "source": "titanic.pivot_table('survived', index='sex', columns='class', margins=True)",
      "execution_count": 9,
      "outputs": [
        {
          "output_type": "execute_result",
          "execution_count": 9,
          "data": {
            "text/plain": "class      First    Second     Third       All\nsex                                           \nfemale  0.968085  0.921053  0.500000  0.742038\nmale    0.368852  0.157407  0.135447  0.188908\nAll     0.629630  0.472826  0.242363  0.383838",
            "text/html": "<div>\n<table border=\"1\" class=\"dataframe\">\n  <thead>\n    <tr style=\"text-align: right;\">\n      <th>class</th>\n      <th>First</th>\n      <th>Second</th>\n      <th>Third</th>\n      <th>All</th>\n    </tr>\n    <tr>\n      <th>sex</th>\n      <th></th>\n      <th></th>\n      <th></th>\n      <th></th>\n    </tr>\n  </thead>\n  <tbody>\n    <tr>\n      <th>female</th>\n      <td>0.968085</td>\n      <td>0.921053</td>\n      <td>0.500000</td>\n      <td>0.742038</td>\n    </tr>\n    <tr>\n      <th>male</th>\n      <td>0.368852</td>\n      <td>0.157407</td>\n      <td>0.135447</td>\n      <td>0.188908</td>\n    </tr>\n    <tr>\n      <th>All</th>\n      <td>0.629630</td>\n      <td>0.472826</td>\n      <td>0.242363</td>\n      <td>0.383838</td>\n    </tr>\n  </tbody>\n</table>\n</div>"
          },
          "metadata": {}
        }
      ]
    },
    {
      "metadata": {
        "colab_type": "text",
        "id": "c0HKBtyn5tVD"
      },
      "cell_type": "markdown",
      "source": "* La etiqueta del margen puede ser especificada con ``margins_name``, por defecto es ``\"All\"``."
    }
  ],
  "metadata": {
    "accelerator": "GPU",
    "colab": {
      "collapsed_sections": [],
      "name": "2.PRACTICA_GUIADA_2_Pandas_2.ipynb",
      "provenance": [],
      "version": "0.3.2"
    },
    "kernelspec": {
      "name": "python3",
      "display_name": "Python 3",
      "language": "python"
    },
    "language_info": {
      "mimetype": "text/x-python",
      "nbconvert_exporter": "python",
      "name": "python",
      "pygments_lexer": "ipython3",
      "version": "3.5.4",
      "file_extension": ".py",
      "codemirror_mode": {
        "version": 3,
        "name": "ipython"
      }
    }
  },
  "nbformat": 4,
  "nbformat_minor": 1
}