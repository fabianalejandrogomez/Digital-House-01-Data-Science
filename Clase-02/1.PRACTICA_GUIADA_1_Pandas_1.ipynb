{
  "cells": [
    {
      "metadata": {
        "colab_type": "text",
        "id": "_atg7MxBFYP0"
      },
      "cell_type": "markdown",
      "source": "# PRACTICA GUIADA 1: Objetos de Pandas"
    },
    {
      "metadata": {
        "colab_type": "text",
        "id": "9RXJ_u67FYP3"
      },
      "cell_type": "markdown",
      "source": "## Introducción"
    },
    {
      "metadata": {
        "colab_type": "text",
        "id": "OAYa8GFdFYP3"
      },
      "cell_type": "markdown",
      "source": "* Las filas y columnas están identificados con etiquetas, además de simples índices enteros\n* Es importante entender las estructuras de **Pandas**.\n* Tres estructuras importantes:\n    + `Series`\n    + `DataFrame`\n    + `Index`"
    },
    {
      "metadata": {
        "colab": {
          "autoexec": {
            "startup": false,
            "wait_interval": 0
          }
        },
        "colab_type": "code",
        "id": "RRjHPoUcFYP6",
        "trusted": true
      },
      "cell_type": "code",
      "source": "import numpy as np\nimport pandas as pd",
      "execution_count": 1,
      "outputs": []
    },
    {
      "metadata": {
        "colab_type": "text",
        "id": "B4t1P8LgFYP_"
      },
      "cell_type": "markdown",
      "source": "## Objetos `Series` en Pandas\n\n* Puede pensarse como una array de una sola dimensión indexado. \n* Puede ser creado desde una lista:"
    },
    {
      "metadata": {
        "colab": {
          "autoexec": {
            "startup": false,
            "wait_interval": 0
          }
        },
        "colab_type": "code",
        "id": "M1ot8t-UFYQB",
        "trusted": true
      },
      "cell_type": "code",
      "source": "data = pd.Series([0.25, 0.5, 0.75, 1.0])\ndata",
      "execution_count": 2,
      "outputs": [
        {
          "output_type": "execute_result",
          "execution_count": 2,
          "data": {
            "text/plain": "0    0.25\n1    0.50\n2    0.75\n3    1.00\ndtype: float64"
          },
          "metadata": {}
        }
      ]
    },
    {
      "metadata": {
        "colab_type": "text",
        "id": "43NSOceAFYQG"
      },
      "cell_type": "markdown",
      "source": "* Una ``Series`` encapsula tanto una secuencia de valores como una de índices.\n* Podemos acceder a ellos con los atributos `values` e `index`"
    },
    {
      "metadata": {
        "colab": {
          "autoexec": {
            "startup": false,
            "wait_interval": 0
          }
        },
        "colab_type": "code",
        "id": "NXBL2E8MFYQH",
        "trusted": true
      },
      "cell_type": "code",
      "source": "data.values",
      "execution_count": 3,
      "outputs": [
        {
          "output_type": "execute_result",
          "execution_count": 3,
          "data": {
            "text/plain": "array([0.25, 0.5 , 0.75, 1.  ])"
          },
          "metadata": {}
        }
      ]
    },
    {
      "metadata": {
        "colab": {
          "autoexec": {
            "startup": false,
            "wait_interval": 0
          }
        },
        "colab_type": "code",
        "id": "GTOtAtTJFYQN",
        "trusted": true
      },
      "cell_type": "code",
      "source": "data.index",
      "execution_count": 4,
      "outputs": [
        {
          "output_type": "execute_result",
          "execution_count": 4,
          "data": {
            "text/plain": "RangeIndex(start=0, stop=4, step=1)"
          },
          "metadata": {}
        }
      ]
    },
    {
      "metadata": {
        "colab_type": "text",
        "id": "IhN23abgFYQQ"
      },
      "cell_type": "markdown",
      "source": "* Podemos acceder a una `Series` a través del índice asociado de forma similar a los arrays de Numpy: con los `[]` \n"
    },
    {
      "metadata": {
        "colab": {
          "autoexec": {
            "startup": false,
            "wait_interval": 0
          }
        },
        "colab_type": "code",
        "id": "GgO2mT5SFYQS",
        "trusted": true
      },
      "cell_type": "code",
      "source": "data[1]",
      "execution_count": 5,
      "outputs": [
        {
          "output_type": "execute_result",
          "execution_count": 5,
          "data": {
            "text/plain": "0.5"
          },
          "metadata": {}
        }
      ]
    },
    {
      "metadata": {
        "colab": {
          "autoexec": {
            "startup": false,
            "wait_interval": 0
          }
        },
        "colab_type": "code",
        "id": "HgUsDeHMFYQV",
        "trusted": true
      },
      "cell_type": "code",
      "source": "data[1:3]",
      "execution_count": 6,
      "outputs": [
        {
          "output_type": "execute_result",
          "execution_count": 6,
          "data": {
            "text/plain": "1    0.50\n2    0.75\ndtype: float64"
          },
          "metadata": {}
        }
      ]
    },
    {
      "metadata": {
        "colab_type": "text",
        "id": "-znU9U6NFYQX"
      },
      "cell_type": "markdown",
      "source": "### ``Series`` como generalización de un array de  NumPy "
    },
    {
      "metadata": {
        "colab_type": "text",
        "id": "kuJP083yFYQZ"
      },
      "cell_type": "markdown",
      "source": "* La diferencia esencial con un array de Numpy es que mientras que el array tiene un índice entero *\"implícitamente definido\"*, una `Series` de Pandas tiene un índice asociado a los valores *que está definido de forma explícita*\n* Este índice explícito le da a una `Series` capacidades adicionales.\n* El índice explícito no tiene por qué ser un entero y tampoco todos sus valores tienen que ser necesariamente únicos."
    },
    {
      "metadata": {
        "colab_type": "text",
        "id": "QHnfzTQ2FYQa"
      },
      "cell_type": "markdown",
      "source": "* Pueden ser `strings` "
    },
    {
      "metadata": {
        "colab": {
          "autoexec": {
            "startup": false,
            "wait_interval": 0
          }
        },
        "colab_type": "code",
        "id": "_fCTOGLkFYQc",
        "trusted": true
      },
      "cell_type": "code",
      "source": "data = pd.Series([0.25, 0.5, 0.75, 1.0],\n                 index=['a', 'b', 'c', 'd'])\ndata",
      "execution_count": 7,
      "outputs": [
        {
          "output_type": "execute_result",
          "execution_count": 7,
          "data": {
            "text/plain": "a    0.25\nb    0.50\nc    0.75\nd    1.00\ndtype: float64"
          },
          "metadata": {}
        }
      ]
    },
    {
      "metadata": {
        "colab_type": "text",
        "id": "Oage_97cFYQf"
      },
      "cell_type": "markdown",
      "source": "* Y podemos acceder simplemente:"
    },
    {
      "metadata": {
        "colab": {
          "autoexec": {
            "startup": false,
            "wait_interval": 0
          }
        },
        "colab_type": "code",
        "id": "I7P6RHmEFYQg",
        "trusted": true
      },
      "cell_type": "code",
      "source": "data['b']",
      "execution_count": 8,
      "outputs": [
        {
          "output_type": "execute_result",
          "execution_count": 8,
          "data": {
            "text/plain": "0.5"
          },
          "metadata": {}
        }
      ]
    },
    {
      "metadata": {
        "trusted": true
      },
      "cell_type": "code",
      "source": "data[1]",
      "execution_count": 9,
      "outputs": [
        {
          "output_type": "execute_result",
          "execution_count": 9,
          "data": {
            "text/plain": "0.5"
          },
          "metadata": {}
        }
      ]
    },
    {
      "metadata": {
        "colab_type": "text",
        "id": "0LyANPjHFYQj"
      },
      "cell_type": "markdown",
      "source": "* O puede ser una secuencia no contigua de `int`s"
    },
    {
      "metadata": {
        "colab": {
          "autoexec": {
            "startup": false,
            "wait_interval": 0
          }
        },
        "colab_type": "code",
        "id": "nNQhOML0FYQk",
        "trusted": true
      },
      "cell_type": "code",
      "source": "data = pd.Series([0.25, 0.5, 0.75, 1.0],\n                 index=[2, 5, 3, 1])\ndata",
      "execution_count": 10,
      "outputs": [
        {
          "output_type": "execute_result",
          "execution_count": 10,
          "data": {
            "text/plain": "2    0.25\n5    0.50\n3    0.75\n1    1.00\ndtype: float64"
          },
          "metadata": {}
        }
      ]
    },
    {
      "metadata": {
        "colab_type": "text",
        "id": "RhkHNKqIFYQq"
      },
      "cell_type": "markdown",
      "source": "### ``Series`` como un `dict` especializado"
    },
    {
      "metadata": {
        "colab_type": "text",
        "id": "ikL-9JHlFYQr"
      },
      "cell_type": "markdown",
      "source": "* Un `dict` es una estructura que mapea un set de keys arbitrarias a un set de valores.\n* Puede hacerse, entonces, una analogía entre una `Series` y un `dict`"
    },
    {
      "metadata": {
        "colab": {
          "autoexec": {
            "startup": false,
            "wait_interval": 0
          }
        },
        "colab_type": "code",
        "id": "yGdTxXVnFYQu",
        "trusted": true
      },
      "cell_type": "code",
      "source": "population_dict = {'California': 38332521,\n                   'Texas': 26448193,\n                   'New York': 19651127,\n                   'Florida': 19552860,\n                   'Illinois': 12882135}\n\npopulation = pd.Series(population_dict)\npopulation",
      "execution_count": 11,
      "outputs": [
        {
          "output_type": "execute_result",
          "execution_count": 11,
          "data": {
            "text/plain": "California    38332521\nFlorida       19552860\nIllinois      12882135\nNew York      19651127\nTexas         26448193\ndtype: int64"
          },
          "metadata": {}
        }
      ]
    },
    {
      "metadata": {
        "colab_type": "text",
        "id": "R-9Rs6X7FYQy"
      },
      "cell_type": "markdown",
      "source": "* Puede crearse una `Series` a partir de un `dict`: el índice se toma de las keys.\n* Así, puede accederse de forma análoga a un `dict`."
    },
    {
      "metadata": {
        "colab": {
          "autoexec": {
            "startup": false,
            "wait_interval": 0
          }
        },
        "colab_type": "code",
        "id": "76lAZd4lFYQz",
        "trusted": true
      },
      "cell_type": "code",
      "source": "population['California']",
      "execution_count": 12,
      "outputs": [
        {
          "output_type": "execute_result",
          "execution_count": 12,
          "data": {
            "text/plain": "38332521"
          },
          "metadata": {}
        }
      ]
    },
    {
      "metadata": {
        "trusted": true
      },
      "cell_type": "code",
      "source": "population[0]",
      "execution_count": 13,
      "outputs": [
        {
          "output_type": "execute_result",
          "execution_count": 13,
          "data": {
            "text/plain": "38332521"
          },
          "metadata": {}
        }
      ]
    },
    {
      "metadata": {
        "colab_type": "text",
        "id": "rFC_a_Y2FYQ3"
      },
      "cell_type": "markdown",
      "source": "* A diferencia de un `dict` una `Series` soporta algunas operaciones del estilo de un array, como por ejemplo, slicing. Notar que en este caso el endpoint es inclusivo:"
    },
    {
      "metadata": {
        "colab": {
          "autoexec": {
            "startup": false,
            "wait_interval": 0
          }
        },
        "colab_type": "code",
        "id": "cge53278FYQ4",
        "trusted": true
      },
      "cell_type": "code",
      "source": "population['California':'Florida']",
      "execution_count": 14,
      "outputs": [
        {
          "output_type": "execute_result",
          "execution_count": 14,
          "data": {
            "text/plain": "California    38332521\nFlorida       19552860\ndtype: int64"
          },
          "metadata": {}
        }
      ]
    },
    {
      "metadata": {},
      "cell_type": "markdown",
      "source": "* Si usamos el index implícito, el endpoint no se incluye en el slicing:"
    },
    {
      "metadata": {
        "trusted": true
      },
      "cell_type": "code",
      "source": "population[0:3]",
      "execution_count": 15,
      "outputs": [
        {
          "output_type": "execute_result",
          "execution_count": 15,
          "data": {
            "text/plain": "California    38332521\nFlorida       19552860\nIllinois      12882135\ndtype: int64"
          },
          "metadata": {}
        }
      ]
    },
    {
      "metadata": {},
      "cell_type": "markdown",
      "source": "* Podemos pasar una lista para generar los índices:"
    },
    {
      "metadata": {
        "colab": {
          "autoexec": {
            "startup": false,
            "wait_interval": 0
          }
        },
        "colab_type": "code",
        "id": "28ih1cMhFYQ7",
        "trusted": true
      },
      "cell_type": "code",
      "source": "states_list = ['Illinois','Texas','New York', 'Florida', 'California']\nstates_pop = [12882135, 26448193, 19651127, 19552860, 38332521]\nstates = pd.Series(states_pop, index= states_list)",
      "execution_count": 16,
      "outputs": []
    },
    {
      "metadata": {
        "colab": {
          "autoexec": {
            "startup": false,
            "wait_interval": 0
          }
        },
        "colab_type": "code",
        "id": "SL2QE8HZFYQ-",
        "trusted": true
      },
      "cell_type": "code",
      "source": "states['Illinois':'New York']",
      "execution_count": 17,
      "outputs": [
        {
          "output_type": "execute_result",
          "execution_count": 17,
          "data": {
            "text/plain": "Illinois    12882135\nTexas       26448193\nNew York    19651127\ndtype: int64"
          },
          "metadata": {}
        }
      ]
    },
    {
      "metadata": {
        "colab_type": "text",
        "id": "J1WuPK9UFYRA"
      },
      "cell_type": "markdown",
      "source": "### Construyendo objetos Series"
    },
    {
      "metadata": {
        "colab_type": "text",
        "id": "v4YPWrkuFYRB"
      },
      "cell_type": "markdown",
      "source": "* Podemos construir `Series` desde cero. La forma general de hacerlo es la siguiente:\n\n```python\n>>> pd.Series(data, index=index)\n```\n* `index` es un argumento opcional y `data` puede ser varias cosas"
    },
    {
      "metadata": {
        "colab": {
          "autoexec": {
            "startup": false,
            "wait_interval": 0
          }
        },
        "colab_type": "code",
        "id": "ujLjqLyPFYRB",
        "trusted": true
      },
      "cell_type": "code",
      "source": "# Una lista o un array de Numpy\n\npd.Series([2, 4, 6]) ",
      "execution_count": 18,
      "outputs": [
        {
          "output_type": "execute_result",
          "execution_count": 18,
          "data": {
            "text/plain": "0    2\n1    4\n2    6\ndtype: int64"
          },
          "metadata": {}
        }
      ]
    },
    {
      "metadata": {
        "colab": {
          "autoexec": {
            "startup": false,
            "wait_interval": 0
          }
        },
        "colab_type": "code",
        "id": "TkG_O_nyFYRG",
        "trusted": true
      },
      "cell_type": "code",
      "source": "# Un escalar repetido a lo largo de un índice\n\npd.Series(5, index = [100, 200, 300]) ",
      "execution_count": 19,
      "outputs": [
        {
          "output_type": "execute_result",
          "execution_count": 19,
          "data": {
            "text/plain": "100    5\n200    5\n300    5\ndtype: int64"
          },
          "metadata": {}
        }
      ]
    },
    {
      "metadata": {
        "colab": {
          "autoexec": {
            "startup": false,
            "wait_interval": 0
          }
        },
        "colab_type": "code",
        "id": "3Yzt5bsBFYRJ",
        "scrolled": true,
        "trusted": true
      },
      "cell_type": "code",
      "source": "# Un diccionario\n\npd.Series({2:'a', 1:'b', 3:'c'}) ",
      "execution_count": 20,
      "outputs": [
        {
          "output_type": "execute_result",
          "execution_count": 20,
          "data": {
            "text/plain": "1    b\n2    a\n3    c\ndtype: object"
          },
          "metadata": {}
        }
      ]
    },
    {
      "metadata": {
        "colab": {
          "autoexec": {
            "startup": false,
            "wait_interval": 0
          }
        },
        "colab_type": "code",
        "id": "cqrbetEAFYRM",
        "trusted": true
      },
      "cell_type": "code",
      "source": "# En cada caso, podría usarse el índice explícitamente si lo que se busca es otro resultado\n\npd.Series({2:'a', 1:'b', 3:'c'}, index=[3, 2, 2, 2, 2, 3, 1]) ",
      "execution_count": 21,
      "outputs": [
        {
          "output_type": "execute_result",
          "execution_count": 21,
          "data": {
            "text/plain": "3    c\n2    a\n2    a\n2    a\n2    a\n3    c\n1    b\ndtype: object"
          },
          "metadata": {}
        }
      ]
    },
    {
      "metadata": {
        "colab_type": "text",
        "id": "WwdqWPCAFYRO"
      },
      "cell_type": "markdown",
      "source": "## Objeto `DataFrame`"
    },
    {
      "metadata": {
        "colab_type": "text",
        "id": "Hrrs3wCeFYRP"
      },
      "cell_type": "markdown",
      "source": "* Otra estructura fundamental. \n* También puede ser pensada como una generalización de un array de NumPy o como un tipo especial de diccionario."
    },
    {
      "metadata": {
        "colab_type": "text",
        "id": "FPFCzV2pFYRP"
      },
      "cell_type": "markdown",
      "source": "### `DataFrame` como un array de Numpy"
    },
    {
      "metadata": {
        "colab_type": "text",
        "id": "NRmAGbkcFYRQ"
      },
      "cell_type": "markdown",
      "source": "* Un `DataFrame` es un tipo análogo a una `Series` en dos dimensiones y, por lo tanto, puede ser una pensado tanto como una generalización de un array de Numpy o como un conjunto de `Series` alineados. Es decir, que tienen el mismo índice.\n\n* Para demostrar esto generemos una `Serie` con el área de algunos estados:"
    },
    {
      "metadata": {
        "colab": {
          "autoexec": {
            "startup": false,
            "wait_interval": 0
          }
        },
        "colab_type": "code",
        "id": "VYYJJQW3FYRR",
        "trusted": true
      },
      "cell_type": "code",
      "source": "area_dict = {'California': 423967, 'Texas': 695662, 'New York': 141297,\n             'Florida': 170312, 'Illinois': 149995}\narea = pd.Series(area_dict)\narea",
      "execution_count": 22,
      "outputs": [
        {
          "output_type": "execute_result",
          "execution_count": 22,
          "data": {
            "text/plain": "California    423967\nFlorida       170312\nIllinois      149995\nNew York      141297\nTexas         695662\ndtype: int64"
          },
          "metadata": {}
        }
      ]
    },
    {
      "metadata": {
        "colab_type": "text",
        "id": "NU842eu9FYRU"
      },
      "cell_type": "markdown",
      "source": "* Ahora, podemos usar un diccionario para construir un objeto bidimensional conteniendo toda la información."
    },
    {
      "metadata": {
        "colab": {
          "autoexec": {
            "startup": false,
            "wait_interval": 0
          }
        },
        "colab_type": "code",
        "id": "ujALXtqeFYRV",
        "trusted": true
      },
      "cell_type": "code",
      "source": "states = pd.DataFrame({'population': population,\n                       'area': area})\nstates",
      "execution_count": 23,
      "outputs": [
        {
          "output_type": "execute_result",
          "execution_count": 23,
          "data": {
            "text/plain": "              area  population\nCalifornia  423967    38332521\nFlorida     170312    19552860\nIllinois    149995    12882135\nNew York    141297    19651127\nTexas       695662    26448193",
            "text/html": "<div>\n<table border=\"1\" class=\"dataframe\">\n  <thead>\n    <tr style=\"text-align: right;\">\n      <th></th>\n      <th>area</th>\n      <th>population</th>\n    </tr>\n  </thead>\n  <tbody>\n    <tr>\n      <th>California</th>\n      <td>423967</td>\n      <td>38332521</td>\n    </tr>\n    <tr>\n      <th>Florida</th>\n      <td>170312</td>\n      <td>19552860</td>\n    </tr>\n    <tr>\n      <th>Illinois</th>\n      <td>149995</td>\n      <td>12882135</td>\n    </tr>\n    <tr>\n      <th>New York</th>\n      <td>141297</td>\n      <td>19651127</td>\n    </tr>\n    <tr>\n      <th>Texas</th>\n      <td>695662</td>\n      <td>26448193</td>\n    </tr>\n  </tbody>\n</table>\n</div>"
          },
          "metadata": {}
        }
      ]
    },
    {
      "metadata": {
        "colab_type": "text",
        "id": "gIDw2CYpFYRY"
      },
      "cell_type": "markdown",
      "source": "Al igual que las ``Series``, un ``DataFrame`` posee un atributo ``index``:"
    },
    {
      "metadata": {
        "colab": {
          "autoexec": {
            "startup": false,
            "wait_interval": 0
          }
        },
        "colab_type": "code",
        "id": "EfwOoKTZFYRa",
        "trusted": true
      },
      "cell_type": "code",
      "source": "states.index",
      "execution_count": 24,
      "outputs": [
        {
          "output_type": "execute_result",
          "execution_count": 24,
          "data": {
            "text/plain": "Index(['California', 'Florida', 'Illinois', 'New York', 'Texas'], dtype='object')"
          },
          "metadata": {}
        }
      ]
    },
    {
      "metadata": {
        "colab_type": "text",
        "id": "gV5igBu2FYRd"
      },
      "cell_type": "markdown",
      "source": "Además, tiene un atributo ``columns``, que es un objeto ``Index`` conteniendo las etiquetas de columnas:"
    },
    {
      "metadata": {
        "colab": {
          "autoexec": {
            "startup": false,
            "wait_interval": 0
          }
        },
        "colab_type": "code",
        "id": "8Gqq8KDpFYRd",
        "trusted": true
      },
      "cell_type": "code",
      "source": "states.columns",
      "execution_count": 25,
      "outputs": [
        {
          "output_type": "execute_result",
          "execution_count": 25,
          "data": {
            "text/plain": "Index(['area', 'population'], dtype='object')"
          },
          "metadata": {}
        }
      ]
    },
    {
      "metadata": {
        "colab_type": "text",
        "id": "gK6fAj2gFYRi"
      },
      "cell_type": "markdown",
      "source": "### DataFrame como un diccionario especializado"
    },
    {
      "metadata": {
        "colab_type": "text",
        "id": "Fr_a7sOrFYRk"
      },
      "cell_type": "markdown",
      "source": "* De forma similar, podemos pensar al `DataFrame` como un diccionario: \n    \n    - Un diccionario mapea una key con un valor\n    - Un `DataFrame` mapea un nombre de columna con una `Series` de datos.\n    \n    \n* Por ejemplo, pedir el atributo `area` del `DataFrame` `states` devuelve una `Series`. "
    },
    {
      "metadata": {
        "colab": {
          "autoexec": {
            "startup": false,
            "wait_interval": 0
          }
        },
        "colab_type": "code",
        "id": "3twHT7lHFYRm",
        "trusted": true
      },
      "cell_type": "code",
      "source": "states['area']",
      "execution_count": 26,
      "outputs": [
        {
          "output_type": "execute_result",
          "execution_count": 26,
          "data": {
            "text/plain": "California    423967\nFlorida       170312\nIllinois      149995\nNew York      141297\nTexas         695662\nName: area, dtype: int64"
          },
          "metadata": {}
        }
      ]
    },
    {
      "metadata": {
        "colab_type": "text",
        "id": "GLjCltE7FYRs"
      },
      "cell_type": "markdown",
      "source": "### Construyendo objetos `DataFrame`"
    },
    {
      "metadata": {
        "colab_type": "text",
        "id": "gpfkDZ3gFYRs"
      },
      "cell_type": "markdown",
      "source": "#### Desde una `Series` simple:"
    },
    {
      "metadata": {
        "colab": {
          "autoexec": {
            "startup": false,
            "wait_interval": 0
          }
        },
        "colab_type": "code",
        "id": "bFwxnV8JFYRt",
        "trusted": true
      },
      "cell_type": "code",
      "source": "pd.DataFrame(population, columns=['population'])",
      "execution_count": 27,
      "outputs": [
        {
          "output_type": "execute_result",
          "execution_count": 27,
          "data": {
            "text/plain": "            population\nCalifornia    38332521\nFlorida       19552860\nIllinois      12882135\nNew York      19651127\nTexas         26448193",
            "text/html": "<div>\n<table border=\"1\" class=\"dataframe\">\n  <thead>\n    <tr style=\"text-align: right;\">\n      <th></th>\n      <th>population</th>\n    </tr>\n  </thead>\n  <tbody>\n    <tr>\n      <th>California</th>\n      <td>38332521</td>\n    </tr>\n    <tr>\n      <th>Florida</th>\n      <td>19552860</td>\n    </tr>\n    <tr>\n      <th>Illinois</th>\n      <td>12882135</td>\n    </tr>\n    <tr>\n      <th>New York</th>\n      <td>19651127</td>\n    </tr>\n    <tr>\n      <th>Texas</th>\n      <td>26448193</td>\n    </tr>\n  </tbody>\n</table>\n</div>"
          },
          "metadata": {}
        }
      ]
    },
    {
      "metadata": {
        "colab_type": "text",
        "id": "KEZ6np86FYRv"
      },
      "cell_type": "markdown",
      "source": "#### Desde una lista de dicts"
    },
    {
      "metadata": {
        "colab": {
          "autoexec": {
            "startup": false,
            "wait_interval": 0
          }
        },
        "colab_type": "code",
        "id": "x3i5e535FYRw",
        "trusted": true
      },
      "cell_type": "code",
      "source": "data = [{'a': i, 'b': 2 * i}\n        for i in range(3)]\npd.DataFrame(data)",
      "execution_count": 28,
      "outputs": [
        {
          "output_type": "execute_result",
          "execution_count": 28,
          "data": {
            "text/plain": "   a  b\n0  0  0\n1  1  2\n2  2  4",
            "text/html": "<div>\n<table border=\"1\" class=\"dataframe\">\n  <thead>\n    <tr style=\"text-align: right;\">\n      <th></th>\n      <th>a</th>\n      <th>b</th>\n    </tr>\n  </thead>\n  <tbody>\n    <tr>\n      <th>0</th>\n      <td>0</td>\n      <td>0</td>\n    </tr>\n    <tr>\n      <th>1</th>\n      <td>1</td>\n      <td>2</td>\n    </tr>\n    <tr>\n      <th>2</th>\n      <td>2</td>\n      <td>4</td>\n    </tr>\n  </tbody>\n</table>\n</div>"
          },
          "metadata": {}
        }
      ]
    },
    {
      "metadata": {
        "colab_type": "text",
        "id": "s6lF4njNFYRy"
      },
      "cell_type": "markdown",
      "source": "* Notar que incluso si alguna key está perdida en el diccionario, Pandas llena con `NaN` el valor:"
    },
    {
      "metadata": {
        "colab": {
          "autoexec": {
            "startup": false,
            "wait_interval": 0
          }
        },
        "colab_type": "code",
        "id": "F_Sx0JZhFYRz",
        "trusted": true
      },
      "cell_type": "code",
      "source": "pd.DataFrame([{'a': 1, 'b': 2}, {'b': 3, 'c': 4}])",
      "execution_count": 29,
      "outputs": [
        {
          "output_type": "execute_result",
          "execution_count": 29,
          "data": {
            "text/plain": "     a  b    c\n0  1.0  2  NaN\n1  NaN  3  4.0",
            "text/html": "<div>\n<table border=\"1\" class=\"dataframe\">\n  <thead>\n    <tr style=\"text-align: right;\">\n      <th></th>\n      <th>a</th>\n      <th>b</th>\n      <th>c</th>\n    </tr>\n  </thead>\n  <tbody>\n    <tr>\n      <th>0</th>\n      <td>1.0</td>\n      <td>2</td>\n      <td>NaN</td>\n    </tr>\n    <tr>\n      <th>1</th>\n      <td>NaN</td>\n      <td>3</td>\n      <td>4.0</td>\n    </tr>\n  </tbody>\n</table>\n</div>"
          },
          "metadata": {}
        }
      ]
    },
    {
      "metadata": {
        "colab_type": "text",
        "id": "z37qq8qCFYR5"
      },
      "cell_type": "markdown",
      "source": "#### Desde un array Numpy de dos dimensiones"
    },
    {
      "metadata": {
        "colab": {
          "autoexec": {
            "startup": false,
            "wait_interval": 0
          }
        },
        "colab_type": "code",
        "id": "W2NvRh1oFYR6",
        "trusted": true
      },
      "cell_type": "code",
      "source": "pd.DataFrame(np.random.rand(3, 2),\n             columns=['foo', 'bar'],\n             index=['a', 'b', 'c'])",
      "execution_count": 30,
      "outputs": [
        {
          "output_type": "execute_result",
          "execution_count": 30,
          "data": {
            "text/plain": "        foo       bar\na  0.748021  0.362979\nb  0.984004  0.236138\nc  0.491972  0.214136",
            "text/html": "<div>\n<table border=\"1\" class=\"dataframe\">\n  <thead>\n    <tr style=\"text-align: right;\">\n      <th></th>\n      <th>foo</th>\n      <th>bar</th>\n    </tr>\n  </thead>\n  <tbody>\n    <tr>\n      <th>a</th>\n      <td>0.748021</td>\n      <td>0.362979</td>\n    </tr>\n    <tr>\n      <th>b</th>\n      <td>0.984004</td>\n      <td>0.236138</td>\n    </tr>\n    <tr>\n      <th>c</th>\n      <td>0.491972</td>\n      <td>0.214136</td>\n    </tr>\n  </tbody>\n</table>\n</div>"
          },
          "metadata": {}
        }
      ]
    },
    {
      "metadata": {
        "colab_type": "text",
        "id": "HnsmfS3yFYR9"
      },
      "cell_type": "markdown",
      "source": "## El objeto `Index`"
    },
    {
      "metadata": {
        "colab_type": "text",
        "id": "Wr7_z25tFYR_"
      },
      "cell_type": "markdown",
      "source": "* Un `Index` puede ser pensado como un _array inmutable_  o como un set ordenado\n* Para ilustrar las implicancias de este punto pensemos en el siguiente ejemplo en el que construimos un `Index` desde una lista de enteros.\n* Los `DataFrames` tienen un `Index` que describe a las filas y otro que describe a las columnas. \n* Al  `Index` de filas se accede con `df.index` y al de columna `df.columns`."
    },
    {
      "metadata": {
        "colab": {
          "autoexec": {
            "startup": false,
            "wait_interval": 0
          }
        },
        "colab_type": "code",
        "id": "5itUqL-_FYR_",
        "trusted": true
      },
      "cell_type": "code",
      "source": "ind = pd.Index([2, 3, 5, 7, 11])\nind",
      "execution_count": 31,
      "outputs": [
        {
          "output_type": "execute_result",
          "execution_count": 31,
          "data": {
            "text/plain": "Int64Index([2, 3, 5, 7, 11], dtype='int64')"
          },
          "metadata": {}
        }
      ]
    },
    {
      "metadata": {
        "colab_type": "text",
        "id": "5BRRJEnFFYSC"
      },
      "cell_type": "markdown",
      "source": "### `Index` como una array inmutable\n\n* Podemos indexar y hacer slicing de forma similar a un array"
    },
    {
      "metadata": {
        "colab": {
          "autoexec": {
            "startup": false,
            "wait_interval": 0
          }
        },
        "colab_type": "code",
        "id": "NipDXnN9FYSD",
        "trusted": true
      },
      "cell_type": "code",
      "source": "ind[1]",
      "execution_count": 32,
      "outputs": [
        {
          "output_type": "execute_result",
          "execution_count": 32,
          "data": {
            "text/plain": "3"
          },
          "metadata": {}
        }
      ]
    },
    {
      "metadata": {
        "colab": {
          "autoexec": {
            "startup": false,
            "wait_interval": 0
          }
        },
        "colab_type": "code",
        "id": "-_vbN4haFYSJ",
        "trusted": true
      },
      "cell_type": "code",
      "source": "ind[::2]",
      "execution_count": 33,
      "outputs": [
        {
          "output_type": "execute_result",
          "execution_count": 33,
          "data": {
            "text/plain": "Int64Index([2, 5, 11], dtype='int64')"
          },
          "metadata": {}
        }
      ]
    },
    {
      "metadata": {
        "colab_type": "text",
        "id": "sKmMc0WdFYSL"
      },
      "cell_type": "markdown",
      "source": "Los `Index` tienen atributos similares a los arrays de Numpy"
    },
    {
      "metadata": {
        "colab": {
          "autoexec": {
            "startup": false,
            "wait_interval": 0
          }
        },
        "colab_type": "code",
        "id": "2k0OLyh0FYSM",
        "trusted": true
      },
      "cell_type": "code",
      "source": "print(ind.size, ind.shape, ind.ndim, ind.dtype)",
      "execution_count": 34,
      "outputs": [
        {
          "output_type": "stream",
          "text": "5 (5,) 1 int64\n",
          "name": "stdout"
        }
      ]
    },
    {
      "metadata": {
        "colab_type": "text",
        "id": "kxZ73dqbFYSP"
      },
      "cell_type": "markdown",
      "source": "Una diferencia entre los ``Index`` y los arrays de NumPy es que los primeros son *inmutables*:"
    },
    {
      "metadata": {
        "colab": {
          "autoexec": {
            "startup": false,
            "wait_interval": 0
          }
        },
        "colab_type": "code",
        "id": "J9_G5p_BFYSQ",
        "trusted": true
      },
      "cell_type": "code",
      "source": "ind[1] = 0",
      "execution_count": 35,
      "outputs": [
        {
          "output_type": "error",
          "ename": "TypeError",
          "evalue": "Index does not support mutable operations",
          "traceback": [
            "\u001b[0;31m---------------------------------------------------------------------------\u001b[0m",
            "\u001b[0;31mTypeError\u001b[0m                                 Traceback (most recent call last)",
            "\u001b[0;32m<ipython-input-35-906a9fa1424c>\u001b[0m in \u001b[0;36m<module>\u001b[0;34m()\u001b[0m\n\u001b[0;32m----> 1\u001b[0;31m \u001b[0mind\u001b[0m\u001b[0;34m[\u001b[0m\u001b[0;36m1\u001b[0m\u001b[0;34m]\u001b[0m \u001b[0;34m=\u001b[0m \u001b[0;36m0\u001b[0m\u001b[0;34m\u001b[0m\u001b[0m\n\u001b[0m",
            "\u001b[0;32m~/anaconda3_420/lib/python3.5/site-packages/pandas/indexes/base.py\u001b[0m in \u001b[0;36m__setitem__\u001b[0;34m(self, key, value)\u001b[0m\n\u001b[1;32m   1402\u001b[0m \u001b[0;34m\u001b[0m\u001b[0m\n\u001b[1;32m   1403\u001b[0m     \u001b[0;32mdef\u001b[0m \u001b[0m__setitem__\u001b[0m\u001b[0;34m(\u001b[0m\u001b[0mself\u001b[0m\u001b[0;34m,\u001b[0m \u001b[0mkey\u001b[0m\u001b[0;34m,\u001b[0m \u001b[0mvalue\u001b[0m\u001b[0;34m)\u001b[0m\u001b[0;34m:\u001b[0m\u001b[0;34m\u001b[0m\u001b[0m\n\u001b[0;32m-> 1404\u001b[0;31m         \u001b[0;32mraise\u001b[0m \u001b[0mTypeError\u001b[0m\u001b[0;34m(\u001b[0m\u001b[0;34m\"Index does not support mutable operations\"\u001b[0m\u001b[0;34m)\u001b[0m\u001b[0;34m\u001b[0m\u001b[0m\n\u001b[0m\u001b[1;32m   1405\u001b[0m \u001b[0;34m\u001b[0m\u001b[0m\n\u001b[1;32m   1406\u001b[0m     \u001b[0;32mdef\u001b[0m \u001b[0m__getitem__\u001b[0m\u001b[0;34m(\u001b[0m\u001b[0mself\u001b[0m\u001b[0;34m,\u001b[0m \u001b[0mkey\u001b[0m\u001b[0;34m)\u001b[0m\u001b[0;34m:\u001b[0m\u001b[0;34m\u001b[0m\u001b[0m\n",
            "\u001b[0;31mTypeError\u001b[0m: Index does not support mutable operations"
          ]
        }
      ]
    },
    {
      "metadata": {
        "colab_type": "text",
        "id": "tZhi9YdCFYSU"
      },
      "cell_type": "markdown",
      "source": "### `Index` como un set ordenado\n\n* Se pueden utilizar operaciones de conjuntos con los ``Index`` siguiendo las convenciones de Python"
    },
    {
      "metadata": {
        "colab": {
          "autoexec": {
            "startup": false,
            "wait_interval": 0
          }
        },
        "colab_type": "code",
        "id": "68AL1vxcFYSU",
        "trusted": true
      },
      "cell_type": "code",
      "source": "indA = pd.Index([1, 3, 5, 7, 9])\nindB = pd.Index([2, 3, 5, 7, 11])",
      "execution_count": null,
      "outputs": []
    },
    {
      "metadata": {
        "colab": {
          "autoexec": {
            "startup": false,
            "wait_interval": 0
          }
        },
        "colab_type": "code",
        "id": "u2KZHTVIFYSX",
        "trusted": true
      },
      "cell_type": "code",
      "source": "indA & indB  # intersection",
      "execution_count": null,
      "outputs": []
    },
    {
      "metadata": {
        "colab": {
          "autoexec": {
            "startup": false,
            "wait_interval": 0
          }
        },
        "colab_type": "code",
        "id": "xUdqsqnsFYSZ",
        "trusted": true
      },
      "cell_type": "code",
      "source": "indA | indB  # union",
      "execution_count": null,
      "outputs": []
    },
    {
      "metadata": {
        "colab": {
          "autoexec": {
            "startup": false,
            "wait_interval": 0
          }
        },
        "colab_type": "code",
        "id": "1S2IueaCFYSb",
        "trusted": true
      },
      "cell_type": "code",
      "source": "indA ^ indB  # symmetric difference",
      "execution_count": null,
      "outputs": []
    },
    {
      "metadata": {
        "trusted": true
      },
      "cell_type": "code",
      "source": "indA.difference(indB) # indA - indB\n# set(indA)-set(indB)",
      "execution_count": null,
      "outputs": []
    },
    {
      "metadata": {},
      "cell_type": "markdown",
      "source": "#### Pequeño paréntesis sobre conjuntos en Python:"
    },
    {
      "metadata": {
        "trusted": true
      },
      "cell_type": "code",
      "source": "setA = set([1, 3, 5, 7, 9])\nsetB = set([2, 3, 5, 7, 11])",
      "execution_count": null,
      "outputs": []
    },
    {
      "metadata": {
        "trusted": true
      },
      "cell_type": "code",
      "source": "setA - setB",
      "execution_count": null,
      "outputs": []
    },
    {
      "metadata": {
        "trusted": true
      },
      "cell_type": "code",
      "source": "setB - setA",
      "execution_count": null,
      "outputs": []
    },
    {
      "metadata": {
        "trusted": true
      },
      "cell_type": "code",
      "source": "setA | setB",
      "execution_count": null,
      "outputs": []
    },
    {
      "metadata": {
        "trusted": true
      },
      "cell_type": "code",
      "source": "setA & setB",
      "execution_count": null,
      "outputs": []
    },
    {
      "metadata": {
        "trusted": true
      },
      "cell_type": "code",
      "source": "setA ^ setB",
      "execution_count": null,
      "outputs": []
    },
    {
      "metadata": {
        "trusted": true
      },
      "cell_type": "code",
      "source": "",
      "execution_count": null,
      "outputs": []
    },
    {
      "metadata": {
        "trusted": true
      },
      "cell_type": "code",
      "source": "",
      "execution_count": null,
      "outputs": []
    }
  ],
  "metadata": {
    "colab": {
      "default_view": {},
      "name": "PRACTICA_GUIADA_1_Pandas_1.ipynb",
      "provenance": [],
      "version": "0.3.2",
      "views": {}
    },
    "kernelspec": {
      "name": "python3",
      "display_name": "Python 3",
      "language": "python"
    },
    "language_info": {
      "mimetype": "text/x-python",
      "nbconvert_exporter": "python",
      "name": "python",
      "file_extension": ".py",
      "version": "3.5.4",
      "pygments_lexer": "ipython3",
      "codemirror_mode": {
        "version": 3,
        "name": "ipython"
      }
    }
  },
  "nbformat": 4,
  "nbformat_minor": 1
}