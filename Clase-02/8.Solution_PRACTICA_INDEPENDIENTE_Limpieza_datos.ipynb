{
 "cells": [
  {
   "cell_type": "markdown",
   "metadata": {
    "colab_type": "text",
    "id": "WHDrCi79lycm"
   },
   "source": [
    "## Práctica Individual\n",
    "\n",
    "Utilizando el archivo _sales.csv_ de la primera clase:\n",
    "\n",
    "- Cargarlo en un dataframe e inspeccionar los tipos de datos.\n",
    "- Suponiendo que encontramos que todos los valores de la columna 1 son incorrectos y debería sumarse 1 unidad a cada uno. Utilizar **df.apply** para agregar esa cantidad a los valores.\n",
    "- Cambiar todos los valores de la columna price mayores a 50000 por NaN. Luego, rellenar estos valores con el anterior en la columna.\n",
    "- Utilizar **value_counts** para contar los valores de la columna 1 del dataset.\n",
    "\n",
    "## Bonus\n",
    "\n",
    "- Agregar 3 unidades a la columna Price\n",
    "- Utilizar **value_counts** para cada una de las columnas del dataset"
   ]
  },
  {
   "cell_type": "code",
   "execution_count": 1,
   "metadata": {
    "colab": {
     "autoexec": {
      "startup": false,
      "wait_interval": 0
     }
    },
    "colab_type": "code",
    "id": "o5UJlZ2Zlycp"
   },
   "outputs": [],
   "source": [
    "import pandas as pd\n",
    "import numpy as np"
   ]
  },
  {
   "cell_type": "code",
   "execution_count": 2,
   "metadata": {
    "colab": {
     "autoexec": {
      "startup": false,
      "wait_interval": 0
     }
    },
    "colab_type": "code",
    "id": "Ts3v-rAYlycy"
   },
   "outputs": [],
   "source": [
    "df = pd.read_csv('sales.csv')"
   ]
  },
  {
   "cell_type": "code",
   "execution_count": 3,
   "metadata": {
    "colab": {
     "autoexec": {
      "startup": false,
      "wait_interval": 0
     }
    },
    "colab_type": "code",
    "id": "num4DOzalyc2",
    "outputId": "a10535c6-2a83-4f32-9a0e-a5dfd7934bad"
   },
   "outputs": [
    {
     "data": {
      "text/html": [
       "<div>\n",
       "<style scoped>\n",
       "    .dataframe tbody tr th:only-of-type {\n",
       "        vertical-align: middle;\n",
       "    }\n",
       "\n",
       "    .dataframe tbody tr th {\n",
       "        vertical-align: top;\n",
       "    }\n",
       "\n",
       "    .dataframe thead th {\n",
       "        text-align: right;\n",
       "    }\n",
       "</style>\n",
       "<table border=\"1\" class=\"dataframe\">\n",
       "  <thead>\n",
       "    <tr style=\"text-align: right;\">\n",
       "      <th></th>\n",
       "      <th>Account</th>\n",
       "      <th>Name</th>\n",
       "      <th>Rep</th>\n",
       "      <th>Manager</th>\n",
       "      <th>Product</th>\n",
       "      <th>Quantity</th>\n",
       "      <th>Price</th>\n",
       "      <th>Status</th>\n",
       "    </tr>\n",
       "  </thead>\n",
       "  <tbody>\n",
       "    <tr>\n",
       "      <th>0</th>\n",
       "      <td>714466</td>\n",
       "      <td>Trantow-Barrows</td>\n",
       "      <td>Craig Booker</td>\n",
       "      <td>Debra Henley</td>\n",
       "      <td>CPU</td>\n",
       "      <td>1</td>\n",
       "      <td>30000</td>\n",
       "      <td>presented</td>\n",
       "    </tr>\n",
       "    <tr>\n",
       "      <th>1</th>\n",
       "      <td>714466</td>\n",
       "      <td>Trantow-Barrows</td>\n",
       "      <td>Craig Booker</td>\n",
       "      <td>Debra Henley</td>\n",
       "      <td>Software</td>\n",
       "      <td>1</td>\n",
       "      <td>10000</td>\n",
       "      <td>presented</td>\n",
       "    </tr>\n",
       "    <tr>\n",
       "      <th>2</th>\n",
       "      <td>714466</td>\n",
       "      <td>Trantow-Barrows</td>\n",
       "      <td>Craig Booker</td>\n",
       "      <td>Debra Henley</td>\n",
       "      <td>Maintenance</td>\n",
       "      <td>2</td>\n",
       "      <td>5000</td>\n",
       "      <td>pending</td>\n",
       "    </tr>\n",
       "    <tr>\n",
       "      <th>3</th>\n",
       "      <td>737550</td>\n",
       "      <td>Russel and Anderson</td>\n",
       "      <td>Craig Booker</td>\n",
       "      <td>Debra Henley</td>\n",
       "      <td>CPU</td>\n",
       "      <td>1</td>\n",
       "      <td>35000</td>\n",
       "      <td>declined</td>\n",
       "    </tr>\n",
       "    <tr>\n",
       "      <th>4</th>\n",
       "      <td>146832</td>\n",
       "      <td>Kiehn-Spinka</td>\n",
       "      <td>Daniel Hilton</td>\n",
       "      <td>Debra Henley</td>\n",
       "      <td>CPU</td>\n",
       "      <td>2</td>\n",
       "      <td>65000</td>\n",
       "      <td>won</td>\n",
       "    </tr>\n",
       "    <tr>\n",
       "      <th>5</th>\n",
       "      <td>218895</td>\n",
       "      <td>Kulas Inc</td>\n",
       "      <td>Daniel Hilton</td>\n",
       "      <td>Debra Henley</td>\n",
       "      <td>CPU</td>\n",
       "      <td>2</td>\n",
       "      <td>40000</td>\n",
       "      <td>pending</td>\n",
       "    </tr>\n",
       "    <tr>\n",
       "      <th>6</th>\n",
       "      <td>218895</td>\n",
       "      <td>Kulas Inc</td>\n",
       "      <td>Daniel Hilton</td>\n",
       "      <td>Debra Henley</td>\n",
       "      <td>Software</td>\n",
       "      <td>1</td>\n",
       "      <td>10000</td>\n",
       "      <td>presented</td>\n",
       "    </tr>\n",
       "    <tr>\n",
       "      <th>7</th>\n",
       "      <td>412290</td>\n",
       "      <td>Jerde-Hilpert</td>\n",
       "      <td>John Smith</td>\n",
       "      <td>Debra Henley</td>\n",
       "      <td>Maintenance</td>\n",
       "      <td>2</td>\n",
       "      <td>5000</td>\n",
       "      <td>pending</td>\n",
       "    </tr>\n",
       "    <tr>\n",
       "      <th>8</th>\n",
       "      <td>740150</td>\n",
       "      <td>Barton LLC</td>\n",
       "      <td>John Smith</td>\n",
       "      <td>Debra Henley</td>\n",
       "      <td>CPU</td>\n",
       "      <td>1</td>\n",
       "      <td>35000</td>\n",
       "      <td>declined</td>\n",
       "    </tr>\n",
       "    <tr>\n",
       "      <th>9</th>\n",
       "      <td>141962</td>\n",
       "      <td>Herman LLC</td>\n",
       "      <td>Cedric Moss</td>\n",
       "      <td>Fred Anderson</td>\n",
       "      <td>CPU</td>\n",
       "      <td>2</td>\n",
       "      <td>65000</td>\n",
       "      <td>won</td>\n",
       "    </tr>\n",
       "  </tbody>\n",
       "</table>\n",
       "</div>"
      ],
      "text/plain": [
       "   Account                 Name            Rep        Manager      Product  \\\n",
       "0   714466      Trantow-Barrows   Craig Booker   Debra Henley          CPU   \n",
       "1   714466      Trantow-Barrows   Craig Booker   Debra Henley     Software   \n",
       "2   714466      Trantow-Barrows   Craig Booker   Debra Henley  Maintenance   \n",
       "3   737550  Russel and Anderson   Craig Booker   Debra Henley          CPU   \n",
       "4   146832         Kiehn-Spinka  Daniel Hilton   Debra Henley          CPU   \n",
       "5   218895            Kulas Inc  Daniel Hilton   Debra Henley          CPU   \n",
       "6   218895            Kulas Inc  Daniel Hilton   Debra Henley     Software   \n",
       "7   412290        Jerde-Hilpert     John Smith   Debra Henley  Maintenance   \n",
       "8   740150           Barton LLC     John Smith   Debra Henley          CPU   \n",
       "9   141962           Herman LLC    Cedric Moss  Fred Anderson          CPU   \n",
       "\n",
       "   Quantity  Price     Status  \n",
       "0         1  30000  presented  \n",
       "1         1  10000  presented  \n",
       "2         2   5000    pending  \n",
       "3         1  35000   declined  \n",
       "4         2  65000        won  \n",
       "5         2  40000    pending  \n",
       "6         1  10000  presented  \n",
       "7         2   5000    pending  \n",
       "8         1  35000   declined  \n",
       "9         2  65000        won  "
      ]
     },
     "execution_count": 3,
     "metadata": {},
     "output_type": "execute_result"
    }
   ],
   "source": [
    "df.head(10)"
   ]
  },
  {
   "cell_type": "code",
   "execution_count": 4,
   "metadata": {},
   "outputs": [
    {
     "data": {
      "text/plain": [
       "(17, 8)"
      ]
     },
     "execution_count": 4,
     "metadata": {},
     "output_type": "execute_result"
    }
   ],
   "source": [
    "df.shape"
   ]
  },
  {
   "cell_type": "code",
   "execution_count": 5,
   "metadata": {},
   "outputs": [
    {
     "name": "stdout",
     "output_type": "stream",
     "text": [
      "<class 'pandas.core.frame.DataFrame'>\n",
      "RangeIndex: 17 entries, 0 to 16\n",
      "Data columns (total 8 columns):\n",
      "Account     17 non-null int64\n",
      "Name        17 non-null object\n",
      "Rep         17 non-null object\n",
      "Manager     17 non-null object\n",
      "Product     17 non-null object\n",
      "Quantity    17 non-null int64\n",
      "Price       17 non-null int64\n",
      "Status      17 non-null object\n",
      "dtypes: int64(3), object(5)\n",
      "memory usage: 1.1+ KB\n"
     ]
    }
   ],
   "source": [
    "df.info()"
   ]
  },
  {
   "cell_type": "code",
   "execution_count": 6,
   "metadata": {
    "colab": {
     "autoexec": {
      "startup": false,
      "wait_interval": 0
     }
    },
    "colab_type": "code",
    "id": "FHpCd8DGlyc_"
   },
   "outputs": [],
   "source": [
    "df.iloc[:,0] = df.iloc[:,0].apply(lambda x: x+1)"
   ]
  },
  {
   "cell_type": "code",
   "execution_count": 7,
   "metadata": {},
   "outputs": [
    {
     "data": {
      "text/plain": [
       "Account     0\n",
       "Name        0\n",
       "Rep         0\n",
       "Manager     0\n",
       "Product     0\n",
       "Quantity    0\n",
       "Price       0\n",
       "Status      0\n",
       "dtype: int64"
      ]
     },
     "execution_count": 7,
     "metadata": {},
     "output_type": "execute_result"
    }
   ],
   "source": [
    "np.sum(df.isnull())"
   ]
  },
  {
   "cell_type": "code",
   "execution_count": 8,
   "metadata": {
    "colab": {
     "autoexec": {
      "startup": false,
      "wait_interval": 0
     }
    },
    "colab_type": "code",
    "id": "Mkl49iMXlydE"
   },
   "outputs": [],
   "source": [
    "df[\"Price\"] = df[\"Price\"].apply(lambda x: np.nan if x>50000 else x)"
   ]
  },
  {
   "cell_type": "code",
   "execution_count": 9,
   "metadata": {},
   "outputs": [
    {
     "data": {
      "text/plain": [
       "Account     0\n",
       "Name        0\n",
       "Rep         0\n",
       "Manager     0\n",
       "Product     0\n",
       "Quantity    0\n",
       "Price       4\n",
       "Status      0\n",
       "dtype: int64"
      ]
     },
     "execution_count": 9,
     "metadata": {},
     "output_type": "execute_result"
    }
   ],
   "source": [
    "np.sum(df.isnull())"
   ]
  },
  {
   "cell_type": "code",
   "execution_count": 10,
   "metadata": {},
   "outputs": [
    {
     "data": {
      "text/html": [
       "<div>\n",
       "<style scoped>\n",
       "    .dataframe tbody tr th:only-of-type {\n",
       "        vertical-align: middle;\n",
       "    }\n",
       "\n",
       "    .dataframe tbody tr th {\n",
       "        vertical-align: top;\n",
       "    }\n",
       "\n",
       "    .dataframe thead th {\n",
       "        text-align: right;\n",
       "    }\n",
       "</style>\n",
       "<table border=\"1\" class=\"dataframe\">\n",
       "  <thead>\n",
       "    <tr style=\"text-align: right;\">\n",
       "      <th></th>\n",
       "      <th>Account</th>\n",
       "      <th>Name</th>\n",
       "      <th>Rep</th>\n",
       "      <th>Manager</th>\n",
       "      <th>Product</th>\n",
       "      <th>Quantity</th>\n",
       "      <th>Price</th>\n",
       "      <th>Status</th>\n",
       "    </tr>\n",
       "  </thead>\n",
       "  <tbody>\n",
       "    <tr>\n",
       "      <th>4</th>\n",
       "      <td>146833</td>\n",
       "      <td>Kiehn-Spinka</td>\n",
       "      <td>Daniel Hilton</td>\n",
       "      <td>Debra Henley</td>\n",
       "      <td>CPU</td>\n",
       "      <td>2</td>\n",
       "      <td>NaN</td>\n",
       "      <td>won</td>\n",
       "    </tr>\n",
       "    <tr>\n",
       "      <th>9</th>\n",
       "      <td>141963</td>\n",
       "      <td>Herman LLC</td>\n",
       "      <td>Cedric Moss</td>\n",
       "      <td>Fred Anderson</td>\n",
       "      <td>CPU</td>\n",
       "      <td>2</td>\n",
       "      <td>NaN</td>\n",
       "      <td>won</td>\n",
       "    </tr>\n",
       "    <tr>\n",
       "      <th>14</th>\n",
       "      <td>688982</td>\n",
       "      <td>Keeling LLC</td>\n",
       "      <td>Wendy Yule</td>\n",
       "      <td>Fred Anderson</td>\n",
       "      <td>CPU</td>\n",
       "      <td>5</td>\n",
       "      <td>NaN</td>\n",
       "      <td>won</td>\n",
       "    </tr>\n",
       "    <tr>\n",
       "      <th>15</th>\n",
       "      <td>729834</td>\n",
       "      <td>Koepp Ltd</td>\n",
       "      <td>Wendy Yule</td>\n",
       "      <td>Fred Anderson</td>\n",
       "      <td>CPU</td>\n",
       "      <td>2</td>\n",
       "      <td>NaN</td>\n",
       "      <td>declined</td>\n",
       "    </tr>\n",
       "  </tbody>\n",
       "</table>\n",
       "</div>"
      ],
      "text/plain": [
       "    Account          Name            Rep        Manager Product  Quantity  \\\n",
       "4    146833  Kiehn-Spinka  Daniel Hilton   Debra Henley     CPU         2   \n",
       "9    141963    Herman LLC    Cedric Moss  Fred Anderson     CPU         2   \n",
       "14   688982   Keeling LLC     Wendy Yule  Fred Anderson     CPU         5   \n",
       "15   729834     Koepp Ltd     Wendy Yule  Fred Anderson     CPU         2   \n",
       "\n",
       "    Price    Status  \n",
       "4     NaN       won  \n",
       "9     NaN       won  \n",
       "14    NaN       won  \n",
       "15    NaN  declined  "
      ]
     },
     "execution_count": 10,
     "metadata": {},
     "output_type": "execute_result"
    }
   ],
   "source": [
    "df[df['Price'].isnull()]"
   ]
  },
  {
   "cell_type": "code",
   "execution_count": 11,
   "metadata": {},
   "outputs": [],
   "source": [
    "df['Price'].fillna(method='ffill', inplace=True)"
   ]
  },
  {
   "cell_type": "code",
   "execution_count": 12,
   "metadata": {},
   "outputs": [
    {
     "data": {
      "text/plain": [
       "Account     0\n",
       "Name        0\n",
       "Rep         0\n",
       "Manager     0\n",
       "Product     0\n",
       "Quantity    0\n",
       "Price       0\n",
       "Status      0\n",
       "dtype: int64"
      ]
     },
     "execution_count": 12,
     "metadata": {},
     "output_type": "execute_result"
    }
   ],
   "source": [
    "np.sum(df.isnull())"
   ]
  },
  {
   "cell_type": "code",
   "execution_count": 13,
   "metadata": {
    "colab": {
     "autoexec": {
      "startup": false,
      "wait_interval": 0
     }
    },
    "colab_type": "code",
    "id": "aYERFQLhlydR",
    "outputId": "3000b454-143f-4120-e69d-c8b9c179d797"
   },
   "outputs": [
    {
     "data": {
      "text/plain": [
       "714467    3\n",
       "218896    2\n",
       "729834    2\n",
       "239345    2\n",
       "163417    1\n",
       "740151    1\n",
       "307600    1\n",
       "146833    1\n",
       "737551    1\n",
       "412291    1\n",
       "141963    1\n",
       "688982    1\n",
       "Name: Account, dtype: int64"
      ]
     },
     "execution_count": 13,
     "metadata": {},
     "output_type": "execute_result"
    }
   ],
   "source": [
    "df['Account'].value_counts()"
   ]
  },
  {
   "cell_type": "code",
   "execution_count": 14,
   "metadata": {
    "colab": {
     "autoexec": {
      "startup": false,
      "wait_interval": 0
     }
    },
    "colab_type": "code",
    "id": "ZinEuFuElydX"
   },
   "outputs": [],
   "source": [
    "df[\"Price\"] = df[\"Price\"].apply(lambda x: x+3)"
   ]
  },
  {
   "cell_type": "code",
   "execution_count": 15,
   "metadata": {
    "colab": {
     "autoexec": {
      "startup": false,
      "wait_interval": 0
     }
    },
    "colab_type": "code",
    "id": "tn5KOK_Olydb",
    "outputId": "c4fd4f3e-2969-443f-a18a-96c327a401a9"
   },
   "outputs": [
    {
     "name": "stdout",
     "output_type": "stream",
     "text": [
      "-----Account-----\n",
      "714467    3\n",
      "218896    2\n",
      "729834    2\n",
      "239345    2\n",
      "163417    1\n",
      "740151    1\n",
      "307600    1\n",
      "146833    1\n",
      "737551    1\n",
      "412291    1\n",
      "141963    1\n",
      "688982    1\n",
      "Name: Account, dtype: int64\n",
      "\n",
      "-----Name-----\n",
      "Trantow-Barrows        3\n",
      "Kulas Inc              2\n",
      "Stokes LLC             2\n",
      "Koepp Ltd              2\n",
      "Jerde-Hilpert          1\n",
      "Purdy-Kunde            1\n",
      "Ondricka and Metz      1\n",
      "Herman LLC             1\n",
      "Russel and Anderson    1\n",
      "Barton LLC             1\n",
      "Kiehn-Spinka           1\n",
      "Keeling LLC            1\n",
      "Name: Name, dtype: int64\n",
      "\n",
      "-----Rep-----\n",
      "Cedric Moss      4\n",
      "Craig Booker     4\n",
      "Wendy Yule       4\n",
      "Daniel Hilton    3\n",
      "John Smith       2\n",
      "Name: Rep, dtype: int64\n",
      "\n",
      "-----Manager-----\n",
      "Debra Henley     9\n",
      "Fred Anderson    8\n",
      "Name: Manager, dtype: int64\n",
      "\n",
      "-----Product-----\n",
      "CPU            9\n",
      "Maintenance    4\n",
      "Software       3\n",
      "Monitor        1\n",
      "Name: Product, dtype: int64\n",
      "\n",
      "-----Quantity-----\n",
      "1    8\n",
      "2    7\n",
      "5    1\n",
      "3    1\n",
      "Name: Quantity, dtype: int64\n",
      "\n",
      "-----Price-----\n",
      "5003.0     4\n",
      "35003.0    4\n",
      "10003.0    3\n",
      "7003.0     3\n",
      "30003.0    2\n",
      "40003.0    1\n",
      "Name: Price, dtype: int64\n",
      "\n",
      "-----Status-----\n",
      "presented    6\n",
      "pending      4\n",
      "won          4\n",
      "declined     3\n",
      "Name: Status, dtype: int64\n",
      "\n"
     ]
    }
   ],
   "source": [
    "for c in df.columns:\n",
    "    print ('-----{}-----'.format(c))\n",
    "    print (df[c].value_counts())\n",
    "    print('')"
   ]
  }
 ],
 "metadata": {
  "colab": {
   "default_view": {},
   "name": "Solution_PRACTICA_INDEPENDIENTE_Limpieza_datos.ipynb",
   "provenance": [],
   "version": "0.3.2",
   "views": {}
  },
  "kernelspec": {
   "display_name": "Python 3",
   "language": "python",
   "name": "python3"
  },
  "language_info": {
   "codemirror_mode": {
    "name": "ipython",
    "version": 3
   },
   "file_extension": ".py",
   "mimetype": "text/x-python",
   "name": "python",
   "nbconvert_exporter": "python",
   "pygments_lexer": "ipython3",
   "version": "3.6.8"
  }
 },
 "nbformat": 4,
 "nbformat_minor": 1
}
