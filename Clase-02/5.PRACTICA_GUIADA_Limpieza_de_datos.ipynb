{
  "cells": [
    {
      "metadata": {
        "colab_type": "text",
        "id": "PYwVSR9WcUX3"
      },
      "cell_type": "markdown",
      "source": "## Parte I - Datos faltantes\n\nPandas provee un conjunto de métodos para trabajar con datos faltantes.\nLos métodos reconocen como datos faltantes valores que pueden provenir de Numpy o de Python nativo. "
    },
    {
      "metadata": {
        "colab": {},
        "colab_type": "code",
        "id": "fPtL-gptcUX6",
        "trusted": true
      },
      "cell_type": "code",
      "source": "import pandas as pd",
      "execution_count": 57,
      "outputs": []
    },
    {
      "metadata": {
        "colab": {},
        "colab_type": "code",
        "id": "tIFoc2bQcUYC",
        "trusted": true
      },
      "cell_type": "code",
      "source": "import numpy as np",
      "execution_count": 58,
      "outputs": []
    },
    {
      "metadata": {
        "colab_type": "text",
        "id": "I-HxAQPRcUYH"
      },
      "cell_type": "markdown",
      "source": "#### Detección de datos faltantes\n\nEl método isnull() devuelve una **máscara booleana** para la serie que indica los datos faltantes. "
    },
    {
      "metadata": {
        "colab": {},
        "colab_type": "code",
        "id": "1sXwLdl8cUYJ",
        "outputId": "4051b2e9-ab75-41cc-9db7-0481b5f89853",
        "trusted": true
      },
      "cell_type": "code",
      "source": "string_data = pd.Series(['manzana', 'pera', np.nan, 'naranja'])\nstring_data.isnull()",
      "execution_count": 59,
      "outputs": [
        {
          "output_type": "execute_result",
          "execution_count": 59,
          "data": {
            "text/plain": "0    False\n1    False\n2     True\n3    False\ndtype: bool"
          },
          "metadata": {}
        }
      ]
    },
    {
      "metadata": {
        "colab": {},
        "colab_type": "code",
        "id": "uvmEmfeacUYR",
        "outputId": "b6b1633c-ae90-420d-9a18-b58569c89022",
        "trusted": true
      },
      "cell_type": "code",
      "source": "string_data = pd.Series([None, 'pera', np.nan, 'naranja'])\n# El método reconoce también al valor faltante de Python nativo\nstring_data.isnull()",
      "execution_count": 60,
      "outputs": [
        {
          "output_type": "execute_result",
          "execution_count": 60,
          "data": {
            "text/plain": "0     True\n1    False\n2     True\n3    False\ndtype: bool"
          },
          "metadata": {}
        }
      ]
    },
    {
      "metadata": {
        "colab_type": "text",
        "id": "2mOhU4BZcUYV"
      },
      "cell_type": "markdown",
      "source": "Para encontrar los valores con datos faltantes, podemos filtrar la serie utilizando boolean indexing"
    },
    {
      "metadata": {
        "colab": {},
        "colab_type": "code",
        "id": "Q-VVryJscUYX",
        "outputId": "6a0512bb-8263-4e22-ab5b-2807c514539f",
        "trusted": true
      },
      "cell_type": "code",
      "source": "# Filtro los valores nulos\nprint(string_data[string_data.isnull()])\n\nprint('\\n')\n# Filtro los valores no nulos\nprint(string_data[string_data.notnull()])",
      "execution_count": 61,
      "outputs": [
        {
          "output_type": "stream",
          "text": "0    None\n2     NaN\ndtype: object\n\n\n1       pera\n3    naranja\ndtype: object\n",
          "name": "stdout"
        }
      ]
    },
    {
      "metadata": {
        "colab_type": "text",
        "id": "JjzEqQXYcUYe"
      },
      "cell_type": "markdown",
      "source": "A la hora de trabajar con dataframes, podemos seleccionar las filas o columnas que no contienen ningún valor faltante "
    },
    {
      "metadata": {
        "colab": {},
        "colab_type": "code",
        "id": "uewoe-u9cUYf",
        "outputId": "5b4a3651-af17-4b65-dd27-47d3293d09f7",
        "trusted": true
      },
      "cell_type": "code",
      "source": "df = pd.DataFrame(np.random.randn(7, 3))\ndf",
      "execution_count": 62,
      "outputs": [
        {
          "output_type": "execute_result",
          "execution_count": 62,
          "data": {
            "text/html": "<div>\n<table border=\"1\" class=\"dataframe\">\n  <thead>\n    <tr style=\"text-align: right;\">\n      <th></th>\n      <th>0</th>\n      <th>1</th>\n      <th>2</th>\n    </tr>\n  </thead>\n  <tbody>\n    <tr>\n      <th>0</th>\n      <td>0.889287</td>\n      <td>-1.798516</td>\n      <td>-0.062841</td>\n    </tr>\n    <tr>\n      <th>1</th>\n      <td>2.464814</td>\n      <td>-0.588787</td>\n      <td>1.268561</td>\n    </tr>\n    <tr>\n      <th>2</th>\n      <td>0.105115</td>\n      <td>-0.480651</td>\n      <td>-0.655002</td>\n    </tr>\n    <tr>\n      <th>3</th>\n      <td>0.635290</td>\n      <td>0.004996</td>\n      <td>-1.056647</td>\n    </tr>\n    <tr>\n      <th>4</th>\n      <td>1.143256</td>\n      <td>-0.670853</td>\n      <td>-0.772109</td>\n    </tr>\n    <tr>\n      <th>5</th>\n      <td>0.486893</td>\n      <td>-0.000273</td>\n      <td>-0.326149</td>\n    </tr>\n    <tr>\n      <th>6</th>\n      <td>-0.784167</td>\n      <td>0.438174</td>\n      <td>0.009092</td>\n    </tr>\n  </tbody>\n</table>\n</div>",
            "text/plain": "          0         1         2\n0  0.889287 -1.798516 -0.062841\n1  2.464814 -0.588787  1.268561\n2  0.105115 -0.480651 -0.655002\n3  0.635290  0.004996 -1.056647\n4  1.143256 -0.670853 -0.772109\n5  0.486893 -0.000273 -0.326149\n6 -0.784167  0.438174  0.009092"
          },
          "metadata": {}
        }
      ]
    },
    {
      "metadata": {
        "colab": {},
        "colab_type": "code",
        "id": "b5VbacV6cUYk",
        "outputId": "a478237b-9921-4d4e-f14f-86324ab9a861",
        "trusted": true
      },
      "cell_type": "code",
      "source": "# Ahora generamos algunos datos faltantes\ndf.iloc[:4, 1] = np.nan\ndf.iloc[:2, 2] = np.nan\ndf",
      "execution_count": 63,
      "outputs": [
        {
          "output_type": "execute_result",
          "execution_count": 63,
          "data": {
            "text/html": "<div>\n<table border=\"1\" class=\"dataframe\">\n  <thead>\n    <tr style=\"text-align: right;\">\n      <th></th>\n      <th>0</th>\n      <th>1</th>\n      <th>2</th>\n    </tr>\n  </thead>\n  <tbody>\n    <tr>\n      <th>0</th>\n      <td>0.889287</td>\n      <td>NaN</td>\n      <td>NaN</td>\n    </tr>\n    <tr>\n      <th>1</th>\n      <td>2.464814</td>\n      <td>NaN</td>\n      <td>NaN</td>\n    </tr>\n    <tr>\n      <th>2</th>\n      <td>0.105115</td>\n      <td>NaN</td>\n      <td>-0.655002</td>\n    </tr>\n    <tr>\n      <th>3</th>\n      <td>0.635290</td>\n      <td>NaN</td>\n      <td>-1.056647</td>\n    </tr>\n    <tr>\n      <th>4</th>\n      <td>1.143256</td>\n      <td>-0.670853</td>\n      <td>-0.772109</td>\n    </tr>\n    <tr>\n      <th>5</th>\n      <td>0.486893</td>\n      <td>-0.000273</td>\n      <td>-0.326149</td>\n    </tr>\n    <tr>\n      <th>6</th>\n      <td>-0.784167</td>\n      <td>0.438174</td>\n      <td>0.009092</td>\n    </tr>\n  </tbody>\n</table>\n</div>",
            "text/plain": "          0         1         2\n0  0.889287       NaN       NaN\n1  2.464814       NaN       NaN\n2  0.105115       NaN -0.655002\n3  0.635290       NaN -1.056647\n4  1.143256 -0.670853 -0.772109\n5  0.486893 -0.000273 -0.326149\n6 -0.784167  0.438174  0.009092"
          },
          "metadata": {}
        }
      ]
    },
    {
      "metadata": {
        "colab": {},
        "colab_type": "code",
        "id": "zTumIYVBcUYr",
        "outputId": "06d21658-1034-491b-df6e-a154f78d38d7",
        "trusted": true
      },
      "cell_type": "code",
      "source": "# Devuelve las filas completas\ndf.dropna()",
      "execution_count": 64,
      "outputs": [
        {
          "output_type": "execute_result",
          "execution_count": 64,
          "data": {
            "text/html": "<div>\n<table border=\"1\" class=\"dataframe\">\n  <thead>\n    <tr style=\"text-align: right;\">\n      <th></th>\n      <th>0</th>\n      <th>1</th>\n      <th>2</th>\n    </tr>\n  </thead>\n  <tbody>\n    <tr>\n      <th>4</th>\n      <td>1.143256</td>\n      <td>-0.670853</td>\n      <td>-0.772109</td>\n    </tr>\n    <tr>\n      <th>5</th>\n      <td>0.486893</td>\n      <td>-0.000273</td>\n      <td>-0.326149</td>\n    </tr>\n    <tr>\n      <th>6</th>\n      <td>-0.784167</td>\n      <td>0.438174</td>\n      <td>0.009092</td>\n    </tr>\n  </tbody>\n</table>\n</div>",
            "text/plain": "          0         1         2\n4  1.143256 -0.670853 -0.772109\n5  0.486893 -0.000273 -0.326149\n6 -0.784167  0.438174  0.009092"
          },
          "metadata": {}
        }
      ]
    },
    {
      "metadata": {
        "colab": {},
        "colab_type": "code",
        "id": "pgL5AjN4cUYy",
        "outputId": "2fdc920b-86fe-43a4-ef2c-a484af1429a7",
        "trusted": true
      },
      "cell_type": "code",
      "source": "# Devuelve las columnas completas\ndf.dropna(axis=1)",
      "execution_count": 65,
      "outputs": [
        {
          "output_type": "execute_result",
          "execution_count": 65,
          "data": {
            "text/html": "<div>\n<table border=\"1\" class=\"dataframe\">\n  <thead>\n    <tr style=\"text-align: right;\">\n      <th></th>\n      <th>0</th>\n    </tr>\n  </thead>\n  <tbody>\n    <tr>\n      <th>0</th>\n      <td>0.889287</td>\n    </tr>\n    <tr>\n      <th>1</th>\n      <td>2.464814</td>\n    </tr>\n    <tr>\n      <th>2</th>\n      <td>0.105115</td>\n    </tr>\n    <tr>\n      <th>3</th>\n      <td>0.635290</td>\n    </tr>\n    <tr>\n      <th>4</th>\n      <td>1.143256</td>\n    </tr>\n    <tr>\n      <th>5</th>\n      <td>0.486893</td>\n    </tr>\n    <tr>\n      <th>6</th>\n      <td>-0.784167</td>\n    </tr>\n  </tbody>\n</table>\n</div>",
            "text/plain": "          0\n0  0.889287\n1  2.464814\n2  0.105115\n3  0.635290\n4  1.143256\n5  0.486893\n6 -0.784167"
          },
          "metadata": {}
        }
      ]
    },
    {
      "metadata": {
        "colab": {},
        "colab_type": "code",
        "id": "mEY5NpKnbTor",
        "outputId": "9ef2c156-cff7-44f6-a471-ce32a434e1a5",
        "trusted": true
      },
      "cell_type": "code",
      "source": "# imponemos la condición de que todos los elementos de la fila sean NaN para eliminarla\ndf.dropna(axis=0, how='all')",
      "execution_count": 66,
      "outputs": [
        {
          "output_type": "execute_result",
          "execution_count": 66,
          "data": {
            "text/html": "<div>\n<table border=\"1\" class=\"dataframe\">\n  <thead>\n    <tr style=\"text-align: right;\">\n      <th></th>\n      <th>0</th>\n      <th>1</th>\n      <th>2</th>\n    </tr>\n  </thead>\n  <tbody>\n    <tr>\n      <th>0</th>\n      <td>0.889287</td>\n      <td>NaN</td>\n      <td>NaN</td>\n    </tr>\n    <tr>\n      <th>1</th>\n      <td>2.464814</td>\n      <td>NaN</td>\n      <td>NaN</td>\n    </tr>\n    <tr>\n      <th>2</th>\n      <td>0.105115</td>\n      <td>NaN</td>\n      <td>-0.655002</td>\n    </tr>\n    <tr>\n      <th>3</th>\n      <td>0.635290</td>\n      <td>NaN</td>\n      <td>-1.056647</td>\n    </tr>\n    <tr>\n      <th>4</th>\n      <td>1.143256</td>\n      <td>-0.670853</td>\n      <td>-0.772109</td>\n    </tr>\n    <tr>\n      <th>5</th>\n      <td>0.486893</td>\n      <td>-0.000273</td>\n      <td>-0.326149</td>\n    </tr>\n    <tr>\n      <th>6</th>\n      <td>-0.784167</td>\n      <td>0.438174</td>\n      <td>0.009092</td>\n    </tr>\n  </tbody>\n</table>\n</div>",
            "text/plain": "          0         1         2\n0  0.889287       NaN       NaN\n1  2.464814       NaN       NaN\n2  0.105115       NaN -0.655002\n3  0.635290       NaN -1.056647\n4  1.143256 -0.670853 -0.772109\n5  0.486893 -0.000273 -0.326149\n6 -0.784167  0.438174  0.009092"
          },
          "metadata": {}
        }
      ]
    },
    {
      "metadata": {
        "colab": {},
        "colab_type": "code",
        "id": "Bsnxb8_NbTot",
        "outputId": "c6b7a1aa-6456-48bf-ff68-7768d19d883a",
        "trusted": true
      },
      "cell_type": "code",
      "source": "# imponemos la condición de que por lo menos haya 4 elementos que no sean NaN en la columna\ndf.dropna(axis=1, thresh=4)",
      "execution_count": 67,
      "outputs": [
        {
          "output_type": "execute_result",
          "execution_count": 67,
          "data": {
            "text/html": "<div>\n<table border=\"1\" class=\"dataframe\">\n  <thead>\n    <tr style=\"text-align: right;\">\n      <th></th>\n      <th>0</th>\n      <th>2</th>\n    </tr>\n  </thead>\n  <tbody>\n    <tr>\n      <th>0</th>\n      <td>0.889287</td>\n      <td>NaN</td>\n    </tr>\n    <tr>\n      <th>1</th>\n      <td>2.464814</td>\n      <td>NaN</td>\n    </tr>\n    <tr>\n      <th>2</th>\n      <td>0.105115</td>\n      <td>-0.655002</td>\n    </tr>\n    <tr>\n      <th>3</th>\n      <td>0.635290</td>\n      <td>-1.056647</td>\n    </tr>\n    <tr>\n      <th>4</th>\n      <td>1.143256</td>\n      <td>-0.772109</td>\n    </tr>\n    <tr>\n      <th>5</th>\n      <td>0.486893</td>\n      <td>-0.326149</td>\n    </tr>\n    <tr>\n      <th>6</th>\n      <td>-0.784167</td>\n      <td>0.009092</td>\n    </tr>\n  </tbody>\n</table>\n</div>",
            "text/plain": "          0         2\n0  0.889287       NaN\n1  2.464814       NaN\n2  0.105115 -0.655002\n3  0.635290 -1.056647\n4  1.143256 -0.772109\n5  0.486893 -0.326149\n6 -0.784167  0.009092"
          },
          "metadata": {}
        }
      ]
    },
    {
      "metadata": {
        "colab_type": "text",
        "id": "roMtuM81cUY4"
      },
      "cell_type": "markdown",
      "source": "#### Completar datos faltantes"
    },
    {
      "metadata": {
        "colab": {},
        "colab_type": "code",
        "id": "MXGDw6EgcUY5",
        "outputId": "1d9ac720-5dbc-4bcf-be33-92e902d8f76e",
        "trusted": true
      },
      "cell_type": "code",
      "source": "df.columns = ['col1','col2','col3']\ndf",
      "execution_count": 68,
      "outputs": [
        {
          "output_type": "execute_result",
          "execution_count": 68,
          "data": {
            "text/html": "<div>\n<table border=\"1\" class=\"dataframe\">\n  <thead>\n    <tr style=\"text-align: right;\">\n      <th></th>\n      <th>col1</th>\n      <th>col2</th>\n      <th>col3</th>\n    </tr>\n  </thead>\n  <tbody>\n    <tr>\n      <th>0</th>\n      <td>0.889287</td>\n      <td>NaN</td>\n      <td>NaN</td>\n    </tr>\n    <tr>\n      <th>1</th>\n      <td>2.464814</td>\n      <td>NaN</td>\n      <td>NaN</td>\n    </tr>\n    <tr>\n      <th>2</th>\n      <td>0.105115</td>\n      <td>NaN</td>\n      <td>-0.655002</td>\n    </tr>\n    <tr>\n      <th>3</th>\n      <td>0.635290</td>\n      <td>NaN</td>\n      <td>-1.056647</td>\n    </tr>\n    <tr>\n      <th>4</th>\n      <td>1.143256</td>\n      <td>-0.670853</td>\n      <td>-0.772109</td>\n    </tr>\n    <tr>\n      <th>5</th>\n      <td>0.486893</td>\n      <td>-0.000273</td>\n      <td>-0.326149</td>\n    </tr>\n    <tr>\n      <th>6</th>\n      <td>-0.784167</td>\n      <td>0.438174</td>\n      <td>0.009092</td>\n    </tr>\n  </tbody>\n</table>\n</div>",
            "text/plain": "       col1      col2      col3\n0  0.889287       NaN       NaN\n1  2.464814       NaN       NaN\n2  0.105115       NaN -0.655002\n3  0.635290       NaN -1.056647\n4  1.143256 -0.670853 -0.772109\n5  0.486893 -0.000273 -0.326149\n6 -0.784167  0.438174  0.009092"
          },
          "metadata": {}
        }
      ]
    },
    {
      "metadata": {
        "colab": {},
        "colab_type": "code",
        "id": "Maym8N9McUZA",
        "outputId": "79c58db2-20d1-4532-fd8e-f38b44d25721",
        "trusted": true
      },
      "cell_type": "code",
      "source": "# Completar con un escalar\n# Este método devuelve un nuevo objeto.\n# Para modificar df directamente se utiliza el parámetro inplace=True\n\ndf.fillna(0)",
      "execution_count": 69,
      "outputs": [
        {
          "output_type": "execute_result",
          "execution_count": 69,
          "data": {
            "text/html": "<div>\n<table border=\"1\" class=\"dataframe\">\n  <thead>\n    <tr style=\"text-align: right;\">\n      <th></th>\n      <th>col1</th>\n      <th>col2</th>\n      <th>col3</th>\n    </tr>\n  </thead>\n  <tbody>\n    <tr>\n      <th>0</th>\n      <td>0.889287</td>\n      <td>0.000000</td>\n      <td>0.000000</td>\n    </tr>\n    <tr>\n      <th>1</th>\n      <td>2.464814</td>\n      <td>0.000000</td>\n      <td>0.000000</td>\n    </tr>\n    <tr>\n      <th>2</th>\n      <td>0.105115</td>\n      <td>0.000000</td>\n      <td>-0.655002</td>\n    </tr>\n    <tr>\n      <th>3</th>\n      <td>0.635290</td>\n      <td>0.000000</td>\n      <td>-1.056647</td>\n    </tr>\n    <tr>\n      <th>4</th>\n      <td>1.143256</td>\n      <td>-0.670853</td>\n      <td>-0.772109</td>\n    </tr>\n    <tr>\n      <th>5</th>\n      <td>0.486893</td>\n      <td>-0.000273</td>\n      <td>-0.326149</td>\n    </tr>\n    <tr>\n      <th>6</th>\n      <td>-0.784167</td>\n      <td>0.438174</td>\n      <td>0.009092</td>\n    </tr>\n  </tbody>\n</table>\n</div>",
            "text/plain": "       col1      col2      col3\n0  0.889287  0.000000  0.000000\n1  2.464814  0.000000  0.000000\n2  0.105115  0.000000 -0.655002\n3  0.635290  0.000000 -1.056647\n4  1.143256 -0.670853 -0.772109\n5  0.486893 -0.000273 -0.326149\n6 -0.784167  0.438174  0.009092"
          },
          "metadata": {}
        }
      ]
    },
    {
      "metadata": {
        "colab": {},
        "colab_type": "code",
        "id": "byQAtEMqcUZE",
        "outputId": "5d10c762-886d-4c04-93df-a8b3691cfa05",
        "trusted": true
      },
      "cell_type": "code",
      "source": "# Completar con un diccionario\ndf.fillna({'col2': 0.5, 'col3': -1})",
      "execution_count": 70,
      "outputs": [
        {
          "output_type": "execute_result",
          "execution_count": 70,
          "data": {
            "text/html": "<div>\n<table border=\"1\" class=\"dataframe\">\n  <thead>\n    <tr style=\"text-align: right;\">\n      <th></th>\n      <th>col1</th>\n      <th>col2</th>\n      <th>col3</th>\n    </tr>\n  </thead>\n  <tbody>\n    <tr>\n      <th>0</th>\n      <td>0.889287</td>\n      <td>0.500000</td>\n      <td>-1.000000</td>\n    </tr>\n    <tr>\n      <th>1</th>\n      <td>2.464814</td>\n      <td>0.500000</td>\n      <td>-1.000000</td>\n    </tr>\n    <tr>\n      <th>2</th>\n      <td>0.105115</td>\n      <td>0.500000</td>\n      <td>-0.655002</td>\n    </tr>\n    <tr>\n      <th>3</th>\n      <td>0.635290</td>\n      <td>0.500000</td>\n      <td>-1.056647</td>\n    </tr>\n    <tr>\n      <th>4</th>\n      <td>1.143256</td>\n      <td>-0.670853</td>\n      <td>-0.772109</td>\n    </tr>\n    <tr>\n      <th>5</th>\n      <td>0.486893</td>\n      <td>-0.000273</td>\n      <td>-0.326149</td>\n    </tr>\n    <tr>\n      <th>6</th>\n      <td>-0.784167</td>\n      <td>0.438174</td>\n      <td>0.009092</td>\n    </tr>\n  </tbody>\n</table>\n</div>",
            "text/plain": "       col1      col2      col3\n0  0.889287  0.500000 -1.000000\n1  2.464814  0.500000 -1.000000\n2  0.105115  0.500000 -0.655002\n3  0.635290  0.500000 -1.056647\n4  1.143256 -0.670853 -0.772109\n5  0.486893 -0.000273 -0.326149\n6 -0.784167  0.438174  0.009092"
          },
          "metadata": {}
        }
      ]
    },
    {
      "metadata": {
        "colab": {},
        "colab_type": "code",
        "id": "ZGJ93BcgcUZN",
        "outputId": "5ebd0de3-dc95-42d1-99b9-e2afccf3451b",
        "trusted": true
      },
      "cell_type": "code",
      "source": "df = pd.DataFrame(np.random.randn(6, 3))\ndf.iloc[2:, 1] = np.nan \ndf.iloc[4:, 2] = np.nan\ndf",
      "execution_count": 71,
      "outputs": [
        {
          "output_type": "execute_result",
          "execution_count": 71,
          "data": {
            "text/html": "<div>\n<table border=\"1\" class=\"dataframe\">\n  <thead>\n    <tr style=\"text-align: right;\">\n      <th></th>\n      <th>0</th>\n      <th>1</th>\n      <th>2</th>\n    </tr>\n  </thead>\n  <tbody>\n    <tr>\n      <th>0</th>\n      <td>0.288467</td>\n      <td>0.795124</td>\n      <td>-0.366226</td>\n    </tr>\n    <tr>\n      <th>1</th>\n      <td>0.347634</td>\n      <td>-1.308341</td>\n      <td>0.685040</td>\n    </tr>\n    <tr>\n      <th>2</th>\n      <td>-0.424869</td>\n      <td>NaN</td>\n      <td>0.484753</td>\n    </tr>\n    <tr>\n      <th>3</th>\n      <td>-0.466079</td>\n      <td>NaN</td>\n      <td>-0.638917</td>\n    </tr>\n    <tr>\n      <th>4</th>\n      <td>1.373616</td>\n      <td>NaN</td>\n      <td>NaN</td>\n    </tr>\n    <tr>\n      <th>5</th>\n      <td>-0.028634</td>\n      <td>NaN</td>\n      <td>NaN</td>\n    </tr>\n  </tbody>\n</table>\n</div>",
            "text/plain": "          0         1         2\n0  0.288467  0.795124 -0.366226\n1  0.347634 -1.308341  0.685040\n2 -0.424869       NaN  0.484753\n3 -0.466079       NaN -0.638917\n4  1.373616       NaN       NaN\n5 -0.028634       NaN       NaN"
          },
          "metadata": {}
        }
      ]
    },
    {
      "metadata": {
        "colab": {},
        "colab_type": "code",
        "id": "xij5jMaEcUZU",
        "outputId": "2d19fd52-48ef-49f3-d717-14e241f71d49",
        "trusted": true
      },
      "cell_type": "code",
      "source": "# Para completar en base a los últimos valores válidos,\n# se puede utilizar el parámetro method = 'ffill'\n\ndf.fillna(method='ffill') ",
      "execution_count": 72,
      "outputs": [
        {
          "output_type": "execute_result",
          "execution_count": 72,
          "data": {
            "text/html": "<div>\n<table border=\"1\" class=\"dataframe\">\n  <thead>\n    <tr style=\"text-align: right;\">\n      <th></th>\n      <th>0</th>\n      <th>1</th>\n      <th>2</th>\n    </tr>\n  </thead>\n  <tbody>\n    <tr>\n      <th>0</th>\n      <td>0.288467</td>\n      <td>0.795124</td>\n      <td>-0.366226</td>\n    </tr>\n    <tr>\n      <th>1</th>\n      <td>0.347634</td>\n      <td>-1.308341</td>\n      <td>0.685040</td>\n    </tr>\n    <tr>\n      <th>2</th>\n      <td>-0.424869</td>\n      <td>-1.308341</td>\n      <td>0.484753</td>\n    </tr>\n    <tr>\n      <th>3</th>\n      <td>-0.466079</td>\n      <td>-1.308341</td>\n      <td>-0.638917</td>\n    </tr>\n    <tr>\n      <th>4</th>\n      <td>1.373616</td>\n      <td>-1.308341</td>\n      <td>-0.638917</td>\n    </tr>\n    <tr>\n      <th>5</th>\n      <td>-0.028634</td>\n      <td>-1.308341</td>\n      <td>-0.638917</td>\n    </tr>\n  </tbody>\n</table>\n</div>",
            "text/plain": "          0         1         2\n0  0.288467  0.795124 -0.366226\n1  0.347634 -1.308341  0.685040\n2 -0.424869 -1.308341  0.484753\n3 -0.466079 -1.308341 -0.638917\n4  1.373616 -1.308341 -0.638917\n5 -0.028634 -1.308341 -0.638917"
          },
          "metadata": {}
        }
      ]
    },
    {
      "metadata": {
        "colab": {},
        "colab_type": "code",
        "id": "JDh6w6TpbTpA",
        "outputId": "f4a9c926-adfd-46fb-e9b5-0412152b8687",
        "trusted": true
      },
      "cell_type": "code",
      "source": "# Completamos con los últimos valores,\n# pero ponemos un límite de 3 a los valores que se pueden completar.\n\ndf.fillna(method='ffill', limit=3) ",
      "execution_count": 73,
      "outputs": [
        {
          "output_type": "execute_result",
          "execution_count": 73,
          "data": {
            "text/html": "<div>\n<table border=\"1\" class=\"dataframe\">\n  <thead>\n    <tr style=\"text-align: right;\">\n      <th></th>\n      <th>0</th>\n      <th>1</th>\n      <th>2</th>\n    </tr>\n  </thead>\n  <tbody>\n    <tr>\n      <th>0</th>\n      <td>0.288467</td>\n      <td>0.795124</td>\n      <td>-0.366226</td>\n    </tr>\n    <tr>\n      <th>1</th>\n      <td>0.347634</td>\n      <td>-1.308341</td>\n      <td>0.685040</td>\n    </tr>\n    <tr>\n      <th>2</th>\n      <td>-0.424869</td>\n      <td>-1.308341</td>\n      <td>0.484753</td>\n    </tr>\n    <tr>\n      <th>3</th>\n      <td>-0.466079</td>\n      <td>-1.308341</td>\n      <td>-0.638917</td>\n    </tr>\n    <tr>\n      <th>4</th>\n      <td>1.373616</td>\n      <td>-1.308341</td>\n      <td>-0.638917</td>\n    </tr>\n    <tr>\n      <th>5</th>\n      <td>-0.028634</td>\n      <td>NaN</td>\n      <td>-0.638917</td>\n    </tr>\n  </tbody>\n</table>\n</div>",
            "text/plain": "          0         1         2\n0  0.288467  0.795124 -0.366226\n1  0.347634 -1.308341  0.685040\n2 -0.424869 -1.308341  0.484753\n3 -0.466079 -1.308341 -0.638917\n4  1.373616 -1.308341 -0.638917\n5 -0.028634       NaN -0.638917"
          },
          "metadata": {}
        }
      ]
    },
    {
      "metadata": {},
      "cell_type": "markdown",
      "source": "El método fillna también acepta un nuevo dataframe con índices coincidentes con los valores faltantes."
    },
    {
      "metadata": {
        "colab": {},
        "colab_type": "code",
        "id": "vHeqfa4ybTpD",
        "outputId": "dfbb3d20-636e-4b1c-9239-32a5e818f37f",
        "trusted": true
      },
      "cell_type": "code",
      "source": "# Usamos un DataFrame para completar los datos faltantes. \n\ndf_fill = pd.DataFrame(np.arange(8).reshape(4,2), index=np.arange(2,6), columns=[1,2])\ndf.fillna(df_fill)",
      "execution_count": 74,
      "outputs": [
        {
          "output_type": "execute_result",
          "execution_count": 74,
          "data": {
            "text/html": "<div>\n<table border=\"1\" class=\"dataframe\">\n  <thead>\n    <tr style=\"text-align: right;\">\n      <th></th>\n      <th>0</th>\n      <th>1</th>\n      <th>2</th>\n    </tr>\n  </thead>\n  <tbody>\n    <tr>\n      <th>0</th>\n      <td>0.288467</td>\n      <td>0.795124</td>\n      <td>-0.366226</td>\n    </tr>\n    <tr>\n      <th>1</th>\n      <td>0.347634</td>\n      <td>-1.308341</td>\n      <td>0.685040</td>\n    </tr>\n    <tr>\n      <th>2</th>\n      <td>-0.424869</td>\n      <td>0.000000</td>\n      <td>0.484753</td>\n    </tr>\n    <tr>\n      <th>3</th>\n      <td>-0.466079</td>\n      <td>2.000000</td>\n      <td>-0.638917</td>\n    </tr>\n    <tr>\n      <th>4</th>\n      <td>1.373616</td>\n      <td>4.000000</td>\n      <td>5.000000</td>\n    </tr>\n    <tr>\n      <th>5</th>\n      <td>-0.028634</td>\n      <td>6.000000</td>\n      <td>7.000000</td>\n    </tr>\n  </tbody>\n</table>\n</div>",
            "text/plain": "          0         1         2\n0  0.288467  0.795124 -0.366226\n1  0.347634 -1.308341  0.685040\n2 -0.424869  0.000000  0.484753\n3 -0.466079  2.000000 -0.638917\n4  1.373616  4.000000  5.000000\n5 -0.028634  6.000000  7.000000"
          },
          "metadata": {}
        }
      ]
    },
    {
      "metadata": {
        "colab_type": "text",
        "id": "IPw7G7aEcUZa"
      },
      "cell_type": "markdown",
      "source": "#### Completar por la media y la media condicionada "
    },
    {
      "metadata": {
        "colab": {},
        "colab_type": "code",
        "id": "viPwQSuxcUZc",
        "outputId": "6b8edf11-f139-426a-c636-687fcbc61726",
        "trusted": true
      },
      "cell_type": "code",
      "source": "df = pd.DataFrame({'key': ['A', 'B', 'C', 'A', 'B', 'C'],\n                   'data1': range(6),\n                    'data2': np.random.rand(6)}, columns=['key', 'data1','data2'])\ndf",
      "execution_count": 75,
      "outputs": [
        {
          "output_type": "execute_result",
          "execution_count": 75,
          "data": {
            "text/html": "<div>\n<table border=\"1\" class=\"dataframe\">\n  <thead>\n    <tr style=\"text-align: right;\">\n      <th></th>\n      <th>key</th>\n      <th>data1</th>\n      <th>data2</th>\n    </tr>\n  </thead>\n  <tbody>\n    <tr>\n      <th>0</th>\n      <td>A</td>\n      <td>0</td>\n      <td>0.316919</td>\n    </tr>\n    <tr>\n      <th>1</th>\n      <td>B</td>\n      <td>1</td>\n      <td>0.325741</td>\n    </tr>\n    <tr>\n      <th>2</th>\n      <td>C</td>\n      <td>2</td>\n      <td>0.050307</td>\n    </tr>\n    <tr>\n      <th>3</th>\n      <td>A</td>\n      <td>3</td>\n      <td>0.636417</td>\n    </tr>\n    <tr>\n      <th>4</th>\n      <td>B</td>\n      <td>4</td>\n      <td>0.009204</td>\n    </tr>\n    <tr>\n      <th>5</th>\n      <td>C</td>\n      <td>5</td>\n      <td>0.110033</td>\n    </tr>\n  </tbody>\n</table>\n</div>",
            "text/plain": "  key  data1     data2\n0   A      0  0.316919\n1   B      1  0.325741\n2   C      2  0.050307\n3   A      3  0.636417\n4   B      4  0.009204\n5   C      5  0.110033"
          },
          "metadata": {}
        }
      ]
    },
    {
      "metadata": {
        "colab": {},
        "colab_type": "code",
        "id": "Aip_bbfBcUZh",
        "outputId": "a8a50fd4-c78d-451f-88a3-8f22e9a3977b",
        "trusted": true
      },
      "cell_type": "code",
      "source": "df.iloc[2:3, 1] = np.nan\ndf.iloc[3:4, 2] = np.nan\ndf",
      "execution_count": 76,
      "outputs": [
        {
          "output_type": "execute_result",
          "execution_count": 76,
          "data": {
            "text/html": "<div>\n<table border=\"1\" class=\"dataframe\">\n  <thead>\n    <tr style=\"text-align: right;\">\n      <th></th>\n      <th>key</th>\n      <th>data1</th>\n      <th>data2</th>\n    </tr>\n  </thead>\n  <tbody>\n    <tr>\n      <th>0</th>\n      <td>A</td>\n      <td>0.0</td>\n      <td>0.316919</td>\n    </tr>\n    <tr>\n      <th>1</th>\n      <td>B</td>\n      <td>1.0</td>\n      <td>0.325741</td>\n    </tr>\n    <tr>\n      <th>2</th>\n      <td>C</td>\n      <td>NaN</td>\n      <td>0.050307</td>\n    </tr>\n    <tr>\n      <th>3</th>\n      <td>A</td>\n      <td>3.0</td>\n      <td>NaN</td>\n    </tr>\n    <tr>\n      <th>4</th>\n      <td>B</td>\n      <td>4.0</td>\n      <td>0.009204</td>\n    </tr>\n    <tr>\n      <th>5</th>\n      <td>C</td>\n      <td>5.0</td>\n      <td>0.110033</td>\n    </tr>\n  </tbody>\n</table>\n</div>",
            "text/plain": "  key  data1     data2\n0   A    0.0  0.316919\n1   B    1.0  0.325741\n2   C    NaN  0.050307\n3   A    3.0       NaN\n4   B    4.0  0.009204\n5   C    5.0  0.110033"
          },
          "metadata": {}
        }
      ]
    },
    {
      "metadata": {
        "colab": {},
        "colab_type": "code",
        "id": "VId7fpPgbTpK",
        "outputId": "aaed2b94-ecd9-4068-c370-6a948d49d7c3",
        "trusted": true
      },
      "cell_type": "code",
      "source": "df.mean()",
      "execution_count": 77,
      "outputs": [
        {
          "output_type": "execute_result",
          "execution_count": 77,
          "data": {
            "text/plain": "data1    2.600000\ndata2    0.162441\ndtype: float64"
          },
          "metadata": {}
        }
      ]
    },
    {
      "metadata": {
        "colab": {},
        "colab_type": "code",
        "id": "N2sWPvlYcUZk",
        "outputId": "a6d16be1-31fd-467b-c7ed-ba81e42ed890",
        "trusted": true
      },
      "cell_type": "code",
      "source": "df.fillna(df.mean())",
      "execution_count": 78,
      "outputs": [
        {
          "output_type": "execute_result",
          "execution_count": 78,
          "data": {
            "text/html": "<div>\n<table border=\"1\" class=\"dataframe\">\n  <thead>\n    <tr style=\"text-align: right;\">\n      <th></th>\n      <th>key</th>\n      <th>data1</th>\n      <th>data2</th>\n    </tr>\n  </thead>\n  <tbody>\n    <tr>\n      <th>0</th>\n      <td>A</td>\n      <td>0.0</td>\n      <td>0.316919</td>\n    </tr>\n    <tr>\n      <th>1</th>\n      <td>B</td>\n      <td>1.0</td>\n      <td>0.325741</td>\n    </tr>\n    <tr>\n      <th>2</th>\n      <td>C</td>\n      <td>2.6</td>\n      <td>0.050307</td>\n    </tr>\n    <tr>\n      <th>3</th>\n      <td>A</td>\n      <td>3.0</td>\n      <td>0.162441</td>\n    </tr>\n    <tr>\n      <th>4</th>\n      <td>B</td>\n      <td>4.0</td>\n      <td>0.009204</td>\n    </tr>\n    <tr>\n      <th>5</th>\n      <td>C</td>\n      <td>5.0</td>\n      <td>0.110033</td>\n    </tr>\n  </tbody>\n</table>\n</div>",
            "text/plain": "  key  data1     data2\n0   A    0.0  0.316919\n1   B    1.0  0.325741\n2   C    2.6  0.050307\n3   A    3.0  0.162441\n4   B    4.0  0.009204\n5   C    5.0  0.110033"
          },
          "metadata": {}
        }
      ]
    },
    {
      "metadata": {
        "colab": {},
        "colab_type": "code",
        "id": "d1zJBrfccUZq",
        "outputId": "3e2a7916-fa8a-4bc8-ba59-c2e2a489e151",
        "trusted": true
      },
      "cell_type": "code",
      "source": "# Veamos las medias por grupo\nprint(df)\ndf.groupby('key').transform('mean')",
      "execution_count": 79,
      "outputs": [
        {
          "output_type": "stream",
          "text": "  key  data1     data2\n0   A    0.0  0.316919\n1   B    1.0  0.325741\n2   C    NaN  0.050307\n3   A    3.0       NaN\n4   B    4.0  0.009204\n5   C    5.0  0.110033\n",
          "name": "stdout"
        },
        {
          "output_type": "execute_result",
          "execution_count": 79,
          "data": {
            "text/html": "<div>\n<table border=\"1\" class=\"dataframe\">\n  <thead>\n    <tr style=\"text-align: right;\">\n      <th></th>\n      <th>data1</th>\n      <th>data2</th>\n    </tr>\n  </thead>\n  <tbody>\n    <tr>\n      <th>0</th>\n      <td>1.5</td>\n      <td>0.316919</td>\n    </tr>\n    <tr>\n      <th>1</th>\n      <td>2.5</td>\n      <td>0.167472</td>\n    </tr>\n    <tr>\n      <th>2</th>\n      <td>5.0</td>\n      <td>0.080170</td>\n    </tr>\n    <tr>\n      <th>3</th>\n      <td>1.5</td>\n      <td>0.316919</td>\n    </tr>\n    <tr>\n      <th>4</th>\n      <td>2.5</td>\n      <td>0.167472</td>\n    </tr>\n    <tr>\n      <th>5</th>\n      <td>5.0</td>\n      <td>0.080170</td>\n    </tr>\n  </tbody>\n</table>\n</div>",
            "text/plain": "   data1     data2\n0    1.5  0.316919\n1    2.5  0.167472\n2    5.0  0.080170\n3    1.5  0.316919\n4    2.5  0.167472\n5    5.0  0.080170"
          },
          "metadata": {}
        }
      ]
    },
    {
      "metadata": {
        "colab": {},
        "colab_type": "code",
        "id": "b6KffeYGcUZu",
        "outputId": "325d3c9e-995b-4211-d65d-c58cbbc5db7b",
        "trusted": true
      },
      "cell_type": "code",
      "source": "df.fillna(df.groupby('key').transform('mean'))",
      "execution_count": 80,
      "outputs": [
        {
          "output_type": "execute_result",
          "execution_count": 80,
          "data": {
            "text/html": "<div>\n<table border=\"1\" class=\"dataframe\">\n  <thead>\n    <tr style=\"text-align: right;\">\n      <th></th>\n      <th>key</th>\n      <th>data1</th>\n      <th>data2</th>\n    </tr>\n  </thead>\n  <tbody>\n    <tr>\n      <th>0</th>\n      <td>A</td>\n      <td>0.0</td>\n      <td>0.316919</td>\n    </tr>\n    <tr>\n      <th>1</th>\n      <td>B</td>\n      <td>1.0</td>\n      <td>0.325741</td>\n    </tr>\n    <tr>\n      <th>2</th>\n      <td>C</td>\n      <td>5.0</td>\n      <td>0.050307</td>\n    </tr>\n    <tr>\n      <th>3</th>\n      <td>A</td>\n      <td>3.0</td>\n      <td>0.316919</td>\n    </tr>\n    <tr>\n      <th>4</th>\n      <td>B</td>\n      <td>4.0</td>\n      <td>0.009204</td>\n    </tr>\n    <tr>\n      <th>5</th>\n      <td>C</td>\n      <td>5.0</td>\n      <td>0.110033</td>\n    </tr>\n  </tbody>\n</table>\n</div>",
            "text/plain": "  key  data1     data2\n0   A    0.0  0.316919\n1   B    1.0  0.325741\n2   C    5.0  0.050307\n3   A    3.0  0.316919\n4   B    4.0  0.009204\n5   C    5.0  0.110033"
          },
          "metadata": {}
        }
      ]
    },
    {
      "metadata": {
        "colab_type": "text",
        "id": "qdgp1Rc9cUZ0"
      },
      "cell_type": "markdown",
      "source": "## Parte II - Tidy Data\n\nVamos a trabajar con algunos ejemplos de messy data que se encuentran en el trabajo original de Whickham. \nLa idea es toparnos con datasets como podrían encontrarse en el mundo real y transformarlos a un formato que las herramientas estándar de minería de datos y visualización podrán trabajar mejor, siguiendo las reglas de \"tidy data\".\n\nVamos a trabajar con algunos tipos de datasets desordenados:\n\n#### 1.1 - Los nombres de columnas son valores, no variables"
    },
    {
      "metadata": {
        "colab": {},
        "colab_type": "code",
        "id": "DA_4d74wcUZ2",
        "outputId": "3597087b-de08-4a2a-d085-281f09467101",
        "trusted": true
      },
      "cell_type": "code",
      "source": "\n\nentrada = open(\"df = pd.read_csv(\"data/pew-raw.csv\",delimiter=',') \n\", \"rt\", encoding = \"utf-8\")\n\ndf = pd.read_csv(\"data/pew-raw.csv\",delimiter=',') \ndf",
      "execution_count": 89,
      "outputs": [
        {
          "output_type": "error",
          "ename": "FileNotFoundError",
          "evalue": "File b'data/pew-raw.csv' does not exist",
          "traceback": [
            "\u001b[0;31m---------------------------------------------------------------------------\u001b[0m",
            "\u001b[0;31mFileNotFoundError\u001b[0m                         Traceback (most recent call last)",
            "\u001b[0;32m<ipython-input-89-faaafc452252>\u001b[0m in \u001b[0;36m<module>\u001b[0;34m()\u001b[0m\n\u001b[0;32m----> 1\u001b[0;31m \u001b[0mdf\u001b[0m \u001b[0;34m=\u001b[0m \u001b[0mpd\u001b[0m\u001b[0;34m.\u001b[0m\u001b[0mread_csv\u001b[0m\u001b[0;34m(\u001b[0m\u001b[0;34m\"data/pew-raw.csv\"\u001b[0m\u001b[0;34m,\u001b[0m\u001b[0mdelimiter\u001b[0m\u001b[0;34m=\u001b[0m\u001b[0;34m','\u001b[0m\u001b[0;34m)\u001b[0m\u001b[0;34m\u001b[0m\u001b[0m\n\u001b[0m\u001b[1;32m      2\u001b[0m \u001b[0mdf\u001b[0m\u001b[0;34m\u001b[0m\u001b[0m\n",
            "\u001b[0;32m~/anaconda3_420/lib/python3.5/site-packages/pandas/io/parsers.py\u001b[0m in \u001b[0;36mparser_f\u001b[0;34m(filepath_or_buffer, sep, delimiter, header, names, index_col, usecols, squeeze, prefix, mangle_dupe_cols, dtype, engine, converters, true_values, false_values, skipinitialspace, skiprows, nrows, na_values, keep_default_na, na_filter, verbose, skip_blank_lines, parse_dates, infer_datetime_format, keep_date_col, date_parser, dayfirst, iterator, chunksize, compression, thousands, decimal, lineterminator, quotechar, quoting, escapechar, comment, encoding, dialect, tupleize_cols, error_bad_lines, warn_bad_lines, skipfooter, skip_footer, doublequote, delim_whitespace, as_recarray, compact_ints, use_unsigned, low_memory, buffer_lines, memory_map, float_precision)\u001b[0m\n\u001b[1;32m    644\u001b[0m                     skip_blank_lines=skip_blank_lines)\n\u001b[1;32m    645\u001b[0m \u001b[0;34m\u001b[0m\u001b[0m\n\u001b[0;32m--> 646\u001b[0;31m         \u001b[0;32mreturn\u001b[0m \u001b[0m_read\u001b[0m\u001b[0;34m(\u001b[0m\u001b[0mfilepath_or_buffer\u001b[0m\u001b[0;34m,\u001b[0m \u001b[0mkwds\u001b[0m\u001b[0;34m)\u001b[0m\u001b[0;34m\u001b[0m\u001b[0m\n\u001b[0m\u001b[1;32m    647\u001b[0m \u001b[0;34m\u001b[0m\u001b[0m\n\u001b[1;32m    648\u001b[0m     \u001b[0mparser_f\u001b[0m\u001b[0;34m.\u001b[0m\u001b[0m__name__\u001b[0m \u001b[0;34m=\u001b[0m \u001b[0mname\u001b[0m\u001b[0;34m\u001b[0m\u001b[0m\n",
            "\u001b[0;32m~/anaconda3_420/lib/python3.5/site-packages/pandas/io/parsers.py\u001b[0m in \u001b[0;36m_read\u001b[0;34m(filepath_or_buffer, kwds)\u001b[0m\n\u001b[1;32m    387\u001b[0m \u001b[0;34m\u001b[0m\u001b[0m\n\u001b[1;32m    388\u001b[0m     \u001b[0;31m# Create the parser.\u001b[0m\u001b[0;34m\u001b[0m\u001b[0;34m\u001b[0m\u001b[0m\n\u001b[0;32m--> 389\u001b[0;31m     \u001b[0mparser\u001b[0m \u001b[0;34m=\u001b[0m \u001b[0mTextFileReader\u001b[0m\u001b[0;34m(\u001b[0m\u001b[0mfilepath_or_buffer\u001b[0m\u001b[0;34m,\u001b[0m \u001b[0;34m**\u001b[0m\u001b[0mkwds\u001b[0m\u001b[0;34m)\u001b[0m\u001b[0;34m\u001b[0m\u001b[0m\n\u001b[0m\u001b[1;32m    390\u001b[0m \u001b[0;34m\u001b[0m\u001b[0m\n\u001b[1;32m    391\u001b[0m     \u001b[0;32mif\u001b[0m \u001b[0;34m(\u001b[0m\u001b[0mnrows\u001b[0m \u001b[0;32mis\u001b[0m \u001b[0;32mnot\u001b[0m \u001b[0;32mNone\u001b[0m\u001b[0;34m)\u001b[0m \u001b[0;32mand\u001b[0m \u001b[0;34m(\u001b[0m\u001b[0mchunksize\u001b[0m \u001b[0;32mis\u001b[0m \u001b[0;32mnot\u001b[0m \u001b[0;32mNone\u001b[0m\u001b[0;34m)\u001b[0m\u001b[0;34m:\u001b[0m\u001b[0;34m\u001b[0m\u001b[0m\n",
            "\u001b[0;32m~/anaconda3_420/lib/python3.5/site-packages/pandas/io/parsers.py\u001b[0m in \u001b[0;36m__init__\u001b[0;34m(self, f, engine, **kwds)\u001b[0m\n\u001b[1;32m    728\u001b[0m             \u001b[0mself\u001b[0m\u001b[0;34m.\u001b[0m\u001b[0moptions\u001b[0m\u001b[0;34m[\u001b[0m\u001b[0;34m'has_index_names'\u001b[0m\u001b[0;34m]\u001b[0m \u001b[0;34m=\u001b[0m \u001b[0mkwds\u001b[0m\u001b[0;34m[\u001b[0m\u001b[0;34m'has_index_names'\u001b[0m\u001b[0;34m]\u001b[0m\u001b[0;34m\u001b[0m\u001b[0m\n\u001b[1;32m    729\u001b[0m \u001b[0;34m\u001b[0m\u001b[0m\n\u001b[0;32m--> 730\u001b[0;31m         \u001b[0mself\u001b[0m\u001b[0;34m.\u001b[0m\u001b[0m_make_engine\u001b[0m\u001b[0;34m(\u001b[0m\u001b[0mself\u001b[0m\u001b[0;34m.\u001b[0m\u001b[0mengine\u001b[0m\u001b[0;34m)\u001b[0m\u001b[0;34m\u001b[0m\u001b[0m\n\u001b[0m\u001b[1;32m    731\u001b[0m \u001b[0;34m\u001b[0m\u001b[0m\n\u001b[1;32m    732\u001b[0m     \u001b[0;32mdef\u001b[0m \u001b[0mclose\u001b[0m\u001b[0;34m(\u001b[0m\u001b[0mself\u001b[0m\u001b[0;34m)\u001b[0m\u001b[0;34m:\u001b[0m\u001b[0;34m\u001b[0m\u001b[0m\n",
            "\u001b[0;32m~/anaconda3_420/lib/python3.5/site-packages/pandas/io/parsers.py\u001b[0m in \u001b[0;36m_make_engine\u001b[0;34m(self, engine)\u001b[0m\n\u001b[1;32m    921\u001b[0m     \u001b[0;32mdef\u001b[0m \u001b[0m_make_engine\u001b[0m\u001b[0;34m(\u001b[0m\u001b[0mself\u001b[0m\u001b[0;34m,\u001b[0m \u001b[0mengine\u001b[0m\u001b[0;34m=\u001b[0m\u001b[0;34m'c'\u001b[0m\u001b[0;34m)\u001b[0m\u001b[0;34m:\u001b[0m\u001b[0;34m\u001b[0m\u001b[0m\n\u001b[1;32m    922\u001b[0m         \u001b[0;32mif\u001b[0m \u001b[0mengine\u001b[0m \u001b[0;34m==\u001b[0m \u001b[0;34m'c'\u001b[0m\u001b[0;34m:\u001b[0m\u001b[0;34m\u001b[0m\u001b[0m\n\u001b[0;32m--> 923\u001b[0;31m             \u001b[0mself\u001b[0m\u001b[0;34m.\u001b[0m\u001b[0m_engine\u001b[0m \u001b[0;34m=\u001b[0m \u001b[0mCParserWrapper\u001b[0m\u001b[0;34m(\u001b[0m\u001b[0mself\u001b[0m\u001b[0;34m.\u001b[0m\u001b[0mf\u001b[0m\u001b[0;34m,\u001b[0m \u001b[0;34m**\u001b[0m\u001b[0mself\u001b[0m\u001b[0;34m.\u001b[0m\u001b[0moptions\u001b[0m\u001b[0;34m)\u001b[0m\u001b[0;34m\u001b[0m\u001b[0m\n\u001b[0m\u001b[1;32m    924\u001b[0m         \u001b[0;32melse\u001b[0m\u001b[0;34m:\u001b[0m\u001b[0;34m\u001b[0m\u001b[0m\n\u001b[1;32m    925\u001b[0m             \u001b[0;32mif\u001b[0m \u001b[0mengine\u001b[0m \u001b[0;34m==\u001b[0m \u001b[0;34m'python'\u001b[0m\u001b[0;34m:\u001b[0m\u001b[0;34m\u001b[0m\u001b[0m\n",
            "\u001b[0;32m~/anaconda3_420/lib/python3.5/site-packages/pandas/io/parsers.py\u001b[0m in \u001b[0;36m__init__\u001b[0;34m(self, src, **kwds)\u001b[0m\n\u001b[1;32m   1388\u001b[0m         \u001b[0mkwds\u001b[0m\u001b[0;34m[\u001b[0m\u001b[0;34m'allow_leading_cols'\u001b[0m\u001b[0;34m]\u001b[0m \u001b[0;34m=\u001b[0m \u001b[0mself\u001b[0m\u001b[0;34m.\u001b[0m\u001b[0mindex_col\u001b[0m \u001b[0;32mis\u001b[0m \u001b[0;32mnot\u001b[0m \u001b[0;32mFalse\u001b[0m\u001b[0;34m\u001b[0m\u001b[0m\n\u001b[1;32m   1389\u001b[0m \u001b[0;34m\u001b[0m\u001b[0m\n\u001b[0;32m-> 1390\u001b[0;31m         \u001b[0mself\u001b[0m\u001b[0;34m.\u001b[0m\u001b[0m_reader\u001b[0m \u001b[0;34m=\u001b[0m \u001b[0m_parser\u001b[0m\u001b[0;34m.\u001b[0m\u001b[0mTextReader\u001b[0m\u001b[0;34m(\u001b[0m\u001b[0msrc\u001b[0m\u001b[0;34m,\u001b[0m \u001b[0;34m**\u001b[0m\u001b[0mkwds\u001b[0m\u001b[0;34m)\u001b[0m\u001b[0;34m\u001b[0m\u001b[0m\n\u001b[0m\u001b[1;32m   1391\u001b[0m \u001b[0;34m\u001b[0m\u001b[0m\n\u001b[1;32m   1392\u001b[0m         \u001b[0;31m# XXX\u001b[0m\u001b[0;34m\u001b[0m\u001b[0;34m\u001b[0m\u001b[0m\n",
            "\u001b[0;32mpandas/parser.pyx\u001b[0m in \u001b[0;36mpandas.parser.TextReader.__cinit__ (pandas/parser.c:4184)\u001b[0;34m()\u001b[0m\n",
            "\u001b[0;32mpandas/parser.pyx\u001b[0m in \u001b[0;36mpandas.parser.TextReader._setup_parser_source (pandas/parser.c:8449)\u001b[0;34m()\u001b[0m\n",
            "\u001b[0;31mFileNotFoundError\u001b[0m: File b'data/pew-raw.csv' does not exist"
          ]
        }
      ]
    },
    {
      "metadata": {
        "colab": {},
        "colab_type": "code",
        "id": "lmc0WnmFcUZ7",
        "outputId": "e7477675-1222-4b11-fc8e-14c175cb2b92",
        "trusted": true
      },
      "cell_type": "code",
      "source": "# Para reorganizar el dataset utilizamos el método \"melt\"\n# En los parámetros indicamos que la variable que vamos a conservar\n# es \"religion\" (podrían ser más de una)\n# Y que con el resto de las columnas vamos a construir\n# una nueva variable donde cada columna es una categoría\n\ndf_ordenado = pd.melt(df,\n                       [\"religion\"],\n                       var_name=\"income\",\n                       value_name=\"freq\")\ndf_ordenado = df_ordenado.sort_values(by=[\"religion\"])\ndf_ordenado.head(10)",
      "execution_count": null,
      "outputs": []
    },
    {
      "metadata": {
        "colab_type": "text",
        "id": "ylHQs4y5cUZ_"
      },
      "cell_type": "markdown",
      "source": "#### 1.2 Más de un valor en una misma columna\n\nA continuación vamos a utilizar datos de la OMS. El dataset consiste en la cantidad de casos de tuberculosis observados por país, año, sexo y edad.  "
    },
    {
      "metadata": {
        "colab": {},
        "colab_type": "code",
        "id": "0FKfOTA1cUaA",
        "outputId": "38b2ac78-a1b9-4382-b8f3-d71797123db5",
        "trusted": true
      },
      "cell_type": "code",
      "source": "df = pd.read_csv(\"tb-raw.csv\")\ndf",
      "execution_count": null,
      "outputs": []
    },
    {
      "metadata": {
        "colab_type": "text",
        "id": "Ep-vKF-kcUaE"
      },
      "cell_type": "markdown",
      "source": "Para odenar este dataset vamos a extraer los valores de sexo y edad para organizarlos en una sola columna. \nDespués vamos a crear tres columnas a partir del contenido: sexo, edad_desde y edad_hasta."
    },
    {
      "metadata": {
        "colab": {},
        "colab_type": "code",
        "id": "_-L8NtMhcUaG",
        "trusted": true
      },
      "cell_type": "code",
      "source": "df = pd.melt(df, id_vars=[\"country\",\"year\"], var_name=\"sex_and_age\", value_name=\"cases\")",
      "execution_count": null,
      "outputs": []
    },
    {
      "metadata": {
        "colab": {},
        "colab_type": "code",
        "id": "VMIiY8A8bTph",
        "outputId": "57546726-28c0-4ae4-f673-9cd0801bc069",
        "trusted": true
      },
      "cell_type": "code",
      "source": "df.sample(10)",
      "execution_count": null,
      "outputs": []
    },
    {
      "metadata": {
        "colab": {},
        "colab_type": "code",
        "id": "3_VqiPMUcUaN",
        "trusted": true
      },
      "cell_type": "code",
      "source": "# Extraigo las variables.\n# Con la expresión regular, le estoy pidiendo a la función que parta el valor que recibe en tres partes:\n# (\\D): Una única letra o caracter no numérico \n# (\\d+): Uno o más números (para dar cuenta de \"edad desde\")\n# (\\d{2}): Dos dígitos\ntmp_df = df[\"sex_and_age\"].str.extract(\"(\\D)(\\d+)(\\d{2})\")   ",
      "execution_count": null,
      "outputs": []
    },
    {
      "metadata": {
        "colab": {},
        "colab_type": "code",
        "id": "zQ-A8AkubTpm",
        "outputId": "16726695-5e85-4437-e567-d5ddb3157348",
        "trusted": true
      },
      "cell_type": "code",
      "source": "tmp_df.sample(10)",
      "execution_count": null,
      "outputs": []
    },
    {
      "metadata": {
        "colab": {},
        "colab_type": "code",
        "id": "jBsJQcdWcUaY",
        "trusted": true
      },
      "cell_type": "code",
      "source": "# Asignamos \ntmp_df.columns = [\"sex\", \"age_lower\", \"age_upper\"]\n\n# Creamos la columna edad en base a age_lower y age_upper.\ntmp_df[\"age\"] = tmp_df[\"age_lower\"] + \"-\" + tmp_df[\"age_upper\"]\n",
      "execution_count": null,
      "outputs": []
    },
    {
      "metadata": {
        "colab": {},
        "colab_type": "code",
        "id": "-uv5JQl0cUad",
        "outputId": "9729df14-08ad-4cbd-ff30-fc9f24f058e8",
        "trusted": true
      },
      "cell_type": "code",
      "source": "# Unimos los dos datasets \ndf = pd.concat([df, tmp_df], axis=1)\ndf.head()",
      "execution_count": null,
      "outputs": []
    },
    {
      "metadata": {
        "colab": {},
        "colab_type": "code",
        "id": "PPowqnEZcUai",
        "outputId": "ac59f0e2-742f-4653-9260-03973d038e71",
        "trusted": true
      },
      "cell_type": "code",
      "source": "df[\"age\"].value_counts()",
      "execution_count": null,
      "outputs": []
    },
    {
      "metadata": {
        "colab": {},
        "colab_type": "code",
        "id": "Ft_wrrVBcUam",
        "outputId": "f538ce32-fc77-47f2-f00f-8b67a445bbc8",
        "trusted": true
      },
      "cell_type": "code",
      "source": "# Inspeccionar la presencia de valores faltante\nnp.sum(df.isnull())",
      "execution_count": null,
      "outputs": []
    },
    {
      "metadata": {
        "colab": {},
        "colab_type": "code",
        "id": "6qTIzzXgcUas",
        "outputId": "f330808e-5f1d-4a9b-ca05-471a46f6e130",
        "trusted": true
      },
      "cell_type": "code",
      "source": "# Explorando los casos faltantes, vemos que la expresión regular no funcionó para hombres de más de 65 años \n# o de edad indefinida\ndf.loc[df['age'].isnull()]",
      "execution_count": null,
      "outputs": []
    },
    {
      "metadata": {
        "colab": {},
        "colab_type": "code",
        "id": "MWyHTnLGcUax",
        "trusted": true
      },
      "cell_type": "code",
      "source": "df.loc[df['sex_and_age'] == 'm65', 'age'] = '65 or more'\ndf.loc[df['sex_and_age'] == 'm65', 'sex'] = 'm'\ndf.loc[df['sex_and_age'] == 'mu', 'sex'] = 'm'",
      "execution_count": null,
      "outputs": []
    },
    {
      "metadata": {
        "colab": {},
        "colab_type": "code",
        "id": "IKqlDJTkbTqE",
        "outputId": "d8e6629d-ed01-4a52-e9f4-6d3b09d2b70d",
        "trusted": true
      },
      "cell_type": "code",
      "source": "df.loc[df['age'].isnull()]",
      "execution_count": null,
      "outputs": []
    },
    {
      "metadata": {
        "colab": {},
        "colab_type": "code",
        "id": "9C4ddzJBcUa0",
        "outputId": "78fc8e1b-5247-42e1-ab50-e907243d0a53",
        "trusted": true
      },
      "cell_type": "code",
      "source": "# Nos deshacemos de las columnas sobrantes\ndf = df.drop(['sex_and_age',\"age_lower\",\"age_upper\"], axis=1)\ndf.sample(10)",
      "execution_count": null,
      "outputs": []
    },
    {
      "metadata": {
        "colab": {},
        "colab_type": "code",
        "id": "Dr5uK4IxcUa5",
        "outputId": "937fc131-3f5a-4c57-962c-ba9323360776",
        "trusted": true
      },
      "cell_type": "code",
      "source": "# Como las personas de edad indefinida no presentan ningún caso, es correcto eliminar estos faltantes con dropna.\ndf = df.dropna()\ndf = df.sort_values([\"country\", \"year\", \"sex\", \"age\"])\ndf.head(10)",
      "execution_count": null,
      "outputs": []
    },
    {
      "metadata": {
        "colab_type": "text",
        "id": "JEvJU5OVcUbB"
      },
      "cell_type": "markdown",
      "source": "## Parte III - Herramientas para manipulación de datos\n\nPandas cuenta con un conjunto de métodos que permiten operar sobre los elementos de un Dataframe o Serie.\nPara aplicar la lógica deseada, podemos optar tanto por definir funciones con nombre como por utilizar expresiones lambda que luego no pueden reutilizarse.\n\n    1)  pd.DataFrame.apply: Opera sobre filas o columnas completas\n    2)  pd.DataFrame.applymap: Opera sobre cada uno de los elementos del Dataframe\n    3)  pd.Series.apply: Opera sobre cada uno de los elementos de la Serie. \n    4)  pd.Series.map: Opera sobre cada uno de los elementos de la Serie, muy similar a Series.apply. \n\nLa diferencia entre pd.Series.map y pd.Series.apply es que la segunda puede generar un Dataframe a partir de la serie, mientras que la primera si recibiera una serie como return de la función crearía una serie de series.\n\n####  3.1 Función apply\n\nLa función apply de pandas permite realizar operaciones vectorizadas sobre los datasets tanto fila por fila como columna por columna."
    },
    {
      "metadata": {
        "colab": {},
        "colab_type": "code",
        "id": "6HySiYqMcUbC",
        "outputId": "54c00935-a31b-4134-dfb6-deac60413b76",
        "trusted": true
      },
      "cell_type": "code",
      "source": "import pandas as pd\nimport numpy as np\ndf = pd.DataFrame(np.random.randn(5, 4), columns=['a', 'b', 'c', 'd'])\ndf",
      "execution_count": null,
      "outputs": []
    },
    {
      "metadata": {
        "colab_type": "text",
        "id": "MvQwr5r0cUbH"
      },
      "cell_type": "markdown",
      "source": "Utilizamos `df.applymap` para encontrar la raíz cuadrada de los elementos de cada columna. `NaN` significa \"Not a Number\" y es el valor asignado a operaciones inválidas como la raíz de un número negativo."
    },
    {
      "metadata": {
        "colab": {},
        "colab_type": "code",
        "id": "iu4RxmoZcUbO",
        "outputId": "55a7ff90-a35c-477a-94a7-b737ad9bc5c8",
        "trusted": true
      },
      "cell_type": "code",
      "source": "df.applymap(np.sqrt)",
      "execution_count": null,
      "outputs": []
    },
    {
      "metadata": {
        "colab_type": "text",
        "id": "65X8S_nnbTqW"
      },
      "cell_type": "markdown",
      "source": "> en este caso podríamos haber aplicado tambien 'df.apply' porque la operación de sqrt se aplicaría de todas formas a los elementos de la serie"
    },
    {
      "metadata": {
        "colab_type": "text",
        "id": "-1sUWonCcUbU"
      },
      "cell_type": "markdown",
      "source": "**  Buscamos la media de todas las filas **\n\nEl parámetro por default es axis=0, por lo que va a iterar por las filas y darnos el valor de la media de la columnas"
    },
    {
      "metadata": {
        "colab": {},
        "colab_type": "code",
        "id": "e4yiXlPWbTqY",
        "outputId": "50360e6e-924a-471a-b77a-fd5ae3dbae7f",
        "trusted": true
      },
      "cell_type": "code",
      "source": "df.apply(np.mean)",
      "execution_count": null,
      "outputs": []
    },
    {
      "metadata": {
        "colab_type": "text",
        "id": "Pa_WrWCtbTqa"
      },
      "cell_type": "markdown",
      "source": "El parámetro axis=1 indica que la función se aplica para cada fila. Notar que el apply anterior no modificó el dataset, sino que creó una copia y luego modificó la misma. El dataset original conserva el mismo valor."
    },
    {
      "metadata": {
        "colab": {},
        "colab_type": "code",
        "id": "Hqvu90h0cUbY",
        "outputId": "7bc39a95-6f21-4312-d429-6348ed907e09",
        "trusted": true
      },
      "cell_type": "code",
      "source": "df.apply(np.mean, axis=1)",
      "execution_count": null,
      "outputs": []
    },
    {
      "metadata": {
        "colab_type": "text",
        "id": "bYG5_2AIcUbr"
      },
      "cell_type": "markdown",
      "source": "`np.mean()` es una función que viene definida en numpy, pero podemos querer aplicar una función totalmente propia para, por ejemplo, crear una nueva columna que sea la suma entre las series a y d. Esto se puede hacer con expresiones lambda."
    },
    {
      "metadata": {
        "colab": {},
        "colab_type": "code",
        "id": "At8uEyn_cUbs",
        "outputId": "be61718a-71b0-49b9-89f2-f15874876848",
        "trusted": true
      },
      "cell_type": "code",
      "source": "# Veamos primero cómo trabajan las expresiones lambda\n\ndf.apply(lambda x: print(type(x),'\\n',x))\n\n# El método apply le pasa a la función lambda una serie con cada una de las columnas.\n# Si el parámetro axis es igual a 1,\n# la función lambda recibirá una serie con cada una de las filas. \n",
      "execution_count": null,
      "outputs": []
    },
    {
      "metadata": {
        "colab_type": "text",
        "id": "a9nz5zwNbTqe"
      },
      "cell_type": "markdown",
      "source": "\n\nPodemos usar una función lambda para calcular el coeficiente de variación:"
    },
    {
      "metadata": {
        "colab": {},
        "colab_type": "code",
        "id": "dXxuhsYvbTqf",
        "outputId": "99cd006b-ca2f-4864-86b8-2dafb4019fbf",
        "trusted": true
      },
      "cell_type": "code",
      "source": "df.apply(lambda x: np.std(x)/np.mean(x))",
      "execution_count": null,
      "outputs": []
    },
    {
      "metadata": {
        "colab_type": "text",
        "id": "GIdq5uObcUbz"
      },
      "cell_type": "markdown",
      "source": "Las funciones map(),apply() y applymap() son muy convenientes para utilizar en limpieza de datos. \nPor ejemplo, supongamos que queremos sacar todos los acentos y demás caracteres propios del español de todos los strings de un Dataframe. Además queremos convertir todo a minúsculas."
    },
    {
      "metadata": {
        "colab": {},
        "colab_type": "code",
        "id": "wrCYnfHecUb2",
        "outputId": "c0e81209-b30e-4540-828f-eca901d292a3",
        "trusted": true
      },
      "cell_type": "code",
      "source": "data = pd.DataFrame({'nombre': ['Tomás','Carla','Paula'], 'apellido': ['Torres','López','Núñez']}, \n                    columns =['nombre','apellido'])\ndata",
      "execution_count": null,
      "outputs": []
    },
    {
      "metadata": {
        "colab": {},
        "colab_type": "code",
        "id": "oo54yAeMcUb6",
        "outputId": "71353397-e45e-46a3-d467-9993eb8e259c",
        "trusted": true
      },
      "cell_type": "code",
      "source": "# !pip install unidecode\n\nimport unidecode\n\ndef quitar_caracteres(entrada):\n    return str.lower(unidecode.unidecode(entrada))",
      "execution_count": null,
      "outputs": []
    },
    {
      "metadata": {
        "colab": {},
        "colab_type": "code",
        "id": "kcH82iSvcUb-",
        "trusted": true
      },
      "cell_type": "code",
      "source": "data.applymap(quitar_caracteres)",
      "execution_count": null,
      "outputs": []
    },
    {
      "metadata": {
        "trusted": true
      },
      "cell_type": "code",
      "source": "",
      "execution_count": null,
      "outputs": []
    }
  ],
  "metadata": {
    "colab": {
      "name": "1. PRACTICA_GUIADA_Limpieza_de_datos.ipynb",
      "provenance": [],
      "version": "0.3.2"
    },
    "kernelspec": {
      "name": "python3",
      "display_name": "Python 3",
      "language": "python"
    }
  },
  "nbformat": 4,
  "nbformat_minor": 1
}