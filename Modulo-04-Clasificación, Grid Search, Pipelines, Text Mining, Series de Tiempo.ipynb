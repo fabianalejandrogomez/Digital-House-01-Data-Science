{
  "cells": [
    {
      "metadata": {
        "collapsed": true
      },
      "cell_type": "raw",
      "source": "Módulo 4 Clasificación. Grid Search y Pipelines. Text Mining. Series de Tiempo \n\nContenidos\n\n•\tIntroducción a los Problemas de Clasificación: Problema de los K-Nearest Neighbours. \n•\tAlgoritmos usados para problemas de clasificación: Regresión Logística. Naïve Bayes, Support Vector Machines. Evaluación de algoritmos de clasi¬cación: métricas de error, Accuracy, limitaciones de accuracy. Precision, recall, F1-Score, Curva ROC, Area Under the Curve (AUC).\n•\tTunning de hiperparámetros: de¬nición de hiperparámetro. Métodos de búsqueda: búsqueda exhaustiva (grid search), búsqueda aleatorizada (random search), búsqueda por algoritmos genéticos. Curse of dimensionality. \n•\tPipelines y Custom Transformers en Scikit-Learn: Pipelines: automatización y encapsulado de etapas del work ow. Custom Transformers: noción de objeto y clase en Python. \n•\tFeature Selection: Motivación de Feature Selection. Filter Methods, Wrapper Methods, Embedding Methods. \n•\tEmbeddings \n•\tTopic modelling \n•\tSentiment analysis. \n•\tSeries de Tiempo: preprocesado de series. Enfoque clásico (tendencia, ciclo y residuo). Estacionariedad. Modelos básicos: media constante, tendencia determinística, media móvil, suavizamiento exponencial simple. Modelos AR, MA, ARMA, ARIMA y ARIMAX.\n•\tPaquetes tsfresh, prophet y statsmodels.\n"
    }
  ],
  "metadata": {
    "kernelspec": {
      "name": "python36",
      "display_name": "Python 3.6",
      "language": "python"
    },
    "language_info": {
      "mimetype": "text/x-python",
      "nbconvert_exporter": "python",
      "name": "python",
      "pygments_lexer": "ipython3",
      "version": "3.6.6",
      "file_extension": ".py",
      "codemirror_mode": {
        "version": 3,
        "name": "ipython"
      }
    }
  },
  "nbformat": 4,
  "nbformat_minor": 2
}