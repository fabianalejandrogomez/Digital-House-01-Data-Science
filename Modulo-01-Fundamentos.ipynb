{
  "cells": [
    {
      "metadata": {
        "collapsed": true
      },
      "cell_type": "raw",
      "source": "Módulo 1 - Fundamentos: \n•\tNumpy\n•\tDocker\n•\tGit\n•\tPandas\nContenidos:\n•\tPython y Numpy: Demostrar conceptos de programación usando Python y Numpy para navegar fuentes de datos y colecciones. \n•\tEstadística Descriptiva: Repasar y aplicar los fundamentos de estadística descriptiva. \n•\tArquitectura de Docker. datos usando funciones booleanas, indexación, series, joins. Introducción a Git. \n•\tPandas y Tablas Pivot: Introducción a Pandas (librería para leer, limpiar, parsear y graficar). \n•\tRepaso de Probabilidad."
    },
    {
      "metadata": {
        "trusted": true
      },
      "cell_type": "code",
      "source": "",
      "execution_count": null,
      "outputs": []
    }
  ],
  "metadata": {
    "kernelspec": {
      "name": "python36",
      "display_name": "Python 3.6",
      "language": "python"
    },
    "language_info": {
      "mimetype": "text/x-python",
      "nbconvert_exporter": "python",
      "name": "python",
      "pygments_lexer": "ipython3",
      "version": "3.6.6",
      "file_extension": ".py",
      "codemirror_mode": {
        "version": 3,
        "name": "ipython"
      }
    }
  },
  "nbformat": 4,
  "nbformat_minor": 2
}