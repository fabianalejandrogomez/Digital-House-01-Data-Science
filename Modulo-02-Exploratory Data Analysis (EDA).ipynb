{
  "cells": [
    {
      "metadata": {
        "collapsed": true
      },
      "cell_type": "raw",
      "source": "Módulo 2 - Exploratory Data Analysis (EDA)\n•\tSciPy\n•\tGeoPandas\n•\tVisualización\n•\tPCA\n•\tT-SNE\n•\tSQL \nContenidos:\n•\tGeopandas para representar datos con geo referenciados. \n•\tLimpieza de datos: “tidy data”, estructuras de datos adecuadas, missing data, nociones de Regular Expressions\n•\tEstadística Inferencial: Nociones de probabilidad, distribuciones muestrales, intervalos de con¬anza, pruebas de hipótesis. Uso de librería SciPy. \n•\tIntroducción a Gráficos y Visualización: ecosistema de librerías de visualización en Python. Matplotlib, Seaborn, Plotly, Bokeh. \n•\tDimensionality Reduction: Introducción a PCA. Presentación de Multiple Correspondance Analysis. Manifold Learning: Técnicas para la reducción de dimensionalidad no lineales: Multidimensional Scaling (MDS), Locally Linear Embeddings e IsoMaps. Diferencias con PCA. Métricas de distancia utilizadas. \n•\tSQL y Bases de Datos: Introducirse a diferentes tipos de bases de datos, revisar expresiones SQL y realizar prácticas obteniendo datos de una base remota."
    }
  ],
  "metadata": {
    "kernelspec": {
      "name": "python36",
      "display_name": "Python 3.6",
      "language": "python"
    },
    "language_info": {
      "mimetype": "text/x-python",
      "nbconvert_exporter": "python",
      "name": "python",
      "pygments_lexer": "ipython3",
      "version": "3.6.6",
      "file_extension": ".py",
      "codemirror_mode": {
        "version": 3,
        "name": "ipython"
      }
    }
  },
  "nbformat": 4,
  "nbformat_minor": 2
}