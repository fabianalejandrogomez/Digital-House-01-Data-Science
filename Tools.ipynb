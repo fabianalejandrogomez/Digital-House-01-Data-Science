{
  "cells": [
    {
      "metadata": {},
      "cell_type": "markdown",
      "source": "# TOOLS"
    },
    {
      "metadata": {
        "collapsed": true
      },
      "cell_type": "markdown",
      "source": "Docker\nhttps://www.docker.com/\nGit\nhttps://git-scm.com/\nSciPy\nhttps://www.scipy.org\nNumpy\nhttps://numpy.org/\nPandas\nhttps://pandas.pydata.org/\nScikit-learn\nhttps://scikit-learn.org/stable/\nMatplotlib\nhttps://matplotlib.org/\nSeaborn\nhttps://seaborn.pydata.org/\nPlotly\nhttps://plot.ly/\nBokeh\nhttps://docs.bokeh.org/en/latest/\nPostgreSQL\nhttps://www.postgresql.org/\nJSOM\nhttps://www.json.org/json-es.html\nScrapy\nhttps://scrapy.org/\nBeautiful Soup\nhttps://www.crummy.com/software/BeautifulSoup/bs4/doc/\nTensorflow\nhttps://www.tensorflow.org/\nSelenium\nhttps://selenium.dev/\nurllib2\nhttps://docs.python.org/2/library/urllib2.html\n"
    },
    {
      "metadata": {
        "trusted": true
      },
      "cell_type": "code",
      "source": "",
      "execution_count": null,
      "outputs": []
    }
  ],
  "metadata": {
    "kernelspec": {
      "name": "python36",
      "display_name": "Python 3.6",
      "language": "python"
    },
    "language_info": {
      "mimetype": "text/x-python",
      "nbconvert_exporter": "python",
      "name": "python",
      "pygments_lexer": "ipython3",
      "version": "3.6.6",
      "file_extension": ".py",
      "codemirror_mode": {
        "version": 3,
        "name": "ipython"
      }
    }
  },
  "nbformat": 4,
  "nbformat_minor": 2
}