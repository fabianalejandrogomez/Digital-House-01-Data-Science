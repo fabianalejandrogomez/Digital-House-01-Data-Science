{
  "cells": [
    {
      "metadata": {
        "collapsed": true
      },
      "cell_type": "raw",
      "source": "Módulo 6 Árboles y Ensamble Learning\n\n•\tÁrboles de Decisión: Construcción de árboles a través del algoritmo CART. Evitando el over¬tting y under¬tting en Árboles.\n•\tModelos de Ensamble: Noción de Ensamble Learning. Diferencias y ventajas. Presentación del meta-algoritmo Bagging y de dos aplicaciones para árboles de decisión: Random Forest y ExtraTrees. Presentación del meta-algoritmo de Boosting y de AdaBoost y Gradient Boosting. Ventajas y desventajas de diferentes implementaciones de boosting. Entrando a la caja negra: feature importance y partial dependency plots en modelos de ensamble.\n"
    }
  ],
  "metadata": {
    "kernelspec": {
      "name": "python36",
      "display_name": "Python 3.6",
      "language": "python"
    },
    "language_info": {
      "mimetype": "text/x-python",
      "nbconvert_exporter": "python",
      "name": "python",
      "pygments_lexer": "ipython3",
      "version": "3.6.6",
      "file_extension": ".py",
      "codemirror_mode": {
        "version": 3,
        "name": "ipython"
      }
    }
  },
  "nbformat": 4,
  "nbformat_minor": 2
}