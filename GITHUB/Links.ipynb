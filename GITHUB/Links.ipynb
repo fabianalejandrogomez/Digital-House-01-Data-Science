{
  "cells": [
    {
      "metadata": {
        "collapsed": true
      },
      "cell_type": "raw",
      "source": "Mejores:\n\nhttps://github.com/facutk/digital-house-data-science\n\nhttps://github.com/ajtowers\nhttps://github.com/ajtowers/DH-Final\n\nhttps://github.com/marioandrededeus\nhttps://github.com/marioandrededeus/Desafio1_Mario/tree/master/Desafio%201-20190916\nhttps://github.com/marioandrededeus/Desafio3-DigitalHouse-DataScience\n\nhttps://github.com/jonazambiazzo\n\nhttps://github.com/azvmarko\nhttps://github.com/azvmarko/Integrador---DH\n\nhttps://github.com/felipecanedopero\n\nhttps://github.com/rpbenatti/Data-Science\nhttps://github.com/rpbenatti/DS-DH-Project\n\nOtros:\n\nhttps://github.com/tsilverio\n\nhttps://github.com/rcatala\n\nhttps://github.com/iani-hu/Valuador-de-propiedades-\n\nhttps://github.com/leabravo/dhds\n\nhttps://github.com/PPMorandini/desafio_properatti\n\nhttps://github.com/blame92\nhttps://github.com/blame92/ds_dh_final\n\nhttps://github.com/BimChar/Projeto_Integrador-Git\n\nhttps://github.com/JuanFerraro/deteccionpredadores\n\nhttps://github.com/SouzaCadu/Kaggle_Santander_Transaction_Prediction"
    }
  ],
  "metadata": {
    "kernelspec": {
      "name": "python36",
      "display_name": "Python 3.6",
      "language": "python"
    },
    "language_info": {
      "mimetype": "text/x-python",
      "nbconvert_exporter": "python",
      "name": "python",
      "pygments_lexer": "ipython3",
      "version": "3.6.6",
      "file_extension": ".py",
      "codemirror_mode": {
        "version": 3,
        "name": "ipython"
      }
    }
  },
  "nbformat": 4,
  "nbformat_minor": 2
}