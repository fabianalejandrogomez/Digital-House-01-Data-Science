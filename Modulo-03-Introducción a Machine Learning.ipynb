{
  "cells": [
    {
      "metadata": {
        "collapsed": true
      },
      "cell_type": "raw",
      "source": "Módulo 3  Introducción a Machine Learning\n•\tSklearn\n•\tWeb Scrapping\n•\tFlask\nContenidos\n•\tMachine Learning: Introducción a conceptos nodales: sesgo, varianza, over¬fitting, under¬fitting. Identi¬cación de diferentes tipos de algoritmos de Machine Learning (supervisados y no supervisados). Formas de estimación del error de generalización (train-test split. cross-validation). Presentación general de las técnicas más utilizadas. \n•\tRegresión Lineal Simple y Múltiple: interpretación, estimación de coe¬cientes beta, supuestos, medidas de ajuste. Introducción de no linealidades en el modelo. \n•\tStatsmodels y Sklearn: Introducción al uso de ambas librerías para la estimación de modelos estadísticos y algoritmos de Machine Learning en Python. API, clases y objetos en Scikit-Learn.\n•\tRegularización y Optimización: Nociones generales de regularización. Regresión LASSO y Ridge. Feature scaling.\n•\tWeb Scraping: Nociones de HTML (tags, árboles). Uso de librerías urllib2 y BeatifulSoup para scrapear sitios web. Introducción a selenium.\n•\tFlask puesta en producción de modelos."
    }
  ],
  "metadata": {
    "kernelspec": {
      "name": "python36",
      "display_name": "Python 3.6",
      "language": "python"
    },
    "language_info": {
      "mimetype": "text/x-python",
      "nbconvert_exporter": "python",
      "name": "python",
      "pygments_lexer": "ipython3",
      "version": "3.6.6",
      "file_extension": ".py",
      "codemirror_mode": {
        "version": 3,
        "name": "ipython"
      }
    }
  },
  "nbformat": 4,
  "nbformat_minor": 2
}