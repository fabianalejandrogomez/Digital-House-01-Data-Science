{
  "cells": [
    {
      "metadata": {
        "collapsed": true
      },
      "cell_type": "markdown",
      "source": "# Podemos anidar indexaciones"
    },
    {
      "metadata": {
        "trusted": true
      },
      "cell_type": "code",
      "source": "alumnos = [(\"Fernando\",\"Gonzalez\",26), (\"Florencia\",\"Martinez\",32), (\"Florencia\",\"Martinez\",32)]",
      "execution_count": 1,
      "outputs": []
    },
    {
      "metadata": {
        "trusted": true
      },
      "cell_type": "code",
      "source": "alumnos[0][1]",
      "execution_count": 2,
      "outputs": [
        {
          "output_type": "execute_result",
          "execution_count": 2,
          "data": {
            "text/plain": "'Gonzalez'"
          },
          "metadata": {}
        }
      ]
    },
    {
      "metadata": {},
      "cell_type": "markdown",
      "source": "# Diccionario"
    },
    {
      "metadata": {
        "trusted": true
      },
      "cell_type": "code",
      "source": "curso={\"ayudante\":(\"Javier\",\"Rodriguez\",32),\n       \"profesor\":(\"Marisol\",\"Andrade\",39)}",
      "execution_count": 3,
      "outputs": []
    },
    {
      "metadata": {
        "trusted": true
      },
      "cell_type": "code",
      "source": "#Se puede acceder al valor del diccionario utilizando la palabra clave en este caso ayudante\ncurso[\"ayudante\"] ",
      "execution_count": 4,
      "outputs": [
        {
          "output_type": "execute_result",
          "execution_count": 4,
          "data": {
            "text/plain": "('Javier', 'Rodriguez', 32)"
          },
          "metadata": {}
        }
      ]
    },
    {
      "metadata": {
        "trusted": true
      },
      "cell_type": "code",
      "source": "import numpy as np",
      "execution_count": 5,
      "outputs": []
    },
    {
      "metadata": {},
      "cell_type": "markdown",
      "source": "# NUMPY"
    },
    {
      "metadata": {
        "trusted": true
      },
      "cell_type": "code",
      "source": "arreglo = np.array([1,2,3,4,5])",
      "execution_count": 6,
      "outputs": []
    },
    {
      "metadata": {
        "trusted": true
      },
      "cell_type": "code",
      "source": "",
      "execution_count": null,
      "outputs": []
    }
  ],
  "metadata": {
    "kernelspec": {
      "name": "python36",
      "display_name": "Python 3.6",
      "language": "python"
    },
    "language_info": {
      "mimetype": "text/x-python",
      "nbconvert_exporter": "python",
      "name": "python",
      "pygments_lexer": "ipython3",
      "version": "3.6.6",
      "file_extension": ".py",
      "codemirror_mode": {
        "version": 3,
        "name": "ipython"
      }
    }
  },
  "nbformat": 4,
  "nbformat_minor": 2
}