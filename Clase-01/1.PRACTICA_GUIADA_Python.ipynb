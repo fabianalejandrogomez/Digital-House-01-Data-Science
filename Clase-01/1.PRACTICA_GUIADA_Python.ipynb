{
 "cells": [
  {
   "cell_type": "markdown",
   "metadata": {
    "colab_type": "text",
    "id": "-uWxNvm4JUsO"
   },
   "source": [
    "# Repaso de Python"
   ]
  },
  {
   "cell_type": "markdown",
   "metadata": {
    "colab_type": "text",
    "id": "8pvTWQNQJUsQ"
   },
   "source": [
    "## Tuplas, listas y diccionarios"
   ]
  },
  {
   "cell_type": "markdown",
   "metadata": {},
   "source": [
    "Una **tupla** es una secuencia inmutable de longitud fija de objetos de Python"
   ]
  },
  {
   "cell_type": "code",
   "execution_count": null,
   "metadata": {
    "colab": {},
    "colab_type": "code",
    "id": "qxWq3jxLJUsR"
   },
   "outputs": [],
   "source": [
    "alumno = (\"Fernando\",\"Gonzalez\",26)"
   ]
  },
  {
   "cell_type": "markdown",
   "metadata": {},
   "source": [
    "El objeto \"alumno\" pertenece a la clase tupla, por lo que hereda todos los atributos y métodos propios de esa clase."
   ]
  },
  {
   "cell_type": "code",
   "execution_count": null,
   "metadata": {
    "colab": {
     "base_uri": "https://localhost:8080/",
     "height": 34
    },
    "colab_type": "code",
    "executionInfo": {
     "elapsed": 593,
     "status": "ok",
     "timestamp": 1533996728059,
     "user": {
      "displayName": "Julián Ansaldo",
      "photoUrl": "//lh6.googleusercontent.com/-jtDAH592MC0/AAAAAAAAAAI/AAAAAAAAAAc/_b4XCQBRV3A/s50-c-k-no/photo.jpg",
      "userId": "114586102947653888214"
     },
     "user_tz": 180
    },
    "id": "68PV9cAJAxnn",
    "outputId": "9165d2f3-18be-4ae6-ae9e-5ed7bfe64adb"
   },
   "outputs": [],
   "source": [
    "print(type(alumno))"
   ]
  },
  {
   "cell_type": "code",
   "execution_count": null,
   "metadata": {
    "colab": {
     "base_uri": "https://localhost:8080/",
     "height": 34
    },
    "colab_type": "code",
    "executionInfo": {
     "elapsed": 582,
     "status": "ok",
     "timestamp": 1533996741096,
     "user": {
      "displayName": "Julián Ansaldo",
      "photoUrl": "//lh6.googleusercontent.com/-jtDAH592MC0/AAAAAAAAAAI/AAAAAAAAAAc/_b4XCQBRV3A/s50-c-k-no/photo.jpg",
      "userId": "114586102947653888214"
     },
     "user_tz": 180
    },
    "id": "leNrvanxl7NL",
    "outputId": "367b3ed3-69a9-416c-9eb0-8967f2a2ab4f"
   },
   "outputs": [],
   "source": [
    "print(alumno)"
   ]
  },
  {
   "cell_type": "markdown",
   "metadata": {},
   "source": [
    "Llamar a la variable alumno equivale a print(alumno):"
   ]
  },
  {
   "cell_type": "code",
   "execution_count": null,
   "metadata": {
    "colab": {
     "base_uri": "https://localhost:8080/",
     "height": 34
    },
    "colab_type": "code",
    "executionInfo": {
     "elapsed": 593,
     "status": "ok",
     "timestamp": 1533996749579,
     "user": {
      "displayName": "Julián Ansaldo",
      "photoUrl": "//lh6.googleusercontent.com/-jtDAH592MC0/AAAAAAAAAAI/AAAAAAAAAAc/_b4XCQBRV3A/s50-c-k-no/photo.jpg",
      "userId": "114586102947653888214"
     },
     "user_tz": 180
    },
    "id": "7CcQUcOpIDxC",
    "outputId": "890b94e0-566c-4448-816b-9aee4970fa55"
   },
   "outputs": [],
   "source": [
    "alumno"
   ]
  },
  {
   "cell_type": "markdown",
   "metadata": {},
   "source": [
    "Al igual que con las listas, podemos acceder a un elemento particular de una tupla a partir de su índice:"
   ]
  },
  {
   "cell_type": "code",
   "execution_count": null,
   "metadata": {
    "colab": {
     "base_uri": "https://localhost:8080/",
     "height": 34
    },
    "colab_type": "code",
    "executionInfo": {
     "elapsed": 588,
     "status": "ok",
     "timestamp": 1533996771390,
     "user": {
      "displayName": "Julián Ansaldo",
      "photoUrl": "//lh6.googleusercontent.com/-jtDAH592MC0/AAAAAAAAAAI/AAAAAAAAAAc/_b4XCQBRV3A/s50-c-k-no/photo.jpg",
      "userId": "114586102947653888214"
     },
     "user_tz": 180
    },
    "id": "ckk0oAhZGgJY",
    "outputId": "fe1c10d5-4084-4ff0-b7f8-28211fda61de"
   },
   "outputs": [],
   "source": [
    "alumno[0] "
   ]
  },
  {
   "cell_type": "markdown",
   "metadata": {},
   "source": [
    "Pero, a diferencia de las listas, las tuplas son inmutables, por lo que no se pueden modificar:"
   ]
  },
  {
   "cell_type": "code",
   "execution_count": null,
   "metadata": {
    "colab": {
     "base_uri": "https://localhost:8080/",
     "height": 184
    },
    "colab_type": "code",
    "executionInfo": {
     "elapsed": 588,
     "status": "error",
     "timestamp": 1533996778382,
     "user": {
      "displayName": "Julián Ansaldo",
      "photoUrl": "//lh6.googleusercontent.com/-jtDAH592MC0/AAAAAAAAAAI/AAAAAAAAAAc/_b4XCQBRV3A/s50-c-k-no/photo.jpg",
      "userId": "114586102947653888214"
     },
     "user_tz": 180
    },
    "id": "jfOf0WAymLDQ",
    "outputId": "0613d744-ecf9-48d8-f891-673c31ea5eca"
   },
   "outputs": [],
   "source": [
    "try:\n",
    "    alumno[0] = 'Gonzalo'\n",
    "except Exception as e:\n",
    "    print(\"Error:\", e)"
   ]
  },
  {
   "cell_type": "markdown",
   "metadata": {},
   "source": [
    "Esto también arroja error:"
   ]
  },
  {
   "cell_type": "code",
   "execution_count": null,
   "metadata": {
    "colab": {
     "base_uri": "https://localhost:8080/",
     "height": 164
    },
    "colab_type": "code",
    "executionInfo": {
     "elapsed": 558,
     "status": "error",
     "timestamp": 1533996810953,
     "user": {
      "displayName": "Julián Ansaldo",
      "photoUrl": "//lh6.googleusercontent.com/-jtDAH592MC0/AAAAAAAAAAI/AAAAAAAAAAc/_b4XCQBRV3A/s50-c-k-no/photo.jpg",
      "userId": "114586102947653888214"
     },
     "user_tz": 180
    },
    "id": "J6JZDLtEnN_R",
    "outputId": "7b2744b9-368a-45db-9505-ac7d0773afd3"
   },
   "outputs": [],
   "source": [
    "try:\n",
    "    alumno.insert(-1, 'Data Scientist') \n",
    "except Exception as e:\n",
    "    print(\"Error:\", e)"
   ]
  },
  {
   "cell_type": "markdown",
   "metadata": {},
   "source": [
    "\"Unpacking\" de tuplas:"
   ]
  },
  {
   "cell_type": "code",
   "execution_count": null,
   "metadata": {},
   "outputs": [],
   "source": [
    "nombre, apellido, edad = alumno\n",
    "\n",
    "print(\"Nombre:\", nombre)\n",
    "print(\"Apellido:\", apellido)\n",
    "print(\"Edad:\", edad)"
   ]
  },
  {
   "cell_type": "markdown",
   "metadata": {
    "colab_type": "text",
    "id": "IMefjBIVJUsW"
   },
   "source": [
    "Si quisiera guardar los datos de todos mis alumnos puedo utilizar una **lista** de tuplas:"
   ]
  },
  {
   "cell_type": "code",
   "execution_count": null,
   "metadata": {
    "colab": {},
    "colab_type": "code",
    "id": "ck5lAsi-JUsX"
   },
   "outputs": [],
   "source": [
    "alumnos = [(\"Fernando\",\"Gonzalez\",26), (\"Florencia\",\"Martinez\",32), (\"Florencia\",\"Martinez\",32)]"
   ]
  },
  {
   "cell_type": "code",
   "execution_count": null,
   "metadata": {
    "colab": {
     "base_uri": "https://localhost:8080/",
     "height": 68
    },
    "colab_type": "code",
    "executionInfo": {
     "elapsed": 600,
     "status": "ok",
     "timestamp": 1533997152682,
     "user": {
      "displayName": "Julián Ansaldo",
      "photoUrl": "//lh6.googleusercontent.com/-jtDAH592MC0/AAAAAAAAAAI/AAAAAAAAAAc/_b4XCQBRV3A/s50-c-k-no/photo.jpg",
      "userId": "114586102947653888214"
     },
     "user_tz": 180
    },
    "id": "mjUnYhdyIczj",
    "outputId": "dd2e3e37-e8c0-417e-e731-f86419df36ce"
   },
   "outputs": [],
   "source": [
    "alumnos"
   ]
  },
  {
   "cell_type": "markdown",
   "metadata": {},
   "source": [
    "El objeto \"alumnos\" pertenece a la clase **lista**."
   ]
  },
  {
   "cell_type": "code",
   "execution_count": null,
   "metadata": {
    "colab": {},
    "colab_type": "code",
    "id": "Dd5B6u_PIfoq"
   },
   "outputs": [],
   "source": [
    "print(type(alumnos))"
   ]
  },
  {
   "cell_type": "markdown",
   "metadata": {},
   "source": [
    "En contraste con las **tuplas**, las **listas** son de longitud variable y sus contenidos se pueden modificar. "
   ]
  },
  {
   "cell_type": "markdown",
   "metadata": {},
   "source": [
    "Accedemos a los elementos de la **lista** por su índice:"
   ]
  },
  {
   "cell_type": "code",
   "execution_count": null,
   "metadata": {
    "colab": {},
    "colab_type": "code",
    "id": "K8MiRXrSGjYM"
   },
   "outputs": [],
   "source": [
    "alumnos[0]"
   ]
  },
  {
   "cell_type": "markdown",
   "metadata": {},
   "source": [
    "Podemos anidar indexaciones:"
   ]
  },
  {
   "cell_type": "code",
   "execution_count": null,
   "metadata": {
    "colab": {},
    "colab_type": "code",
    "id": "NiVbBaCJK4pB"
   },
   "outputs": [],
   "source": [
    "alumnos[0][1] "
   ]
  },
  {
   "cell_type": "markdown",
   "metadata": {},
   "source": [
    "Agrego un elemento a la lista:"
   ]
  },
  {
   "cell_type": "code",
   "execution_count": null,
   "metadata": {},
   "outputs": [],
   "source": [
    "alumno_Perez = ('Jorge', 'Perez', 28)\n",
    "alumno_Perez"
   ]
  },
  {
   "cell_type": "code",
   "execution_count": null,
   "metadata": {},
   "outputs": [],
   "source": [
    "alumnos.append(alumno_Perez)\n",
    "alumnos"
   ]
  },
  {
   "cell_type": "markdown",
   "metadata": {},
   "source": [
    "Reemplazo un elemento de la lista:"
   ]
  },
  {
   "cell_type": "code",
   "execution_count": null,
   "metadata": {},
   "outputs": [],
   "source": [
    "alumnos[0] = alumno_Perez\n",
    "alumnos"
   ]
  },
  {
   "cell_type": "markdown",
   "metadata": {},
   "source": [
    "Inserto un elemento en la lista en una locación específica:"
   ]
  },
  {
   "cell_type": "code",
   "execution_count": null,
   "metadata": {},
   "outputs": [],
   "source": [
    "alumnos.insert(1,('Ramiro','Martinelli',29))\n",
    "alumnos"
   ]
  },
  {
   "cell_type": "markdown",
   "metadata": {},
   "source": [
    "slicing:"
   ]
  },
  {
   "cell_type": "code",
   "execution_count": null,
   "metadata": {},
   "outputs": [],
   "source": [
    "alumnos[1:3]"
   ]
  },
  {
   "cell_type": "markdown",
   "metadata": {},
   "source": [
    "Definimos un **diccionario**:"
   ]
  },
  {
   "cell_type": "code",
   "execution_count": null,
   "metadata": {
    "colab": {},
    "colab_type": "code",
    "id": "9SWysN_IJUsa"
   },
   "outputs": [],
   "source": [
    "curso={\"ayudante\":(\"Javier\",\"Rodriguez\",32),\n",
    "       \"profesor\":(\"Marisol\",\"Andrade\",39)}"
   ]
  },
  {
   "cell_type": "code",
   "execution_count": null,
   "metadata": {
    "colab": {},
    "colab_type": "code",
    "id": "uJ-xCabaLN0p"
   },
   "outputs": [],
   "source": [
    "print(type(curso))"
   ]
  },
  {
   "cell_type": "markdown",
   "metadata": {},
   "source": [
    "Los **diccionarios** son colecciones de pares key:value (clave:valor); son estructuras de datos no ordenadas, por lo que para acceder al valor de un elemento en particular, en lugar de utilizar un índice, usamos la clave asociada a ese valor:"
   ]
  },
  {
   "cell_type": "code",
   "execution_count": null,
   "metadata": {
    "colab": {},
    "colab_type": "code",
    "id": "fdNnADMCoBYx"
   },
   "outputs": [],
   "source": [
    "curso[\"ayudante\"] "
   ]
  },
  {
   "cell_type": "markdown",
   "metadata": {
    "colab_type": "text",
    "id": "NLKo1z8KJUsd"
   },
   "source": [
    "### 2- Definición de funciones"
   ]
  },
  {
   "cell_type": "markdown",
   "metadata": {},
   "source": [
    "Vamos a escribir una **función** que recibe la longitud del lado de un cuadrado y retorna el área del cuadrado:"
   ]
  },
  {
   "cell_type": "code",
   "execution_count": null,
   "metadata": {
    "colab": {},
    "colab_type": "code",
    "id": "j1ciu--DJUse"
   },
   "outputs": [],
   "source": [
    "def areaSquare(lado): \n",
    "    return lado ** 2"
   ]
  },
  {
   "cell_type": "markdown",
   "metadata": {},
   "source": [
    "Vamos a escribir una **función** que recibe el largo, ancho y profundidad de un \"cuboide\" y retorna el área de la superficie del \"cuboide\":"
   ]
  },
  {
   "cell_type": "code",
   "execution_count": null,
   "metadata": {
    "colab": {},
    "colab_type": "code",
    "id": "mZ7bMU0YJUsi"
   },
   "outputs": [],
   "source": [
    "def surfaceAreaCuboid(largo,ancho,profundidad): \n",
    "    superficie = 2 * (largo * ancho + largo * profundidad + ancho * profundidad)\n",
    "    return superficie"
   ]
  },
  {
   "cell_type": "markdown",
   "metadata": {
    "colab_type": "text",
    "id": "TIaX0OZMJUso"
   },
   "source": [
    "Ahora llamamos a las funciones definidas anteriormente"
   ]
  },
  {
   "cell_type": "code",
   "execution_count": null,
   "metadata": {
    "colab": {},
    "colab_type": "code",
    "id": "EMTOSAVnJUsp"
   },
   "outputs": [],
   "source": [
    "areaSquare(3)"
   ]
  },
  {
   "cell_type": "code",
   "execution_count": null,
   "metadata": {
    "colab": {},
    "colab_type": "code",
    "id": "HVZ8-iTpJUss"
   },
   "outputs": [],
   "source": [
    "surfaceAreaCuboid(1,3,5)"
   ]
  },
  {
   "cell_type": "markdown",
   "metadata": {},
   "source": [
    "Podemos almacenar el output de la función en una variable:"
   ]
  },
  {
   "cell_type": "code",
   "execution_count": null,
   "metadata": {},
   "outputs": [],
   "source": [
    "area = areaSquare(4)\n",
    "print(\"Area cuadrado con lado = 4:\", area)"
   ]
  },
  {
   "cell_type": "markdown",
   "metadata": {
    "colab_type": "text",
    "id": "B6uRg6WbJUsw"
   },
   "source": [
    "### 3 - Listas por comprensión\n",
    "\n",
    "### Listas básicas por comprensión\n",
    "\n"
   ]
  },
  {
   "cell_type": "markdown",
   "metadata": {
    "colab_type": "text",
    "id": "mErzqhaAJUsx"
   },
   "source": [
    "#### ¿Qué son las listas por comprensión?\n",
    "\n",
    "Las listas por comprensión son sentencias que nos permiten definir listas a partir de una sentencia sin necesidad de ingresar explícitamente cada elemento de la lista.\n",
    "\n",
    "Vamos a empezar con una simple lista de números:"
   ]
  },
  {
   "cell_type": "code",
   "execution_count": null,
   "metadata": {},
   "outputs": [],
   "source": [
    "numbers = [0,1,2,3,4,5,6,7,8,9]"
   ]
  },
  {
   "cell_type": "markdown",
   "metadata": {},
   "source": [
    "Supongamos que queremos sumar 1 a cada elemento de la lista. Podríamos hacer esto de diferentes maneras sin utilizar listas por comprensión. Podríamos utilizar un for:"
   ]
  },
  {
   "cell_type": "code",
   "execution_count": null,
   "metadata": {},
   "outputs": [],
   "source": [
    "%%timeit # la función timeit permite medir los tiempos de ejecución de los comandos (el % indica que es una función 'mágica')\n",
    "\n",
    "nums_plus_one = []\n",
    "for x in numbers:\n",
    "    nums_plus_one.append(x + 1)"
   ]
  },
  {
   "cell_type": "markdown",
   "metadata": {
    "colab_type": "text",
    "id": "mx6uIFulJUs_"
   },
   "source": [
    "Por suerte tenemos las listas por comprensión"
   ]
  },
  {
   "cell_type": "code",
   "execution_count": null,
   "metadata": {
    "colab": {},
    "colab_type": "code",
    "id": "czdfOKCkJUtA"
   },
   "outputs": [],
   "source": [
    "%%timeit \n",
    "\n",
    "numeros_compr = [x + 1 for x in numbers] "
   ]
  },
  {
   "cell_type": "markdown",
   "metadata": {},
   "source": [
    "Vemos que la lista por comprensión es más eficiente ya que ~650 nanosegundos<~1,1 microsegundos"
   ]
  },
  {
   "cell_type": "markdown",
   "metadata": {
    "colab_type": "text",
    "id": "CeakjgoCJUtI"
   },
   "source": [
    "Vayamos al detalle de cómo esto funciona:\n",
    "* num_plus_one es asignada a izquierda como una nueva variable\n",
    "* Las listas por comprensión retornan una lista, y la sentencia está envuelta en corchetes: [...]\n",
    "* Entre los corchetes la estructura es similar a la de un loop for:\n",
    "    1. La **operación por elemento** viene primero: x + 1\n",
    "    2. Luego está la **variable de asignación de la iteración**: for x\n",
    "    3. Por último, la **la lista de elementos sobre la cual iterar**: in numbers"
   ]
  },
  {
   "cell_type": "markdown",
   "metadata": {
    "colab_type": "text",
    "id": "iUOdZFeiJUtJ"
   },
   "source": [
    "### Lógica condicional en las listas por comprensión\n",
    "\n",
    "##### 3- A \"Binarizar\" una lista:"
   ]
  },
  {
   "cell_type": "markdown",
   "metadata": {
    "colab_type": "text",
    "id": "CSOrbXOIJUtK"
   },
   "source": [
    "Las listas por comprensión no sólo sirven para iterar sobre los elementos para aplicarles alguna operación, también se pueden aplicar condiciones. \n",
    "Supongamos que quisieramos \"binarizar\" una variable según si cada elemento es mayor/igual o menor que la mitad de la máxima de todos los elementos. El for para hacer esto podría ser de esta manera:"
   ]
  },
  {
   "cell_type": "code",
   "execution_count": null,
   "metadata": {
    "colab": {},
    "colab_type": "code",
    "id": "vd4HKZZnJUtK"
   },
   "outputs": [],
   "source": [
    "n = [1, 2, 7, 21, 3, 1, 62, 3, 34, 12, 73, 44, 12, 11, 9]\n",
    "n_bin = []\n",
    "n_max_2 = max(n) / 2\n",
    "for x in n:\n",
    "    if x >= n_max_2:\n",
    "        n_bin.append(1)\n",
    "    else:\n",
    "        n_bin.append(0)"
   ]
  },
  {
   "cell_type": "code",
   "execution_count": null,
   "metadata": {
    "colab": {},
    "colab_type": "code",
    "id": "EDr_tDOuJUtX"
   },
   "outputs": [],
   "source": [
    "n_bin"
   ]
  },
  {
   "cell_type": "markdown",
   "metadata": {
    "colab_type": "text",
    "id": "uhfD-r1DJUtM"
   },
   "source": [
    "Pero esto requiere mucho código. Una lista por comprensión puede hacer lo mismo mucho más fácil."
   ]
  },
  {
   "cell_type": "markdown",
   "metadata": {
    "colab_type": "text",
    "id": "gFvs8w15JUtN"
   },
   "source": [
    "Primero veamos cómo se interpreta una expresión condicional en Python:"
   ]
  },
  {
   "cell_type": "code",
   "execution_count": null,
   "metadata": {
    "colab": {},
    "colab_type": "code",
    "id": "9JqJnDZSJUtO"
   },
   "outputs": [],
   "source": [
    "x = 2\n",
    "print(1 if x > 5 else 0)"
   ]
  },
  {
   "cell_type": "code",
   "execution_count": null,
   "metadata": {
    "colab": {},
    "colab_type": "code",
    "id": "vNotmF72JUtQ"
   },
   "outputs": [],
   "source": [
    "x = 7\n",
    "print(1 if x > 5 else 0)"
   ]
  },
  {
   "cell_type": "markdown",
   "metadata": {
    "colab_type": "text",
    "id": "8lsTkb3SJUtS"
   },
   "source": [
    "Ahora construimos nuestra lista, usando una lista por comprensión y una expresión condicional"
   ]
  },
  {
   "cell_type": "code",
   "execution_count": null,
   "metadata": {
    "colab": {},
    "colab_type": "code",
    "id": "CrzkHaYQJUtV"
   },
   "outputs": [],
   "source": [
    "n_bin_cond = [1 if x > n_max_2 else 0 for x in n]"
   ]
  },
  {
   "cell_type": "code",
   "execution_count": null,
   "metadata": {
    "colab": {},
    "colab_type": "code",
    "id": "P5MweBRosWxk"
   },
   "outputs": [],
   "source": [
    "n_bin_cond"
   ]
  },
  {
   "cell_type": "markdown",
   "metadata": {
    "colab_type": "text",
    "id": "4MSkZT3tJUta"
   },
   "source": [
    "#### 3- B Filtrar una lista\n",
    "\n",
    "Los condicionales dentro de una lista por comprensión también sirven para filtrar los datos con los que quiero quedarme. En este caso el if va después del for."
   ]
  },
  {
   "cell_type": "code",
   "execution_count": null,
   "metadata": {
    "colab": {},
    "colab_type": "code",
    "id": "WFRXkiDNJUta"
   },
   "outputs": [],
   "source": [
    "n = [100, 2, 423, 42, 15, 87, 67]"
   ]
  },
  {
   "cell_type": "markdown",
   "metadata": {
    "colab_type": "text",
    "id": "M201MfrYJUtd"
   },
   "source": [
    "Queremos obtener únicamente los elementos que están entre 40 y 70"
   ]
  },
  {
   "cell_type": "code",
   "execution_count": null,
   "metadata": {
    "colab": {},
    "colab_type": "code",
    "id": "RjqBSMKCJUtd"
   },
   "outputs": [],
   "source": [
    "[num for num in n if 70 >= num >= 40]"
   ]
  },
  {
   "cell_type": "markdown",
   "metadata": {
    "colab_type": "text",
    "id": "Hiz0VHZnJUtf"
   },
   "source": [
    "### Funciones en listas por comprensión\n"
   ]
  },
  {
   "cell_type": "markdown",
   "metadata": {
    "colab_type": "text",
    "id": "YdNxUIILJUtg"
   },
   "source": [
    "Podemos realizar operaciones en varias listas a la vez. Utilizar las funciones **zip** y **enumerate** junto con listas por comprensión es muy útil. Primero veamos qué hace cada una de estas funciones.\n",
    "\n",
    "**zip** recorre cada elemento de dos listas de manera iterativa al mismo tiempo y combina cada fila de elementos en una tupla:"
   ]
  },
  {
   "cell_type": "code",
   "execution_count": null,
   "metadata": {
    "colab": {},
    "colab_type": "code",
    "id": "A1Q8ixbOJUtg"
   },
   "outputs": [],
   "source": [
    "a = ['a','b','c','d']\n",
    "z = ['z','y','x','w']"
   ]
  },
  {
   "cell_type": "markdown",
   "metadata": {},
   "source": [
    "La función zip devuelve un objeto de la clase zip que contiene tuplas que aparejan los elementos que poseen el mismo índice:"
   ]
  },
  {
   "cell_type": "code",
   "execution_count": null,
   "metadata": {
    "colab": {},
    "colab_type": "code",
    "id": "6W7X-nXvPd-2"
   },
   "outputs": [],
   "source": [
    "zip(a, z) "
   ]
  },
  {
   "cell_type": "markdown",
   "metadata": {},
   "source": [
    "Los objetos zip son iterables, por lo que podemos recorrerlos con un for loop para acceder a su contenido:"
   ]
  },
  {
   "cell_type": "code",
   "execution_count": null,
   "metadata": {
    "colab": {},
    "colab_type": "code",
    "id": "Kcy8lgNXJUtj"
   },
   "outputs": [],
   "source": [
    "zipped = []\n",
    "\n",
    "for x in zip(a, z):\n",
    "    zipped.append(x)\n",
    "\n",
    "zipped"
   ]
  },
  {
   "cell_type": "markdown",
   "metadata": {
    "colab_type": "text",
    "id": "jdPgUIRkJUtm"
   },
   "source": [
    "Podemos lograr lo mismo con una lista por comprensión:"
   ]
  },
  {
   "cell_type": "code",
   "execution_count": null,
   "metadata": {
    "colab": {},
    "colab_type": "code",
    "id": "iWVCcz8XJUtp"
   },
   "outputs": [],
   "source": [
    "zipped_lc = [x for x in zip(a,z)]\n",
    "zipped_lc"
   ]
  },
  {
   "cell_type": "markdown",
   "metadata": {
    "colab_type": "text",
    "id": "IESmeMI6JUts"
   },
   "source": [
    "**Nota**: Si sólo queremos obtener una lista de tuplas, podemos usar el constructor list"
   ]
  },
  {
   "cell_type": "code",
   "execution_count": null,
   "metadata": {
    "colab": {},
    "colab_type": "code",
    "id": "Pf_izR_VJUtt"
   },
   "outputs": [],
   "source": [
    "list(zip(a,z))"
   ]
  },
  {
   "cell_type": "code",
   "execution_count": null,
   "metadata": {
    "colab": {},
    "colab_type": "code",
    "id": "BLR46oKjvudu"
   },
   "outputs": [],
   "source": [
    "list(enumerate(zip(a,z)))"
   ]
  },
  {
   "cell_type": "markdown",
   "metadata": {
    "colab_type": "text",
    "id": "Vx6yvHJCJUtv"
   },
   "source": [
    "#### 3- D Crear una lista de pares (índice, valor)\n",
    "\n",
    "Nota: Usando listas por comprensión, claro está :)"
   ]
  },
  {
   "cell_type": "code",
   "execution_count": null,
   "metadata": {
    "colab": {},
    "colab_type": "code",
    "id": "Y0rWGIZyJUtw"
   },
   "outputs": [],
   "source": [
    "a = ['a','b','c','d']"
   ]
  },
  {
   "cell_type": "markdown",
   "metadata": {
    "colab_type": "text",
    "id": "CajGAxdYJUt1"
   },
   "source": [
    "**enumerate** lleva el \"registro\" del índice de cada elemento de la lista:"
   ]
  },
  {
   "cell_type": "markdown",
   "metadata": {
    "colab": {},
    "colab_type": "code",
    "id": "XyAgoZjuQNVW"
   },
   "source": [
    "El método enumerate devuelve un objeto de la clase enumerate que contiene tuplas que aparejan cada elemento con su respectivo índice"
   ]
  },
  {
   "cell_type": "code",
   "execution_count": null,
   "metadata": {
    "colab": {},
    "colab_type": "code",
    "id": "jnTvdfJAQUou"
   },
   "outputs": [],
   "source": [
    "for e in enumerate(a): # al igual que los objetos tipo zip, los objetos tipo enumerate son iterables\n",
    "  print(e)"
   ]
  },
  {
   "cell_type": "code",
   "execution_count": null,
   "metadata": {},
   "outputs": [],
   "source": [
    "enumerated = []\n",
    "for i in enumerate(a):\n",
    "    enumerated.append(i)\n",
    "\n",
    "enumerated"
   ]
  },
  {
   "cell_type": "markdown",
   "metadata": {
    "colab_type": "text",
    "id": "U__2yqzIJUt6"
   },
   "source": [
    "Ahora, usando listas por comprensión:"
   ]
  },
  {
   "cell_type": "code",
   "execution_count": null,
   "metadata": {
    "colab": {},
    "colab_type": "code",
    "id": "k-ckTzTTJUt7"
   },
   "outputs": [],
   "source": [
    "enumerated_lc =[x for x in enumerate(a)]\n",
    "enumerated_lc"
   ]
  },
  {
   "cell_type": "markdown",
   "metadata": {
    "colab_type": "text",
    "id": "XOcxJN03JUt_"
   },
   "source": [
    "#### 3-E) Para cada elemento de cada lista, calcular la multiplicación del elemento de la primera lista por su índice dividido por el elemento de la segunda lista\n",
    "\n",
    "Por ejemplo, dadas estas dos listas:\n",
    "\n",
    "    list_one = [10, 15, 20, 25, 40]\n",
    "    list_two = [1, 2, 3, 4, 5]\n",
    "\n",
    "Retornar:\n",
    "\n",
    "               [0, 7, 13, 18, 32]"
   ]
  },
  {
   "cell_type": "code",
   "execution_count": null,
   "metadata": {
    "colab": {},
    "colab_type": "code",
    "id": "63gUKMOtJUt_"
   },
   "outputs": [],
   "source": [
    "list_one = [10, 15, 20, 25, 40]\n",
    "list_two = [1, 2, 3, 4, 5]"
   ]
  },
  {
   "cell_type": "code",
   "execution_count": null,
   "metadata": {
    "colab": {},
    "colab_type": "code",
    "id": "BWqI1jgmwqKd"
   },
   "outputs": [],
   "source": [
    "for i in enumerate(zip(list_one, list_two)):\n",
    "  print(i)"
   ]
  },
  {
   "cell_type": "code",
   "execution_count": null,
   "metadata": {
    "colab": {},
    "colab_type": "code",
    "id": "XGScHGdHJUuC"
   },
   "outputs": [],
   "source": [
    "math_comp = [int((x * i) / y) for i, (x, y) in enumerate(zip(list_one, list_two))]\n",
    "math_comp"
   ]
  },
  {
   "cell_type": "markdown",
   "metadata": {
    "colab_type": "text",
    "id": "_L4d7roDJUuF"
   },
   "source": [
    "### Diccionarios por comprensión"
   ]
  },
  {
   "cell_type": "markdown",
   "metadata": {
    "colab_type": "text",
    "id": "bEIrnWWEJUuG"
   },
   "source": [
    "La comprensión no está limitada a listas. \n",
    "Podemos utilizar la comprensión para crear diccionarios. \n",
    "Más abajo, un ejemplo donde creamos un diccionario donde cada clave es el nombre de una especie animal y su valor es la longitud de ese nombre."
   ]
  },
  {
   "cell_type": "code",
   "execution_count": null,
   "metadata": {
    "colab": {},
    "colab_type": "code",
    "id": "kHGSOGmUJUuH"
   },
   "outputs": [],
   "source": [
    "keys = ['dog', 'cat', 'bird', 'horse']\n",
    "dicc = {k:len(k) for k in keys}\n",
    "dicc "
   ]
  },
  {
   "cell_type": "markdown",
   "metadata": {
    "colab_type": "text",
    "id": "l6CJxc5aJUuS"
   },
   "source": [
    "#### 3-F Crear un diccionario donde las claves sean los nombres de columna y sus valores correspondientes"
   ]
  },
  {
   "cell_type": "code",
   "execution_count": null,
   "metadata": {
    "colab": {},
    "colab_type": "code",
    "id": "wcrpcQRMJUuT"
   },
   "outputs": [],
   "source": [
    "column_names = ['height','weight','is_male']\n",
    "values = [[62, 54, 60, 50], [180, 120, 200, 100], [True, False, True, False]]"
   ]
  },
  {
   "cell_type": "code",
   "execution_count": null,
   "metadata": {
    "colab": {},
    "colab_type": "code",
    "id": "TR99sjwg2JPf"
   },
   "outputs": [],
   "source": [
    "for k, v in zip(column_names, values):\n",
    "  print(k, v)"
   ]
  },
  {
   "cell_type": "code",
   "execution_count": null,
   "metadata": {
    "colab": {},
    "colab_type": "code",
    "id": "rEouexq-JUuW"
   },
   "outputs": [],
   "source": [
    "dicc = {k:v for k, v in zip(column_names, values)}\n",
    "dicc"
   ]
  }
 ],
 "metadata": {
  "accelerator": "GPU",
  "colab": {
   "name": "PRACTICA_GUIADA_Python.ipynb",
   "provenance": [],
   "version": "0.3.2"
  },
  "kernelspec": {
   "display_name": "Python 3",
   "language": "python",
   "name": "python3"
  },
  "language_info": {
   "codemirror_mode": {
    "name": "ipython",
    "version": 3
   },
   "file_extension": ".py",
   "mimetype": "text/x-python",
   "name": "python",
   "nbconvert_exporter": "python",
   "pygments_lexer": "ipython3",
   "version": "3.6.8"
  }
 },
 "nbformat": 4,
 "nbformat_minor": 1
}
