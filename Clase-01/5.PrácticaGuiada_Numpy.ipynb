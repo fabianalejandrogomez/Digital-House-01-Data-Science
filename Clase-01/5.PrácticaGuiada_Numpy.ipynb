{
  "cells": [
    {
      "metadata": {
        "id": "C6rQbnCl9vVq",
        "colab_type": "text"
      },
      "cell_type": "markdown",
      "source": "# Manipulación de Arrays con Numpy"
    },
    {
      "metadata": {
        "id": "qL5AcCul9vV8",
        "colab_type": "text"
      },
      "cell_type": "markdown",
      "source": "### 1- Arrays en Numpy\n\nA diferencia de las listas de Python, cuando creamos un array en Numpy, existe la restricción de que todos los elementos tienen que ser del mismo tipo.\nEsto hace que los arrays de numpy sean **más eficientes**.\n"
    },
    {
      "metadata": {
        "id": "o9ncgiNi9vWb",
        "colab_type": "code",
        "colab": {},
        "trusted": true
      },
      "cell_type": "code",
      "source": "import numpy as np",
      "execution_count": 1,
      "outputs": []
    },
    {
      "metadata": {
        "id": "hJ3aUAnv9vXv",
        "colab_type": "code",
        "colab": {},
        "trusted": true
      },
      "cell_type": "code",
      "source": "# Lista de python\nl = [1, 4, 2, 5, 3]\n\n# Arreglo de enteros instanciado a partir de una lista:\nnp.array(l)",
      "execution_count": 2,
      "outputs": [
        {
          "output_type": "execute_result",
          "execution_count": 2,
          "data": {
            "text/plain": "array([1, 4, 2, 5, 3])"
          },
          "metadata": {}
        }
      ]
    },
    {
      "metadata": {
        "id": "_ApjbRKT9vYA",
        "colab_type": "code",
        "colab": {},
        "trusted": true
      },
      "cell_type": "code",
      "source": "# Instanciamos un array a partir de una lista literal\na = np.array([1, 4, 2, 5, 3])\n\n# Atributo que indica el tipo de datos de los elementos del array\na.dtype",
      "execution_count": 3,
      "outputs": [
        {
          "output_type": "execute_result",
          "execution_count": 3,
          "data": {
            "text/plain": "dtype('int64')"
          },
          "metadata": {}
        }
      ]
    },
    {
      "metadata": {
        "id": "feXSGRjV9vYS",
        "colab_type": "code",
        "colab": {},
        "trusted": true
      },
      "cell_type": "code",
      "source": "# Si la lista de python tiene integers y floats, \n# el array de Numpy transforma todo en float para tener un solo tipo.\npy_list = [3.14, 4, 2, 3]\n\nnp_array = np.array(py_list)\n\nnp_array",
      "execution_count": 4,
      "outputs": [
        {
          "output_type": "execute_result",
          "execution_count": 4,
          "data": {
            "text/plain": "array([3.14, 4.  , 2.  , 3.  ])"
          },
          "metadata": {}
        }
      ]
    },
    {
      "metadata": {
        "id": "sncF_zwE9vYj",
        "colab_type": "code",
        "colab": {},
        "trusted": true
      },
      "cell_type": "code",
      "source": "np_array.dtype",
      "execution_count": 5,
      "outputs": [
        {
          "output_type": "execute_result",
          "execution_count": 5,
          "data": {
            "text/plain": "dtype('float64')"
          },
          "metadata": {}
        }
      ]
    },
    {
      "metadata": {
        "id": "lbNPKFHb9vYy",
        "colab_type": "text"
      },
      "cell_type": "markdown",
      "source": "\n\nPara crear arrays desde cero, lo más eficiente es hacerlo con los métodos propios de Numpy. Puedo crear arrays de ceros, de unos, de una secuencia, de valores aleatorios o de valores con una cierta **distribución estadística**, como por ejemplo la distribución normal.\n\n##### Crear una Array de ceros"
    },
    {
      "metadata": {
        "id": "_SuJmYCJ9vY0",
        "colab_type": "code",
        "colab": {},
        "trusted": true
      },
      "cell_type": "code",
      "source": "# Crear un array de longitud 10 lleno con ceros\nnp.zeros(10, dtype=int)",
      "execution_count": 6,
      "outputs": [
        {
          "output_type": "execute_result",
          "execution_count": 6,
          "data": {
            "text/plain": "array([0, 0, 0, 0, 0, 0, 0, 0, 0, 0])"
          },
          "metadata": {}
        }
      ]
    },
    {
      "metadata": {
        "id": "Cz-331uS9vZC",
        "colab_type": "text"
      },
      "cell_type": "markdown",
      "source": "#### Inicializar un array vacío"
    },
    {
      "metadata": {
        "id": "76_iE5_z9vZL",
        "colab_type": "code",
        "colab": {},
        "trusted": true
      },
      "cell_type": "code",
      "source": "# Aloca un espacio en memoria pero no la inicializa\nmy_array = np.empty([2, 2])\nmy_array",
      "execution_count": 7,
      "outputs": [
        {
          "output_type": "execute_result",
          "execution_count": 7,
          "data": {
            "text/plain": "array([[3.14, 4.  ],\n       [2.  , 3.  ]])"
          },
          "metadata": {}
        }
      ]
    },
    {
      "metadata": {
        "id": "Cjd519f49vZg",
        "colab_type": "text"
      },
      "cell_type": "markdown",
      "source": "#### Crear un Array que contiene números con distribución normal"
    },
    {
      "metadata": {
        "id": "ScAtmalZ9vZm",
        "colab_type": "code",
        "colab": {},
        "trusted": true
      },
      "cell_type": "code",
      "source": "# Puedo inicializar un array de números con distribución normal\n# El primer parámetro es la media de la distribución\n# El segundo parámetro es el desvío estándar\nnorm = np.random.normal(loc = 0, scale = 1, size = 12)",
      "execution_count": 8,
      "outputs": []
    },
    {
      "metadata": {
        "id": "7P70n0C39vZ7",
        "colab_type": "code",
        "colab": {},
        "trusted": true
      },
      "cell_type": "code",
      "source": "# También podemos crear una distribución normal \n# y asignarla a una matriz de dimensión n x m \nnorm = np.random.normal(0, 1, size = (16,4))\nnorm",
      "execution_count": 9,
      "outputs": [
        {
          "output_type": "execute_result",
          "execution_count": 9,
          "data": {
            "text/plain": "array([[-0.07821772, -0.12522622,  0.70049392, -0.54380299],\n       [-0.81939721, -0.79471311,  0.97176923, -0.82527117],\n       [-0.27117201,  2.10830348, -0.34723393,  0.02117605],\n       [ 0.73151352, -0.32037566,  0.53213156, -1.36144197],\n       [-0.13485801, -0.25122554, -0.46390652, -0.03057566],\n       [-0.86243405, -0.83397903, -0.90542711, -1.028359  ],\n       [-0.52509722, -0.38354813,  0.6897127 ,  2.89587721],\n       [-0.40683937,  1.20464116, -2.25981349,  1.26683751],\n       [ 0.91261388, -0.32743359,  0.65085009, -0.90907405],\n       [ 2.46448062, -0.23493096,  1.06996115,  0.80605722],\n       [-0.57374851,  1.67388961,  0.5252932 , -0.42834777],\n       [-0.01855389,  0.56240696, -2.02601553, -0.51231714],\n       [ 0.08818695, -0.48168066,  0.44083307,  0.57993486],\n       [ 2.41496974, -1.79678757,  0.85744935, -0.02654011],\n       [ 0.02852526,  0.93169641, -0.20238489, -0.69055851],\n       [-1.14060269, -0.20553069, -0.36793851, -0.78184854]])"
          },
          "metadata": {}
        }
      ]
    },
    {
      "metadata": {
        "id": "0DZi3ZLj9vaF",
        "colab_type": "code",
        "colab": {},
        "trusted": true
      },
      "cell_type": "code",
      "source": "# Opcionalmente, puedo utilizar el método seed() \n# para que las elecciones aleatorias sean reproducibles\nnp.random.seed(0) \n\nnorm = np.random.normal(0, 1, (3,4))\nnorm",
      "execution_count": 10,
      "outputs": [
        {
          "output_type": "execute_result",
          "execution_count": 10,
          "data": {
            "text/plain": "array([[ 1.76405235,  0.40015721,  0.97873798,  2.2408932 ],\n       [ 1.86755799, -0.97727788,  0.95008842, -0.15135721],\n       [-0.10321885,  0.4105985 ,  0.14404357,  1.45427351]])"
          },
          "metadata": {}
        }
      ]
    },
    {
      "metadata": {
        "id": "85ecG_Vq9vaR",
        "colab_type": "text"
      },
      "cell_type": "markdown",
      "source": "\n### Atributos de un array\n"
    },
    {
      "metadata": {
        "id": "px_TAKwQ9vaU",
        "colab_type": "code",
        "colab": {},
        "trusted": true
      },
      "cell_type": "code",
      "source": "# Array de 3 dimensiones con valores aleatorios entre 0 y 9\nx3 = np.random.randint(10, size=(3, 4, 5))  \nprint(x3)",
      "execution_count": 11,
      "outputs": [
        {
          "output_type": "stream",
          "text": "[[[8 1 5 9 8]\n  [9 4 3 0 3]\n  [5 0 2 3 8]\n  [1 3 3 3 7]]\n\n [[0 1 9 9 0]\n  [4 7 3 2 7]\n  [2 0 0 4 5]\n  [5 6 8 4 1]]\n\n [[4 9 8 1 1]\n  [7 9 9 3 6]\n  [7 2 0 3 5]\n  [9 4 4 6 4]]]\n",
          "name": "stdout"
        }
      ]
    },
    {
      "metadata": {
        "id": "oPaVwNrl9vak",
        "colab_type": "code",
        "colab": {},
        "trusted": true
      },
      "cell_type": "code",
      "source": "print(\"x3 ndim :\", x3.ndim)\nprint(\"x3 shape:\", x3.shape)\nprint(\"x3 size :\", x3.size)\nprint(\"dtype   :\", x3.dtype)\n\n# El tamaño de cada elemento del array. Depende del tipo de datos.  \nprint(\"itemsize:\", x3.itemsize, \"bytes\") \n\n# El tamaño de todo el array. Se calcula de esta forma: itemsize * size\nprint(\"nbytes  :\", x3.nbytes, \"bytes\") ",
      "execution_count": 12,
      "outputs": [
        {
          "output_type": "stream",
          "text": "x3 ndim : 3\nx3 shape: (3, 4, 5)\nx3 size : 60\ndtype   : int64\nitemsize: 8 bytes\nnbytes  : 480 bytes\n",
          "name": "stdout"
        }
      ]
    },
    {
      "metadata": {
        "id": "IV9qxYmK9vau",
        "colab_type": "text"
      },
      "cell_type": "markdown",
      "source": "## 2- Selección de elementos de un Array\n\nEs un problema común querer seleccionar los elementos de un array de acuerdo a algún criterio. \nNumpy nos brinda tres formas de acceder <b> de forma eficiente </b> a los elementos de un array:\n* Array Slicing\n* Fancy Indexing\n* Boolean Indexing\n\n### 2-1 Array Slicing \n\n#### Slicing sobre una dimensión\n\nEl slicing es similar al de las listas de python [start:stop:step]. El índice stop no se incluye pero el start sí se incluye. Por ejemplo [1:3] incluye al índice 1 pero no al 3.\nFunciona como un intervalo semicerrado [1,3).\n"
    },
    {
      "metadata": {
        "id": "QbLzUDPm9va0",
        "colab_type": "code",
        "colab": {},
        "trusted": false
      },
      "cell_type": "code",
      "source": "# Sobre un array de una dimension\none_d_array = np.arange(10)\none_d_array",
      "execution_count": 0,
      "outputs": []
    },
    {
      "metadata": {
        "id": "RCztFWV69vbE",
        "colab_type": "code",
        "colab": {},
        "trusted": false
      },
      "cell_type": "code",
      "source": "# Start = 1:  empezamos por el segundo elemento\n# Stop: No está definido, entonces llegamos hasta el final.\n# Step: El paso o distacia entre los elementos que voy a tomar.\none_d_array[1::2]  ",
      "execution_count": 0,
      "outputs": []
    },
    {
      "metadata": {
        "id": "QssD__6O9vbQ",
        "colab_type": "code",
        "colab": {},
        "trusted": false
      },
      "cell_type": "code",
      "source": "# Para invertir el orden del array, podemos usar Step = -1\none_d_array[::-1]",
      "execution_count": 0,
      "outputs": []
    },
    {
      "metadata": {
        "id": "TdQdU_2_9vbi",
        "colab_type": "code",
        "colab": {},
        "trusted": false
      },
      "cell_type": "code",
      "source": "# Si queremos hacer slicing en orden invertido\n\none_d_array[7:2:-1]  ",
      "execution_count": 0,
      "outputs": []
    },
    {
      "metadata": {
        "id": "1gcuukyG9vb2",
        "colab_type": "text"
      },
      "cell_type": "markdown",
      "source": "#### Slicing sobre arrays de más  dimensiones\n"
    },
    {
      "metadata": {
        "id": "6qXjovbj9vb8",
        "colab_type": "text"
      },
      "cell_type": "markdown",
      "source": "Con la misma lógica, se puede seleccionar en dos dimensiones"
    },
    {
      "metadata": {
        "id": "YKv7fWie9vcG",
        "colab_type": "code",
        "colab": {},
        "trusted": true
      },
      "cell_type": "code",
      "source": "np.random.seed(0)\ntwo_d_array = np.random.randint(10, size=(3, 4))\ntwo_d_array",
      "execution_count": 13,
      "outputs": [
        {
          "output_type": "execute_result",
          "execution_count": 13,
          "data": {
            "text/plain": "array([[5, 0, 3, 3],\n       [7, 9, 3, 5],\n       [2, 4, 7, 6]])"
          },
          "metadata": {}
        }
      ]
    },
    {
      "metadata": {
        "id": "_xU3-Moe9vcN",
        "colab_type": "text"
      },
      "cell_type": "markdown",
      "source": "Cuando tenemos más de una dimensión, podemos hacer slicing sobre cada una de ellas separándolas con una coma. "
    },
    {
      "metadata": {
        "id": "FYmxFTkp9vcT",
        "colab_type": "code",
        "colab": {},
        "trusted": true
      },
      "cell_type": "code",
      "source": "# Acceder a una columna\n# Aquí los dos puntos ( : ) indican que accedemos a todos los elementos\n# de cada fila y el cero después de la coma indica \n# que sólamente lo hacemos para la columna 0 (la primera).\n\n#two_d_array[:, 0]\ntwo_d_array[0:][0]",
      "execution_count": 17,
      "outputs": [
        {
          "output_type": "execute_result",
          "execution_count": 17,
          "data": {
            "text/plain": "array([5, 0, 3, 3])"
          },
          "metadata": {}
        }
      ]
    },
    {
      "metadata": {
        "id": "IgIK26N19vcj",
        "colab_type": "code",
        "colab": {},
        "trusted": false
      },
      "cell_type": "code",
      "source": "# Acceder a una fila\ntwo_d_array[2, :]",
      "execution_count": 0,
      "outputs": []
    },
    {
      "metadata": {
        "id": "-YkhC8899vc_",
        "colab_type": "code",
        "colab": {},
        "trusted": false
      },
      "cell_type": "code",
      "source": "# Otra forma de acceder a una fila\ntwo_d_array[2]",
      "execution_count": 0,
      "outputs": []
    },
    {
      "metadata": {
        "id": "l3SYjERc9vdP",
        "colab_type": "code",
        "colab": {},
        "trusted": false
      },
      "cell_type": "code",
      "source": "# Un slice de dos columnas\ntwo_d_array[:, 1:3]",
      "execution_count": 0,
      "outputs": []
    },
    {
      "metadata": {
        "id": "gXU8dbGp9vda",
        "colab_type": "code",
        "colab": {},
        "trusted": false
      },
      "cell_type": "code",
      "source": "# Todas las columnas listadas en orden inverso\ntwo_d_array[:, ::-1]",
      "execution_count": 0,
      "outputs": []
    },
    {
      "metadata": {
        "id": "onQmTojs9vdj",
        "colab_type": "text"
      },
      "cell_type": "markdown",
      "source": "### 2-2 Fancy Indexing\n\nEsta técnica consiste en generar listas que contienen los índices de los elementos que queremos seleccionar y utilizar éstas para indexar."
    },
    {
      "metadata": {
        "id": "lU357sWL9vdo",
        "colab_type": "code",
        "colab": {},
        "trusted": false
      },
      "cell_type": "code",
      "source": "# Pedimos 10 enteros entre 0 y 99\nnp.random.seed(2)\nx = np.random.randint(100, size=10)\nprint(x)",
      "execution_count": 0,
      "outputs": []
    },
    {
      "metadata": {
        "id": "jY8Jbauh9vdx",
        "colab_type": "text"
      },
      "cell_type": "markdown",
      "source": "Puedo acceder a un conjunto de elementos creando una lista con los índices que quiero acceder"
    },
    {
      "metadata": {
        "id": "KDgsWltV9vdy",
        "colab_type": "code",
        "colab": {},
        "trusted": false
      },
      "cell_type": "code",
      "source": "ind = [3, 7, 4]\nx[ind]",
      "execution_count": 0,
      "outputs": []
    },
    {
      "metadata": {
        "id": "VDBQkW2p9vd6",
        "colab_type": "text"
      },
      "cell_type": "markdown",
      "source": "También se puede optar por una selección por fila y columna"
    },
    {
      "metadata": {
        "id": "xOx1RE8U9vd9",
        "colab_type": "code",
        "colab": {},
        "trusted": false
      },
      "cell_type": "code",
      "source": "# Creamos una matriz de 3 x 4\nX = np.arange(12).reshape((3, 4))\nX",
      "execution_count": 0,
      "outputs": []
    },
    {
      "metadata": {
        "id": "1T0N4s7_9veK",
        "colab_type": "code",
        "colab": {},
        "trusted": false
      },
      "cell_type": "code",
      "source": "# Un array de índices para acceder a filas determinadas\nrow = np.array([0, 2, 1, 0])\nX[row]",
      "execution_count": 0,
      "outputs": []
    },
    {
      "metadata": {
        "id": "Ip3_aoyo9veN",
        "colab_type": "code",
        "colab": {},
        "trusted": false
      },
      "cell_type": "code",
      "source": "# Accedemos a posiciones específicas de la matriz. \n# Los índices están dados por los arrays row y col\ncol = np.array([2, 3, 1, 2])\nX[row, col]",
      "execution_count": 0,
      "outputs": []
    },
    {
      "metadata": {
        "id": "xzk6s1za9veS",
        "colab_type": "text"
      },
      "cell_type": "markdown",
      "source": "### 2-2 Boolean Indexing\n\nEsta técnica se basa en crear lo que se llama una \"máscara booleana\", que es una lista de valores True y False que sirve para seleccionar sólo los elementos cuyo índice coincide con un valor True.  "
    },
    {
      "metadata": {
        "id": "BwLUDyL89veX",
        "colab_type": "text"
      },
      "cell_type": "markdown",
      "source": "![_auto_0](attachment:_auto_0)"
    },
    {
      "metadata": {
        "id": "XiVUNRFm9veZ",
        "colab_type": "text"
      },
      "cell_type": "markdown",
      "source": "![_auto_0](attachment:_auto_0)"
    },
    {
      "metadata": {
        "id": "FTYmEpxP9vec",
        "colab_type": "text"
      },
      "cell_type": "markdown",
      "source": "#### Ejemplo de aplicación boolean indexing: contar días de lluvia\n\nTenemos un dataset que representa la cantidad de precipitaciones del 2014 en la ciudad de Seattle"
    },
    {
      "metadata": {
        "id": "EMm7GM409vee",
        "colab_type": "code",
        "colab": {},
        "trusted": true
      },
      "cell_type": "code",
      "source": "!head -n 2 Seattle2014.csv",
      "execution_count": 26,
      "outputs": [
        {
          "output_type": "stream",
          "text": "head: cannot open 'Seattle2014.csv' for reading: No such file or directory\r\n",
          "name": "stdout"
        }
      ]
    },
    {
      "metadata": {
        "id": "upsE35tK9vei",
        "colab_type": "code",
        "colab": {},
        "trusted": true
      },
      "cell_type": "code",
      "source": "data = np.genfromtxt('Seattle2014.csv', skip_header=1, delimiter=',')",
      "execution_count": 23,
      "outputs": [
        {
          "output_type": "error",
          "ename": "OSError",
          "evalue": "Seattle2014.csv not found.",
          "traceback": [
            "\u001b[0;31m---------------------------------------------------------------------------\u001b[0m",
            "\u001b[0;31mOSError\u001b[0m                                   Traceback (most recent call last)",
            "\u001b[0;32m<ipython-input-23-a802e66bed5f>\u001b[0m in \u001b[0;36m<module>\u001b[0;34m()\u001b[0m\n\u001b[0;32m----> 1\u001b[0;31m \u001b[0mdata\u001b[0m \u001b[0;34m=\u001b[0m \u001b[0mnp\u001b[0m\u001b[0;34m.\u001b[0m\u001b[0mgenfromtxt\u001b[0m\u001b[0;34m(\u001b[0m\u001b[0;34m'Seattle2014.csv'\u001b[0m\u001b[0;34m,\u001b[0m \u001b[0mskip_header\u001b[0m\u001b[0;34m=\u001b[0m\u001b[0;36m1\u001b[0m\u001b[0;34m,\u001b[0m \u001b[0mdelimiter\u001b[0m\u001b[0;34m=\u001b[0m\u001b[0;34m','\u001b[0m\u001b[0;34m)\u001b[0m\u001b[0;34m\u001b[0m\u001b[0m\n\u001b[0m",
            "\u001b[0;32m~/anaconda3_420/lib/python3.5/site-packages/numpy/lib/npyio.py\u001b[0m in \u001b[0;36mgenfromtxt\u001b[0;34m(fname, dtype, comments, delimiter, skip_header, skip_footer, converters, missing_values, filling_values, usecols, names, excludelist, deletechars, replace_space, autostrip, case_sensitive, defaultfmt, unpack, usemask, loose, invalid_raise, max_rows, encoding)\u001b[0m\n\u001b[1;32m   1757\u001b[0m             \u001b[0mfname\u001b[0m \u001b[0;34m=\u001b[0m \u001b[0mos_fspath\u001b[0m\u001b[0;34m(\u001b[0m\u001b[0mfname\u001b[0m\u001b[0;34m)\u001b[0m\u001b[0;34m\u001b[0m\u001b[0m\n\u001b[1;32m   1758\u001b[0m         \u001b[0;32mif\u001b[0m \u001b[0misinstance\u001b[0m\u001b[0;34m(\u001b[0m\u001b[0mfname\u001b[0m\u001b[0;34m,\u001b[0m \u001b[0mbasestring\u001b[0m\u001b[0;34m)\u001b[0m\u001b[0;34m:\u001b[0m\u001b[0;34m\u001b[0m\u001b[0m\n\u001b[0;32m-> 1759\u001b[0;31m             \u001b[0mfid\u001b[0m \u001b[0;34m=\u001b[0m \u001b[0mnp\u001b[0m\u001b[0;34m.\u001b[0m\u001b[0mlib\u001b[0m\u001b[0;34m.\u001b[0m\u001b[0m_datasource\u001b[0m\u001b[0;34m.\u001b[0m\u001b[0mopen\u001b[0m\u001b[0;34m(\u001b[0m\u001b[0mfname\u001b[0m\u001b[0;34m,\u001b[0m \u001b[0;34m'rt'\u001b[0m\u001b[0;34m,\u001b[0m \u001b[0mencoding\u001b[0m\u001b[0;34m=\u001b[0m\u001b[0mencoding\u001b[0m\u001b[0;34m)\u001b[0m\u001b[0;34m\u001b[0m\u001b[0m\n\u001b[0m\u001b[1;32m   1760\u001b[0m             \u001b[0mfid_ctx\u001b[0m \u001b[0;34m=\u001b[0m \u001b[0mcontextlib\u001b[0m\u001b[0;34m.\u001b[0m\u001b[0mclosing\u001b[0m\u001b[0;34m(\u001b[0m\u001b[0mfid\u001b[0m\u001b[0;34m)\u001b[0m\u001b[0;34m\u001b[0m\u001b[0m\n\u001b[1;32m   1761\u001b[0m         \u001b[0;32melse\u001b[0m\u001b[0;34m:\u001b[0m\u001b[0;34m\u001b[0m\u001b[0m\n",
            "\u001b[0;32m~/anaconda3_420/lib/python3.5/site-packages/numpy/lib/_datasource.py\u001b[0m in \u001b[0;36mopen\u001b[0;34m(path, mode, destpath, encoding, newline)\u001b[0m\n\u001b[1;32m    267\u001b[0m \u001b[0;34m\u001b[0m\u001b[0m\n\u001b[1;32m    268\u001b[0m     \u001b[0mds\u001b[0m \u001b[0;34m=\u001b[0m \u001b[0mDataSource\u001b[0m\u001b[0;34m(\u001b[0m\u001b[0mdestpath\u001b[0m\u001b[0;34m)\u001b[0m\u001b[0;34m\u001b[0m\u001b[0m\n\u001b[0;32m--> 269\u001b[0;31m     \u001b[0;32mreturn\u001b[0m \u001b[0mds\u001b[0m\u001b[0;34m.\u001b[0m\u001b[0mopen\u001b[0m\u001b[0;34m(\u001b[0m\u001b[0mpath\u001b[0m\u001b[0;34m,\u001b[0m \u001b[0mmode\u001b[0m\u001b[0;34m,\u001b[0m \u001b[0mencoding\u001b[0m\u001b[0;34m=\u001b[0m\u001b[0mencoding\u001b[0m\u001b[0;34m,\u001b[0m \u001b[0mnewline\u001b[0m\u001b[0;34m=\u001b[0m\u001b[0mnewline\u001b[0m\u001b[0;34m)\u001b[0m\u001b[0;34m\u001b[0m\u001b[0m\n\u001b[0m\u001b[1;32m    270\u001b[0m \u001b[0;34m\u001b[0m\u001b[0m\n\u001b[1;32m    271\u001b[0m \u001b[0;34m\u001b[0m\u001b[0m\n",
            "\u001b[0;32m~/anaconda3_420/lib/python3.5/site-packages/numpy/lib/_datasource.py\u001b[0m in \u001b[0;36mopen\u001b[0;34m(self, path, mode, encoding, newline)\u001b[0m\n\u001b[1;32m    621\u001b[0m                                       encoding=encoding, newline=newline)\n\u001b[1;32m    622\u001b[0m         \u001b[0;32melse\u001b[0m\u001b[0;34m:\u001b[0m\u001b[0;34m\u001b[0m\u001b[0m\n\u001b[0;32m--> 623\u001b[0;31m             \u001b[0;32mraise\u001b[0m \u001b[0mIOError\u001b[0m\u001b[0;34m(\u001b[0m\u001b[0;34m\"%s not found.\"\u001b[0m \u001b[0;34m%\u001b[0m \u001b[0mpath\u001b[0m\u001b[0;34m)\u001b[0m\u001b[0;34m\u001b[0m\u001b[0m\n\u001b[0m\u001b[1;32m    624\u001b[0m \u001b[0;34m\u001b[0m\u001b[0m\n\u001b[1;32m    625\u001b[0m \u001b[0;34m\u001b[0m\u001b[0m\n",
            "\u001b[0;31mOSError\u001b[0m: Seattle2014.csv not found."
          ]
        }
      ]
    },
    {
      "metadata": {
        "id": "vICTEsLM9ves",
        "colab_type": "code",
        "colab": {},
        "trusted": false
      },
      "cell_type": "code",
      "source": "# tomamos las precipitaciones\nrain_s = data[:,3]\n\nprint (\"shape:\", rain_s.shape)\nprint (rain_s)",
      "execution_count": 0,
      "outputs": []
    },
    {
      "metadata": {
        "id": "FBoWDWKu9vev",
        "colab_type": "text"
      },
      "cell_type": "markdown",
      "source": "También exploramos este array utilizando un histograma. La funcionalidad la da la librería matplotlib"
    },
    {
      "metadata": {
        "id": "vT-KZ0wY9vew",
        "colab_type": "code",
        "colab": {},
        "trusted": false
      },
      "cell_type": "code",
      "source": "%matplotlib inline\nimport matplotlib.pyplot as plt",
      "execution_count": 0,
      "outputs": []
    },
    {
      "metadata": {
        "id": "BUt-Y_b99ve4",
        "colab_type": "code",
        "colab": {},
        "trusted": false
      },
      "cell_type": "code",
      "source": "plt.hist(rain_s, bins = 40);",
      "execution_count": 0,
      "outputs": []
    },
    {
      "metadata": {
        "id": "4Fnx4YS49ve-",
        "colab_type": "code",
        "colab": {},
        "trusted": false
      },
      "cell_type": "code",
      "source": "# Aplicamos una condición booleana sobre un array de Numpy y\n# nos devuelve una nuevo array con True o False.\n\nprint (rain_s == 0)",
      "execution_count": 0,
      "outputs": []
    },
    {
      "metadata": {
        "id": "HFsJ8Nqj9vfB",
        "colab_type": "text"
      },
      "cell_type": "markdown",
      "source": "**En lugar de hacer un loop** y definir un contador, vamos a describir los valores que nos interesan de este dataset utilizando Numpy:\n\n"
    },
    {
      "metadata": {
        "id": "R64XLxDS9vfC",
        "colab_type": "code",
        "colab": {},
        "trusted": false
      },
      "cell_type": "code",
      "source": "# Veamos primero este comportamiento de los booleanos en python nativo\nprint(\"Suma de Booleans: \", True + False + True)\n\n# Suma vectorizada de valores booleanos con Numpy,\n# cuenta cantidad de ocurrencias del valor True en la lista\nprint(\"Suma de numpy: \", np.sum([True, False, True, True]))",
      "execution_count": 0,
      "outputs": []
    },
    {
      "metadata": {
        "id": "8fbPS7jK9vfH",
        "colab_type": "code",
        "colab": {},
        "trusted": false
      },
      "cell_type": "code",
      "source": "print(\"Cantidad de días sin lluvia:      \", np.sum(rain_s == 0))\nprint(\"Cantidad de días con lluvia:      \", np.sum(rain_s != 0))\nprint(\"Cantidad de días con más de 100 cm de lluvia:\", np.sum(rain_s > 100))\nprint(\"Cantidad de días con lluvia, pero no mayor a 100cm  :\", np.sum((rain_s > 0) & (rain_s < 100)))",
      "execution_count": 0,
      "outputs": []
    },
    {
      "metadata": {
        "id": "W94OHPJc9vfR",
        "colab_type": "text"
      },
      "cell_type": "markdown",
      "source": "## 3 -  Numpy Universal Functions\n\nUna de las ventajas de usar Numpy es que permite aplicar **operaciones vectorizadas**. \n\nCuando determinadas operaciones se aplican sobre todos los elementos de un array, esta tarea se puede paralelizar y la computadora la completa en un tiempo mucho menor que si aplicásemos un loop y operásemos sobre cada uno de los elementos.\n\nPara esto sirven las UFuncs (Universal Functions) de Numpy\n"
    },
    {
      "metadata": {
        "id": "yhUv5QFe9vfT",
        "colab_type": "text"
      },
      "cell_type": "markdown",
      "source": "##### Ejemplo: calcular el recíproco (1/x) de cada elemento de un array"
    },
    {
      "metadata": {
        "id": "doh79X1U9vfY",
        "colab_type": "code",
        "colab": {},
        "trusted": false
      },
      "cell_type": "code",
      "source": "# Definimos un array de gran tamaño\nbig_array = np.random.randint(1, 100, size=1000000)\n\n# Enfoque tradicional\n\ndef compute_reciprocals(values):\n    output = np.empty(len(values))\n    for i in range(len(values)):\n        output[i] = 1.0 / values[i]\n    return output\n\n%timeit compute_reciprocals(big_array)",
      "execution_count": 0,
      "outputs": []
    },
    {
      "metadata": {
        "id": "5K3gW2_59vfk",
        "colab_type": "code",
        "colab": {},
        "trusted": false
      },
      "cell_type": "code",
      "source": "# Enfoque Numpy\n\n%timeit (1.0 / big_array)",
      "execution_count": 0,
      "outputs": []
    },
    {
      "metadata": {
        "id": "IY9D3tcR9vfr",
        "colab_type": "code",
        "colab": {},
        "trusted": false
      },
      "cell_type": "code",
      "source": "%timeit np.divide(1.0, big_array)",
      "execution_count": 0,
      "outputs": []
    },
    {
      "metadata": {
        "collapsed": true,
        "id": "lZ4PB-r49vf2",
        "colab_type": "text"
      },
      "cell_type": "markdown",
      "source": "### Agregación, Max y Min con Numpy\n\nEn Numpy se implementan de forma más eficiente los métodos que trabajan sobre los elementos del array:"
    },
    {
      "metadata": {
        "id": "CNbztJXP9vf-",
        "colab_type": "code",
        "colab": {},
        "trusted": false
      },
      "cell_type": "code",
      "source": "# Aclaración: np.random nos da acceso a toda la funcionalidad del módulo random dentro del módulo numpy. \n\nbig_array = np.random.rand(100000)\n\n%timeit sum(big_array)\n%timeit np.sum(big_array)",
      "execution_count": 0,
      "outputs": []
    },
    {
      "metadata": {
        "id": "G9ODNJem9vgR",
        "colab_type": "text"
      },
      "cell_type": "markdown",
      "source": "#### En arrays de varias dimensiones"
    },
    {
      "metadata": {
        "id": "20UJh6XB9vgS",
        "colab_type": "code",
        "colab": {},
        "trusted": false
      },
      "cell_type": "code",
      "source": "my_array = np.random.random((3, 4))\nM = my_array\nM",
      "execution_count": 0,
      "outputs": []
    },
    {
      "metadata": {
        "id": "CV-j8ENu9vgW",
        "colab_type": "code",
        "colab": {},
        "trusted": false
      },
      "cell_type": "code",
      "source": "# En Numpy, cuando se ejecutan funciones que reducen la dimensionalidad, axis representa el eje que se va a reducir\n# En una matriz de dos dimensiones el 0 representa \n# el eje de las filas, y el 1 el eje de las columnas\n\nprint(\"Suma de toda la matriz: \", M.sum())\nprint(\"Mínimos de cada columna: \", M.min(axis=0))\nprint(\"Máximo de cada fila: \", M.max(axis=1))\nprint(\"Suma de cada fila: \", M.sum(axis=1))",
      "execution_count": 0,
      "outputs": []
    },
    {
      "metadata": {
        "id": "pcUkWUpK9vgi",
        "colab_type": "text"
      },
      "cell_type": "markdown",
      "source": "## 4- Broadcasting: Otra forma de vectorizar\n\nEn conjunto con las ufuncs, el broadcasting es una forma de aplicar operaciones sobre los datos sin tener que escribir loops \"for\" en Python nativo que resultan más lentos.\n\nRecordemos que cuando operamos sobre arrays de las mismas dimensiones, se pueden hacer operaciones eficientes elemento a elemento.\n\n"
    },
    {
      "metadata": {
        "id": "P_uV_Abs9vgj",
        "colab_type": "code",
        "colab": {},
        "trusted": false
      },
      "cell_type": "code",
      "source": "a = np.array([0, 1, 2])\nb = np.array([5, 5, 5])\na + b",
      "execution_count": 0,
      "outputs": []
    },
    {
      "metadata": {
        "id": "wJOOf5Bt9vgo",
        "colab_type": "text"
      },
      "cell_type": "markdown",
      "source": "En el ejemplo de arriba, \"a + b\" es una operación eficiente porque \"a\" y \"b\" tienen la misma dimensionalidad y tamaño. \nLas reglas de \"broadcasting\" de Numpy, permiten que la operación siga siendo eficiente llevando los elementos involucrados a la misma dimensión y tamaño.\n\nVeamos el siguiente ejemplo:"
    },
    {
      "metadata": {
        "id": "pe7j2xWK9vgs",
        "colab_type": "text"
      },
      "cell_type": "markdown",
      "source": "![image.png](attachment:image.png)"
    },
    {
      "metadata": {
        "id": "LK9HYhIb9vgu",
        "colab_type": "code",
        "colab": {},
        "trusted": false
      },
      "cell_type": "code",
      "source": "a + 5",
      "execution_count": 0,
      "outputs": []
    },
    {
      "metadata": {
        "id": "gBLzmo459vg1",
        "colab_type": "text"
      },
      "cell_type": "markdown",
      "source": "Veamos un ejemplo con otras dimensiones:"
    },
    {
      "metadata": {
        "id": "KknLHB4j9vg2",
        "colab_type": "code",
        "colab": {},
        "trusted": false
      },
      "cell_type": "code",
      "source": "#Recordemos el valor de \"a\"\na",
      "execution_count": 0,
      "outputs": []
    },
    {
      "metadata": {
        "id": "Y3UIQr8z9vhA",
        "colab_type": "code",
        "colab": {},
        "trusted": false
      },
      "cell_type": "code",
      "source": "# Ahora queremos sumar el vector \"a\" con una matriz de dos dimensiones, \n# de tamaño 3x3 que contiene todos valores 1.\nM = np.ones((3, 3))\n",
      "execution_count": 0,
      "outputs": []
    },
    {
      "metadata": {
        "id": "yCpDR5g89vhD",
        "colab_type": "text"
      },
      "cell_type": "markdown",
      "source": "Gráficamente, esto es lo que sucede:\n![image.png](attachment:image.png)"
    }
  ],
  "metadata": {
    "kernelspec": {
      "name": "python3",
      "display_name": "Python 3",
      "language": "python"
    },
    "language_info": {
      "mimetype": "text/x-python",
      "nbconvert_exporter": "python",
      "name": "python",
      "file_extension": ".py",
      "version": "3.5.4",
      "pygments_lexer": "ipython3",
      "codemirror_mode": {
        "version": 3,
        "name": "ipython"
      }
    },
    "colab": {
      "name": "5.PrácticaGuiada_Numpy.ipynb",
      "provenance": []
    }
  },
  "nbformat": 4,
  "nbformat_minor": 1
}