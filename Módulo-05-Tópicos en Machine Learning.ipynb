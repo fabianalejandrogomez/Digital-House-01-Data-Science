{
  "cells": [
    {
      "metadata": {
        "collapsed": true
      },
      "cell_type": "raw",
      "source": "Módulo 5 Tópicos en Machine Learning\n\nContenidos:\n\n•\tClustering: Algoritmo K-Means, clustering jerárquico, métricas para evaluación de algoritmos de clustering. DBSCAN. \n•\tSistemas de recomendación. \n•\tFeature Hashing \n•\tStochastic Gradient Descent \n•\tProcesamiento distribuido con Spark. \n•\tGrafos. Detección de comunidades e influencers.\n"
    }
  ],
  "metadata": {
    "kernelspec": {
      "name": "python36",
      "display_name": "Python 3.6",
      "language": "python"
    },
    "language_info": {
      "mimetype": "text/x-python",
      "nbconvert_exporter": "python",
      "name": "python",
      "pygments_lexer": "ipython3",
      "version": "3.6.6",
      "file_extension": ".py",
      "codemirror_mode": {
        "version": 3,
        "name": "ipython"
      }
    }
  },
  "nbformat": 4,
  "nbformat_minor": 2
}